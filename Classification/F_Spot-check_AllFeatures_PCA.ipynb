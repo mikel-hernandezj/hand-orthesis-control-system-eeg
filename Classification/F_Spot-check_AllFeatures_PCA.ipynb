{
 "cells": [
  {
   "cell_type": "markdown",
   "metadata": {},
   "source": [
    "# Spot-check EEG classification models based on all features\n",
    "In this script we spot-check different EEG classification models to clasify different epochs of one subject into resting state, left hand movement and right hand movement using leave one subject out cross-validation, all the features and PCA to reduce the dimensionality of the dataset."
   ]
  },
  {
   "cell_type": "markdown",
   "metadata": {},
   "source": [
    "## Import libraries"
   ]
  },
  {
   "cell_type": "code",
   "execution_count": 1,
   "metadata": {},
   "outputs": [],
   "source": [
    "import os\n",
    "import pandas as pd\n",
    "import numpy as np\n",
    "from numpy import mean\n",
    "from numpy import std\n",
    "from matplotlib import pyplot\n",
    "import seaborn as sns\n",
    "from sklearn.preprocessing import StandardScaler\n",
    "from sklearn.preprocessing import MinMaxScaler\n",
    "from sklearn.linear_model import LogisticRegression\n",
    "from sklearn.preprocessing import LabelBinarizer\n",
    "from sklearn.model_selection import GridSearchCV\n",
    "from sklearn.ensemble import RandomForestClassifier\n",
    "from sklearn.discriminant_analysis import LinearDiscriminantAnalysis\n",
    "from sklearn.discriminant_analysis import QuadraticDiscriminantAnalysis\n",
    "from sklearn.svm import SVC\n",
    "from sklearn.neighbors import KNeighborsClassifier\n",
    "from sklearn.neural_network import MLPClassifier\n",
    "from sklearn.tree import DecisionTreeClassifier\n",
    "from sklearn.metrics import confusion_matrix\n",
    "from sklearn.metrics import multilabel_confusion_matrix\n",
    "import matplotlib.pyplot as plt\n",
    "from sklearn.decomposition import PCA\n",
    "from sklearn.metrics import accuracy_score\n",
    "from collections import Counter\n",
    "from sklearn.ensemble import AdaBoostClassifier\n",
    "from sklearn.pipeline import Pipeline\n",
    "from sklearn.model_selection import cross_val_score\n",
    "from sklearn.model_selection import KFold\n",
    "from sklearn.model_selection import train_test_split\n",
    "from sklearn.metrics import accuracy_score, roc_auc_score, f1_score"
   ]
  },
  {
   "cell_type": "markdown",
   "metadata": {},
   "source": [
    "## Create some functions"
   ]
  },
  {
   "cell_type": "code",
   "execution_count": 2,
   "metadata": {},
   "outputs": [],
   "source": [
    "# create a dict of some models to evaluate them {key:model name} {values:model object}\n",
    "def define_models(models=dict()) :\n",
    "    models['logistic'] = LogisticRegression()\n",
    "    models['lda'] = LinearDiscriminantAnalysis()\n",
    "    models['qda'] = QuadraticDiscriminantAnalysis()\n",
    "    # non-linear models\n",
    "    models['cart'] = DecisionTreeClassifier()\n",
    "    models['knn'] = KNeighborsClassifier()  \n",
    "    # ensemble models\n",
    "    models['ada'] = AdaBoostClassifier()\n",
    "    models['rf'] = RandomForestClassifier()\n",
    "    models['mlp'] = MLPClassifier()\n",
    "    models['svcl'] = SVC(kernel='linear',probability=True)\n",
    "    models['svmp'] = SVC(kernel='poly',probability=True)\n",
    "    return models"
   ]
  },
  {
   "cell_type": "code",
   "execution_count": 3,
   "metadata": {},
   "outputs": [],
   "source": [
    "# evaluate a single model with LOSO CV and calculating accuracy, auc of the roc curve and weighted f1\n",
    "def evaluate_model(X, y, model, subjects_train):\n",
    "    # evaluate model\n",
    "    scores = dict()\n",
    "    scores['accuracy'] = []\n",
    "    scores['roc_auc'] = []\n",
    "    scores['f1'] = []\n",
    "    for subject in subjects_train :\n",
    "        train_idx = subjects_idx_train != subject\n",
    "        X_training = X[train_idx.values]\n",
    "        y_training = y[train_idx.values]\n",
    "        val_idx = subjects_idx_train == subject\n",
    "        X_val = X[val_idx.values]\n",
    "        y_val = y[val_idx.values]\n",
    "        #train the model\n",
    "        model.fit(X_training,y_training)\n",
    "        y_pred = model.predict(X_val)\n",
    "        y_prob = model.predict_proba(X_val)\n",
    "        scores['accuracy'].append(accuracy_score(y_val,y_pred))\n",
    "        scores['roc_auc'].append(roc_auc_score(y_val,y_prob,multi_class='ovo',labels=[0,1,2]))\n",
    "        scores['f1'].append(f1_score(y_val,y_pred,average='weighted'))\n",
    "        print(subject)\n",
    "    print(scores)\n",
    "    return scores"
   ]
  },
  {
   "cell_type": "code",
   "execution_count": 4,
   "metadata": {},
   "outputs": [],
   "source": [
    "# evaluate a dict of models {name:object}, returns {name:score}\n",
    "def evaluate_models(X, y, models, subjects_train):\n",
    "    results = dict()\n",
    "    metric='accuracy'\n",
    "    for name, model in models.items():\n",
    "        scores = evaluate_model(X, y, model, subjects_train)\n",
    "        results[name] = scores\n",
    "        print(name,'evaluated')\n",
    "    return results"
   ]
  },
  {
   "cell_type": "code",
   "execution_count": 5,
   "metadata": {},
   "outputs": [],
   "source": [
    "#print and plot the results of the models in order (from the best one to the worse one)\n",
    "def summarize_results(results):\n",
    "    # create a list of (name, mean(scores)) tuples\n",
    "    mean_accuracy_scores = dict()\n",
    "    mean_auc_scores = dict()\n",
    "    mean_f1_scores = dict()\n",
    "    for k,v in results.items() :\n",
    "        mean_accuracy_scores.update({k : mean(v['accuracy'])})\n",
    "        mean_auc_scores.update({k : mean(v['roc_auc'])})\n",
    "        mean_f1_scores.update({k : mean(v['f1'])})\n",
    "    # sort tuples by mean score\n",
    "    ordered_accuracy = sorted(mean_accuracy_scores.items(), key=lambda x: x[1])\n",
    "    # reverse for descending order (from the best one to the worse one)\n",
    "    ordered_accuracy = list(reversed(ordered_accuracy))\n",
    "    # retrieve the top for summarization\n",
    "    names = [x[0] for x in ordered_accuracy]\n",
    "    accuracy_scores = [results[x]['accuracy'] for x in names]\n",
    "    auc_scores = [results[x]['roc_auc'] for x in names]\n",
    "    f1_scores = [results[x]['f1'] for x in names]\n",
    "    # print the top \n",
    "    print()\n",
    "    for i in range(len(results)):\n",
    "        name = names[i]\n",
    "        mean_accuracy_score = mean_accuracy_scores[name]\n",
    "        mean_auc_score = mean_auc_scores[name]\n",
    "        mean_f1 = mean_f1_scores[name]\n",
    "        print('Rank=%d, Name=%s, Accuracy=%.3f, roc_auc=%.3f, f1=%.3f' % (i+1, name, mean_accuracy_score, mean_auc_score, mean_f1))\n",
    "    # boxplot for the top n\n",
    "    print(mean_accuracy_score, names)\n",
    "    plt.figure()\n",
    "    plt.boxplot(accuracy_scores, labels=names)\n",
    "    _, labels = pyplot.xticks()\n",
    "    pyplot.setp(labels, rotation=90)\n",
    "    plt.title('Accuracy scores')\n",
    "    plt.figure()\n",
    "    plt.boxplot(auc_scores, labels=names)\n",
    "    _, labels = pyplot.xticks()\n",
    "    pyplot.setp(labels, rotation=90)\n",
    "    plt.title('ROC-AUC scores')\n",
    "    plt.figure()\n",
    "    plt.boxplot(f1_scores, labels=names)\n",
    "    _, labels = pyplot.xticks()\n",
    "    pyplot.setp(labels, rotation=90)\n",
    "    plt.title('F1 scores')"
   ]
  },
  {
   "cell_type": "markdown",
   "metadata": {},
   "source": [
    "## Read features and labels from all subjects"
   ]
  },
  {
   "cell_type": "code",
   "execution_count": 6,
   "metadata": {},
   "outputs": [
    {
     "data": {
      "text/html": [
       "<div>\n",
       "<style scoped>\n",
       "    .dataframe tbody tr th:only-of-type {\n",
       "        vertical-align: middle;\n",
       "    }\n",
       "\n",
       "    .dataframe tbody tr th {\n",
       "        vertical-align: top;\n",
       "    }\n",
       "\n",
       "    .dataframe thead th {\n",
       "        text-align: right;\n",
       "    }\n",
       "</style>\n",
       "<table border=\"1\" class=\"dataframe\">\n",
       "  <thead>\n",
       "    <tr style=\"text-align: right;\">\n",
       "      <th></th>\n",
       "      <th>Subject</th>\n",
       "      <th>Epoch</th>\n",
       "      <th>Mean_FC5</th>\n",
       "      <th>Variance_FC5</th>\n",
       "      <th>Kurtosis_FC5</th>\n",
       "      <th>Mean_FC3</th>\n",
       "      <th>Variance_FC3</th>\n",
       "      <th>Kurtosis_FC3</th>\n",
       "      <th>Mean_FC1</th>\n",
       "      <th>Variance_FC1</th>\n",
       "      <th>...</th>\n",
       "      <th>PLV_CP1_CP2</th>\n",
       "      <th>PLV_CP1_CP4</th>\n",
       "      <th>PLV_CP1_CP6</th>\n",
       "      <th>PLV_CPz_CP2</th>\n",
       "      <th>PLV_CPz_CP4</th>\n",
       "      <th>PLV_CPz_CP6</th>\n",
       "      <th>PLV_CP2_CP4</th>\n",
       "      <th>PLV_CP2_CP6</th>\n",
       "      <th>PLV_CP4_CP6</th>\n",
       "      <th>Label</th>\n",
       "    </tr>\n",
       "  </thead>\n",
       "  <tbody>\n",
       "    <tr>\n",
       "      <th>0</th>\n",
       "      <td>1</td>\n",
       "      <td>1</td>\n",
       "      <td>0.077105</td>\n",
       "      <td>7.357580</td>\n",
       "      <td>2.809176</td>\n",
       "      <td>0.382332</td>\n",
       "      <td>7.589385</td>\n",
       "      <td>3.297552</td>\n",
       "      <td>0.464633</td>\n",
       "      <td>7.700149</td>\n",
       "      <td>...</td>\n",
       "      <td>0.318132</td>\n",
       "      <td>0.073507</td>\n",
       "      <td>0.323108</td>\n",
       "      <td>0.669452</td>\n",
       "      <td>0.247354</td>\n",
       "      <td>0.067815</td>\n",
       "      <td>0.685624</td>\n",
       "      <td>0.365035</td>\n",
       "      <td>0.772310</td>\n",
       "      <td>1</td>\n",
       "    </tr>\n",
       "    <tr>\n",
       "      <th>1</th>\n",
       "      <td>1</td>\n",
       "      <td>2</td>\n",
       "      <td>-0.018304</td>\n",
       "      <td>7.029542</td>\n",
       "      <td>2.842915</td>\n",
       "      <td>0.184697</td>\n",
       "      <td>6.991603</td>\n",
       "      <td>3.060431</td>\n",
       "      <td>0.281971</td>\n",
       "      <td>7.484742</td>\n",
       "      <td>...</td>\n",
       "      <td>0.470648</td>\n",
       "      <td>0.123157</td>\n",
       "      <td>0.181453</td>\n",
       "      <td>0.699222</td>\n",
       "      <td>0.302571</td>\n",
       "      <td>0.062673</td>\n",
       "      <td>0.705291</td>\n",
       "      <td>0.361569</td>\n",
       "      <td>0.726673</td>\n",
       "      <td>2</td>\n",
       "    </tr>\n",
       "    <tr>\n",
       "      <th>2</th>\n",
       "      <td>1</td>\n",
       "      <td>3</td>\n",
       "      <td>-0.319861</td>\n",
       "      <td>6.399684</td>\n",
       "      <td>3.428581</td>\n",
       "      <td>-0.346442</td>\n",
       "      <td>6.964995</td>\n",
       "      <td>2.777844</td>\n",
       "      <td>-0.256384</td>\n",
       "      <td>8.132662</td>\n",
       "      <td>...</td>\n",
       "      <td>0.580862</td>\n",
       "      <td>0.386278</td>\n",
       "      <td>0.231118</td>\n",
       "      <td>0.773177</td>\n",
       "      <td>0.498727</td>\n",
       "      <td>0.242550</td>\n",
       "      <td>0.764621</td>\n",
       "      <td>0.475057</td>\n",
       "      <td>0.770152</td>\n",
       "      <td>1</td>\n",
       "    </tr>\n",
       "    <tr>\n",
       "      <th>3</th>\n",
       "      <td>1</td>\n",
       "      <td>4</td>\n",
       "      <td>0.036567</td>\n",
       "      <td>8.415375</td>\n",
       "      <td>2.555121</td>\n",
       "      <td>0.150948</td>\n",
       "      <td>9.348971</td>\n",
       "      <td>3.053070</td>\n",
       "      <td>0.207301</td>\n",
       "      <td>8.933164</td>\n",
       "      <td>...</td>\n",
       "      <td>0.607181</td>\n",
       "      <td>0.256862</td>\n",
       "      <td>0.167798</td>\n",
       "      <td>0.806269</td>\n",
       "      <td>0.438541</td>\n",
       "      <td>0.089317</td>\n",
       "      <td>0.747473</td>\n",
       "      <td>0.330642</td>\n",
       "      <td>0.694656</td>\n",
       "      <td>2</td>\n",
       "    </tr>\n",
       "    <tr>\n",
       "      <th>4</th>\n",
       "      <td>1</td>\n",
       "      <td>5</td>\n",
       "      <td>0.257114</td>\n",
       "      <td>13.767046</td>\n",
       "      <td>2.879540</td>\n",
       "      <td>0.157239</td>\n",
       "      <td>14.221320</td>\n",
       "      <td>2.764797</td>\n",
       "      <td>-0.017693</td>\n",
       "      <td>13.340810</td>\n",
       "      <td>...</td>\n",
       "      <td>0.464897</td>\n",
       "      <td>0.257998</td>\n",
       "      <td>0.146752</td>\n",
       "      <td>0.819921</td>\n",
       "      <td>0.607017</td>\n",
       "      <td>0.364591</td>\n",
       "      <td>0.854306</td>\n",
       "      <td>0.557560</td>\n",
       "      <td>0.742894</td>\n",
       "      <td>2</td>\n",
       "    </tr>\n",
       "    <tr>\n",
       "      <th>...</th>\n",
       "      <td>...</td>\n",
       "      <td>...</td>\n",
       "      <td>...</td>\n",
       "      <td>...</td>\n",
       "      <td>...</td>\n",
       "      <td>...</td>\n",
       "      <td>...</td>\n",
       "      <td>...</td>\n",
       "      <td>...</td>\n",
       "      <td>...</td>\n",
       "      <td>...</td>\n",
       "      <td>...</td>\n",
       "      <td>...</td>\n",
       "      <td>...</td>\n",
       "      <td>...</td>\n",
       "      <td>...</td>\n",
       "      <td>...</td>\n",
       "      <td>...</td>\n",
       "      <td>...</td>\n",
       "      <td>...</td>\n",
       "      <td>...</td>\n",
       "    </tr>\n",
       "    <tr>\n",
       "      <th>255</th>\n",
       "      <td>44</td>\n",
       "      <td>256</td>\n",
       "      <td>-0.347318</td>\n",
       "      <td>11.215760</td>\n",
       "      <td>2.415819</td>\n",
       "      <td>-0.551029</td>\n",
       "      <td>13.194753</td>\n",
       "      <td>2.405359</td>\n",
       "      <td>-0.656948</td>\n",
       "      <td>12.642553</td>\n",
       "      <td>...</td>\n",
       "      <td>0.080379</td>\n",
       "      <td>0.140109</td>\n",
       "      <td>0.308763</td>\n",
       "      <td>0.595714</td>\n",
       "      <td>0.356431</td>\n",
       "      <td>0.148958</td>\n",
       "      <td>0.845309</td>\n",
       "      <td>0.611503</td>\n",
       "      <td>0.830670</td>\n",
       "      <td>0</td>\n",
       "    </tr>\n",
       "    <tr>\n",
       "      <th>256</th>\n",
       "      <td>44</td>\n",
       "      <td>257</td>\n",
       "      <td>0.221785</td>\n",
       "      <td>12.573679</td>\n",
       "      <td>3.445813</td>\n",
       "      <td>0.237528</td>\n",
       "      <td>11.310268</td>\n",
       "      <td>3.638090</td>\n",
       "      <td>0.239306</td>\n",
       "      <td>11.290607</td>\n",
       "      <td>...</td>\n",
       "      <td>0.266919</td>\n",
       "      <td>0.165629</td>\n",
       "      <td>0.418936</td>\n",
       "      <td>0.611298</td>\n",
       "      <td>0.252375</td>\n",
       "      <td>0.062959</td>\n",
       "      <td>0.743924</td>\n",
       "      <td>0.390819</td>\n",
       "      <td>0.758761</td>\n",
       "      <td>0</td>\n",
       "    </tr>\n",
       "    <tr>\n",
       "      <th>257</th>\n",
       "      <td>44</td>\n",
       "      <td>258</td>\n",
       "      <td>-0.429369</td>\n",
       "      <td>7.199075</td>\n",
       "      <td>3.063733</td>\n",
       "      <td>-0.496420</td>\n",
       "      <td>8.957319</td>\n",
       "      <td>3.198463</td>\n",
       "      <td>-0.582399</td>\n",
       "      <td>9.467059</td>\n",
       "      <td>...</td>\n",
       "      <td>0.578182</td>\n",
       "      <td>0.322126</td>\n",
       "      <td>0.422456</td>\n",
       "      <td>0.720966</td>\n",
       "      <td>0.303902</td>\n",
       "      <td>0.250078</td>\n",
       "      <td>0.694467</td>\n",
       "      <td>0.191094</td>\n",
       "      <td>0.554233</td>\n",
       "      <td>0</td>\n",
       "    </tr>\n",
       "    <tr>\n",
       "      <th>258</th>\n",
       "      <td>44</td>\n",
       "      <td>259</td>\n",
       "      <td>-0.945257</td>\n",
       "      <td>21.763986</td>\n",
       "      <td>6.206397</td>\n",
       "      <td>-0.971078</td>\n",
       "      <td>17.039679</td>\n",
       "      <td>6.818231</td>\n",
       "      <td>-0.958857</td>\n",
       "      <td>15.633321</td>\n",
       "      <td>...</td>\n",
       "      <td>0.444469</td>\n",
       "      <td>0.202010</td>\n",
       "      <td>0.083466</td>\n",
       "      <td>0.758260</td>\n",
       "      <td>0.527970</td>\n",
       "      <td>0.244990</td>\n",
       "      <td>0.844094</td>\n",
       "      <td>0.562038</td>\n",
       "      <td>0.789984</td>\n",
       "      <td>0</td>\n",
       "    </tr>\n",
       "    <tr>\n",
       "      <th>259</th>\n",
       "      <td>44</td>\n",
       "      <td>260</td>\n",
       "      <td>0.167214</td>\n",
       "      <td>4.859880</td>\n",
       "      <td>3.381623</td>\n",
       "      <td>0.117990</td>\n",
       "      <td>4.956969</td>\n",
       "      <td>2.973658</td>\n",
       "      <td>0.105943</td>\n",
       "      <td>5.630100</td>\n",
       "      <td>...</td>\n",
       "      <td>0.533983</td>\n",
       "      <td>0.121270</td>\n",
       "      <td>0.270544</td>\n",
       "      <td>0.764531</td>\n",
       "      <td>0.372002</td>\n",
       "      <td>0.079072</td>\n",
       "      <td>0.688026</td>\n",
       "      <td>0.228740</td>\n",
       "      <td>0.631245</td>\n",
       "      <td>0</td>\n",
       "    </tr>\n",
       "  </tbody>\n",
       "</table>\n",
       "<p>6251 rows × 313 columns</p>\n",
       "</div>"
      ],
      "text/plain": [
       "     Subject  Epoch  Mean_FC5  Variance_FC5  Kurtosis_FC5  Mean_FC3  \\\n",
       "0          1      1  0.077105      7.357580      2.809176  0.382332   \n",
       "1          1      2 -0.018304      7.029542      2.842915  0.184697   \n",
       "2          1      3 -0.319861      6.399684      3.428581 -0.346442   \n",
       "3          1      4  0.036567      8.415375      2.555121  0.150948   \n",
       "4          1      5  0.257114     13.767046      2.879540  0.157239   \n",
       "..       ...    ...       ...           ...           ...       ...   \n",
       "255       44    256 -0.347318     11.215760      2.415819 -0.551029   \n",
       "256       44    257  0.221785     12.573679      3.445813  0.237528   \n",
       "257       44    258 -0.429369      7.199075      3.063733 -0.496420   \n",
       "258       44    259 -0.945257     21.763986      6.206397 -0.971078   \n",
       "259       44    260  0.167214      4.859880      3.381623  0.117990   \n",
       "\n",
       "     Variance_FC3  Kurtosis_FC3  Mean_FC1  Variance_FC1  ...  PLV_CP1_CP2  \\\n",
       "0        7.589385      3.297552  0.464633      7.700149  ...     0.318132   \n",
       "1        6.991603      3.060431  0.281971      7.484742  ...     0.470648   \n",
       "2        6.964995      2.777844 -0.256384      8.132662  ...     0.580862   \n",
       "3        9.348971      3.053070  0.207301      8.933164  ...     0.607181   \n",
       "4       14.221320      2.764797 -0.017693     13.340810  ...     0.464897   \n",
       "..            ...           ...       ...           ...  ...          ...   \n",
       "255     13.194753      2.405359 -0.656948     12.642553  ...     0.080379   \n",
       "256     11.310268      3.638090  0.239306     11.290607  ...     0.266919   \n",
       "257      8.957319      3.198463 -0.582399      9.467059  ...     0.578182   \n",
       "258     17.039679      6.818231 -0.958857     15.633321  ...     0.444469   \n",
       "259      4.956969      2.973658  0.105943      5.630100  ...     0.533983   \n",
       "\n",
       "     PLV_CP1_CP4  PLV_CP1_CP6  PLV_CPz_CP2  PLV_CPz_CP4  PLV_CPz_CP6  \\\n",
       "0       0.073507     0.323108     0.669452     0.247354     0.067815   \n",
       "1       0.123157     0.181453     0.699222     0.302571     0.062673   \n",
       "2       0.386278     0.231118     0.773177     0.498727     0.242550   \n",
       "3       0.256862     0.167798     0.806269     0.438541     0.089317   \n",
       "4       0.257998     0.146752     0.819921     0.607017     0.364591   \n",
       "..           ...          ...          ...          ...          ...   \n",
       "255     0.140109     0.308763     0.595714     0.356431     0.148958   \n",
       "256     0.165629     0.418936     0.611298     0.252375     0.062959   \n",
       "257     0.322126     0.422456     0.720966     0.303902     0.250078   \n",
       "258     0.202010     0.083466     0.758260     0.527970     0.244990   \n",
       "259     0.121270     0.270544     0.764531     0.372002     0.079072   \n",
       "\n",
       "     PLV_CP2_CP4  PLV_CP2_CP6  PLV_CP4_CP6  Label  \n",
       "0       0.685624     0.365035     0.772310      1  \n",
       "1       0.705291     0.361569     0.726673      2  \n",
       "2       0.764621     0.475057     0.770152      1  \n",
       "3       0.747473     0.330642     0.694656      2  \n",
       "4       0.854306     0.557560     0.742894      2  \n",
       "..           ...          ...          ...    ...  \n",
       "255     0.845309     0.611503     0.830670      0  \n",
       "256     0.743924     0.390819     0.758761      0  \n",
       "257     0.694467     0.191094     0.554233      0  \n",
       "258     0.844094     0.562038     0.789984      0  \n",
       "259     0.688026     0.228740     0.631245      0  \n",
       "\n",
       "[6251 rows x 313 columns]"
      ]
     },
     "execution_count": 6,
     "metadata": {},
     "output_type": "execute_result"
    }
   ],
   "source": [
    "#read subjects files and merge them\n",
    "files = os.listdir('Subjects data')\n",
    "features_all = pd.read_csv('Subjects data/' + files[0], encoding='latin1')\n",
    "files.pop(0)\n",
    "for f in files :\n",
    "    features_subject = pd.read_csv('Subjects data/' + f, encoding='latin1')\n",
    "    frames = [features_all, features_subject]\n",
    "    features_all = pd.concat(frames)\n",
    "#features_all.index = [features_all['Subject'], features_all['Epoch']]\n",
    "subjects_idx = features_all['Subject'].values\n",
    "#features_all = features_all.drop(['Subject','Epoch'], axis = 1)\n",
    "features_all"
   ]
  },
  {
   "cell_type": "markdown",
   "metadata": {},
   "source": [
    "## Split the data into training and test"
   ]
  },
  {
   "cell_type": "code",
   "execution_count": 7,
   "metadata": {},
   "outputs": [
    {
     "data": {
      "text/plain": [
       "([15, 12, 21, 4, 10, 44, 3, 18, 29, 20, 7, 19, 11, 2, 28, 5, 8, 16, 6],\n",
       " [1, 13, 17, 14, 9])"
      ]
     },
     "execution_count": 7,
     "metadata": {},
     "output_type": "execute_result"
    }
   ],
   "source": [
    "#Select randomly subjects for train and test\n",
    "subjects = np.unique(subjects_idx)\n",
    "subjects_train = [15, 12, 21, 4, 10, 44, 3, 18, 29, 20, 7, 19, 11, 2, 28, 5, 8, 16, 6]\n",
    "subjects_test = [1, 13, 17, 14, 9]\n",
    "subjects_train, subjects_test"
   ]
  },
  {
   "cell_type": "code",
   "execution_count": 8,
   "metadata": {},
   "outputs": [
    {
     "data": {
      "text/html": [
       "<div>\n",
       "<style scoped>\n",
       "    .dataframe tbody tr th:only-of-type {\n",
       "        vertical-align: middle;\n",
       "    }\n",
       "\n",
       "    .dataframe tbody tr th {\n",
       "        vertical-align: top;\n",
       "    }\n",
       "\n",
       "    .dataframe thead th {\n",
       "        text-align: right;\n",
       "    }\n",
       "</style>\n",
       "<table border=\"1\" class=\"dataframe\">\n",
       "  <thead>\n",
       "    <tr style=\"text-align: right;\">\n",
       "      <th></th>\n",
       "      <th>Subject</th>\n",
       "      <th>Epoch</th>\n",
       "      <th>Mean_FC5</th>\n",
       "      <th>Variance_FC5</th>\n",
       "      <th>Kurtosis_FC5</th>\n",
       "      <th>Mean_FC3</th>\n",
       "      <th>Variance_FC3</th>\n",
       "      <th>Kurtosis_FC3</th>\n",
       "      <th>Mean_FC1</th>\n",
       "      <th>Variance_FC1</th>\n",
       "      <th>...</th>\n",
       "      <th>PLV_CP1_CP2</th>\n",
       "      <th>PLV_CP1_CP4</th>\n",
       "      <th>PLV_CP1_CP6</th>\n",
       "      <th>PLV_CPz_CP2</th>\n",
       "      <th>PLV_CPz_CP4</th>\n",
       "      <th>PLV_CPz_CP6</th>\n",
       "      <th>PLV_CP2_CP4</th>\n",
       "      <th>PLV_CP2_CP6</th>\n",
       "      <th>PLV_CP4_CP6</th>\n",
       "      <th>Label</th>\n",
       "    </tr>\n",
       "  </thead>\n",
       "  <tbody>\n",
       "    <tr>\n",
       "      <th>0</th>\n",
       "      <td>15</td>\n",
       "      <td>1</td>\n",
       "      <td>-0.226124</td>\n",
       "      <td>3.195941</td>\n",
       "      <td>2.881555</td>\n",
       "      <td>-0.275889</td>\n",
       "      <td>2.269788</td>\n",
       "      <td>3.280869</td>\n",
       "      <td>-0.109598</td>\n",
       "      <td>2.684536</td>\n",
       "      <td>...</td>\n",
       "      <td>0.498464</td>\n",
       "      <td>0.109177</td>\n",
       "      <td>0.096379</td>\n",
       "      <td>0.723574</td>\n",
       "      <td>0.384581</td>\n",
       "      <td>0.159108</td>\n",
       "      <td>0.645515</td>\n",
       "      <td>0.389479</td>\n",
       "      <td>0.794813</td>\n",
       "      <td>1</td>\n",
       "    </tr>\n",
       "    <tr>\n",
       "      <th>1</th>\n",
       "      <td>15</td>\n",
       "      <td>2</td>\n",
       "      <td>0.030149</td>\n",
       "      <td>3.409489</td>\n",
       "      <td>3.228332</td>\n",
       "      <td>0.014870</td>\n",
       "      <td>2.478137</td>\n",
       "      <td>3.812820</td>\n",
       "      <td>-0.002679</td>\n",
       "      <td>1.796357</td>\n",
       "      <td>...</td>\n",
       "      <td>0.266234</td>\n",
       "      <td>0.056251</td>\n",
       "      <td>0.144260</td>\n",
       "      <td>0.655767</td>\n",
       "      <td>0.335991</td>\n",
       "      <td>0.098588</td>\n",
       "      <td>0.706705</td>\n",
       "      <td>0.473348</td>\n",
       "      <td>0.726290</td>\n",
       "      <td>2</td>\n",
       "    </tr>\n",
       "    <tr>\n",
       "      <th>2</th>\n",
       "      <td>15</td>\n",
       "      <td>3</td>\n",
       "      <td>0.047237</td>\n",
       "      <td>3.708139</td>\n",
       "      <td>2.910095</td>\n",
       "      <td>-0.005586</td>\n",
       "      <td>2.811760</td>\n",
       "      <td>3.038567</td>\n",
       "      <td>-0.054310</td>\n",
       "      <td>2.949162</td>\n",
       "      <td>...</td>\n",
       "      <td>0.456545</td>\n",
       "      <td>0.202658</td>\n",
       "      <td>0.047853</td>\n",
       "      <td>0.738647</td>\n",
       "      <td>0.387145</td>\n",
       "      <td>0.150339</td>\n",
       "      <td>0.640531</td>\n",
       "      <td>0.420457</td>\n",
       "      <td>0.698610</td>\n",
       "      <td>1</td>\n",
       "    </tr>\n",
       "    <tr>\n",
       "      <th>3</th>\n",
       "      <td>15</td>\n",
       "      <td>4</td>\n",
       "      <td>-0.275433</td>\n",
       "      <td>3.773190</td>\n",
       "      <td>2.643662</td>\n",
       "      <td>-0.073327</td>\n",
       "      <td>2.295184</td>\n",
       "      <td>2.892549</td>\n",
       "      <td>0.087973</td>\n",
       "      <td>2.130878</td>\n",
       "      <td>...</td>\n",
       "      <td>0.432633</td>\n",
       "      <td>0.148281</td>\n",
       "      <td>0.160235</td>\n",
       "      <td>0.758073</td>\n",
       "      <td>0.410296</td>\n",
       "      <td>0.160244</td>\n",
       "      <td>0.620352</td>\n",
       "      <td>0.321739</td>\n",
       "      <td>0.709662</td>\n",
       "      <td>1</td>\n",
       "    </tr>\n",
       "    <tr>\n",
       "      <th>4</th>\n",
       "      <td>15</td>\n",
       "      <td>5</td>\n",
       "      <td>-0.060434</td>\n",
       "      <td>3.423417</td>\n",
       "      <td>2.893461</td>\n",
       "      <td>-0.089059</td>\n",
       "      <td>2.716601</td>\n",
       "      <td>2.856706</td>\n",
       "      <td>-0.087965</td>\n",
       "      <td>2.550269</td>\n",
       "      <td>...</td>\n",
       "      <td>0.419553</td>\n",
       "      <td>0.095825</td>\n",
       "      <td>0.118061</td>\n",
       "      <td>0.684872</td>\n",
       "      <td>0.278488</td>\n",
       "      <td>0.105448</td>\n",
       "      <td>0.628054</td>\n",
       "      <td>0.470720</td>\n",
       "      <td>0.828787</td>\n",
       "      <td>1</td>\n",
       "    </tr>\n",
       "    <tr>\n",
       "      <th>...</th>\n",
       "      <td>...</td>\n",
       "      <td>...</td>\n",
       "      <td>...</td>\n",
       "      <td>...</td>\n",
       "      <td>...</td>\n",
       "      <td>...</td>\n",
       "      <td>...</td>\n",
       "      <td>...</td>\n",
       "      <td>...</td>\n",
       "      <td>...</td>\n",
       "      <td>...</td>\n",
       "      <td>...</td>\n",
       "      <td>...</td>\n",
       "      <td>...</td>\n",
       "      <td>...</td>\n",
       "      <td>...</td>\n",
       "      <td>...</td>\n",
       "      <td>...</td>\n",
       "      <td>...</td>\n",
       "      <td>...</td>\n",
       "      <td>...</td>\n",
       "    </tr>\n",
       "    <tr>\n",
       "      <th>272</th>\n",
       "      <td>6</td>\n",
       "      <td>273</td>\n",
       "      <td>-0.304880</td>\n",
       "      <td>22.298991</td>\n",
       "      <td>3.302567</td>\n",
       "      <td>-0.129734</td>\n",
       "      <td>14.958487</td>\n",
       "      <td>3.370847</td>\n",
       "      <td>-0.051861</td>\n",
       "      <td>15.985407</td>\n",
       "      <td>...</td>\n",
       "      <td>0.400836</td>\n",
       "      <td>0.100550</td>\n",
       "      <td>0.256252</td>\n",
       "      <td>0.661555</td>\n",
       "      <td>0.268539</td>\n",
       "      <td>0.130888</td>\n",
       "      <td>0.714714</td>\n",
       "      <td>0.310249</td>\n",
       "      <td>0.709654</td>\n",
       "      <td>0</td>\n",
       "    </tr>\n",
       "    <tr>\n",
       "      <th>273</th>\n",
       "      <td>6</td>\n",
       "      <td>274</td>\n",
       "      <td>0.269868</td>\n",
       "      <td>33.843053</td>\n",
       "      <td>3.654818</td>\n",
       "      <td>0.212369</td>\n",
       "      <td>16.329158</td>\n",
       "      <td>2.957622</td>\n",
       "      <td>0.039009</td>\n",
       "      <td>16.658380</td>\n",
       "      <td>...</td>\n",
       "      <td>0.552139</td>\n",
       "      <td>0.370040</td>\n",
       "      <td>0.223648</td>\n",
       "      <td>0.712328</td>\n",
       "      <td>0.506982</td>\n",
       "      <td>0.296971</td>\n",
       "      <td>0.870735</td>\n",
       "      <td>0.596865</td>\n",
       "      <td>0.785686</td>\n",
       "      <td>0</td>\n",
       "    </tr>\n",
       "    <tr>\n",
       "      <th>274</th>\n",
       "      <td>6</td>\n",
       "      <td>275</td>\n",
       "      <td>0.696642</td>\n",
       "      <td>15.568775</td>\n",
       "      <td>3.843750</td>\n",
       "      <td>0.337532</td>\n",
       "      <td>14.240621</td>\n",
       "      <td>4.116896</td>\n",
       "      <td>0.411972</td>\n",
       "      <td>16.540324</td>\n",
       "      <td>...</td>\n",
       "      <td>0.293143</td>\n",
       "      <td>0.119998</td>\n",
       "      <td>0.265822</td>\n",
       "      <td>0.706523</td>\n",
       "      <td>0.229444</td>\n",
       "      <td>0.090624</td>\n",
       "      <td>0.610597</td>\n",
       "      <td>0.295000</td>\n",
       "      <td>0.726543</td>\n",
       "      <td>0</td>\n",
       "    </tr>\n",
       "    <tr>\n",
       "      <th>275</th>\n",
       "      <td>6</td>\n",
       "      <td>276</td>\n",
       "      <td>0.170718</td>\n",
       "      <td>26.607633</td>\n",
       "      <td>2.631762</td>\n",
       "      <td>-0.082792</td>\n",
       "      <td>16.046166</td>\n",
       "      <td>3.065634</td>\n",
       "      <td>-0.065649</td>\n",
       "      <td>16.759860</td>\n",
       "      <td>...</td>\n",
       "      <td>0.383266</td>\n",
       "      <td>0.052075</td>\n",
       "      <td>0.214457</td>\n",
       "      <td>0.670556</td>\n",
       "      <td>0.267428</td>\n",
       "      <td>0.075736</td>\n",
       "      <td>0.681577</td>\n",
       "      <td>0.318358</td>\n",
       "      <td>0.699691</td>\n",
       "      <td>0</td>\n",
       "    </tr>\n",
       "    <tr>\n",
       "      <th>276</th>\n",
       "      <td>6</td>\n",
       "      <td>277</td>\n",
       "      <td>-0.149774</td>\n",
       "      <td>25.667610</td>\n",
       "      <td>3.001896</td>\n",
       "      <td>-0.331184</td>\n",
       "      <td>15.513927</td>\n",
       "      <td>2.970890</td>\n",
       "      <td>-0.570239</td>\n",
       "      <td>19.720077</td>\n",
       "      <td>...</td>\n",
       "      <td>0.530426</td>\n",
       "      <td>0.263476</td>\n",
       "      <td>0.195801</td>\n",
       "      <td>0.788003</td>\n",
       "      <td>0.473607</td>\n",
       "      <td>0.175662</td>\n",
       "      <td>0.745219</td>\n",
       "      <td>0.345032</td>\n",
       "      <td>0.655788</td>\n",
       "      <td>0</td>\n",
       "    </tr>\n",
       "  </tbody>\n",
       "</table>\n",
       "<p>4931 rows × 313 columns</p>\n",
       "</div>"
      ],
      "text/plain": [
       "     Subject  Epoch  Mean_FC5  Variance_FC5  Kurtosis_FC5  Mean_FC3  \\\n",
       "0         15      1 -0.226124      3.195941      2.881555 -0.275889   \n",
       "1         15      2  0.030149      3.409489      3.228332  0.014870   \n",
       "2         15      3  0.047237      3.708139      2.910095 -0.005586   \n",
       "3         15      4 -0.275433      3.773190      2.643662 -0.073327   \n",
       "4         15      5 -0.060434      3.423417      2.893461 -0.089059   \n",
       "..       ...    ...       ...           ...           ...       ...   \n",
       "272        6    273 -0.304880     22.298991      3.302567 -0.129734   \n",
       "273        6    274  0.269868     33.843053      3.654818  0.212369   \n",
       "274        6    275  0.696642     15.568775      3.843750  0.337532   \n",
       "275        6    276  0.170718     26.607633      2.631762 -0.082792   \n",
       "276        6    277 -0.149774     25.667610      3.001896 -0.331184   \n",
       "\n",
       "     Variance_FC3  Kurtosis_FC3  Mean_FC1  Variance_FC1  ...  PLV_CP1_CP2  \\\n",
       "0        2.269788      3.280869 -0.109598      2.684536  ...     0.498464   \n",
       "1        2.478137      3.812820 -0.002679      1.796357  ...     0.266234   \n",
       "2        2.811760      3.038567 -0.054310      2.949162  ...     0.456545   \n",
       "3        2.295184      2.892549  0.087973      2.130878  ...     0.432633   \n",
       "4        2.716601      2.856706 -0.087965      2.550269  ...     0.419553   \n",
       "..            ...           ...       ...           ...  ...          ...   \n",
       "272     14.958487      3.370847 -0.051861     15.985407  ...     0.400836   \n",
       "273     16.329158      2.957622  0.039009     16.658380  ...     0.552139   \n",
       "274     14.240621      4.116896  0.411972     16.540324  ...     0.293143   \n",
       "275     16.046166      3.065634 -0.065649     16.759860  ...     0.383266   \n",
       "276     15.513927      2.970890 -0.570239     19.720077  ...     0.530426   \n",
       "\n",
       "     PLV_CP1_CP4  PLV_CP1_CP6  PLV_CPz_CP2  PLV_CPz_CP4  PLV_CPz_CP6  \\\n",
       "0       0.109177     0.096379     0.723574     0.384581     0.159108   \n",
       "1       0.056251     0.144260     0.655767     0.335991     0.098588   \n",
       "2       0.202658     0.047853     0.738647     0.387145     0.150339   \n",
       "3       0.148281     0.160235     0.758073     0.410296     0.160244   \n",
       "4       0.095825     0.118061     0.684872     0.278488     0.105448   \n",
       "..           ...          ...          ...          ...          ...   \n",
       "272     0.100550     0.256252     0.661555     0.268539     0.130888   \n",
       "273     0.370040     0.223648     0.712328     0.506982     0.296971   \n",
       "274     0.119998     0.265822     0.706523     0.229444     0.090624   \n",
       "275     0.052075     0.214457     0.670556     0.267428     0.075736   \n",
       "276     0.263476     0.195801     0.788003     0.473607     0.175662   \n",
       "\n",
       "     PLV_CP2_CP4  PLV_CP2_CP6  PLV_CP4_CP6  Label  \n",
       "0       0.645515     0.389479     0.794813      1  \n",
       "1       0.706705     0.473348     0.726290      2  \n",
       "2       0.640531     0.420457     0.698610      1  \n",
       "3       0.620352     0.321739     0.709662      1  \n",
       "4       0.628054     0.470720     0.828787      1  \n",
       "..           ...          ...          ...    ...  \n",
       "272     0.714714     0.310249     0.709654      0  \n",
       "273     0.870735     0.596865     0.785686      0  \n",
       "274     0.610597     0.295000     0.726543      0  \n",
       "275     0.681577     0.318358     0.699691      0  \n",
       "276     0.745219     0.345032     0.655788      0  \n",
       "\n",
       "[4931 rows x 313 columns]"
      ]
     },
     "execution_count": 8,
     "metadata": {},
     "output_type": "execute_result"
    }
   ],
   "source": [
    "train_idx = features_all['Subject'] == subjects_train[0]\n",
    "features_train = features_all[train_idx]\n",
    "subjects_train2 = np.delete(subjects_train, 0, axis=None)\n",
    "for subject in subjects_train2 :\n",
    "    train_idx = features_all['Subject'] == subject\n",
    "    frames = [features_train, features_all[train_idx]]\n",
    "    features_train = pd.concat(frames)\n",
    "subjects_idx_train = features_train['Subject']\n",
    "features_train"
   ]
  },
  {
   "cell_type": "code",
   "execution_count": 9,
   "metadata": {},
   "outputs": [
    {
     "data": {
      "text/html": [
       "<div>\n",
       "<style scoped>\n",
       "    .dataframe tbody tr th:only-of-type {\n",
       "        vertical-align: middle;\n",
       "    }\n",
       "\n",
       "    .dataframe tbody tr th {\n",
       "        vertical-align: top;\n",
       "    }\n",
       "\n",
       "    .dataframe thead th {\n",
       "        text-align: right;\n",
       "    }\n",
       "</style>\n",
       "<table border=\"1\" class=\"dataframe\">\n",
       "  <thead>\n",
       "    <tr style=\"text-align: right;\">\n",
       "      <th></th>\n",
       "      <th></th>\n",
       "      <th>Mean_FC5</th>\n",
       "      <th>Variance_FC5</th>\n",
       "      <th>Kurtosis_FC5</th>\n",
       "      <th>Mean_FC3</th>\n",
       "      <th>Variance_FC3</th>\n",
       "      <th>Kurtosis_FC3</th>\n",
       "      <th>Mean_FC1</th>\n",
       "      <th>Variance_FC1</th>\n",
       "      <th>Kurtosis_FC1</th>\n",
       "      <th>Mean_FC2</th>\n",
       "      <th>...</th>\n",
       "      <th>PLV_CP1_CPz</th>\n",
       "      <th>PLV_CP1_CP2</th>\n",
       "      <th>PLV_CP1_CP4</th>\n",
       "      <th>PLV_CP1_CP6</th>\n",
       "      <th>PLV_CPz_CP2</th>\n",
       "      <th>PLV_CPz_CP4</th>\n",
       "      <th>PLV_CPz_CP6</th>\n",
       "      <th>PLV_CP2_CP4</th>\n",
       "      <th>PLV_CP2_CP6</th>\n",
       "      <th>PLV_CP4_CP6</th>\n",
       "    </tr>\n",
       "    <tr>\n",
       "      <th>Subject</th>\n",
       "      <th>Epoch</th>\n",
       "      <th></th>\n",
       "      <th></th>\n",
       "      <th></th>\n",
       "      <th></th>\n",
       "      <th></th>\n",
       "      <th></th>\n",
       "      <th></th>\n",
       "      <th></th>\n",
       "      <th></th>\n",
       "      <th></th>\n",
       "      <th></th>\n",
       "      <th></th>\n",
       "      <th></th>\n",
       "      <th></th>\n",
       "      <th></th>\n",
       "      <th></th>\n",
       "      <th></th>\n",
       "      <th></th>\n",
       "      <th></th>\n",
       "      <th></th>\n",
       "      <th></th>\n",
       "    </tr>\n",
       "  </thead>\n",
       "  <tbody>\n",
       "    <tr>\n",
       "      <th rowspan=\"5\" valign=\"top\">15</th>\n",
       "      <th>1</th>\n",
       "      <td>-0.226124</td>\n",
       "      <td>3.195941</td>\n",
       "      <td>2.881555</td>\n",
       "      <td>-0.275889</td>\n",
       "      <td>2.269788</td>\n",
       "      <td>3.280869</td>\n",
       "      <td>-0.109598</td>\n",
       "      <td>2.684536</td>\n",
       "      <td>2.901555</td>\n",
       "      <td>-0.101212</td>\n",
       "      <td>...</td>\n",
       "      <td>0.610267</td>\n",
       "      <td>0.498464</td>\n",
       "      <td>0.109177</td>\n",
       "      <td>0.096379</td>\n",
       "      <td>0.723574</td>\n",
       "      <td>0.384581</td>\n",
       "      <td>0.159108</td>\n",
       "      <td>0.645515</td>\n",
       "      <td>0.389479</td>\n",
       "      <td>0.794813</td>\n",
       "    </tr>\n",
       "    <tr>\n",
       "      <th>2</th>\n",
       "      <td>0.030149</td>\n",
       "      <td>3.409489</td>\n",
       "      <td>3.228332</td>\n",
       "      <td>0.014870</td>\n",
       "      <td>2.478137</td>\n",
       "      <td>3.812820</td>\n",
       "      <td>-0.002679</td>\n",
       "      <td>1.796357</td>\n",
       "      <td>2.764866</td>\n",
       "      <td>0.045633</td>\n",
       "      <td>...</td>\n",
       "      <td>0.519540</td>\n",
       "      <td>0.266234</td>\n",
       "      <td>0.056251</td>\n",
       "      <td>0.144260</td>\n",
       "      <td>0.655767</td>\n",
       "      <td>0.335991</td>\n",
       "      <td>0.098588</td>\n",
       "      <td>0.706705</td>\n",
       "      <td>0.473348</td>\n",
       "      <td>0.726290</td>\n",
       "    </tr>\n",
       "    <tr>\n",
       "      <th>3</th>\n",
       "      <td>0.047237</td>\n",
       "      <td>3.708139</td>\n",
       "      <td>2.910095</td>\n",
       "      <td>-0.005586</td>\n",
       "      <td>2.811760</td>\n",
       "      <td>3.038567</td>\n",
       "      <td>-0.054310</td>\n",
       "      <td>2.949162</td>\n",
       "      <td>3.309821</td>\n",
       "      <td>-0.171491</td>\n",
       "      <td>...</td>\n",
       "      <td>0.601333</td>\n",
       "      <td>0.456545</td>\n",
       "      <td>0.202658</td>\n",
       "      <td>0.047853</td>\n",
       "      <td>0.738647</td>\n",
       "      <td>0.387145</td>\n",
       "      <td>0.150339</td>\n",
       "      <td>0.640531</td>\n",
       "      <td>0.420457</td>\n",
       "      <td>0.698610</td>\n",
       "    </tr>\n",
       "    <tr>\n",
       "      <th>4</th>\n",
       "      <td>-0.275433</td>\n",
       "      <td>3.773190</td>\n",
       "      <td>2.643662</td>\n",
       "      <td>-0.073327</td>\n",
       "      <td>2.295184</td>\n",
       "      <td>2.892549</td>\n",
       "      <td>0.087973</td>\n",
       "      <td>2.130878</td>\n",
       "      <td>2.651647</td>\n",
       "      <td>0.310267</td>\n",
       "      <td>...</td>\n",
       "      <td>0.605191</td>\n",
       "      <td>0.432633</td>\n",
       "      <td>0.148281</td>\n",
       "      <td>0.160235</td>\n",
       "      <td>0.758073</td>\n",
       "      <td>0.410296</td>\n",
       "      <td>0.160244</td>\n",
       "      <td>0.620352</td>\n",
       "      <td>0.321739</td>\n",
       "      <td>0.709662</td>\n",
       "    </tr>\n",
       "    <tr>\n",
       "      <th>5</th>\n",
       "      <td>-0.060434</td>\n",
       "      <td>3.423417</td>\n",
       "      <td>2.893461</td>\n",
       "      <td>-0.089059</td>\n",
       "      <td>2.716601</td>\n",
       "      <td>2.856706</td>\n",
       "      <td>-0.087965</td>\n",
       "      <td>2.550269</td>\n",
       "      <td>3.046728</td>\n",
       "      <td>-0.186947</td>\n",
       "      <td>...</td>\n",
       "      <td>0.610368</td>\n",
       "      <td>0.419553</td>\n",
       "      <td>0.095825</td>\n",
       "      <td>0.118061</td>\n",
       "      <td>0.684872</td>\n",
       "      <td>0.278488</td>\n",
       "      <td>0.105448</td>\n",
       "      <td>0.628054</td>\n",
       "      <td>0.470720</td>\n",
       "      <td>0.828787</td>\n",
       "    </tr>\n",
       "    <tr>\n",
       "      <th>...</th>\n",
       "      <th>...</th>\n",
       "      <td>...</td>\n",
       "      <td>...</td>\n",
       "      <td>...</td>\n",
       "      <td>...</td>\n",
       "      <td>...</td>\n",
       "      <td>...</td>\n",
       "      <td>...</td>\n",
       "      <td>...</td>\n",
       "      <td>...</td>\n",
       "      <td>...</td>\n",
       "      <td>...</td>\n",
       "      <td>...</td>\n",
       "      <td>...</td>\n",
       "      <td>...</td>\n",
       "      <td>...</td>\n",
       "      <td>...</td>\n",
       "      <td>...</td>\n",
       "      <td>...</td>\n",
       "      <td>...</td>\n",
       "      <td>...</td>\n",
       "      <td>...</td>\n",
       "    </tr>\n",
       "    <tr>\n",
       "      <th rowspan=\"5\" valign=\"top\">6</th>\n",
       "      <th>273</th>\n",
       "      <td>-0.304880</td>\n",
       "      <td>22.298991</td>\n",
       "      <td>3.302567</td>\n",
       "      <td>-0.129734</td>\n",
       "      <td>14.958487</td>\n",
       "      <td>3.370847</td>\n",
       "      <td>-0.051861</td>\n",
       "      <td>15.985407</td>\n",
       "      <td>3.068512</td>\n",
       "      <td>-0.181406</td>\n",
       "      <td>...</td>\n",
       "      <td>0.749228</td>\n",
       "      <td>0.400836</td>\n",
       "      <td>0.100550</td>\n",
       "      <td>0.256252</td>\n",
       "      <td>0.661555</td>\n",
       "      <td>0.268539</td>\n",
       "      <td>0.130888</td>\n",
       "      <td>0.714714</td>\n",
       "      <td>0.310249</td>\n",
       "      <td>0.709654</td>\n",
       "    </tr>\n",
       "    <tr>\n",
       "      <th>274</th>\n",
       "      <td>0.269868</td>\n",
       "      <td>33.843053</td>\n",
       "      <td>3.654818</td>\n",
       "      <td>0.212369</td>\n",
       "      <td>16.329158</td>\n",
       "      <td>2.957622</td>\n",
       "      <td>0.039009</td>\n",
       "      <td>16.658380</td>\n",
       "      <td>3.534025</td>\n",
       "      <td>-0.243350</td>\n",
       "      <td>...</td>\n",
       "      <td>0.818852</td>\n",
       "      <td>0.552139</td>\n",
       "      <td>0.370040</td>\n",
       "      <td>0.223648</td>\n",
       "      <td>0.712328</td>\n",
       "      <td>0.506982</td>\n",
       "      <td>0.296971</td>\n",
       "      <td>0.870735</td>\n",
       "      <td>0.596865</td>\n",
       "      <td>0.785686</td>\n",
       "    </tr>\n",
       "    <tr>\n",
       "      <th>275</th>\n",
       "      <td>0.696642</td>\n",
       "      <td>15.568775</td>\n",
       "      <td>3.843750</td>\n",
       "      <td>0.337532</td>\n",
       "      <td>14.240621</td>\n",
       "      <td>4.116896</td>\n",
       "      <td>0.411972</td>\n",
       "      <td>16.540324</td>\n",
       "      <td>4.061586</td>\n",
       "      <td>0.370064</td>\n",
       "      <td>...</td>\n",
       "      <td>0.634006</td>\n",
       "      <td>0.293143</td>\n",
       "      <td>0.119998</td>\n",
       "      <td>0.265822</td>\n",
       "      <td>0.706523</td>\n",
       "      <td>0.229444</td>\n",
       "      <td>0.090624</td>\n",
       "      <td>0.610597</td>\n",
       "      <td>0.295000</td>\n",
       "      <td>0.726543</td>\n",
       "    </tr>\n",
       "    <tr>\n",
       "      <th>276</th>\n",
       "      <td>0.170718</td>\n",
       "      <td>26.607633</td>\n",
       "      <td>2.631762</td>\n",
       "      <td>-0.082792</td>\n",
       "      <td>16.046166</td>\n",
       "      <td>3.065634</td>\n",
       "      <td>-0.065649</td>\n",
       "      <td>16.759860</td>\n",
       "      <td>3.330850</td>\n",
       "      <td>-0.213369</td>\n",
       "      <td>...</td>\n",
       "      <td>0.728297</td>\n",
       "      <td>0.383266</td>\n",
       "      <td>0.052075</td>\n",
       "      <td>0.214457</td>\n",
       "      <td>0.670556</td>\n",
       "      <td>0.267428</td>\n",
       "      <td>0.075736</td>\n",
       "      <td>0.681577</td>\n",
       "      <td>0.318358</td>\n",
       "      <td>0.699691</td>\n",
       "    </tr>\n",
       "    <tr>\n",
       "      <th>277</th>\n",
       "      <td>-0.149774</td>\n",
       "      <td>25.667610</td>\n",
       "      <td>3.001896</td>\n",
       "      <td>-0.331184</td>\n",
       "      <td>15.513927</td>\n",
       "      <td>2.970890</td>\n",
       "      <td>-0.570239</td>\n",
       "      <td>19.720077</td>\n",
       "      <td>3.202597</td>\n",
       "      <td>-0.779327</td>\n",
       "      <td>...</td>\n",
       "      <td>0.805974</td>\n",
       "      <td>0.530426</td>\n",
       "      <td>0.263476</td>\n",
       "      <td>0.195801</td>\n",
       "      <td>0.788003</td>\n",
       "      <td>0.473607</td>\n",
       "      <td>0.175662</td>\n",
       "      <td>0.745219</td>\n",
       "      <td>0.345032</td>\n",
       "      <td>0.655788</td>\n",
       "    </tr>\n",
       "  </tbody>\n",
       "</table>\n",
       "<p>4931 rows × 310 columns</p>\n",
       "</div>"
      ],
      "text/plain": [
       "               Mean_FC5  Variance_FC5  Kurtosis_FC5  Mean_FC3  Variance_FC3  \\\n",
       "Subject Epoch                                                                 \n",
       "15      1     -0.226124      3.195941      2.881555 -0.275889      2.269788   \n",
       "        2      0.030149      3.409489      3.228332  0.014870      2.478137   \n",
       "        3      0.047237      3.708139      2.910095 -0.005586      2.811760   \n",
       "        4     -0.275433      3.773190      2.643662 -0.073327      2.295184   \n",
       "        5     -0.060434      3.423417      2.893461 -0.089059      2.716601   \n",
       "...                 ...           ...           ...       ...           ...   \n",
       "6       273   -0.304880     22.298991      3.302567 -0.129734     14.958487   \n",
       "        274    0.269868     33.843053      3.654818  0.212369     16.329158   \n",
       "        275    0.696642     15.568775      3.843750  0.337532     14.240621   \n",
       "        276    0.170718     26.607633      2.631762 -0.082792     16.046166   \n",
       "        277   -0.149774     25.667610      3.001896 -0.331184     15.513927   \n",
       "\n",
       "               Kurtosis_FC3  Mean_FC1  Variance_FC1  Kurtosis_FC1  Mean_FC2  \\\n",
       "Subject Epoch                                                                 \n",
       "15      1          3.280869 -0.109598      2.684536      2.901555 -0.101212   \n",
       "        2          3.812820 -0.002679      1.796357      2.764866  0.045633   \n",
       "        3          3.038567 -0.054310      2.949162      3.309821 -0.171491   \n",
       "        4          2.892549  0.087973      2.130878      2.651647  0.310267   \n",
       "        5          2.856706 -0.087965      2.550269      3.046728 -0.186947   \n",
       "...                     ...       ...           ...           ...       ...   \n",
       "6       273        3.370847 -0.051861     15.985407      3.068512 -0.181406   \n",
       "        274        2.957622  0.039009     16.658380      3.534025 -0.243350   \n",
       "        275        4.116896  0.411972     16.540324      4.061586  0.370064   \n",
       "        276        3.065634 -0.065649     16.759860      3.330850 -0.213369   \n",
       "        277        2.970890 -0.570239     19.720077      3.202597 -0.779327   \n",
       "\n",
       "               ...  PLV_CP1_CPz  PLV_CP1_CP2  PLV_CP1_CP4  PLV_CP1_CP6  \\\n",
       "Subject Epoch  ...                                                       \n",
       "15      1      ...     0.610267     0.498464     0.109177     0.096379   \n",
       "        2      ...     0.519540     0.266234     0.056251     0.144260   \n",
       "        3      ...     0.601333     0.456545     0.202658     0.047853   \n",
       "        4      ...     0.605191     0.432633     0.148281     0.160235   \n",
       "        5      ...     0.610368     0.419553     0.095825     0.118061   \n",
       "...            ...          ...          ...          ...          ...   \n",
       "6       273    ...     0.749228     0.400836     0.100550     0.256252   \n",
       "        274    ...     0.818852     0.552139     0.370040     0.223648   \n",
       "        275    ...     0.634006     0.293143     0.119998     0.265822   \n",
       "        276    ...     0.728297     0.383266     0.052075     0.214457   \n",
       "        277    ...     0.805974     0.530426     0.263476     0.195801   \n",
       "\n",
       "               PLV_CPz_CP2  PLV_CPz_CP4  PLV_CPz_CP6  PLV_CP2_CP4  \\\n",
       "Subject Epoch                                                       \n",
       "15      1         0.723574     0.384581     0.159108     0.645515   \n",
       "        2         0.655767     0.335991     0.098588     0.706705   \n",
       "        3         0.738647     0.387145     0.150339     0.640531   \n",
       "        4         0.758073     0.410296     0.160244     0.620352   \n",
       "        5         0.684872     0.278488     0.105448     0.628054   \n",
       "...                    ...          ...          ...          ...   \n",
       "6       273       0.661555     0.268539     0.130888     0.714714   \n",
       "        274       0.712328     0.506982     0.296971     0.870735   \n",
       "        275       0.706523     0.229444     0.090624     0.610597   \n",
       "        276       0.670556     0.267428     0.075736     0.681577   \n",
       "        277       0.788003     0.473607     0.175662     0.745219   \n",
       "\n",
       "               PLV_CP2_CP6  PLV_CP4_CP6  \n",
       "Subject Epoch                            \n",
       "15      1         0.389479     0.794813  \n",
       "        2         0.473348     0.726290  \n",
       "        3         0.420457     0.698610  \n",
       "        4         0.321739     0.709662  \n",
       "        5         0.470720     0.828787  \n",
       "...                    ...          ...  \n",
       "6       273       0.310249     0.709654  \n",
       "        274       0.596865     0.785686  \n",
       "        275       0.295000     0.726543  \n",
       "        276       0.318358     0.699691  \n",
       "        277       0.345032     0.655788  \n",
       "\n",
       "[4931 rows x 310 columns]"
      ]
     },
     "execution_count": 9,
     "metadata": {},
     "output_type": "execute_result"
    }
   ],
   "source": [
    "features_train.index = [features_train['Subject'], features_train['Epoch']]\n",
    "X_train = features_train.drop(['Subject','Epoch','Label'], axis = 1)\n",
    "X_train"
   ]
  },
  {
   "cell_type": "code",
   "execution_count": 10,
   "metadata": {},
   "outputs": [
    {
     "data": {
      "text/plain": [
       "Counter({1: 1737, 2: 1701, 0: 1493})"
      ]
     },
     "execution_count": 10,
     "metadata": {},
     "output_type": "execute_result"
    }
   ],
   "source": [
    "Y_train = features_train['Label']\n",
    "Counter(Y_train)"
   ]
  },
  {
   "cell_type": "markdown",
   "metadata": {},
   "source": [
    "## Spot-check algorithms standardizing data\n",
    "Preprocess the training features matrix"
   ]
  },
  {
   "cell_type": "code",
   "execution_count": 11,
   "metadata": {},
   "outputs": [
    {
     "data": {
      "text/plain": [
       "(4931, 310)"
      ]
     },
     "execution_count": 11,
     "metadata": {},
     "output_type": "execute_result"
    }
   ],
   "source": [
    "standardizer = StandardScaler()\n",
    "X_scaled_train = standardizer.fit_transform(X_train)\n",
    "X_scaled_train.shape"
   ]
  },
  {
   "cell_type": "markdown",
   "metadata": {},
   "source": [
    "Preprocess the training labels"
   ]
  },
  {
   "cell_type": "code",
   "execution_count": 12,
   "metadata": {},
   "outputs": [
    {
     "data": {
      "text/plain": [
       "Counter({1: 1737, 2: 1701, 0: 1493})"
      ]
     },
     "execution_count": 12,
     "metadata": {},
     "output_type": "execute_result"
    }
   ],
   "source": [
    "Counter(Y_train)"
   ]
  },
  {
   "cell_type": "code",
   "execution_count": 13,
   "metadata": {},
   "outputs": [],
   "source": [
    "# get model list\n",
    "models = define_models()"
   ]
  },
  {
   "cell_type": "code",
   "execution_count": 14,
   "metadata": {},
   "outputs": [
    {
     "name": "stderr",
     "output_type": "stream",
     "text": [
      "C:\\Users\\Mikel\\anaconda3\\lib\\site-packages\\sklearn\\linear_model\\_logistic.py:940: ConvergenceWarning: lbfgs failed to converge (status=1):\n",
      "STOP: TOTAL NO. of ITERATIONS REACHED LIMIT.\n",
      "\n",
      "Increase the number of iterations (max_iter) or scale the data as shown in:\n",
      "    https://scikit-learn.org/stable/modules/preprocessing.html\n",
      "Please also refer to the documentation for alternative solver options:\n",
      "    https://scikit-learn.org/stable/modules/linear_model.html#logistic-regression\n",
      "  extra_warning_msg=_LOGISTIC_SOLVER_CONVERGENCE_MSG)\n"
     ]
    },
    {
     "name": "stdout",
     "output_type": "stream",
     "text": [
      "15\n"
     ]
    },
    {
     "name": "stderr",
     "output_type": "stream",
     "text": [
      "C:\\Users\\Mikel\\anaconda3\\lib\\site-packages\\sklearn\\linear_model\\_logistic.py:940: ConvergenceWarning: lbfgs failed to converge (status=1):\n",
      "STOP: TOTAL NO. of ITERATIONS REACHED LIMIT.\n",
      "\n",
      "Increase the number of iterations (max_iter) or scale the data as shown in:\n",
      "    https://scikit-learn.org/stable/modules/preprocessing.html\n",
      "Please also refer to the documentation for alternative solver options:\n",
      "    https://scikit-learn.org/stable/modules/linear_model.html#logistic-regression\n",
      "  extra_warning_msg=_LOGISTIC_SOLVER_CONVERGENCE_MSG)\n"
     ]
    },
    {
     "name": "stdout",
     "output_type": "stream",
     "text": [
      "12\n"
     ]
    },
    {
     "name": "stderr",
     "output_type": "stream",
     "text": [
      "C:\\Users\\Mikel\\anaconda3\\lib\\site-packages\\sklearn\\linear_model\\_logistic.py:940: ConvergenceWarning: lbfgs failed to converge (status=1):\n",
      "STOP: TOTAL NO. of ITERATIONS REACHED LIMIT.\n",
      "\n",
      "Increase the number of iterations (max_iter) or scale the data as shown in:\n",
      "    https://scikit-learn.org/stable/modules/preprocessing.html\n",
      "Please also refer to the documentation for alternative solver options:\n",
      "    https://scikit-learn.org/stable/modules/linear_model.html#logistic-regression\n",
      "  extra_warning_msg=_LOGISTIC_SOLVER_CONVERGENCE_MSG)\n"
     ]
    },
    {
     "name": "stdout",
     "output_type": "stream",
     "text": [
      "21\n"
     ]
    },
    {
     "name": "stderr",
     "output_type": "stream",
     "text": [
      "C:\\Users\\Mikel\\anaconda3\\lib\\site-packages\\sklearn\\linear_model\\_logistic.py:940: ConvergenceWarning: lbfgs failed to converge (status=1):\n",
      "STOP: TOTAL NO. of ITERATIONS REACHED LIMIT.\n",
      "\n",
      "Increase the number of iterations (max_iter) or scale the data as shown in:\n",
      "    https://scikit-learn.org/stable/modules/preprocessing.html\n",
      "Please also refer to the documentation for alternative solver options:\n",
      "    https://scikit-learn.org/stable/modules/linear_model.html#logistic-regression\n",
      "  extra_warning_msg=_LOGISTIC_SOLVER_CONVERGENCE_MSG)\n"
     ]
    },
    {
     "name": "stdout",
     "output_type": "stream",
     "text": [
      "4\n"
     ]
    },
    {
     "name": "stderr",
     "output_type": "stream",
     "text": [
      "C:\\Users\\Mikel\\anaconda3\\lib\\site-packages\\sklearn\\linear_model\\_logistic.py:940: ConvergenceWarning: lbfgs failed to converge (status=1):\n",
      "STOP: TOTAL NO. of ITERATIONS REACHED LIMIT.\n",
      "\n",
      "Increase the number of iterations (max_iter) or scale the data as shown in:\n",
      "    https://scikit-learn.org/stable/modules/preprocessing.html\n",
      "Please also refer to the documentation for alternative solver options:\n",
      "    https://scikit-learn.org/stable/modules/linear_model.html#logistic-regression\n",
      "  extra_warning_msg=_LOGISTIC_SOLVER_CONVERGENCE_MSG)\n"
     ]
    },
    {
     "name": "stdout",
     "output_type": "stream",
     "text": [
      "10\n"
     ]
    },
    {
     "name": "stderr",
     "output_type": "stream",
     "text": [
      "C:\\Users\\Mikel\\anaconda3\\lib\\site-packages\\sklearn\\linear_model\\_logistic.py:940: ConvergenceWarning: lbfgs failed to converge (status=1):\n",
      "STOP: TOTAL NO. of ITERATIONS REACHED LIMIT.\n",
      "\n",
      "Increase the number of iterations (max_iter) or scale the data as shown in:\n",
      "    https://scikit-learn.org/stable/modules/preprocessing.html\n",
      "Please also refer to the documentation for alternative solver options:\n",
      "    https://scikit-learn.org/stable/modules/linear_model.html#logistic-regression\n",
      "  extra_warning_msg=_LOGISTIC_SOLVER_CONVERGENCE_MSG)\n"
     ]
    },
    {
     "name": "stdout",
     "output_type": "stream",
     "text": [
      "44\n"
     ]
    },
    {
     "name": "stderr",
     "output_type": "stream",
     "text": [
      "C:\\Users\\Mikel\\anaconda3\\lib\\site-packages\\sklearn\\linear_model\\_logistic.py:940: ConvergenceWarning: lbfgs failed to converge (status=1):\n",
      "STOP: TOTAL NO. of ITERATIONS REACHED LIMIT.\n",
      "\n",
      "Increase the number of iterations (max_iter) or scale the data as shown in:\n",
      "    https://scikit-learn.org/stable/modules/preprocessing.html\n",
      "Please also refer to the documentation for alternative solver options:\n",
      "    https://scikit-learn.org/stable/modules/linear_model.html#logistic-regression\n",
      "  extra_warning_msg=_LOGISTIC_SOLVER_CONVERGENCE_MSG)\n"
     ]
    },
    {
     "name": "stdout",
     "output_type": "stream",
     "text": [
      "3\n"
     ]
    },
    {
     "name": "stderr",
     "output_type": "stream",
     "text": [
      "C:\\Users\\Mikel\\anaconda3\\lib\\site-packages\\sklearn\\linear_model\\_logistic.py:940: ConvergenceWarning: lbfgs failed to converge (status=1):\n",
      "STOP: TOTAL NO. of ITERATIONS REACHED LIMIT.\n",
      "\n",
      "Increase the number of iterations (max_iter) or scale the data as shown in:\n",
      "    https://scikit-learn.org/stable/modules/preprocessing.html\n",
      "Please also refer to the documentation for alternative solver options:\n",
      "    https://scikit-learn.org/stable/modules/linear_model.html#logistic-regression\n",
      "  extra_warning_msg=_LOGISTIC_SOLVER_CONVERGENCE_MSG)\n"
     ]
    },
    {
     "name": "stdout",
     "output_type": "stream",
     "text": [
      "18\n"
     ]
    },
    {
     "name": "stderr",
     "output_type": "stream",
     "text": [
      "C:\\Users\\Mikel\\anaconda3\\lib\\site-packages\\sklearn\\linear_model\\_logistic.py:940: ConvergenceWarning: lbfgs failed to converge (status=1):\n",
      "STOP: TOTAL NO. of ITERATIONS REACHED LIMIT.\n",
      "\n",
      "Increase the number of iterations (max_iter) or scale the data as shown in:\n",
      "    https://scikit-learn.org/stable/modules/preprocessing.html\n",
      "Please also refer to the documentation for alternative solver options:\n",
      "    https://scikit-learn.org/stable/modules/linear_model.html#logistic-regression\n",
      "  extra_warning_msg=_LOGISTIC_SOLVER_CONVERGENCE_MSG)\n"
     ]
    },
    {
     "name": "stdout",
     "output_type": "stream",
     "text": [
      "29\n"
     ]
    },
    {
     "name": "stderr",
     "output_type": "stream",
     "text": [
      "C:\\Users\\Mikel\\anaconda3\\lib\\site-packages\\sklearn\\linear_model\\_logistic.py:940: ConvergenceWarning: lbfgs failed to converge (status=1):\n",
      "STOP: TOTAL NO. of ITERATIONS REACHED LIMIT.\n",
      "\n",
      "Increase the number of iterations (max_iter) or scale the data as shown in:\n",
      "    https://scikit-learn.org/stable/modules/preprocessing.html\n",
      "Please also refer to the documentation for alternative solver options:\n",
      "    https://scikit-learn.org/stable/modules/linear_model.html#logistic-regression\n",
      "  extra_warning_msg=_LOGISTIC_SOLVER_CONVERGENCE_MSG)\n"
     ]
    },
    {
     "name": "stdout",
     "output_type": "stream",
     "text": [
      "20\n"
     ]
    },
    {
     "name": "stderr",
     "output_type": "stream",
     "text": [
      "C:\\Users\\Mikel\\anaconda3\\lib\\site-packages\\sklearn\\linear_model\\_logistic.py:940: ConvergenceWarning: lbfgs failed to converge (status=1):\n",
      "STOP: TOTAL NO. of ITERATIONS REACHED LIMIT.\n",
      "\n",
      "Increase the number of iterations (max_iter) or scale the data as shown in:\n",
      "    https://scikit-learn.org/stable/modules/preprocessing.html\n",
      "Please also refer to the documentation for alternative solver options:\n",
      "    https://scikit-learn.org/stable/modules/linear_model.html#logistic-regression\n",
      "  extra_warning_msg=_LOGISTIC_SOLVER_CONVERGENCE_MSG)\n"
     ]
    },
    {
     "name": "stdout",
     "output_type": "stream",
     "text": [
      "7\n"
     ]
    },
    {
     "name": "stderr",
     "output_type": "stream",
     "text": [
      "C:\\Users\\Mikel\\anaconda3\\lib\\site-packages\\sklearn\\linear_model\\_logistic.py:940: ConvergenceWarning: lbfgs failed to converge (status=1):\n",
      "STOP: TOTAL NO. of ITERATIONS REACHED LIMIT.\n",
      "\n",
      "Increase the number of iterations (max_iter) or scale the data as shown in:\n",
      "    https://scikit-learn.org/stable/modules/preprocessing.html\n",
      "Please also refer to the documentation for alternative solver options:\n",
      "    https://scikit-learn.org/stable/modules/linear_model.html#logistic-regression\n",
      "  extra_warning_msg=_LOGISTIC_SOLVER_CONVERGENCE_MSG)\n"
     ]
    },
    {
     "name": "stdout",
     "output_type": "stream",
     "text": [
      "19\n"
     ]
    },
    {
     "name": "stderr",
     "output_type": "stream",
     "text": [
      "C:\\Users\\Mikel\\anaconda3\\lib\\site-packages\\sklearn\\linear_model\\_logistic.py:940: ConvergenceWarning: lbfgs failed to converge (status=1):\n",
      "STOP: TOTAL NO. of ITERATIONS REACHED LIMIT.\n",
      "\n",
      "Increase the number of iterations (max_iter) or scale the data as shown in:\n",
      "    https://scikit-learn.org/stable/modules/preprocessing.html\n",
      "Please also refer to the documentation for alternative solver options:\n",
      "    https://scikit-learn.org/stable/modules/linear_model.html#logistic-regression\n",
      "  extra_warning_msg=_LOGISTIC_SOLVER_CONVERGENCE_MSG)\n"
     ]
    },
    {
     "name": "stdout",
     "output_type": "stream",
     "text": [
      "11\n"
     ]
    },
    {
     "name": "stderr",
     "output_type": "stream",
     "text": [
      "C:\\Users\\Mikel\\anaconda3\\lib\\site-packages\\sklearn\\linear_model\\_logistic.py:940: ConvergenceWarning: lbfgs failed to converge (status=1):\n",
      "STOP: TOTAL NO. of ITERATIONS REACHED LIMIT.\n",
      "\n",
      "Increase the number of iterations (max_iter) or scale the data as shown in:\n",
      "    https://scikit-learn.org/stable/modules/preprocessing.html\n",
      "Please also refer to the documentation for alternative solver options:\n",
      "    https://scikit-learn.org/stable/modules/linear_model.html#logistic-regression\n",
      "  extra_warning_msg=_LOGISTIC_SOLVER_CONVERGENCE_MSG)\n"
     ]
    },
    {
     "name": "stdout",
     "output_type": "stream",
     "text": [
      "2\n"
     ]
    },
    {
     "name": "stderr",
     "output_type": "stream",
     "text": [
      "C:\\Users\\Mikel\\anaconda3\\lib\\site-packages\\sklearn\\linear_model\\_logistic.py:940: ConvergenceWarning: lbfgs failed to converge (status=1):\n",
      "STOP: TOTAL NO. of ITERATIONS REACHED LIMIT.\n",
      "\n",
      "Increase the number of iterations (max_iter) or scale the data as shown in:\n",
      "    https://scikit-learn.org/stable/modules/preprocessing.html\n",
      "Please also refer to the documentation for alternative solver options:\n",
      "    https://scikit-learn.org/stable/modules/linear_model.html#logistic-regression\n",
      "  extra_warning_msg=_LOGISTIC_SOLVER_CONVERGENCE_MSG)\n"
     ]
    },
    {
     "name": "stdout",
     "output_type": "stream",
     "text": [
      "28\n"
     ]
    },
    {
     "name": "stderr",
     "output_type": "stream",
     "text": [
      "C:\\Users\\Mikel\\anaconda3\\lib\\site-packages\\sklearn\\linear_model\\_logistic.py:940: ConvergenceWarning: lbfgs failed to converge (status=1):\n",
      "STOP: TOTAL NO. of ITERATIONS REACHED LIMIT.\n",
      "\n",
      "Increase the number of iterations (max_iter) or scale the data as shown in:\n",
      "    https://scikit-learn.org/stable/modules/preprocessing.html\n",
      "Please also refer to the documentation for alternative solver options:\n",
      "    https://scikit-learn.org/stable/modules/linear_model.html#logistic-regression\n",
      "  extra_warning_msg=_LOGISTIC_SOLVER_CONVERGENCE_MSG)\n"
     ]
    },
    {
     "name": "stdout",
     "output_type": "stream",
     "text": [
      "5\n"
     ]
    },
    {
     "name": "stderr",
     "output_type": "stream",
     "text": [
      "C:\\Users\\Mikel\\anaconda3\\lib\\site-packages\\sklearn\\linear_model\\_logistic.py:940: ConvergenceWarning: lbfgs failed to converge (status=1):\n",
      "STOP: TOTAL NO. of ITERATIONS REACHED LIMIT.\n",
      "\n",
      "Increase the number of iterations (max_iter) or scale the data as shown in:\n",
      "    https://scikit-learn.org/stable/modules/preprocessing.html\n",
      "Please also refer to the documentation for alternative solver options:\n",
      "    https://scikit-learn.org/stable/modules/linear_model.html#logistic-regression\n",
      "  extra_warning_msg=_LOGISTIC_SOLVER_CONVERGENCE_MSG)\n"
     ]
    },
    {
     "name": "stdout",
     "output_type": "stream",
     "text": [
      "8\n"
     ]
    },
    {
     "name": "stderr",
     "output_type": "stream",
     "text": [
      "C:\\Users\\Mikel\\anaconda3\\lib\\site-packages\\sklearn\\linear_model\\_logistic.py:940: ConvergenceWarning: lbfgs failed to converge (status=1):\n",
      "STOP: TOTAL NO. of ITERATIONS REACHED LIMIT.\n",
      "\n",
      "Increase the number of iterations (max_iter) or scale the data as shown in:\n",
      "    https://scikit-learn.org/stable/modules/preprocessing.html\n",
      "Please also refer to the documentation for alternative solver options:\n",
      "    https://scikit-learn.org/stable/modules/linear_model.html#logistic-regression\n",
      "  extra_warning_msg=_LOGISTIC_SOLVER_CONVERGENCE_MSG)\n"
     ]
    },
    {
     "name": "stdout",
     "output_type": "stream",
     "text": [
      "16\n"
     ]
    },
    {
     "name": "stderr",
     "output_type": "stream",
     "text": [
      "C:\\Users\\Mikel\\anaconda3\\lib\\site-packages\\sklearn\\linear_model\\_logistic.py:940: ConvergenceWarning: lbfgs failed to converge (status=1):\n",
      "STOP: TOTAL NO. of ITERATIONS REACHED LIMIT.\n",
      "\n",
      "Increase the number of iterations (max_iter) or scale the data as shown in:\n",
      "    https://scikit-learn.org/stable/modules/preprocessing.html\n",
      "Please also refer to the documentation for alternative solver options:\n",
      "    https://scikit-learn.org/stable/modules/linear_model.html#logistic-regression\n",
      "  extra_warning_msg=_LOGISTIC_SOLVER_CONVERGENCE_MSG)\n"
     ]
    },
    {
     "name": "stdout",
     "output_type": "stream",
     "text": [
      "6\n",
      "{'accuracy': [0.3470790378006873, 0.40756302521008403, 0.5664335664335665, 0.42700729927007297, 0.3597122302158273, 0.65, 0.38967136150234744, 0.5107142857142857, 0.46842105263157896, 0.6124031007751938, 0.43727598566308246, 0.6387434554973822, 0.46825396825396826, 0.5, 0.6053511705685619, 0.5370370370370371, 0.3088235294117647, 0.4524714828897338, 0.5703971119133574], 'roc_auc': [0.648228625499609, 0.5835554925316695, 0.9317317053633047, 0.7463240799363199, 0.684253451967279, 0.8706774628879893, 0.7032052364864866, 0.730061501344724, 0.6690917107583774, 0.789014792629756, 0.6823361132359436, 0.7372989766081871, 0.7710553060354718, 0.7912824282615949, 0.8235429292929294, 0.724675925925926, 0.7414738461123328, 0.6648028866225324, 0.7837834803460518], 'f1': [0.23627726492063858, 0.3622984292844814, 0.5094525024327468, 0.3428968874827041, 0.2409782204028237, 0.6143977947413062, 0.3476510365452222, 0.43407115243981087, 0.4636053696995525, 0.6088618227672689, 0.33832881081784527, 0.6207192868726592, 0.4364680927180927, 0.3861715485477861, 0.6022575073272367, 0.4995181194701023, 0.15069667208243073, 0.4152356206008125, 0.5469038672121377]}\n",
      "logistic evaluated\n",
      "15\n",
      "12\n",
      "21\n",
      "4\n",
      "10\n",
      "44\n",
      "3\n",
      "18\n",
      "29\n",
      "20\n",
      "7\n",
      "19\n",
      "11\n",
      "2\n",
      "28\n",
      "5\n",
      "8\n",
      "16\n",
      "6\n",
      "{'accuracy': [0.3711340206185567, 0.3949579831932773, 0.5734265734265734, 0.41605839416058393, 0.3489208633093525, 0.6884615384615385, 0.4460093896713615, 0.5071428571428571, 0.41578947368421054, 0.624031007751938, 0.4659498207885305, 0.680628272251309, 0.48412698412698413, 0.4230769230769231, 0.5719063545150501, 0.4925925925925926, 0.3088235294117647, 0.4372623574144487, 0.5848375451263538], 'roc_auc': [0.6612422090210951, 0.59392269670205, 0.9364332236517795, 0.7362002488705812, 0.6943218823521505, 0.8931605937921727, 0.678225412912913, 0.7141015563202023, 0.6141518644494836, 0.7908813579799444, 0.7007800725967108, 0.7457362630059999, 0.7860404744645638, 0.7755641057724391, 0.8249858585858586, 0.6794142817059484, 0.7549074236475577, 0.6558805987952526, 0.8015459637170915], 'f1': [0.27658559076242917, 0.3548768625624404, 0.5234033035237855, 0.3209779608375902, 0.21809487391942184, 0.6654223123346629, 0.43606081585039025, 0.42730384680562616, 0.3926760768866031, 0.6174414041419856, 0.3980709895968827, 0.6666435566707942, 0.44623479310583586, 0.35286828491194183, 0.5619067375915241, 0.4325221440133865, 0.15069667208243073, 0.3793819535163726, 0.5729465729753771]}\n",
      "lda evaluated\n",
      "15\n",
      "12\n",
      "21\n",
      "4\n",
      "10\n",
      "44\n",
      "3\n",
      "18\n",
      "29\n",
      "20\n",
      "7\n",
      "19\n",
      "11\n",
      "2\n",
      "28\n",
      "5\n",
      "8\n",
      "16\n",
      "6\n",
      "{'accuracy': [0.44329896907216493, 0.42857142857142855, 0.5909090909090909, 0.4635036496350365, 0.35251798561151076, 0.5846153846153846, 0.3615023474178404, 0.45714285714285713, 0.6578947368421053, 0.4728682170542636, 0.43010752688172044, 0.5287958115183246, 0.503968253968254, 0.3384615384615385, 0.44816053511705684, 0.45185185185185184, 0.30514705882352944, 0.38783269961977185, 0.5451263537906137], 'roc_auc': [0.6220649108193224, 0.6146719606730952, 0.8955693350709848, 0.6853024057781409, 0.6006070288344997, 0.7337793522267205, 0.5699636355105105, 0.6495088708933185, 0.7663745590828924, 0.6595592786181957, 0.592450729802173, 0.6097238835725677, 0.7190279401783188, 0.5977618243243245, 0.678362457912458, 0.5747488776655444, 0.6025468053625477, 0.5982335092741695, 0.6997918732047078], 'f1': [0.38932044102920293, 0.4156365960617073, 0.5193357725865465, 0.46016166443271594, 0.22056020378398206, 0.5671637260917644, 0.28844624219144066, 0.39493055294224877, 0.643584255001952, 0.47350587121742993, 0.3367304059183926, 0.4742815110851682, 0.5028937047890482, 0.262711569061521, 0.41324401466472643, 0.39768364514787, 0.14904358045588892, 0.3513771125225935, 0.5342820543109831]}\n",
      "qda evaluated\n",
      "15\n",
      "12\n",
      "21\n",
      "4\n",
      "10\n",
      "44\n",
      "3\n",
      "18\n",
      "29\n",
      "20\n",
      "7\n",
      "19\n",
      "11\n",
      "2\n",
      "28\n",
      "5\n",
      "8\n",
      "16\n",
      "6\n",
      "{'accuracy': [0.39862542955326463, 0.3067226890756303, 0.2937062937062937, 0.3357664233576642, 0.3345323741007194, 0.5538461538461539, 0.323943661971831, 0.375, 0.46842105263157896, 0.46511627906976744, 0.35125448028673834, 0.46596858638743455, 0.4126984126984127, 0.4423076923076923, 0.46488294314381273, 0.46296296296296297, 0.38235294117647056, 0.3916349809885932, 0.4548736462093863], 'roc_auc': [0.549624060150376, 0.48213475407179324, 0.47289540816326525, 0.5036841296403811, 0.5070401107720529, 0.6473785425101215, 0.49483108108108115, 0.5258327895111533, 0.6111111111111112, 0.605668927211105, 0.516139293643538, 0.5182985873775346, 0.5732874179953155, 0.5866178678678678, 0.5985353535353535, 0.5826294191919192, 0.5509889502017026, 0.5445786366076221, 0.5934320902920766], 'f1': [0.3971504608354465, 0.3001253614620943, 0.2815949521923201, 0.3283694624125328, 0.29501826569788325, 0.5468339545992822, 0.32422578592179285, 0.34887675931154194, 0.4807586905638681, 0.45812270722014437, 0.3199001010893743, 0.4806170437395263, 0.4106674553879523, 0.44144620392515777, 0.46545165566904695, 0.44630861040068204, 0.32619304362475976, 0.3629705524824019, 0.440526713784592]}\n",
      "cart evaluated\n",
      "15\n",
      "12\n",
      "21\n",
      "4\n",
      "10\n",
      "44\n",
      "3\n",
      "18\n",
      "29\n",
      "20\n",
      "7\n",
      "19\n",
      "11\n",
      "2\n",
      "28\n",
      "5\n",
      "8\n",
      "16\n",
      "6\n",
      "{'accuracy': [0.5154639175257731, 0.33613445378151263, 0.5, 0.45985401459854014, 0.4748201438848921, 0.47692307692307695, 0.38497652582159625, 0.38571428571428573, 0.4473684210526316, 0.47674418604651164, 0.5304659498207885, 0.39790575916230364, 0.4642857142857143, 0.46153846153846156, 0.39464882943143814, 0.40370370370370373, 0.4117647058823529, 0.3155893536121673, 0.48375451263537905], 'roc_auc': [0.685442286474203, 0.5222000513194501, 0.6540821718180025, 0.6428893243978112, 0.6799840074318405, 0.6162604588394062, 0.5483338025525525, 0.5408196224226125, 0.5941491874527589, 0.6651149931431212, 0.7394858113024497, 0.5803215424925952, 0.7355921882607782, 0.7005109275942609, 0.581092760942761, 0.5866154601571267, 0.6678968955328592, 0.5220988399833005, 0.6510126719032004], 'f1': [0.49852514182411095, 0.3291503045816985, 0.5065942434625119, 0.4622101915024553, 0.4576629644039831, 0.4770459803354541, 0.37727338986426234, 0.3788107345756422, 0.46612604730046653, 0.4772192154938314, 0.48720847916348975, 0.42821768973274016, 0.44601549041414157, 0.4345397276831476, 0.37752787344773875, 0.38778000734989976, 0.35187046615528617, 0.2896131582117231, 0.4570114390572058]}\n",
      "knn evaluated\n",
      "15\n",
      "12\n",
      "21\n",
      "4\n",
      "10\n",
      "44\n",
      "3\n",
      "18\n",
      "29\n",
      "20\n",
      "7\n",
      "19\n",
      "11\n",
      "2\n",
      "28\n",
      "5\n",
      "8\n",
      "16\n",
      "6\n",
      "{'accuracy': [0.44673539518900346, 0.3865546218487395, 0.4090909090909091, 0.4233576642335766, 0.4460431654676259, 0.5807692307692308, 0.40375586854460094, 0.48214285714285715, 0.5947368421052631, 0.5891472868217055, 0.5412186379928315, 0.5287958115183246, 0.5515873015873016, 0.5923076923076923, 0.5183946488294314, 0.4925925925925926, 0.3382352941176471, 0.467680608365019, 0.5415162454873647], 'roc_auc': [0.6903762686599881, 0.6201219512195123, 0.8215772269052549, 0.6907474348903945, 0.6945849953760984, 0.8144480431848854, 0.6678284534534535, 0.636983863312767, 0.8113803854875283, 0.7790929843637727, 0.7520084329931529, 0.6884790100250626, 0.7599935525467441, 0.795801009342676, 0.7532968013468014, 0.6642157687991022, 0.6173140490292637, 0.6709066420150692, 0.7436458306854098], 'f1': [0.4575149839609959, 0.3460407132935462, 0.3293361527088594, 0.4195235439126268, 0.3808184803503357, 0.5688030561218966, 0.3599274276094547, 0.4273630371048524, 0.5804744352269883, 0.5864886279777639, 0.5246840182471899, 0.519140015832515, 0.5307226289369147, 0.5669445158480247, 0.4995941299113029, 0.44763477471342633, 0.2198718604968605, 0.4319391998884234, 0.5291802171813591]}\n",
      "ada evaluated\n",
      "15\n",
      "12\n",
      "21\n",
      "4\n",
      "10\n",
      "44\n",
      "3\n",
      "18\n",
      "29\n",
      "20\n",
      "7\n",
      "19\n",
      "11\n",
      "2\n",
      "28\n",
      "5\n",
      "8\n",
      "16\n",
      "6\n",
      "{'accuracy': [0.5601374570446735, 0.39915966386554624, 0.3321678321678322, 0.45985401459854014, 0.3597122302158273, 0.5615384615384615, 0.5211267605633803, 0.49642857142857144, 0.7263157894736842, 0.5736434108527132, 0.5161290322580645, 0.5968586387434555, 0.5, 0.6115384615384616, 0.5518394648829431, 0.4074074074074074, 0.3125, 0.41064638783269963, 0.5306859205776173], 'roc_auc': [0.7196023038646177, 0.5785032277233072, 0.5666457932810806, 0.6985702857983518, 0.7039491312020548, 0.8494932523616735, 0.7259403153153153, 0.7580708155355166, 0.906172052154195, 0.7649561032580241, 0.7503451556932031, 0.756855443533075, 0.7557183203595033, 0.8087337337337338, 0.7683153198653199, 0.6323744388327722, 0.7167118642543296, 0.6319599759448122, 0.7588631298880669], 'f1': [0.5527175797395599, 0.3652773383005978, 0.18424308029720185, 0.45726816207268167, 0.2479786985652013, 0.5393923821064706, 0.5062953478446436, 0.42191400844974714, 0.7260770352215343, 0.5567259676214382, 0.41945713853461497, 0.579251407701392, 0.46572286572286575, 0.5919306173131273, 0.49976583962700144, 0.2993150879586211, 0.15838068181818182, 0.3224149224495162, 0.5151168131663159]}\n",
      "rf evaluated\n"
     ]
    },
    {
     "name": "stdout",
     "output_type": "stream",
     "text": [
      "15\n"
     ]
    },
    {
     "name": "stderr",
     "output_type": "stream",
     "text": [
      "C:\\Users\\Mikel\\anaconda3\\lib\\site-packages\\sklearn\\neural_network\\_multilayer_perceptron.py:571: ConvergenceWarning: Stochastic Optimizer: Maximum iterations (200) reached and the optimization hasn't converged yet.\n",
      "  % self.max_iter, ConvergenceWarning)\n"
     ]
    },
    {
     "name": "stdout",
     "output_type": "stream",
     "text": [
      "12\n",
      "21\n",
      "4\n",
      "10\n",
      "44\n",
      "3\n",
      "18\n",
      "29\n",
      "20\n",
      "7\n",
      "19\n",
      "11\n",
      "2\n",
      "28\n",
      "5\n",
      "8\n",
      "16\n",
      "6\n",
      "{'accuracy': [0.46048109965635736, 0.4579831932773109, 0.5454545454545454, 0.45985401459854014, 0.4064748201438849, 0.6038461538461538, 0.4225352112676056, 0.4857142857142857, 0.5631578947368421, 0.4806201550387597, 0.5089605734767025, 0.5863874345549738, 0.49206349206349204, 0.5807692307692308, 0.5117056856187291, 0.4962962962962963, 0.3125, 0.4600760456273764, 0.5090252707581228], 'roc_auc': [0.6579150134812249, 0.657647948572509, 0.9133219184412895, 0.7255915054743647, 0.708533345428553, 0.7835357624831308, 0.7313522897897897, 0.7163510026103465, 0.7756771227009321, 0.7135162646861203, 0.6863384681720847, 0.7023358585858586, 0.7587829855229783, 0.7913950408742075, 0.7068685185185185, 0.6444647867564534, 0.7089549688114158, 0.6757798055704658, 0.7692419312471932], 'f1': [0.47039514523237663, 0.42615351093997966, 0.4852553936155025, 0.42584950921873777, 0.3226515399468278, 0.5761697285434673, 0.3737927337110934, 0.41709095329170637, 0.5567801857585138, 0.46911627125728267, 0.4298682453181604, 0.5690616009734984, 0.4541380188439012, 0.5598206141684403, 0.5090652553027135, 0.475797379943317, 0.15842020568911325, 0.42877836322118706, 0.48679195130551967]}\n",
      "mlp evaluated\n",
      "15\n",
      "12\n",
      "21\n",
      "4\n",
      "10\n",
      "44\n",
      "3\n",
      "18\n",
      "29\n",
      "20\n",
      "7\n",
      "19\n",
      "11\n",
      "2\n",
      "28\n",
      "5\n",
      "8\n",
      "16\n",
      "6\n",
      "{'accuracy': [0.36769759450171824, 0.42857142857142855, 0.583916083916084, 0.41605839416058393, 0.381294964028777, 0.6653846153846154, 0.39436619718309857, 0.5214285714285715, 0.4, 0.6046511627906976, 0.4265232974910394, 0.612565445026178, 0.5079365079365079, 0.45384615384615384, 0.6220735785953178, 0.5333333333333333, 0.3088235294117647, 0.4296577946768061, 0.5667870036101083], 'roc_auc': [0.6410439363715411, 0.617832833643951, 0.9455092952035886, 0.7363810784800505, 0.6815761247084339, 0.8810458839406209, 0.6898836336336336, 0.7269341118230237, 0.6258471907281432, 0.7887053322565808, 0.6945577342860875, 0.7199877060074428, 0.7693019872969385, 0.7804502419085751, 0.8131739057239057, 0.7219163860830528, 0.72623798666109, 0.6607930259835788, 0.7861922434903447], 'f1': [0.2885394538208405, 0.3821066389826767, 0.5186010803202601, 0.34690448638063026, 0.27463931806232567, 0.6259998134522851, 0.34716116108674194, 0.45139999999999997, 0.38985264511326534, 0.6029806118939193, 0.3236510113535616, 0.5886222061457259, 0.489483854647039, 0.38974477751547815, 0.6180947051962254, 0.4961364825503426, 0.1503671004530269, 0.4124662996567657, 0.5414341541827428]}\n",
      "svcl evaluated\n",
      "15\n",
      "12\n",
      "21\n",
      "4\n",
      "10\n",
      "44\n",
      "3\n",
      "18\n",
      "29\n",
      "20\n",
      "7\n",
      "19\n",
      "11\n",
      "2\n",
      "28\n",
      "5\n",
      "8\n",
      "16\n",
      "6\n",
      "{'accuracy': [0.436426116838488, 0.3739495798319328, 0.6713286713286714, 0.4233576642335766, 0.5215827338129496, 0.5346153846153846, 0.6291079812206573, 0.45714285714285713, 0.3894736842105263, 0.5542635658914729, 0.5161290322580645, 0.4973821989528796, 0.4880952380952381, 0.4807692307692308, 0.3779264214046823, 0.46296296296296297, 0.44485294117647056, 0.33079847908745247, 0.5956678700361011], 'roc_auc': [0.7057799381836515, 0.5935074143100234, 0.9145173241398008, 0.7205922016464689, 0.7177889182589939, 0.7777827260458839, 0.7423507882882884, 0.6702241700943944, 0.7272722978080122, 0.7712141974484356, 0.7259597504928575, 0.6978798796233008, 0.7721347384167435, 0.7916661453119787, 0.6675048821548822, 0.7412647306397306, 0.7430460925448715, 0.6352622214270094, 0.7812196547954956], 'f1': [0.38931540021713107, 0.32185332098899494, 0.6491919515590184, 0.40466027630953383, 0.49233675187509574, 0.5071756698979714, 0.6220667725980523, 0.3744861437774824, 0.3881694609340718, 0.5476308546306929, 0.4467979309899135, 0.40013532372663574, 0.4466146967608956, 0.387785209959123, 0.26333058653488667, 0.3818221213005101, 0.37786361923587986, 0.2644861253035007, 0.5951680350008599]}\n",
      "svmp evaluated\n",
      "\n",
      "Rank=1, Name=rf, Accuracy=0.496, roc_auc=0.729, f1=0.443\n",
      "Rank=2, Name=mlp, Accuracy=0.492, roc_auc=0.728, f1=0.452\n",
      "Rank=3, Name=ada, Accuracy=0.491, roc_auc=0.720, f1=0.459\n",
      "Rank=4, Name=logistic, Accuracy=0.487, roc_auc=0.741, f1=0.429\n",
      "Rank=5, Name=lda, Accuracy=0.486, roc_auc=0.739, f1=0.431\n",
      "Rank=6, Name=svcl, Accuracy=0.486, roc_auc=0.737, f1=0.434\n",
      "Rank=7, Name=svmp, Accuracy=0.483, roc_auc=0.731, f1=0.435\n",
      "Rank=8, Name=qda, Accuracy=0.461, roc_auc=0.656, f1=0.410\n",
      "Rank=9, Name=knn, Accuracy=0.438, roc_auc=0.627, f1=0.426\n",
      "Rank=10, Name=cart, Accuracy=0.404, roc_auc=0.551, f1=0.392\n",
      "0.40445352649865307 ['rf', 'mlp', 'ada', 'logistic', 'lda', 'svcl', 'svmp', 'qda', 'knn', 'cart']\n"
     ]
    },
    {
     "data": {
      "image/png": "[encoded data removed]",
      "text/plain": [
       "<Figure size 432x288 with 1 Axes>"
      ]
     },
     "metadata": {
      "needs_background": "light"
     },
     "output_type": "display_data"
    },
    {
     "data": {
      "image/png": "[encoded data removed]",
      "text/plain": [
       "<Figure size 432x288 with 1 Axes>"
      ]
     },
     "metadata": {
      "needs_background": "light"
     },
     "output_type": "display_data"
    },
    {
     "data": {
      "image/png": "[encoded data removed]",
      "text/plain": [
       "<Figure size 432x288 with 1 Axes>"
      ]
     },
     "metadata": {
      "needs_background": "light"
     },
     "output_type": "display_data"
    }
   ],
   "source": [
    "# evaluate models\n",
    "results = evaluate_models(X_scaled_train, Y_train, models, subjects_train)\n",
    "# summarize results\n",
    "summarize_results(results)"
   ]
  },
  {
   "cell_type": "markdown",
   "metadata": {},
   "source": [
    "## Spot-check algorithms standardizing and normalizing data\n",
    "Preprocess the training features matrix"
   ]
  },
  {
   "cell_type": "code",
   "execution_count": 15,
   "metadata": {},
   "outputs": [
    {
     "data": {
      "text/plain": [
       "(4931, 310)"
      ]
     },
     "execution_count": 15,
     "metadata": {},
     "output_type": "execute_result"
    }
   ],
   "source": [
    "X_scaled_train = standardizer.fit_transform(X_train)\n",
    "normalizer = MinMaxScaler(feature_range=(0,1))\n",
    "X_scaled_train = normalizer.fit_transform(X_scaled_train)\n",
    "X_scaled_train.shape"
   ]
  },
  {
   "cell_type": "code",
   "execution_count": 16,
   "metadata": {},
   "outputs": [
    {
     "name": "stderr",
     "output_type": "stream",
     "text": [
      "C:\\Users\\Mikel\\anaconda3\\lib\\site-packages\\sklearn\\linear_model\\_logistic.py:940: ConvergenceWarning: lbfgs failed to converge (status=1):\n",
      "STOP: TOTAL NO. of ITERATIONS REACHED LIMIT.\n",
      "\n",
      "Increase the number of iterations (max_iter) or scale the data as shown in:\n",
      "    https://scikit-learn.org/stable/modules/preprocessing.html\n",
      "Please also refer to the documentation for alternative solver options:\n",
      "    https://scikit-learn.org/stable/modules/linear_model.html#logistic-regression\n",
      "  extra_warning_msg=_LOGISTIC_SOLVER_CONVERGENCE_MSG)\n"
     ]
    },
    {
     "name": "stdout",
     "output_type": "stream",
     "text": [
      "15\n"
     ]
    },
    {
     "name": "stderr",
     "output_type": "stream",
     "text": [
      "C:\\Users\\Mikel\\anaconda3\\lib\\site-packages\\sklearn\\linear_model\\_logistic.py:940: ConvergenceWarning: lbfgs failed to converge (status=1):\n",
      "STOP: TOTAL NO. of ITERATIONS REACHED LIMIT.\n",
      "\n",
      "Increase the number of iterations (max_iter) or scale the data as shown in:\n",
      "    https://scikit-learn.org/stable/modules/preprocessing.html\n",
      "Please also refer to the documentation for alternative solver options:\n",
      "    https://scikit-learn.org/stable/modules/linear_model.html#logistic-regression\n",
      "  extra_warning_msg=_LOGISTIC_SOLVER_CONVERGENCE_MSG)\n"
     ]
    },
    {
     "name": "stdout",
     "output_type": "stream",
     "text": [
      "12\n"
     ]
    },
    {
     "name": "stderr",
     "output_type": "stream",
     "text": [
      "C:\\Users\\Mikel\\anaconda3\\lib\\site-packages\\sklearn\\linear_model\\_logistic.py:940: ConvergenceWarning: lbfgs failed to converge (status=1):\n",
      "STOP: TOTAL NO. of ITERATIONS REACHED LIMIT.\n",
      "\n",
      "Increase the number of iterations (max_iter) or scale the data as shown in:\n",
      "    https://scikit-learn.org/stable/modules/preprocessing.html\n",
      "Please also refer to the documentation for alternative solver options:\n",
      "    https://scikit-learn.org/stable/modules/linear_model.html#logistic-regression\n",
      "  extra_warning_msg=_LOGISTIC_SOLVER_CONVERGENCE_MSG)\n"
     ]
    },
    {
     "name": "stdout",
     "output_type": "stream",
     "text": [
      "21\n"
     ]
    },
    {
     "name": "stderr",
     "output_type": "stream",
     "text": [
      "C:\\Users\\Mikel\\anaconda3\\lib\\site-packages\\sklearn\\linear_model\\_logistic.py:940: ConvergenceWarning: lbfgs failed to converge (status=1):\n",
      "STOP: TOTAL NO. of ITERATIONS REACHED LIMIT.\n",
      "\n",
      "Increase the number of iterations (max_iter) or scale the data as shown in:\n",
      "    https://scikit-learn.org/stable/modules/preprocessing.html\n",
      "Please also refer to the documentation for alternative solver options:\n",
      "    https://scikit-learn.org/stable/modules/linear_model.html#logistic-regression\n",
      "  extra_warning_msg=_LOGISTIC_SOLVER_CONVERGENCE_MSG)\n"
     ]
    },
    {
     "name": "stdout",
     "output_type": "stream",
     "text": [
      "4\n"
     ]
    },
    {
     "name": "stderr",
     "output_type": "stream",
     "text": [
      "C:\\Users\\Mikel\\anaconda3\\lib\\site-packages\\sklearn\\linear_model\\_logistic.py:940: ConvergenceWarning: lbfgs failed to converge (status=1):\n",
      "STOP: TOTAL NO. of ITERATIONS REACHED LIMIT.\n",
      "\n",
      "Increase the number of iterations (max_iter) or scale the data as shown in:\n",
      "    https://scikit-learn.org/stable/modules/preprocessing.html\n",
      "Please also refer to the documentation for alternative solver options:\n",
      "    https://scikit-learn.org/stable/modules/linear_model.html#logistic-regression\n",
      "  extra_warning_msg=_LOGISTIC_SOLVER_CONVERGENCE_MSG)\n"
     ]
    },
    {
     "name": "stdout",
     "output_type": "stream",
     "text": [
      "10\n"
     ]
    },
    {
     "name": "stderr",
     "output_type": "stream",
     "text": [
      "C:\\Users\\Mikel\\anaconda3\\lib\\site-packages\\sklearn\\linear_model\\_logistic.py:940: ConvergenceWarning: lbfgs failed to converge (status=1):\n",
      "STOP: TOTAL NO. of ITERATIONS REACHED LIMIT.\n",
      "\n",
      "Increase the number of iterations (max_iter) or scale the data as shown in:\n",
      "    https://scikit-learn.org/stable/modules/preprocessing.html\n",
      "Please also refer to the documentation for alternative solver options:\n",
      "    https://scikit-learn.org/stable/modules/linear_model.html#logistic-regression\n",
      "  extra_warning_msg=_LOGISTIC_SOLVER_CONVERGENCE_MSG)\n"
     ]
    },
    {
     "name": "stdout",
     "output_type": "stream",
     "text": [
      "44\n"
     ]
    },
    {
     "name": "stderr",
     "output_type": "stream",
     "text": [
      "C:\\Users\\Mikel\\anaconda3\\lib\\site-packages\\sklearn\\linear_model\\_logistic.py:940: ConvergenceWarning: lbfgs failed to converge (status=1):\n",
      "STOP: TOTAL NO. of ITERATIONS REACHED LIMIT.\n",
      "\n",
      "Increase the number of iterations (max_iter) or scale the data as shown in:\n",
      "    https://scikit-learn.org/stable/modules/preprocessing.html\n",
      "Please also refer to the documentation for alternative solver options:\n",
      "    https://scikit-learn.org/stable/modules/linear_model.html#logistic-regression\n",
      "  extra_warning_msg=_LOGISTIC_SOLVER_CONVERGENCE_MSG)\n"
     ]
    },
    {
     "name": "stdout",
     "output_type": "stream",
     "text": [
      "3\n"
     ]
    },
    {
     "name": "stderr",
     "output_type": "stream",
     "text": [
      "C:\\Users\\Mikel\\anaconda3\\lib\\site-packages\\sklearn\\linear_model\\_logistic.py:940: ConvergenceWarning: lbfgs failed to converge (status=1):\n",
      "STOP: TOTAL NO. of ITERATIONS REACHED LIMIT.\n",
      "\n",
      "Increase the number of iterations (max_iter) or scale the data as shown in:\n",
      "    https://scikit-learn.org/stable/modules/preprocessing.html\n",
      "Please also refer to the documentation for alternative solver options:\n",
      "    https://scikit-learn.org/stable/modules/linear_model.html#logistic-regression\n",
      "  extra_warning_msg=_LOGISTIC_SOLVER_CONVERGENCE_MSG)\n"
     ]
    },
    {
     "name": "stdout",
     "output_type": "stream",
     "text": [
      "18\n"
     ]
    },
    {
     "name": "stderr",
     "output_type": "stream",
     "text": [
      "C:\\Users\\Mikel\\anaconda3\\lib\\site-packages\\sklearn\\linear_model\\_logistic.py:940: ConvergenceWarning: lbfgs failed to converge (status=1):\n",
      "STOP: TOTAL NO. of ITERATIONS REACHED LIMIT.\n",
      "\n",
      "Increase the number of iterations (max_iter) or scale the data as shown in:\n",
      "    https://scikit-learn.org/stable/modules/preprocessing.html\n",
      "Please also refer to the documentation for alternative solver options:\n",
      "    https://scikit-learn.org/stable/modules/linear_model.html#logistic-regression\n",
      "  extra_warning_msg=_LOGISTIC_SOLVER_CONVERGENCE_MSG)\n"
     ]
    },
    {
     "name": "stdout",
     "output_type": "stream",
     "text": [
      "29\n"
     ]
    },
    {
     "name": "stderr",
     "output_type": "stream",
     "text": [
      "C:\\Users\\Mikel\\anaconda3\\lib\\site-packages\\sklearn\\linear_model\\_logistic.py:940: ConvergenceWarning: lbfgs failed to converge (status=1):\n",
      "STOP: TOTAL NO. of ITERATIONS REACHED LIMIT.\n",
      "\n",
      "Increase the number of iterations (max_iter) or scale the data as shown in:\n",
      "    https://scikit-learn.org/stable/modules/preprocessing.html\n",
      "Please also refer to the documentation for alternative solver options:\n",
      "    https://scikit-learn.org/stable/modules/linear_model.html#logistic-regression\n",
      "  extra_warning_msg=_LOGISTIC_SOLVER_CONVERGENCE_MSG)\n"
     ]
    },
    {
     "name": "stdout",
     "output_type": "stream",
     "text": [
      "20\n"
     ]
    },
    {
     "name": "stderr",
     "output_type": "stream",
     "text": [
      "C:\\Users\\Mikel\\anaconda3\\lib\\site-packages\\sklearn\\linear_model\\_logistic.py:940: ConvergenceWarning: lbfgs failed to converge (status=1):\n",
      "STOP: TOTAL NO. of ITERATIONS REACHED LIMIT.\n",
      "\n",
      "Increase the number of iterations (max_iter) or scale the data as shown in:\n",
      "    https://scikit-learn.org/stable/modules/preprocessing.html\n",
      "Please also refer to the documentation for alternative solver options:\n",
      "    https://scikit-learn.org/stable/modules/linear_model.html#logistic-regression\n",
      "  extra_warning_msg=_LOGISTIC_SOLVER_CONVERGENCE_MSG)\n"
     ]
    },
    {
     "name": "stdout",
     "output_type": "stream",
     "text": [
      "7\n"
     ]
    },
    {
     "name": "stderr",
     "output_type": "stream",
     "text": [
      "C:\\Users\\Mikel\\anaconda3\\lib\\site-packages\\sklearn\\linear_model\\_logistic.py:940: ConvergenceWarning: lbfgs failed to converge (status=1):\n",
      "STOP: TOTAL NO. of ITERATIONS REACHED LIMIT.\n",
      "\n",
      "Increase the number of iterations (max_iter) or scale the data as shown in:\n",
      "    https://scikit-learn.org/stable/modules/preprocessing.html\n",
      "Please also refer to the documentation for alternative solver options:\n",
      "    https://scikit-learn.org/stable/modules/linear_model.html#logistic-regression\n",
      "  extra_warning_msg=_LOGISTIC_SOLVER_CONVERGENCE_MSG)\n"
     ]
    },
    {
     "name": "stdout",
     "output_type": "stream",
     "text": [
      "19\n"
     ]
    },
    {
     "name": "stderr",
     "output_type": "stream",
     "text": [
      "C:\\Users\\Mikel\\anaconda3\\lib\\site-packages\\sklearn\\linear_model\\_logistic.py:940: ConvergenceWarning: lbfgs failed to converge (status=1):\n",
      "STOP: TOTAL NO. of ITERATIONS REACHED LIMIT.\n",
      "\n",
      "Increase the number of iterations (max_iter) or scale the data as shown in:\n",
      "    https://scikit-learn.org/stable/modules/preprocessing.html\n",
      "Please also refer to the documentation for alternative solver options:\n",
      "    https://scikit-learn.org/stable/modules/linear_model.html#logistic-regression\n",
      "  extra_warning_msg=_LOGISTIC_SOLVER_CONVERGENCE_MSG)\n"
     ]
    },
    {
     "name": "stdout",
     "output_type": "stream",
     "text": [
      "11\n"
     ]
    },
    {
     "name": "stderr",
     "output_type": "stream",
     "text": [
      "C:\\Users\\Mikel\\anaconda3\\lib\\site-packages\\sklearn\\linear_model\\_logistic.py:940: ConvergenceWarning: lbfgs failed to converge (status=1):\n",
      "STOP: TOTAL NO. of ITERATIONS REACHED LIMIT.\n",
      "\n",
      "Increase the number of iterations (max_iter) or scale the data as shown in:\n",
      "    https://scikit-learn.org/stable/modules/preprocessing.html\n",
      "Please also refer to the documentation for alternative solver options:\n",
      "    https://scikit-learn.org/stable/modules/linear_model.html#logistic-regression\n",
      "  extra_warning_msg=_LOGISTIC_SOLVER_CONVERGENCE_MSG)\n"
     ]
    },
    {
     "name": "stdout",
     "output_type": "stream",
     "text": [
      "2\n"
     ]
    },
    {
     "name": "stderr",
     "output_type": "stream",
     "text": [
      "C:\\Users\\Mikel\\anaconda3\\lib\\site-packages\\sklearn\\linear_model\\_logistic.py:940: ConvergenceWarning: lbfgs failed to converge (status=1):\n",
      "STOP: TOTAL NO. of ITERATIONS REACHED LIMIT.\n",
      "\n",
      "Increase the number of iterations (max_iter) or scale the data as shown in:\n",
      "    https://scikit-learn.org/stable/modules/preprocessing.html\n",
      "Please also refer to the documentation for alternative solver options:\n",
      "    https://scikit-learn.org/stable/modules/linear_model.html#logistic-regression\n",
      "  extra_warning_msg=_LOGISTIC_SOLVER_CONVERGENCE_MSG)\n"
     ]
    },
    {
     "name": "stdout",
     "output_type": "stream",
     "text": [
      "28\n"
     ]
    },
    {
     "name": "stderr",
     "output_type": "stream",
     "text": [
      "C:\\Users\\Mikel\\anaconda3\\lib\\site-packages\\sklearn\\linear_model\\_logistic.py:940: ConvergenceWarning: lbfgs failed to converge (status=1):\n",
      "STOP: TOTAL NO. of ITERATIONS REACHED LIMIT.\n",
      "\n",
      "Increase the number of iterations (max_iter) or scale the data as shown in:\n",
      "    https://scikit-learn.org/stable/modules/preprocessing.html\n",
      "Please also refer to the documentation for alternative solver options:\n",
      "    https://scikit-learn.org/stable/modules/linear_model.html#logistic-regression\n",
      "  extra_warning_msg=_LOGISTIC_SOLVER_CONVERGENCE_MSG)\n"
     ]
    },
    {
     "name": "stdout",
     "output_type": "stream",
     "text": [
      "5\n"
     ]
    },
    {
     "name": "stderr",
     "output_type": "stream",
     "text": [
      "C:\\Users\\Mikel\\anaconda3\\lib\\site-packages\\sklearn\\linear_model\\_logistic.py:940: ConvergenceWarning: lbfgs failed to converge (status=1):\n",
      "STOP: TOTAL NO. of ITERATIONS REACHED LIMIT.\n",
      "\n",
      "Increase the number of iterations (max_iter) or scale the data as shown in:\n",
      "    https://scikit-learn.org/stable/modules/preprocessing.html\n",
      "Please also refer to the documentation for alternative solver options:\n",
      "    https://scikit-learn.org/stable/modules/linear_model.html#logistic-regression\n",
      "  extra_warning_msg=_LOGISTIC_SOLVER_CONVERGENCE_MSG)\n"
     ]
    },
    {
     "name": "stdout",
     "output_type": "stream",
     "text": [
      "8\n"
     ]
    },
    {
     "name": "stderr",
     "output_type": "stream",
     "text": [
      "C:\\Users\\Mikel\\anaconda3\\lib\\site-packages\\sklearn\\linear_model\\_logistic.py:940: ConvergenceWarning: lbfgs failed to converge (status=1):\n",
      "STOP: TOTAL NO. of ITERATIONS REACHED LIMIT.\n",
      "\n",
      "Increase the number of iterations (max_iter) or scale the data as shown in:\n",
      "    https://scikit-learn.org/stable/modules/preprocessing.html\n",
      "Please also refer to the documentation for alternative solver options:\n",
      "    https://scikit-learn.org/stable/modules/linear_model.html#logistic-regression\n",
      "  extra_warning_msg=_LOGISTIC_SOLVER_CONVERGENCE_MSG)\n"
     ]
    },
    {
     "name": "stdout",
     "output_type": "stream",
     "text": [
      "16\n"
     ]
    },
    {
     "name": "stderr",
     "output_type": "stream",
     "text": [
      "C:\\Users\\Mikel\\anaconda3\\lib\\site-packages\\sklearn\\linear_model\\_logistic.py:940: ConvergenceWarning: lbfgs failed to converge (status=1):\n",
      "STOP: TOTAL NO. of ITERATIONS REACHED LIMIT.\n",
      "\n",
      "Increase the number of iterations (max_iter) or scale the data as shown in:\n",
      "    https://scikit-learn.org/stable/modules/preprocessing.html\n",
      "Please also refer to the documentation for alternative solver options:\n",
      "    https://scikit-learn.org/stable/modules/linear_model.html#logistic-regression\n",
      "  extra_warning_msg=_LOGISTIC_SOLVER_CONVERGENCE_MSG)\n"
     ]
    },
    {
     "name": "stdout",
     "output_type": "stream",
     "text": [
      "6\n",
      "{'accuracy': [0.38831615120274915, 0.42857142857142855, 0.6118881118881119, 0.46715328467153283, 0.381294964028777, 0.676923076923077, 0.39906103286384975, 0.5, 0.6210526315789474, 0.6046511627906976, 0.5232974910394266, 0.6178010471204188, 0.48412698412698413, 0.5384615384615384, 0.4782608695652174, 0.5333333333333333, 0.3382352941176471, 0.4372623574144487, 0.5884476534296029], 'roc_auc': [0.6760611441139291, 0.5449430084001837, 0.9497163222172927, 0.7526726003297841, 0.6914698463655125, 0.8710121457489879, 0.7570096659159159, 0.6861326168064125, 0.7886290627362057, 0.7994527214496311, 0.7438159086715963, 0.7292093871041239, 0.7592832398999007, 0.8120808308308307, 0.8181570707070708, 0.6900813692480359, 0.7614507301321748, 0.676244259557464, 0.8002758077226163], 'f1': [0.3293157099317973, 0.35974165730903224, 0.533062824550745, 0.3988745305081143, 0.287680880140608, 0.6408889849462936, 0.3592770816503127, 0.4308226355127645, 0.6306391095924494, 0.5999061677044348, 0.44945949177869426, 0.5907106947359091, 0.44774730095620263, 0.5232657590073903, 0.4318753291610794, 0.48693933669058054, 0.20859341475783658, 0.37698915645683706, 0.5735909685661272]}\n",
      "logistic evaluated\n",
      "15\n",
      "12\n",
      "21\n",
      "4\n",
      "10\n",
      "44\n",
      "3\n",
      "18\n",
      "29\n",
      "20\n",
      "7\n",
      "19\n",
      "11\n",
      "2\n",
      "28\n",
      "5\n",
      "8\n",
      "16\n",
      "6\n",
      "{'accuracy': [0.3711340206185567, 0.3949579831932773, 0.5734265734265734, 0.41605839416058393, 0.3489208633093525, 0.6884615384615385, 0.4460093896713615, 0.5071428571428571, 0.41578947368421054, 0.624031007751938, 0.4659498207885305, 0.680628272251309, 0.48412698412698413, 0.4230769230769231, 0.5719063545150501, 0.4925925925925926, 0.3088235294117647, 0.4372623574144487, 0.5848375451263538], 'roc_auc': [0.6612422090210951, 0.59392269670205, 0.9364332236517795, 0.7362002488705812, 0.6943218823521505, 0.8931605937921727, 0.678225412912913, 0.7141015563202023, 0.6141518644494836, 0.7908813579799444, 0.7007800725967108, 0.7457362630059999, 0.7860404744645638, 0.7755641057724391, 0.8249858585858586, 0.6794142817059484, 0.7549074236475577, 0.6558805987952526, 0.8015459637170915], 'f1': [0.27658559076242917, 0.3548768625624404, 0.5234033035237855, 0.3209779608375902, 0.21809487391942184, 0.6654223123346629, 0.43606081585039025, 0.42730384680562616, 0.3926760768866031, 0.6174414041419856, 0.3980709895968827, 0.6666435566707942, 0.44623479310583586, 0.35286828491194183, 0.5619067375915241, 0.4325221440133865, 0.15069667208243073, 0.3793819535163726, 0.5729465729753771]}\n",
      "lda evaluated\n",
      "15\n",
      "12\n",
      "21\n",
      "4\n",
      "10\n",
      "44\n",
      "3\n",
      "18\n",
      "29\n",
      "20\n",
      "7\n",
      "19\n",
      "11\n",
      "2\n",
      "28\n",
      "5\n",
      "8\n",
      "16\n",
      "6\n",
      "{'accuracy': [0.44329896907216493, 0.42857142857142855, 0.5909090909090909, 0.4635036496350365, 0.35251798561151076, 0.5846153846153846, 0.3615023474178404, 0.45714285714285713, 0.6578947368421053, 0.4728682170542636, 0.43010752688172044, 0.5287958115183246, 0.503968253968254, 0.3384615384615385, 0.44816053511705684, 0.45185185185185184, 0.30514705882352944, 0.38783269961977185, 0.5451263537906137], 'roc_auc': [0.6220649108193224, 0.6146719606730952, 0.8955693350709848, 0.6853024057781409, 0.6006070288344997, 0.7337793522267205, 0.5699636355105105, 0.6495088708933185, 0.7663745590828924, 0.6595592786181957, 0.592450729802173, 0.6097238835725677, 0.7190279401783188, 0.5977618243243245, 0.678362457912458, 0.5747488776655444, 0.6025468053625477, 0.5982335092741695, 0.6997918732047078], 'f1': [0.38932044102920293, 0.4156365960617073, 0.5193357725865465, 0.46016166443271594, 0.22056020378398206, 0.5671637260917644, 0.28844624219144066, 0.39493055294224877, 0.643584255001952, 0.47350587121742993, 0.3367304059183926, 0.4742815110851682, 0.5028937047890482, 0.262711569061521, 0.41324401466472643, 0.39768364514787, 0.14904358045588892, 0.3513771125225935, 0.5342820543109831]}\n",
      "qda evaluated\n",
      "15\n",
      "12\n",
      "21\n",
      "4\n",
      "10\n",
      "44\n",
      "3\n",
      "18\n",
      "29\n",
      "20\n",
      "7\n",
      "19\n",
      "11\n",
      "2\n",
      "28\n",
      "5\n",
      "8\n",
      "16\n",
      "6\n",
      "{'accuracy': [0.4054982817869416, 0.31512605042016806, 0.3041958041958042, 0.40145985401459855, 0.32014388489208634, 0.46153846153846156, 0.39906103286384975, 0.4, 0.5052631578947369, 0.44573643410852715, 0.4050179211469534, 0.518324607329843, 0.40476190476190477, 0.45, 0.4682274247491639, 0.4703703703703704, 0.35661764705882354, 0.42585551330798477, 0.4584837545126354], 'roc_auc': [0.5547261009667025, 0.4907483186127542, 0.48199266119491274, 0.5494387276600998, 0.4967522445451819, 0.5719129554655871, 0.5489175112612613, 0.5448640938933713, 0.636904761904762, 0.590781048307612, 0.557402190339372, 0.5780644793802688, 0.5866663388300605, 0.5919200450450451, 0.6010353535353535, 0.5868718434343435, 0.5341342975485367, 0.5695853462157808, 0.5961526729200031], 'f1': [0.4044309749789912, 0.3074926463802327, 0.2752877632415056, 0.3923300657637792, 0.26451086151663716, 0.4460612535612536, 0.40011577675953935, 0.37730709076902175, 0.5112933473565704, 0.4344932162416638, 0.3559937558637953, 0.5315782582283588, 0.3884774392848927, 0.4476474146998769, 0.4689577212796454, 0.4505912270499389, 0.2780124167451157, 0.397031927410898, 0.4445339849251662]}\n",
      "cart evaluated\n",
      "15\n",
      "12\n",
      "21\n",
      "4\n",
      "10\n",
      "44\n",
      "3\n",
      "18\n",
      "29\n",
      "20\n",
      "7\n",
      "19\n",
      "11\n",
      "2\n",
      "28\n",
      "5\n",
      "8\n",
      "16\n",
      "6\n",
      "{'accuracy': [0.4948453608247423, 0.37815126050420167, 0.5944055944055944, 0.43795620437956206, 0.46402877697841727, 0.4230769230769231, 0.38028169014084506, 0.3821428571428571, 0.45789473684210524, 0.5, 0.5412186379928315, 0.4816753926701571, 0.4603174603174603, 0.4153846153846154, 0.4180602006688963, 0.3333333333333333, 0.43014705882352944, 0.29277566539923955, 0.5054151624548736], 'roc_auc': [0.6618620165574286, 0.5745941711908814, 0.7431537605984423, 0.6311575109088855, 0.6545229401798994, 0.5755134952766531, 0.589257225975976, 0.5430585630570057, 0.6048902431342907, 0.6763398203434162, 0.7665533768250237, 0.6126828672058934, 0.6962848827255607, 0.6307706143643643, 0.6157242424242425, 0.518643728956229, 0.6557811312439006, 0.4981805779209161, 0.6743196954676022], 'f1': [0.4764612036356578, 0.37311811870935985, 0.5864252561597694, 0.4408208916519531, 0.4317069269485598, 0.4115797420932184, 0.3770093333753263, 0.3748402003057532, 0.4814786157238727, 0.49921331632981336, 0.5032763544073319, 0.4872716323416455, 0.4306912886954434, 0.38359827876579145, 0.39471755179165363, 0.3225841065578674, 0.3913777149478858, 0.2685199257886988, 0.48671101418998575]}\n",
      "knn evaluated\n",
      "15\n",
      "12\n",
      "21\n",
      "4\n",
      "10\n",
      "44\n",
      "3\n",
      "18\n",
      "29\n",
      "20\n",
      "7\n",
      "19\n",
      "11\n",
      "2\n",
      "28\n",
      "5\n",
      "8\n",
      "16\n",
      "6\n",
      "{'accuracy': [0.44673539518900346, 0.3865546218487395, 0.4090909090909091, 0.4233576642335766, 0.4460431654676259, 0.5807692307692308, 0.40375586854460094, 0.48214285714285715, 0.5947368421052631, 0.5891472868217055, 0.5412186379928315, 0.5287958115183246, 0.5515873015873016, 0.5923076923076923, 0.5183946488294314, 0.5148148148148148, 0.3382352941176471, 0.467680608365019, 0.5415162454873647], 'roc_auc': [0.6903762686599881, 0.6201219512195123, 0.8215772269052549, 0.6907474348903945, 0.6945849953760984, 0.8144480431848854, 0.6678284534534535, 0.636983863312767, 0.8113803854875283, 0.7790929843637727, 0.7520084329931529, 0.6884790100250626, 0.7599935525467441, 0.795801009342676, 0.7532968013468014, 0.6712976992143659, 0.6173140490292637, 0.6709066420150692, 0.7436458306854098], 'f1': [0.4575149839609959, 0.3460407132935462, 0.3293361527088594, 0.4195235439126268, 0.3808184803503357, 0.5688030561218966, 0.3599274276094547, 0.4273630371048524, 0.5804744352269883, 0.5864886279777639, 0.5246840182471899, 0.519140015832515, 0.5307226289369147, 0.5669445158480247, 0.4995941299113029, 0.4663810213624864, 0.2198718604968605, 0.4319391998884234, 0.5291802171813591]}\n",
      "ada evaluated\n",
      "15\n",
      "12\n",
      "21\n",
      "4\n",
      "10\n",
      "44\n",
      "3\n",
      "18\n",
      "29\n",
      "20\n",
      "7\n",
      "19\n",
      "11\n",
      "2\n",
      "28\n",
      "5\n",
      "8\n",
      "16\n",
      "6\n",
      "{'accuracy': [0.5360824742268041, 0.3697478991596639, 0.33916083916083917, 0.4416058394160584, 0.3776978417266187, 0.55, 0.5211267605633803, 0.48214285714285715, 0.6684210526315789, 0.5658914728682171, 0.5089605734767025, 0.5968586387434555, 0.5198412698412699, 0.6192307692307693, 0.5150501672240803, 0.4666666666666667, 0.31985294117647056, 0.3916349809885932, 0.5270758122743683], 'roc_auc': [0.706242373426277, 0.5754530967236583, 0.6152574820689146, 0.6713223723443661, 0.6998049435850399, 0.8412995951417005, 0.7312279466966968, 0.7646761950904392, 0.8522305681531872, 0.766927985815693, 0.7512484685659558, 0.761669799498747, 0.7594488277412909, 0.8261548006339673, 0.7547481481481482, 0.6905916806958473, 0.6880053247705266, 0.6277203733524184, 0.7683328461153902], 'f1': [0.5313536705522985, 0.33769274219121614, 0.19852729555699855, 0.4396365325711227, 0.27478318934172435, 0.5332450998928594, 0.5163619270533483, 0.38961685756447195, 0.6665023340647037, 0.5439242055769717, 0.4344905567567245, 0.5811448423377769, 0.506897535750175, 0.5775125543722973, 0.45684678958112945, 0.3745197376880545, 0.17350137851495426, 0.30550879939682835, 0.5046307878003048]}\n",
      "rf evaluated\n"
     ]
    },
    {
     "name": "stderr",
     "output_type": "stream",
     "text": [
      "C:\\Users\\Mikel\\anaconda3\\lib\\site-packages\\sklearn\\neural_network\\_multilayer_perceptron.py:571: ConvergenceWarning: Stochastic Optimizer: Maximum iterations (200) reached and the optimization hasn't converged yet.\n",
      "  % self.max_iter, ConvergenceWarning)\n"
     ]
    },
    {
     "name": "stdout",
     "output_type": "stream",
     "text": [
      "15\n"
     ]
    },
    {
     "name": "stderr",
     "output_type": "stream",
     "text": [
      "C:\\Users\\Mikel\\anaconda3\\lib\\site-packages\\sklearn\\neural_network\\_multilayer_perceptron.py:571: ConvergenceWarning: Stochastic Optimizer: Maximum iterations (200) reached and the optimization hasn't converged yet.\n",
      "  % self.max_iter, ConvergenceWarning)\n"
     ]
    },
    {
     "name": "stdout",
     "output_type": "stream",
     "text": [
      "12\n"
     ]
    },
    {
     "name": "stderr",
     "output_type": "stream",
     "text": [
      "C:\\Users\\Mikel\\anaconda3\\lib\\site-packages\\sklearn\\neural_network\\_multilayer_perceptron.py:571: ConvergenceWarning: Stochastic Optimizer: Maximum iterations (200) reached and the optimization hasn't converged yet.\n",
      "  % self.max_iter, ConvergenceWarning)\n"
     ]
    },
    {
     "name": "stdout",
     "output_type": "stream",
     "text": [
      "21\n"
     ]
    },
    {
     "name": "stderr",
     "output_type": "stream",
     "text": [
      "C:\\Users\\Mikel\\anaconda3\\lib\\site-packages\\sklearn\\neural_network\\_multilayer_perceptron.py:571: ConvergenceWarning: Stochastic Optimizer: Maximum iterations (200) reached and the optimization hasn't converged yet.\n",
      "  % self.max_iter, ConvergenceWarning)\n"
     ]
    },
    {
     "name": "stdout",
     "output_type": "stream",
     "text": [
      "4\n"
     ]
    },
    {
     "name": "stderr",
     "output_type": "stream",
     "text": [
      "C:\\Users\\Mikel\\anaconda3\\lib\\site-packages\\sklearn\\neural_network\\_multilayer_perceptron.py:571: ConvergenceWarning: Stochastic Optimizer: Maximum iterations (200) reached and the optimization hasn't converged yet.\n",
      "  % self.max_iter, ConvergenceWarning)\n"
     ]
    },
    {
     "name": "stdout",
     "output_type": "stream",
     "text": [
      "10\n"
     ]
    },
    {
     "name": "stderr",
     "output_type": "stream",
     "text": [
      "C:\\Users\\Mikel\\anaconda3\\lib\\site-packages\\sklearn\\neural_network\\_multilayer_perceptron.py:571: ConvergenceWarning: Stochastic Optimizer: Maximum iterations (200) reached and the optimization hasn't converged yet.\n",
      "  % self.max_iter, ConvergenceWarning)\n"
     ]
    },
    {
     "name": "stdout",
     "output_type": "stream",
     "text": [
      "44\n"
     ]
    },
    {
     "name": "stderr",
     "output_type": "stream",
     "text": [
      "C:\\Users\\Mikel\\anaconda3\\lib\\site-packages\\sklearn\\neural_network\\_multilayer_perceptron.py:571: ConvergenceWarning: Stochastic Optimizer: Maximum iterations (200) reached and the optimization hasn't converged yet.\n",
      "  % self.max_iter, ConvergenceWarning)\n"
     ]
    },
    {
     "name": "stdout",
     "output_type": "stream",
     "text": [
      "3\n"
     ]
    },
    {
     "name": "stderr",
     "output_type": "stream",
     "text": [
      "C:\\Users\\Mikel\\anaconda3\\lib\\site-packages\\sklearn\\neural_network\\_multilayer_perceptron.py:571: ConvergenceWarning: Stochastic Optimizer: Maximum iterations (200) reached and the optimization hasn't converged yet.\n",
      "  % self.max_iter, ConvergenceWarning)\n"
     ]
    },
    {
     "name": "stdout",
     "output_type": "stream",
     "text": [
      "18\n"
     ]
    },
    {
     "name": "stderr",
     "output_type": "stream",
     "text": [
      "C:\\Users\\Mikel\\anaconda3\\lib\\site-packages\\sklearn\\neural_network\\_multilayer_perceptron.py:571: ConvergenceWarning: Stochastic Optimizer: Maximum iterations (200) reached and the optimization hasn't converged yet.\n",
      "  % self.max_iter, ConvergenceWarning)\n"
     ]
    },
    {
     "name": "stdout",
     "output_type": "stream",
     "text": [
      "29\n"
     ]
    },
    {
     "name": "stderr",
     "output_type": "stream",
     "text": [
      "C:\\Users\\Mikel\\anaconda3\\lib\\site-packages\\sklearn\\neural_network\\_multilayer_perceptron.py:571: ConvergenceWarning: Stochastic Optimizer: Maximum iterations (200) reached and the optimization hasn't converged yet.\n",
      "  % self.max_iter, ConvergenceWarning)\n"
     ]
    },
    {
     "name": "stdout",
     "output_type": "stream",
     "text": [
      "20\n"
     ]
    },
    {
     "name": "stderr",
     "output_type": "stream",
     "text": [
      "C:\\Users\\Mikel\\anaconda3\\lib\\site-packages\\sklearn\\neural_network\\_multilayer_perceptron.py:571: ConvergenceWarning: Stochastic Optimizer: Maximum iterations (200) reached and the optimization hasn't converged yet.\n",
      "  % self.max_iter, ConvergenceWarning)\n"
     ]
    },
    {
     "name": "stdout",
     "output_type": "stream",
     "text": [
      "7\n"
     ]
    },
    {
     "name": "stderr",
     "output_type": "stream",
     "text": [
      "C:\\Users\\Mikel\\anaconda3\\lib\\site-packages\\sklearn\\neural_network\\_multilayer_perceptron.py:571: ConvergenceWarning: Stochastic Optimizer: Maximum iterations (200) reached and the optimization hasn't converged yet.\n",
      "  % self.max_iter, ConvergenceWarning)\n"
     ]
    },
    {
     "name": "stdout",
     "output_type": "stream",
     "text": [
      "19\n"
     ]
    },
    {
     "name": "stderr",
     "output_type": "stream",
     "text": [
      "C:\\Users\\Mikel\\anaconda3\\lib\\site-packages\\sklearn\\neural_network\\_multilayer_perceptron.py:571: ConvergenceWarning: Stochastic Optimizer: Maximum iterations (200) reached and the optimization hasn't converged yet.\n",
      "  % self.max_iter, ConvergenceWarning)\n"
     ]
    },
    {
     "name": "stdout",
     "output_type": "stream",
     "text": [
      "11\n"
     ]
    },
    {
     "name": "stderr",
     "output_type": "stream",
     "text": [
      "C:\\Users\\Mikel\\anaconda3\\lib\\site-packages\\sklearn\\neural_network\\_multilayer_perceptron.py:571: ConvergenceWarning: Stochastic Optimizer: Maximum iterations (200) reached and the optimization hasn't converged yet.\n",
      "  % self.max_iter, ConvergenceWarning)\n"
     ]
    },
    {
     "name": "stdout",
     "output_type": "stream",
     "text": [
      "2\n"
     ]
    },
    {
     "name": "stderr",
     "output_type": "stream",
     "text": [
      "C:\\Users\\Mikel\\anaconda3\\lib\\site-packages\\sklearn\\neural_network\\_multilayer_perceptron.py:571: ConvergenceWarning: Stochastic Optimizer: Maximum iterations (200) reached and the optimization hasn't converged yet.\n",
      "  % self.max_iter, ConvergenceWarning)\n"
     ]
    },
    {
     "name": "stdout",
     "output_type": "stream",
     "text": [
      "28\n"
     ]
    },
    {
     "name": "stderr",
     "output_type": "stream",
     "text": [
      "C:\\Users\\Mikel\\anaconda3\\lib\\site-packages\\sklearn\\neural_network\\_multilayer_perceptron.py:571: ConvergenceWarning: Stochastic Optimizer: Maximum iterations (200) reached and the optimization hasn't converged yet.\n",
      "  % self.max_iter, ConvergenceWarning)\n"
     ]
    },
    {
     "name": "stdout",
     "output_type": "stream",
     "text": [
      "5\n"
     ]
    },
    {
     "name": "stderr",
     "output_type": "stream",
     "text": [
      "C:\\Users\\Mikel\\anaconda3\\lib\\site-packages\\sklearn\\neural_network\\_multilayer_perceptron.py:571: ConvergenceWarning: Stochastic Optimizer: Maximum iterations (200) reached and the optimization hasn't converged yet.\n",
      "  % self.max_iter, ConvergenceWarning)\n"
     ]
    },
    {
     "name": "stdout",
     "output_type": "stream",
     "text": [
      "8\n"
     ]
    },
    {
     "name": "stderr",
     "output_type": "stream",
     "text": [
      "C:\\Users\\Mikel\\anaconda3\\lib\\site-packages\\sklearn\\neural_network\\_multilayer_perceptron.py:571: ConvergenceWarning: Stochastic Optimizer: Maximum iterations (200) reached and the optimization hasn't converged yet.\n",
      "  % self.max_iter, ConvergenceWarning)\n"
     ]
    },
    {
     "name": "stdout",
     "output_type": "stream",
     "text": [
      "16\n"
     ]
    },
    {
     "name": "stderr",
     "output_type": "stream",
     "text": [
      "C:\\Users\\Mikel\\anaconda3\\lib\\site-packages\\sklearn\\neural_network\\_multilayer_perceptron.py:571: ConvergenceWarning: Stochastic Optimizer: Maximum iterations (200) reached and the optimization hasn't converged yet.\n",
      "  % self.max_iter, ConvergenceWarning)\n"
     ]
    },
    {
     "name": "stdout",
     "output_type": "stream",
     "text": [
      "6\n",
      "{'accuracy': [0.43986254295532645, 0.39915966386554624, 0.5384615384615384, 0.44525547445255476, 0.3776978417266187, 0.6884615384615385, 0.40375586854460094, 0.5357142857142857, 0.5842105263157895, 0.5581395348837209, 0.4767025089605735, 0.6230366492146597, 0.5158730158730159, 0.3384615384615385, 0.5785953177257525, 0.5296296296296297, 0.30514705882352944, 0.4448669201520912, 0.5631768953068592], 'roc_auc': [0.6960979343402238, 0.5725846095670258, 0.9398272669575077, 0.7654250283941892, 0.6982881064513718, 0.8658960863697706, 0.72887621996997, 0.7486824671729156, 0.8099458301839255, 0.7873948947516792, 0.7122346809952921, 0.7999520581757423, 0.7746675797523256, 0.8453922672672673, 0.8005311447811447, 0.7310030864197531, 0.7189454345939188, 0.7002497465259139, 0.7897724480371471], 'f1': [0.4084120091516975, 0.3334257079211996, 0.4675297389446219, 0.36462069564620697, 0.28427768846149576, 0.6379359770664118, 0.3426538564955272, 0.45451687068911945, 0.5827037415890166, 0.5555159294797206, 0.38148348740130705, 0.5983383482778679, 0.47823166525996713, 0.2289699879612593, 0.5629319557652095, 0.5215186668469892, 0.14268848384424193, 0.4044674574069133, 0.5462292752643817]}\n",
      "mlp evaluated\n",
      "15\n",
      "12\n",
      "21\n",
      "4\n",
      "10\n",
      "44\n",
      "3\n",
      "18\n",
      "29\n",
      "20\n",
      "7\n",
      "19\n",
      "11\n",
      "2\n",
      "28\n",
      "5\n",
      "8\n",
      "16\n",
      "6\n",
      "{'accuracy': [0.3711340206185567, 0.4411764705882353, 0.5909090909090909, 0.4233576642335766, 0.36330935251798563, 0.6692307692307692, 0.4272300469483568, 0.5071428571428571, 0.4842105263157895, 0.6046511627906976, 0.5483870967741935, 0.5916230366492147, 0.5079365079365079, 0.5692307692307692, 0.4916387959866221, 0.5333333333333333, 0.34191176470588236, 0.46387832699619774, 0.5631768953068592], 'roc_auc': [0.6709958204549274, 0.5832617562056019, 0.9450979893769101, 0.751882948512162, 0.6905335167774975, 0.883080971659919, 0.7538386824324323, 0.7070981978062544, 0.7545335726883345, 0.8094852783765624, 0.7060842760333422, 0.7221154211285791, 0.7727721984844235, 0.8135354104104104, 0.7970698653198655, 0.7065130471380471, 0.7517564097374944, 0.6815560326832468, 0.7942853571943025], 'f1': [0.31994054937779515, 0.3953696627738258, 0.5111746909164981, 0.3520881198762856, 0.24638818624542172, 0.6375961538461538, 0.4000881738049234, 0.4327633479491865, 0.4901050890252927, 0.6012378987979444, 0.4796575554018923, 0.5499132935684122, 0.47628284228870255, 0.5521783574818979, 0.4567008224600794, 0.497161558109834, 0.21601736173551742, 0.4160978773659331, 0.5449167070114089]}\n",
      "svcl evaluated\n",
      "15\n",
      "12\n",
      "21\n",
      "4\n",
      "10\n",
      "44\n",
      "3\n",
      "18\n",
      "29\n",
      "20\n",
      "7\n",
      "19\n",
      "11\n",
      "2\n",
      "28\n",
      "5\n",
      "8\n",
      "16\n",
      "6\n",
      "{'accuracy': [0.3711340206185567, 0.4327731092436975, 0.6328671328671329, 0.43795620437956206, 0.37050359712230213, 0.6653846153846154, 0.37089201877934275, 0.4857142857142857, 0.531578947368421, 0.5930232558139535, 0.5340501792114696, 0.6020942408376964, 0.46825396825396826, 0.5615384615384615, 0.4782608695652174, 0.5444444444444444, 0.3235294117647059, 0.45627376425855515, 0.592057761732852], 'roc_auc': [0.6402694052916548, 0.5954717337871053, 0.9347475629744652, 0.7572747795673925, 0.699092144574832, 0.8474035087719298, 0.7416990427927929, 0.7212486981226599, 0.7512944066515495, 0.7965676923370405, 0.7680908225899737, 0.7207673539910382, 0.7780154593172984, 0.8196842676009343, 0.7879703703703704, 0.7397502805836139, 0.7501146804463094, 0.6960395916582175, 0.8000588898209581], 'f1': [0.34797207922948, 0.3792035307307073, 0.5557840278843414, 0.37200836732074766, 0.25518905152539284, 0.6334165231443091, 0.30224794027041063, 0.4130327203500266, 0.5334459364999777, 0.5922173816428037, 0.4698018669161326, 0.5639252820294429, 0.4375786830537962, 0.5013668996547953, 0.4370405939344625, 0.48932567282160777, 0.1797753114560949, 0.38709819885999347, 0.5777201252679863]}\n",
      "svmp evaluated\n",
      "\n",
      "Rank=1, Name=logistic, Accuracy=0.506, roc_auc=0.753, f1=0.456\n",
      "Rank=2, Name=svcl, Accuracy=0.500, roc_auc=0.752, f1=0.451\n",
      "Rank=3, Name=svmp, Accuracy=0.497, roc_auc=0.755, f1=0.444\n",
      "Rank=4, Name=ada, Accuracy=0.492, roc_auc=0.720, f1=0.460\n",
      "Rank=5, Name=mlp, Accuracy=0.492, roc_auc=0.762, f1=0.437\n",
      "Rank=6, Name=rf, Accuracy=0.490, roc_auc=0.729, f1=0.439\n",
      "Rank=7, Name=lda, Accuracy=0.486, roc_auc=0.739, f1=0.431\n",
      "Rank=8, Name=qda, Accuracy=0.461, roc_auc=0.656, f1=0.410\n",
      "Rank=9, Name=knn, Accuracy=0.442, roc_auc=0.628, f1=0.427\n",
      "Rank=10, Name=cart, Accuracy=0.417, roc_auc=0.562, f1=0.399\n",
      "0.41661484762909756 ['logistic', 'svcl', 'svmp', 'ada', 'mlp', 'rf', 'lda', 'qda', 'knn', 'cart']\n"
     ]
    },
    {
     "data": {
      "image/png": "[encoded data removed]",
      "text/plain": [
       "<Figure size 432x288 with 1 Axes>"
      ]
     },
     "metadata": {
      "needs_background": "light"
     },
     "output_type": "display_data"
    },
    {
     "data": {
      "image/png": "[encoded data removed]",
      "text/plain": [
       "<Figure size 432x288 with 1 Axes>"
      ]
     },
     "metadata": {
      "needs_background": "light"
     },
     "output_type": "display_data"
    },
    {
     "data": {
      "image/png": "[encoded data removed]",
      "text/plain": [
       "<Figure size 432x288 with 1 Axes>"
      ]
     },
     "metadata": {
      "needs_background": "light"
     },
     "output_type": "display_data"
    }
   ],
   "source": [
    "# evaluate models\n",
    "results = evaluate_models(X_scaled_train, Y_train, models, subjects_train)\n",
    "# summarize results\n",
    "summarize_results(results)"
   ]
  },
  {
   "cell_type": "markdown",
   "metadata": {},
   "source": [
    "## Spot-check reducing dimensionality (PCA) and standardizing the data\n",
    "Preprocess the training features matrix"
   ]
  },
  {
   "cell_type": "code",
   "execution_count": 17,
   "metadata": {},
   "outputs": [
    {
     "data": {
      "text/plain": [
       "(4931, 20)"
      ]
     },
     "execution_count": 17,
     "metadata": {},
     "output_type": "execute_result"
    }
   ],
   "source": [
    "standardizer = StandardScaler()\n",
    "pca = PCA(n_components = 20)\n",
    "X_scaled_train = pca.fit_transform(X_train)\n",
    "X_scaled_train = standardizer.fit_transform(X_scaled_train)\n",
    "X_scaled_train.shape"
   ]
  },
  {
   "cell_type": "code",
   "execution_count": 18,
   "metadata": {},
   "outputs": [
    {
     "name": "stdout",
     "output_type": "stream",
     "text": [
      "15\n",
      "12\n",
      "21\n",
      "4\n",
      "10\n",
      "44\n",
      "3\n",
      "18\n",
      "29\n",
      "20\n",
      "7\n",
      "19\n",
      "11\n",
      "2\n",
      "28\n",
      "5\n",
      "8\n",
      "16\n",
      "6\n",
      "{'accuracy': [0.3539518900343643, 0.38235294117647056, 0.7202797202797203, 0.40145985401459855, 0.34172661870503596, 0.6653846153846154, 0.4788732394366197, 0.48928571428571427, 0.5105263157894737, 0.5038759689922481, 0.5448028673835126, 0.612565445026178, 0.43253968253968256, 0.5576923076923077, 0.4682274247491639, 0.43703703703703706, 0.33088235294117646, 0.40304182509505704, 0.5523465703971119], 'roc_auc': [0.658662509042285, 0.6358513626664505, 0.950203881371389, 0.7172680893096862, 0.670744183585275, 0.7262334682860999, 0.7304086899399399, 0.7029029392764858, 0.6582309775762157, 0.725776777330544, 0.7370257736980997, 0.6669265493278651, 0.6853821907013398, 0.7736992200533868, 0.6296279461279461, 0.6144767115600449, 0.7060058824323048, 0.645636021152661, 0.7642638348712474], 'f1': [0.2955444128069098, 0.35970748955319837, 0.6907643710380399, 0.3084969747862972, 0.199582408324183, 0.6194871273818642, 0.4761822322480267, 0.4127838827838828, 0.4987869106935481, 0.5049500057604799, 0.5170176888781463, 0.586086074964934, 0.4142006413020493, 0.5470365897838426, 0.41812494406747835, 0.36407865249765053, 0.19379754012200068, 0.380375954604443, 0.5408893510345197]}\n",
      "logistic evaluated\n",
      "15\n",
      "12\n",
      "21\n",
      "4\n",
      "10\n",
      "44\n",
      "3\n",
      "18\n",
      "29\n",
      "20\n",
      "7\n",
      "19\n",
      "11\n",
      "2\n",
      "28\n",
      "5\n",
      "8\n",
      "16\n",
      "6\n",
      "{'accuracy': [0.3230240549828179, 0.38235294117647056, 0.7062937062937062, 0.39416058394160586, 0.34532374100719426, 0.6692307692307692, 0.5164319248826291, 0.5392857142857143, 0.4789473684210526, 0.4844961240310077, 0.5412186379928315, 0.5968586387434555, 0.4007936507936508, 0.5692307692307692, 0.47157190635451507, 0.42962962962962964, 0.33455882352941174, 0.39543726235741444, 0.5631768953068592], 'roc_auc': [0.6697684444347018, 0.6262154606595899, 0.9547074491028296, 0.7214593518681495, 0.6675381104411144, 0.7606855600539811, 0.7165671921921923, 0.7256969163634447, 0.6382212144116906, 0.7207236709630788, 0.7488825454869598, 0.6787055232778917, 0.6897208653429353, 0.7786979688021355, 0.6187531986531987, 0.6494507575757575, 0.716508587541656, 0.6453519810739349, 0.7611697890981808], 'f1': [0.263070541425746, 0.33451082103511504, 0.686616659524485, 0.3039924571325886, 0.2119669462067783, 0.6219060160047664, 0.504211666491424, 0.4530081290550605, 0.4642793110276412, 0.47258981006473433, 0.5135707944024014, 0.5601188815991943, 0.3783280283545817, 0.553654159460611, 0.4049352874583117, 0.35570398906968886, 0.20532491996248742, 0.362439006959033, 0.5557639317141307]}\n",
      "lda evaluated\n",
      "15\n",
      "12\n",
      "21\n",
      "4\n",
      "10\n",
      "44\n",
      "3\n",
      "18\n",
      "29\n",
      "20\n",
      "7\n",
      "19\n",
      "11\n",
      "2\n",
      "28\n",
      "5\n",
      "8\n",
      "16\n",
      "6\n",
      "{'accuracy': [0.4054982817869416, 0.38235294117647056, 0.44755244755244755, 0.3613138686131387, 0.3669064748201439, 0.7038461538461539, 0.3286384976525822, 0.41785714285714287, 0.5473684210526316, 0.375968992248062, 0.3942652329749104, 0.612565445026178, 0.3611111111111111, 0.5615384615384615, 0.3779264214046823, 0.4185185185185185, 0.3088235294117647, 0.3726235741444867, 0.5451263537906137], 'roc_auc': [0.6068838276449141, 0.5945749939226967, 0.8525102749433106, 0.6422491963371716, 0.6239312739542046, 0.8663549257759784, 0.515929054054054, 0.683766990323261, 0.7208128621819098, 0.6093505253407774, 0.6812498574807573, 0.7695078130933396, 0.5741026080009132, 0.7606413705372038, 0.5802860269360269, 0.5796913580246913, 0.6516705118345724, 0.5764756167869426, 0.7256056330867587], 'f1': [0.40275651436565824, 0.3098261168465904, 0.3760461599793241, 0.24052010215772313, 0.25683719061239907, 0.6766066966360657, 0.27417391323871815, 0.31992895594536197, 0.4911171371050578, 0.31337909830870747, 0.29815001464324214, 0.6024358148780693, 0.2822064102035416, 0.5528440629083782, 0.2904919592755986, 0.40459533253900576, 0.15077245897613556, 0.30146852655112694, 0.546219489436733]}\n",
      "qda evaluated\n",
      "15\n",
      "12\n",
      "21\n",
      "4\n",
      "10\n",
      "44\n",
      "3\n",
      "18\n",
      "29\n",
      "20\n",
      "7\n",
      "19\n",
      "11\n",
      "2\n",
      "28\n",
      "5\n",
      "8\n",
      "16\n",
      "6\n",
      "{'accuracy': [0.37800687285223367, 0.37815126050420167, 0.44405594405594406, 0.40875912408759124, 0.34172661870503596, 0.5423076923076923, 0.37089201877934275, 0.44285714285714284, 0.4368421052631579, 0.4806201550387597, 0.44086021505376344, 0.4293193717277487, 0.35714285714285715, 0.5192307692307693, 0.46153846153846156, 0.44814814814814813, 0.3639705882352941, 0.376425855513308, 0.4223826714801444], 'roc_auc': [0.5337540279269604, 0.5386151851551738, 0.584701271813073, 0.5589155346207701, 0.5130285044008961, 0.6347874493927126, 0.5362753378378379, 0.5811234377471918, 0.5748015873015873, 0.6086102579754933, 0.5839344017612269, 0.5497265892002735, 0.5226598840915465, 0.6369791666666668, 0.5961868686868687, 0.5735542929292929, 0.5329294782714283, 0.5307836822329577, 0.5683462975672996], 'f1': [0.3773710139812666, 0.3749895350419122, 0.4224271095700259, 0.39090854858394986, 0.2865041856098328, 0.5315330023182689, 0.3586913781433627, 0.4438805087252293, 0.43181483119563613, 0.480228464552504, 0.40375986083311355, 0.4384889389915799, 0.3571660137143613, 0.5206406409550491, 0.45600505753186366, 0.435490313843255, 0.33120205845589484, 0.37416404515487495, 0.415535065581748]}\n",
      "cart evaluated\n",
      "15\n",
      "12\n",
      "21\n",
      "4\n",
      "10\n",
      "44\n",
      "3\n",
      "18\n",
      "29\n",
      "20\n",
      "7\n",
      "19\n",
      "11\n",
      "2\n",
      "28\n",
      "5\n",
      "8\n",
      "16\n",
      "6\n",
      "{'accuracy': [0.41580756013745707, 0.40336134453781514, 0.6118881118881119, 0.4051094890510949, 0.3920863309352518, 0.5230769230769231, 0.4507042253521127, 0.42857142857142855, 0.4789473684210526, 0.32558139534883723, 0.5125448028673835, 0.5078534031413613, 0.44047619047619047, 0.55, 0.3879598662207358, 0.43333333333333335, 0.4117647058823529, 0.4296577946768061, 0.5090252707581228], 'roc_auc': [0.6105921691985065, 0.5821897874294358, 0.8098272823622202, 0.5823227891719406, 0.5783403804786516, 0.759318488529015, 0.6219359984984986, 0.5843525879343985, 0.6658942743764172, 0.5168102160075797, 0.6970310391363025, 0.6480903964456596, 0.5822522314137893, 0.6955296442275608, 0.5777800505050505, 0.5815691638608305, 0.5810659210189021, 0.5777352835927715, 0.6727446045908639], 'f1': [0.41618729306908947, 0.39034132075822225, 0.6121210674072164, 0.40517251141987515, 0.36950300040897505, 0.5032855584099107, 0.45572217420994293, 0.4157564466206199, 0.4774671250673342, 0.3223137917777791, 0.48777834249783353, 0.5039232547085951, 0.4370815059323746, 0.5449074036880738, 0.37633433127627985, 0.39614878594527064, 0.3944961084384562, 0.42301095193218047, 0.49378780064700645]}\n",
      "knn evaluated\n",
      "15\n",
      "12\n",
      "21\n",
      "4\n",
      "10\n",
      "44\n",
      "3\n",
      "18\n",
      "29\n",
      "20\n",
      "7\n",
      "19\n",
      "11\n",
      "2\n",
      "28\n",
      "5\n",
      "8\n",
      "16\n",
      "6\n",
      "{'accuracy': [0.39862542955326463, 0.31512605042016806, 0.6153846153846154, 0.4489051094890511, 0.38489208633093525, 0.65, 0.38497652582159625, 0.5107142857142857, 0.4368421052631579, 0.5232558139534884, 0.4946236559139785, 0.6387434554973822, 0.4801587301587302, 0.5923076923076923, 0.4782608695652174, 0.42592592592592593, 0.34558823529411764, 0.3688212927756654, 0.516245487364621], 'roc_auc': [0.7084876915320372, 0.5701773222051157, 0.8366769262052647, 0.6947475785032563, 0.6662584530046122, 0.7474939271255061, 0.6474211711711712, 0.7448155618836682, 0.6031761778785589, 0.724254645614883, 0.6655951292623619, 0.7331622142477405, 0.6553131993088719, 0.7742414289289289, 0.6636468013468014, 0.694769921436588, 0.6454285226010424, 0.5730914892348065, 0.7385685960497216], 'f1': [0.36893948750704036, 0.3064990151764214, 0.5939273976541057, 0.4372240543527305, 0.30037913354864393, 0.6121644878110395, 0.35344740297096583, 0.4533615370435193, 0.43215027652740645, 0.5063812174735886, 0.46857565726833256, 0.6234615117704663, 0.4673877746695536, 0.5990508587688971, 0.43367136581866417, 0.35762425448365964, 0.24617054894057938, 0.3688181946769077, 0.509910216137653]}\n",
      "ada evaluated\n",
      "15\n",
      "12\n",
      "21\n",
      "4\n",
      "10\n",
      "44\n",
      "3\n",
      "18\n",
      "29\n",
      "20\n",
      "7\n",
      "19\n",
      "11\n",
      "2\n",
      "28\n",
      "5\n",
      "8\n",
      "16\n",
      "6\n",
      "{'accuracy': [0.45017182130584193, 0.38235294117647056, 0.46503496503496505, 0.44525547445255476, 0.381294964028777, 0.65, 0.40375586854460094, 0.575, 0.6421052631578947, 0.5465116279069767, 0.4336917562724014, 0.6649214659685864, 0.47619047619047616, 0.5961538461538461, 0.5384615384615384, 0.45185185185185184, 0.3272058823529412, 0.3840304182509506, 0.5667870036101083], 'roc_auc': [0.6769524028730718, 0.6134288145207033, 0.7102987821034211, 0.7037334527772012, 0.6581162283409473, 0.8787766531713901, 0.680707347972973, 0.7466911304250382, 0.8067972096245906, 0.7161392592875205, 0.7142184452031651, 0.7952925637958533, 0.6844141620557055, 0.8134465194361028, 0.7588055555555555, 0.7179941778900112, 0.6363036693245546, 0.5878252917437029, 0.790251616292568], 'f1': [0.4607357719939294, 0.3716877125181623, 0.4083061888862645, 0.4455179331797105, 0.2857802646771472, 0.6223581947390348, 0.3821854202135892, 0.5532284725741565, 0.6358757776448497, 0.5461156696948769, 0.3477701975026078, 0.6611943939768532, 0.47732456635562426, 0.5862220344200831, 0.507117883308073, 0.38065494263924676, 0.19531436617459375, 0.37019797150161077, 0.5471805794657909]}\n",
      "rf evaluated\n"
     ]
    },
    {
     "name": "stderr",
     "output_type": "stream",
     "text": [
      "C:\\Users\\Mikel\\anaconda3\\lib\\site-packages\\sklearn\\neural_network\\_multilayer_perceptron.py:571: ConvergenceWarning: Stochastic Optimizer: Maximum iterations (200) reached and the optimization hasn't converged yet.\n",
      "  % self.max_iter, ConvergenceWarning)\n"
     ]
    },
    {
     "name": "stdout",
     "output_type": "stream",
     "text": [
      "15\n"
     ]
    },
    {
     "name": "stderr",
     "output_type": "stream",
     "text": [
      "C:\\Users\\Mikel\\anaconda3\\lib\\site-packages\\sklearn\\neural_network\\_multilayer_perceptron.py:571: ConvergenceWarning: Stochastic Optimizer: Maximum iterations (200) reached and the optimization hasn't converged yet.\n",
      "  % self.max_iter, ConvergenceWarning)\n"
     ]
    },
    {
     "name": "stdout",
     "output_type": "stream",
     "text": [
      "12\n"
     ]
    },
    {
     "name": "stderr",
     "output_type": "stream",
     "text": [
      "C:\\Users\\Mikel\\anaconda3\\lib\\site-packages\\sklearn\\neural_network\\_multilayer_perceptron.py:571: ConvergenceWarning: Stochastic Optimizer: Maximum iterations (200) reached and the optimization hasn't converged yet.\n",
      "  % self.max_iter, ConvergenceWarning)\n"
     ]
    },
    {
     "name": "stdout",
     "output_type": "stream",
     "text": [
      "21\n"
     ]
    },
    {
     "name": "stderr",
     "output_type": "stream",
     "text": [
      "C:\\Users\\Mikel\\anaconda3\\lib\\site-packages\\sklearn\\neural_network\\_multilayer_perceptron.py:571: ConvergenceWarning: Stochastic Optimizer: Maximum iterations (200) reached and the optimization hasn't converged yet.\n",
      "  % self.max_iter, ConvergenceWarning)\n"
     ]
    },
    {
     "name": "stdout",
     "output_type": "stream",
     "text": [
      "4\n"
     ]
    },
    {
     "name": "stderr",
     "output_type": "stream",
     "text": [
      "C:\\Users\\Mikel\\anaconda3\\lib\\site-packages\\sklearn\\neural_network\\_multilayer_perceptron.py:571: ConvergenceWarning: Stochastic Optimizer: Maximum iterations (200) reached and the optimization hasn't converged yet.\n",
      "  % self.max_iter, ConvergenceWarning)\n"
     ]
    },
    {
     "name": "stdout",
     "output_type": "stream",
     "text": [
      "10\n"
     ]
    },
    {
     "name": "stderr",
     "output_type": "stream",
     "text": [
      "C:\\Users\\Mikel\\anaconda3\\lib\\site-packages\\sklearn\\neural_network\\_multilayer_perceptron.py:571: ConvergenceWarning: Stochastic Optimizer: Maximum iterations (200) reached and the optimization hasn't converged yet.\n",
      "  % self.max_iter, ConvergenceWarning)\n"
     ]
    },
    {
     "name": "stdout",
     "output_type": "stream",
     "text": [
      "44\n"
     ]
    },
    {
     "name": "stderr",
     "output_type": "stream",
     "text": [
      "C:\\Users\\Mikel\\anaconda3\\lib\\site-packages\\sklearn\\neural_network\\_multilayer_perceptron.py:571: ConvergenceWarning: Stochastic Optimizer: Maximum iterations (200) reached and the optimization hasn't converged yet.\n",
      "  % self.max_iter, ConvergenceWarning)\n"
     ]
    },
    {
     "name": "stdout",
     "output_type": "stream",
     "text": [
      "3\n"
     ]
    },
    {
     "name": "stderr",
     "output_type": "stream",
     "text": [
      "C:\\Users\\Mikel\\anaconda3\\lib\\site-packages\\sklearn\\neural_network\\_multilayer_perceptron.py:571: ConvergenceWarning: Stochastic Optimizer: Maximum iterations (200) reached and the optimization hasn't converged yet.\n",
      "  % self.max_iter, ConvergenceWarning)\n"
     ]
    },
    {
     "name": "stdout",
     "output_type": "stream",
     "text": [
      "18\n"
     ]
    },
    {
     "name": "stderr",
     "output_type": "stream",
     "text": [
      "C:\\Users\\Mikel\\anaconda3\\lib\\site-packages\\sklearn\\neural_network\\_multilayer_perceptron.py:571: ConvergenceWarning: Stochastic Optimizer: Maximum iterations (200) reached and the optimization hasn't converged yet.\n",
      "  % self.max_iter, ConvergenceWarning)\n"
     ]
    },
    {
     "name": "stdout",
     "output_type": "stream",
     "text": [
      "29\n"
     ]
    },
    {
     "name": "stderr",
     "output_type": "stream",
     "text": [
      "C:\\Users\\Mikel\\anaconda3\\lib\\site-packages\\sklearn\\neural_network\\_multilayer_perceptron.py:571: ConvergenceWarning: Stochastic Optimizer: Maximum iterations (200) reached and the optimization hasn't converged yet.\n",
      "  % self.max_iter, ConvergenceWarning)\n"
     ]
    },
    {
     "name": "stdout",
     "output_type": "stream",
     "text": [
      "20\n"
     ]
    },
    {
     "name": "stderr",
     "output_type": "stream",
     "text": [
      "C:\\Users\\Mikel\\anaconda3\\lib\\site-packages\\sklearn\\neural_network\\_multilayer_perceptron.py:571: ConvergenceWarning: Stochastic Optimizer: Maximum iterations (200) reached and the optimization hasn't converged yet.\n",
      "  % self.max_iter, ConvergenceWarning)\n"
     ]
    },
    {
     "name": "stdout",
     "output_type": "stream",
     "text": [
      "7\n"
     ]
    },
    {
     "name": "stderr",
     "output_type": "stream",
     "text": [
      "C:\\Users\\Mikel\\anaconda3\\lib\\site-packages\\sklearn\\neural_network\\_multilayer_perceptron.py:571: ConvergenceWarning: Stochastic Optimizer: Maximum iterations (200) reached and the optimization hasn't converged yet.\n",
      "  % self.max_iter, ConvergenceWarning)\n"
     ]
    },
    {
     "name": "stdout",
     "output_type": "stream",
     "text": [
      "19\n"
     ]
    },
    {
     "name": "stderr",
     "output_type": "stream",
     "text": [
      "C:\\Users\\Mikel\\anaconda3\\lib\\site-packages\\sklearn\\neural_network\\_multilayer_perceptron.py:571: ConvergenceWarning: Stochastic Optimizer: Maximum iterations (200) reached and the optimization hasn't converged yet.\n",
      "  % self.max_iter, ConvergenceWarning)\n"
     ]
    },
    {
     "name": "stdout",
     "output_type": "stream",
     "text": [
      "11\n"
     ]
    },
    {
     "name": "stderr",
     "output_type": "stream",
     "text": [
      "C:\\Users\\Mikel\\anaconda3\\lib\\site-packages\\sklearn\\neural_network\\_multilayer_perceptron.py:571: ConvergenceWarning: Stochastic Optimizer: Maximum iterations (200) reached and the optimization hasn't converged yet.\n",
      "  % self.max_iter, ConvergenceWarning)\n"
     ]
    },
    {
     "name": "stdout",
     "output_type": "stream",
     "text": [
      "2\n"
     ]
    },
    {
     "name": "stderr",
     "output_type": "stream",
     "text": [
      "C:\\Users\\Mikel\\anaconda3\\lib\\site-packages\\sklearn\\neural_network\\_multilayer_perceptron.py:571: ConvergenceWarning: Stochastic Optimizer: Maximum iterations (200) reached and the optimization hasn't converged yet.\n",
      "  % self.max_iter, ConvergenceWarning)\n"
     ]
    },
    {
     "name": "stdout",
     "output_type": "stream",
     "text": [
      "28\n"
     ]
    },
    {
     "name": "stderr",
     "output_type": "stream",
     "text": [
      "C:\\Users\\Mikel\\anaconda3\\lib\\site-packages\\sklearn\\neural_network\\_multilayer_perceptron.py:571: ConvergenceWarning: Stochastic Optimizer: Maximum iterations (200) reached and the optimization hasn't converged yet.\n",
      "  % self.max_iter, ConvergenceWarning)\n"
     ]
    },
    {
     "name": "stdout",
     "output_type": "stream",
     "text": [
      "5\n"
     ]
    },
    {
     "name": "stderr",
     "output_type": "stream",
     "text": [
      "C:\\Users\\Mikel\\anaconda3\\lib\\site-packages\\sklearn\\neural_network\\_multilayer_perceptron.py:571: ConvergenceWarning: Stochastic Optimizer: Maximum iterations (200) reached and the optimization hasn't converged yet.\n",
      "  % self.max_iter, ConvergenceWarning)\n"
     ]
    },
    {
     "name": "stdout",
     "output_type": "stream",
     "text": [
      "8\n"
     ]
    },
    {
     "name": "stderr",
     "output_type": "stream",
     "text": [
      "C:\\Users\\Mikel\\anaconda3\\lib\\site-packages\\sklearn\\neural_network\\_multilayer_perceptron.py:571: ConvergenceWarning: Stochastic Optimizer: Maximum iterations (200) reached and the optimization hasn't converged yet.\n",
      "  % self.max_iter, ConvergenceWarning)\n"
     ]
    },
    {
     "name": "stdout",
     "output_type": "stream",
     "text": [
      "16\n"
     ]
    },
    {
     "name": "stderr",
     "output_type": "stream",
     "text": [
      "C:\\Users\\Mikel\\anaconda3\\lib\\site-packages\\sklearn\\neural_network\\_multilayer_perceptron.py:571: ConvergenceWarning: Stochastic Optimizer: Maximum iterations (200) reached and the optimization hasn't converged yet.\n",
      "  % self.max_iter, ConvergenceWarning)\n"
     ]
    },
    {
     "name": "stdout",
     "output_type": "stream",
     "text": [
      "6\n",
      "{'accuracy': [0.40893470790378006, 0.41596638655462187, 0.43356643356643354, 0.4416058394160584, 0.4028776978417266, 0.6846153846153846, 0.4084507042253521, 0.5035714285714286, 0.6210526315789474, 0.562015503875969, 0.43727598566308246, 0.6596858638743456, 0.4722222222222222, 0.6115384615384616, 0.5183946488294314, 0.4666666666666667, 0.3161764705882353, 0.4790874524714829, 0.5451263537906137], 'roc_auc': [0.6177641625930715, 0.6141756475704292, 0.9112846451986591, 0.7075026336322058, 0.6073297450848472, 0.842085020242915, 0.6200023460960962, 0.713094249327638, 0.8007495590828925, 0.7412058144636692, 0.7575562147718345, 0.7852419875446192, 0.6760230626981438, 0.8223739364364365, 0.7611984848484848, 0.6371513748597081, 0.6311002127209847, 0.6697073616826703, 0.7258015794334715], 'f1': [0.36493611771962287, 0.4043929342630048, 0.35419706026626047, 0.3837414527031178, 0.31067013747450045, 0.6609079430850497, 0.4016370768367776, 0.5089034939701608, 0.6110335287530465, 0.5573927212778103, 0.3458429707762414, 0.6434521403831192, 0.47423598112722026, 0.593599133261105, 0.4768308624973561, 0.39975910870219816, 0.20024532670877615, 0.44970522483457437, 0.5302865544493828]}\n",
      "mlp evaluated\n",
      "15\n",
      "12\n",
      "21\n",
      "4\n",
      "10\n",
      "44\n",
      "3\n",
      "18\n",
      "29\n",
      "20\n",
      "7\n",
      "19\n",
      "11\n",
      "2\n",
      "28\n",
      "5\n",
      "8\n",
      "16\n",
      "6\n",
      "{'accuracy': [0.3539518900343643, 0.3697478991596639, 0.7132867132867133, 0.3978102189781022, 0.34172661870503596, 0.6538461538461539, 0.5492957746478874, 0.4107142857142857, 0.45263157894736844, 0.5038759689922481, 0.5555555555555556, 0.6282722513089005, 0.4007936507936508, 0.5346153846153846, 0.5083612040133779, 0.4111111111111111, 0.3161764705882353, 0.40304182509505704, 0.5487364620938628], 'roc_auc': [0.6742282090064812, 0.6313271479890878, 0.9526586223257419, 0.7232945753744223, 0.6765694177411673, 0.7254143049932523, 0.7423536036036036, 0.7031381835680008, 0.6085238725119678, 0.7270313106070723, 0.7484569571157008, 0.684415821751348, 0.6920906990326392, 0.7666233942275609, 0.6394582491582491, 0.605686026936027, 0.7041775163363421, 0.6374237092701934, 0.7558584780158791], 'f1': [0.29578543486561204, 0.3341940817218782, 0.6825496864488981, 0.31039184087702765, 0.19969046520219777, 0.6055221574006104, 0.5508707804892067, 0.3133081241888001, 0.42742436975237064, 0.5022326879591418, 0.5225277321982764, 0.6041002981529463, 0.3622582471828884, 0.5170452735670127, 0.44499725607546314, 0.31865163399070773, 0.1720912502932207, 0.3575486617311712, 0.5489306872429617]}\n",
      "svcl evaluated\n",
      "15\n",
      "12\n",
      "21\n",
      "4\n",
      "10\n",
      "44\n",
      "3\n",
      "18\n",
      "29\n",
      "20\n",
      "7\n",
      "19\n",
      "11\n",
      "2\n",
      "28\n",
      "5\n",
      "8\n",
      "16\n",
      "6\n",
      "{'accuracy': [0.32646048109965636, 0.3445378151260504, 0.7762237762237763, 0.3467153284671533, 0.41007194244604317, 0.4, 0.49765258215962443, 0.4, 0.5263157894736842, 0.3372093023255814, 0.4838709677419355, 0.4816753926701571, 0.39285714285714285, 0.4, 0.3277591973244147, 0.37777777777777777, 0.44485294117647056, 0.35361216730038025, 0.44404332129963897], 'roc_auc': [0.588456929495751, 0.611877751667882, 0.7823872529084097, 0.6774249338198657, 0.6371358519948292, 0.5733562753036437, 0.6229527965465466, 0.6192223013236303, 0.665129755605946, 0.6177960380593867, 0.7208287468049778, 0.6068331339712919, 0.6317493361308724, 0.7099062604270938, 0.46343855218855223, 0.5744521604938272, 0.6274473032106028, 0.5980899982107711, 0.6780773108958879], 'f1': [0.19116640700442855, 0.17712915887358077, 0.7776302838456195, 0.2030404456161274, 0.36239734081460706, 0.2508924601410151, 0.47989645236665046, 0.28558709905596213, 0.47343503793294356, 0.19979257295958056, 0.44808371649440204, 0.3575102967980476, 0.23690574526926034, 0.2861114917471193, 0.1667985737019922, 0.24220993953136807, 0.43664521421874364, 0.22416112349649733, 0.39068879505905335]}\n",
      "svmp evaluated\n",
      "\n",
      "Rank=1, Name=mlp, Accuracy=0.494, roc_auc=0.718, f1=0.456\n",
      "Rank=2, Name=rf, Accuracy=0.494, roc_auc=0.721, f1=0.462\n",
      "Rank=3, Name=logistic, Accuracy=0.484, roc_auc=0.705, f1=0.438\n",
      "Rank=4, Name=lda, Accuracy=0.481, roc_auc=0.710, f1=0.432\n",
      "Rank=5, Name=svcl, Accuracy=0.477, roc_auc=0.705, f1=0.425\n",
      "Rank=6, Name=ada, Accuracy=0.474, roc_auc=0.689, f1=0.444\n",
      "Rank=7, Name=knn, Accuracy=0.454, roc_auc=0.628, f1=0.443\n",
      "Rank=8, Name=qda, Accuracy=0.436, roc_auc=0.664, f1=0.373\n",
      "Rank=9, Name=svmp, Accuracy=0.425, roc_auc=0.632, f1=0.326\n",
      "Rank=10, Name=cart, Accuracy=0.423, roc_auc=0.566, f1=0.412\n",
      "0.42332830908008406 ['mlp', 'rf', 'logistic', 'lda', 'svcl', 'ada', 'knn', 'qda', 'svmp', 'cart']\n"
     ]
    },
    {
     "data": {
      "image/png": "[encoded data removed]",
      "text/plain": [
       "<Figure size 432x288 with 1 Axes>"
      ]
     },
     "metadata": {
      "needs_background": "light"
     },
     "output_type": "display_data"
    },
    {
     "data": {
      "image/png": "[encoded data removed]",
      "text/plain": [
       "<Figure size 432x288 with 1 Axes>"
      ]
     },
     "metadata": {
      "needs_background": "light"
     },
     "output_type": "display_data"
    },
    {
     "data": {
      "image/png": "[encoded data removed]",
      "text/plain": [
       "<Figure size 432x288 with 1 Axes>"
      ]
     },
     "metadata": {
      "needs_background": "light"
     },
     "output_type": "display_data"
    }
   ],
   "source": [
    "# evaluate models\n",
    "results = evaluate_models(X_scaled_train, Y_train, models, subjects_train)\n",
    "# summarize results\n",
    "summarize_results(results)"
   ]
  },
  {
   "cell_type": "markdown",
   "metadata": {},
   "source": [
    "## Spot-check reducing dimensionality (PCA), standardizing and normalizing the data\n",
    "Preprocess the training features matrix"
   ]
  },
  {
   "cell_type": "code",
   "execution_count": 19,
   "metadata": {},
   "outputs": [
    {
     "data": {
      "text/plain": [
       "(4931, 20)"
      ]
     },
     "execution_count": 19,
     "metadata": {},
     "output_type": "execute_result"
    }
   ],
   "source": [
    "standardizer = StandardScaler()\n",
    "normalizer = MinMaxScaler(feature_range=(0,1))\n",
    "X_scaled_train = pca.fit_transform(X_train)\n",
    "X_scaled_train = standardizer.fit_transform(X_scaled_train)\n",
    "X_scaled_train = normalizer.fit_transform(X_scaled_train)\n",
    "X_scaled_train.shape"
   ]
  },
  {
   "cell_type": "code",
   "execution_count": 20,
   "metadata": {},
   "outputs": [
    {
     "name": "stderr",
     "output_type": "stream",
     "text": [
      "C:\\Users\\Mikel\\anaconda3\\lib\\site-packages\\sklearn\\linear_model\\_logistic.py:940: ConvergenceWarning: lbfgs failed to converge (status=1):\n",
      "STOP: TOTAL NO. of ITERATIONS REACHED LIMIT.\n",
      "\n",
      "Increase the number of iterations (max_iter) or scale the data as shown in:\n",
      "    https://scikit-learn.org/stable/modules/preprocessing.html\n",
      "Please also refer to the documentation for alternative solver options:\n",
      "    https://scikit-learn.org/stable/modules/linear_model.html#logistic-regression\n",
      "  extra_warning_msg=_LOGISTIC_SOLVER_CONVERGENCE_MSG)\n"
     ]
    },
    {
     "name": "stdout",
     "output_type": "stream",
     "text": [
      "15\n",
      "12\n"
     ]
    },
    {
     "name": "stderr",
     "output_type": "stream",
     "text": [
      "C:\\Users\\Mikel\\anaconda3\\lib\\site-packages\\sklearn\\linear_model\\_logistic.py:940: ConvergenceWarning: lbfgs failed to converge (status=1):\n",
      "STOP: TOTAL NO. of ITERATIONS REACHED LIMIT.\n",
      "\n",
      "Increase the number of iterations (max_iter) or scale the data as shown in:\n",
      "    https://scikit-learn.org/stable/modules/preprocessing.html\n",
      "Please also refer to the documentation for alternative solver options:\n",
      "    https://scikit-learn.org/stable/modules/linear_model.html#logistic-regression\n",
      "  extra_warning_msg=_LOGISTIC_SOLVER_CONVERGENCE_MSG)\n"
     ]
    },
    {
     "name": "stdout",
     "output_type": "stream",
     "text": [
      "21\n"
     ]
    },
    {
     "name": "stderr",
     "output_type": "stream",
     "text": [
      "C:\\Users\\Mikel\\anaconda3\\lib\\site-packages\\sklearn\\linear_model\\_logistic.py:940: ConvergenceWarning: lbfgs failed to converge (status=1):\n",
      "STOP: TOTAL NO. of ITERATIONS REACHED LIMIT.\n",
      "\n",
      "Increase the number of iterations (max_iter) or scale the data as shown in:\n",
      "    https://scikit-learn.org/stable/modules/preprocessing.html\n",
      "Please also refer to the documentation for alternative solver options:\n",
      "    https://scikit-learn.org/stable/modules/linear_model.html#logistic-regression\n",
      "  extra_warning_msg=_LOGISTIC_SOLVER_CONVERGENCE_MSG)\n"
     ]
    },
    {
     "name": "stdout",
     "output_type": "stream",
     "text": [
      "4\n"
     ]
    },
    {
     "name": "stderr",
     "output_type": "stream",
     "text": [
      "C:\\Users\\Mikel\\anaconda3\\lib\\site-packages\\sklearn\\linear_model\\_logistic.py:940: ConvergenceWarning: lbfgs failed to converge (status=1):\n",
      "STOP: TOTAL NO. of ITERATIONS REACHED LIMIT.\n",
      "\n",
      "Increase the number of iterations (max_iter) or scale the data as shown in:\n",
      "    https://scikit-learn.org/stable/modules/preprocessing.html\n",
      "Please also refer to the documentation for alternative solver options:\n",
      "    https://scikit-learn.org/stable/modules/linear_model.html#logistic-regression\n",
      "  extra_warning_msg=_LOGISTIC_SOLVER_CONVERGENCE_MSG)\n"
     ]
    },
    {
     "name": "stdout",
     "output_type": "stream",
     "text": [
      "10\n"
     ]
    },
    {
     "name": "stderr",
     "output_type": "stream",
     "text": [
      "C:\\Users\\Mikel\\anaconda3\\lib\\site-packages\\sklearn\\linear_model\\_logistic.py:940: ConvergenceWarning: lbfgs failed to converge (status=1):\n",
      "STOP: TOTAL NO. of ITERATIONS REACHED LIMIT.\n",
      "\n",
      "Increase the number of iterations (max_iter) or scale the data as shown in:\n",
      "    https://scikit-learn.org/stable/modules/preprocessing.html\n",
      "Please also refer to the documentation for alternative solver options:\n",
      "    https://scikit-learn.org/stable/modules/linear_model.html#logistic-regression\n",
      "  extra_warning_msg=_LOGISTIC_SOLVER_CONVERGENCE_MSG)\n"
     ]
    },
    {
     "name": "stdout",
     "output_type": "stream",
     "text": [
      "44\n"
     ]
    },
    {
     "name": "stderr",
     "output_type": "stream",
     "text": [
      "C:\\Users\\Mikel\\anaconda3\\lib\\site-packages\\sklearn\\linear_model\\_logistic.py:940: ConvergenceWarning: lbfgs failed to converge (status=1):\n",
      "STOP: TOTAL NO. of ITERATIONS REACHED LIMIT.\n",
      "\n",
      "Increase the number of iterations (max_iter) or scale the data as shown in:\n",
      "    https://scikit-learn.org/stable/modules/preprocessing.html\n",
      "Please also refer to the documentation for alternative solver options:\n",
      "    https://scikit-learn.org/stable/modules/linear_model.html#logistic-regression\n",
      "  extra_warning_msg=_LOGISTIC_SOLVER_CONVERGENCE_MSG)\n"
     ]
    },
    {
     "name": "stdout",
     "output_type": "stream",
     "text": [
      "3\n"
     ]
    },
    {
     "name": "stderr",
     "output_type": "stream",
     "text": [
      "C:\\Users\\Mikel\\anaconda3\\lib\\site-packages\\sklearn\\linear_model\\_logistic.py:940: ConvergenceWarning: lbfgs failed to converge (status=1):\n",
      "STOP: TOTAL NO. of ITERATIONS REACHED LIMIT.\n",
      "\n",
      "Increase the number of iterations (max_iter) or scale the data as shown in:\n",
      "    https://scikit-learn.org/stable/modules/preprocessing.html\n",
      "Please also refer to the documentation for alternative solver options:\n",
      "    https://scikit-learn.org/stable/modules/linear_model.html#logistic-regression\n",
      "  extra_warning_msg=_LOGISTIC_SOLVER_CONVERGENCE_MSG)\n"
     ]
    },
    {
     "name": "stdout",
     "output_type": "stream",
     "text": [
      "18\n"
     ]
    },
    {
     "name": "stderr",
     "output_type": "stream",
     "text": [
      "C:\\Users\\Mikel\\anaconda3\\lib\\site-packages\\sklearn\\linear_model\\_logistic.py:940: ConvergenceWarning: lbfgs failed to converge (status=1):\n",
      "STOP: TOTAL NO. of ITERATIONS REACHED LIMIT.\n",
      "\n",
      "Increase the number of iterations (max_iter) or scale the data as shown in:\n",
      "    https://scikit-learn.org/stable/modules/preprocessing.html\n",
      "Please also refer to the documentation for alternative solver options:\n",
      "    https://scikit-learn.org/stable/modules/linear_model.html#logistic-regression\n",
      "  extra_warning_msg=_LOGISTIC_SOLVER_CONVERGENCE_MSG)\n"
     ]
    },
    {
     "name": "stdout",
     "output_type": "stream",
     "text": [
      "29\n"
     ]
    },
    {
     "name": "stderr",
     "output_type": "stream",
     "text": [
      "C:\\Users\\Mikel\\anaconda3\\lib\\site-packages\\sklearn\\linear_model\\_logistic.py:940: ConvergenceWarning: lbfgs failed to converge (status=1):\n",
      "STOP: TOTAL NO. of ITERATIONS REACHED LIMIT.\n",
      "\n",
      "Increase the number of iterations (max_iter) or scale the data as shown in:\n",
      "    https://scikit-learn.org/stable/modules/preprocessing.html\n",
      "Please also refer to the documentation for alternative solver options:\n",
      "    https://scikit-learn.org/stable/modules/linear_model.html#logistic-regression\n",
      "  extra_warning_msg=_LOGISTIC_SOLVER_CONVERGENCE_MSG)\n"
     ]
    },
    {
     "name": "stdout",
     "output_type": "stream",
     "text": [
      "20\n"
     ]
    },
    {
     "name": "stderr",
     "output_type": "stream",
     "text": [
      "C:\\Users\\Mikel\\anaconda3\\lib\\site-packages\\sklearn\\linear_model\\_logistic.py:940: ConvergenceWarning: lbfgs failed to converge (status=1):\n",
      "STOP: TOTAL NO. of ITERATIONS REACHED LIMIT.\n",
      "\n",
      "Increase the number of iterations (max_iter) or scale the data as shown in:\n",
      "    https://scikit-learn.org/stable/modules/preprocessing.html\n",
      "Please also refer to the documentation for alternative solver options:\n",
      "    https://scikit-learn.org/stable/modules/linear_model.html#logistic-regression\n",
      "  extra_warning_msg=_LOGISTIC_SOLVER_CONVERGENCE_MSG)\n"
     ]
    },
    {
     "name": "stdout",
     "output_type": "stream",
     "text": [
      "7\n",
      "19\n"
     ]
    },
    {
     "name": "stderr",
     "output_type": "stream",
     "text": [
      "C:\\Users\\Mikel\\anaconda3\\lib\\site-packages\\sklearn\\linear_model\\_logistic.py:940: ConvergenceWarning: lbfgs failed to converge (status=1):\n",
      "STOP: TOTAL NO. of ITERATIONS REACHED LIMIT.\n",
      "\n",
      "Increase the number of iterations (max_iter) or scale the data as shown in:\n",
      "    https://scikit-learn.org/stable/modules/preprocessing.html\n",
      "Please also refer to the documentation for alternative solver options:\n",
      "    https://scikit-learn.org/stable/modules/linear_model.html#logistic-regression\n",
      "  extra_warning_msg=_LOGISTIC_SOLVER_CONVERGENCE_MSG)\n"
     ]
    },
    {
     "name": "stdout",
     "output_type": "stream",
     "text": [
      "11\n"
     ]
    },
    {
     "name": "stderr",
     "output_type": "stream",
     "text": [
      "C:\\Users\\Mikel\\anaconda3\\lib\\site-packages\\sklearn\\linear_model\\_logistic.py:940: ConvergenceWarning: lbfgs failed to converge (status=1):\n",
      "STOP: TOTAL NO. of ITERATIONS REACHED LIMIT.\n",
      "\n",
      "Increase the number of iterations (max_iter) or scale the data as shown in:\n",
      "    https://scikit-learn.org/stable/modules/preprocessing.html\n",
      "Please also refer to the documentation for alternative solver options:\n",
      "    https://scikit-learn.org/stable/modules/linear_model.html#logistic-regression\n",
      "  extra_warning_msg=_LOGISTIC_SOLVER_CONVERGENCE_MSG)\n"
     ]
    },
    {
     "name": "stdout",
     "output_type": "stream",
     "text": [
      "2\n"
     ]
    },
    {
     "name": "stderr",
     "output_type": "stream",
     "text": [
      "C:\\Users\\Mikel\\anaconda3\\lib\\site-packages\\sklearn\\linear_model\\_logistic.py:940: ConvergenceWarning: lbfgs failed to converge (status=1):\n",
      "STOP: TOTAL NO. of ITERATIONS REACHED LIMIT.\n",
      "\n",
      "Increase the number of iterations (max_iter) or scale the data as shown in:\n",
      "    https://scikit-learn.org/stable/modules/preprocessing.html\n",
      "Please also refer to the documentation for alternative solver options:\n",
      "    https://scikit-learn.org/stable/modules/linear_model.html#logistic-regression\n",
      "  extra_warning_msg=_LOGISTIC_SOLVER_CONVERGENCE_MSG)\n"
     ]
    },
    {
     "name": "stdout",
     "output_type": "stream",
     "text": [
      "28\n"
     ]
    },
    {
     "name": "stderr",
     "output_type": "stream",
     "text": [
      "C:\\Users\\Mikel\\anaconda3\\lib\\site-packages\\sklearn\\linear_model\\_logistic.py:940: ConvergenceWarning: lbfgs failed to converge (status=1):\n",
      "STOP: TOTAL NO. of ITERATIONS REACHED LIMIT.\n",
      "\n",
      "Increase the number of iterations (max_iter) or scale the data as shown in:\n",
      "    https://scikit-learn.org/stable/modules/preprocessing.html\n",
      "Please also refer to the documentation for alternative solver options:\n",
      "    https://scikit-learn.org/stable/modules/linear_model.html#logistic-regression\n",
      "  extra_warning_msg=_LOGISTIC_SOLVER_CONVERGENCE_MSG)\n"
     ]
    },
    {
     "name": "stdout",
     "output_type": "stream",
     "text": [
      "5\n"
     ]
    },
    {
     "name": "stderr",
     "output_type": "stream",
     "text": [
      "C:\\Users\\Mikel\\anaconda3\\lib\\site-packages\\sklearn\\linear_model\\_logistic.py:940: ConvergenceWarning: lbfgs failed to converge (status=1):\n",
      "STOP: TOTAL NO. of ITERATIONS REACHED LIMIT.\n",
      "\n",
      "Increase the number of iterations (max_iter) or scale the data as shown in:\n",
      "    https://scikit-learn.org/stable/modules/preprocessing.html\n",
      "Please also refer to the documentation for alternative solver options:\n",
      "    https://scikit-learn.org/stable/modules/linear_model.html#logistic-regression\n",
      "  extra_warning_msg=_LOGISTIC_SOLVER_CONVERGENCE_MSG)\n"
     ]
    },
    {
     "name": "stdout",
     "output_type": "stream",
     "text": [
      "8\n"
     ]
    },
    {
     "name": "stderr",
     "output_type": "stream",
     "text": [
      "C:\\Users\\Mikel\\anaconda3\\lib\\site-packages\\sklearn\\linear_model\\_logistic.py:940: ConvergenceWarning: lbfgs failed to converge (status=1):\n",
      "STOP: TOTAL NO. of ITERATIONS REACHED LIMIT.\n",
      "\n",
      "Increase the number of iterations (max_iter) or scale the data as shown in:\n",
      "    https://scikit-learn.org/stable/modules/preprocessing.html\n",
      "Please also refer to the documentation for alternative solver options:\n",
      "    https://scikit-learn.org/stable/modules/linear_model.html#logistic-regression\n",
      "  extra_warning_msg=_LOGISTIC_SOLVER_CONVERGENCE_MSG)\n"
     ]
    },
    {
     "name": "stdout",
     "output_type": "stream",
     "text": [
      "16\n"
     ]
    },
    {
     "name": "stderr",
     "output_type": "stream",
     "text": [
      "C:\\Users\\Mikel\\anaconda3\\lib\\site-packages\\sklearn\\linear_model\\_logistic.py:940: ConvergenceWarning: lbfgs failed to converge (status=1):\n",
      "STOP: TOTAL NO. of ITERATIONS REACHED LIMIT.\n",
      "\n",
      "Increase the number of iterations (max_iter) or scale the data as shown in:\n",
      "    https://scikit-learn.org/stable/modules/preprocessing.html\n",
      "Please also refer to the documentation for alternative solver options:\n",
      "    https://scikit-learn.org/stable/modules/linear_model.html#logistic-regression\n",
      "  extra_warning_msg=_LOGISTIC_SOLVER_CONVERGENCE_MSG)\n"
     ]
    },
    {
     "name": "stdout",
     "output_type": "stream",
     "text": [
      "6\n",
      "{'accuracy': [0.3333333333333333, 0.38235294117647056, 0.7692307692307693, 0.38686131386861317, 0.36330935251798563, 0.6807692307692308, 0.5352112676056338, 0.5071428571428571, 0.5368421052631579, 0.5116279069767442, 0.5555555555555556, 0.5968586387434555, 0.4166666666666667, 0.5653846153846154, 0.4682274247491639, 0.4444444444444444, 0.34558823529411764, 0.41064638783269963, 0.5703971119133574], 'roc_auc': [0.6862962800587474, 0.628398563055398, 0.944297329439022, 0.7320775089123165, 0.6696593935759264, 0.7537503373819163, 0.7968557620120119, 0.7474802905658388, 0.6931831065759638, 0.731466026126086, 0.7491116127788454, 0.6793617566643881, 0.7074786815140223, 0.7943219260927594, 0.6413585858585859, 0.6356460437710437, 0.7176171651893126, 0.6565945508041588, 0.773543430183787], 'f1': [0.2785310934365808, 0.33660739410189944, 0.7618453648877305, 0.2731527275827056, 0.24910942425012655, 0.6331307638999948, 0.5380543485537084, 0.42450911361258625, 0.5400793595544726, 0.5103419719015138, 0.5274401432213024, 0.5675199418209927, 0.36811541068115405, 0.5518555583236768, 0.4065107694348566, 0.370774104034137, 0.23337733210246375, 0.37459139917817796, 0.563565218903126]}\n",
      "logistic evaluated\n",
      "15\n",
      "12\n",
      "21\n",
      "4\n",
      "10\n",
      "44\n",
      "3\n",
      "18\n",
      "29\n",
      "20\n",
      "7\n",
      "19\n",
      "11\n",
      "2\n",
      "28\n",
      "5\n",
      "8\n",
      "16\n",
      "6\n",
      "{'accuracy': [0.3230240549828179, 0.38235294117647056, 0.7062937062937062, 0.39416058394160586, 0.34532374100719426, 0.6692307692307692, 0.5164319248826291, 0.5392857142857143, 0.4789473684210526, 0.4844961240310077, 0.5412186379928315, 0.5968586387434555, 0.4007936507936508, 0.5692307692307692, 0.47157190635451507, 0.42962962962962964, 0.33455882352941174, 0.39543726235741444, 0.5631768953068592], 'roc_auc': [0.6697505425371008, 0.6262154606595899, 0.9547074491028296, 0.7214593518681495, 0.6675381104411144, 0.7606855600539811, 0.7165671921921923, 0.7256969163634447, 0.6382212144116906, 0.7207236709630788, 0.7488825454869598, 0.6787055232778917, 0.6897208653429353, 0.7786729437771104, 0.6187531986531987, 0.6494507575757575, 0.7165299495855763, 0.6453519810739349, 0.7611507240482304], 'f1': [0.263070541425746, 0.33451082103511504, 0.686616659524485, 0.3039924571325886, 0.2119669462067783, 0.6219060160047664, 0.504211666491424, 0.4530081290550605, 0.4642793110276412, 0.47258981006473433, 0.5135707944024014, 0.5601188815991943, 0.3783280283545817, 0.553654159460611, 0.4049352874583117, 0.35570398906968886, 0.20532491996248742, 0.362439006959033, 0.5557639317141307]}\n",
      "lda evaluated\n",
      "15\n",
      "12\n",
      "21\n",
      "4\n",
      "10\n",
      "44\n",
      "3\n",
      "18\n",
      "29\n",
      "20\n",
      "7\n",
      "19\n",
      "11\n",
      "2\n",
      "28\n",
      "5\n",
      "8\n",
      "16\n",
      "6\n",
      "{'accuracy': [0.4054982817869416, 0.38235294117647056, 0.44755244755244755, 0.3613138686131387, 0.3669064748201439, 0.7038461538461539, 0.3286384976525822, 0.41785714285714287, 0.5473684210526316, 0.375968992248062, 0.3942652329749104, 0.612565445026178, 0.3611111111111111, 0.5615384615384615, 0.3779264214046823, 0.4185185185185185, 0.3088235294117647, 0.3726235741444867, 0.5451263537906137], 'roc_auc': [0.6068838276449141, 0.5945749939226967, 0.8525102749433106, 0.6422491963371716, 0.6239312739542046, 0.8663549257759784, 0.515929054054054, 0.683766990323261, 0.7208128621819098, 0.6093269448842598, 0.6812498574807573, 0.7695078130933396, 0.5741026080009132, 0.7606606606606606, 0.5803195286195287, 0.5796913580246913, 0.6516705118345724, 0.5764554879624659, 0.7256056330867587], 'f1': [0.40275651436565824, 0.3098261168465904, 0.3760461599793241, 0.24052010215772313, 0.25683719061239907, 0.6766066966360657, 0.27417391323871815, 0.31992895594536197, 0.4911171371050578, 0.31337909830870747, 0.29815001464324214, 0.6024358148780693, 0.2822064102035416, 0.5528440629083782, 0.2904919592755986, 0.40459533253900576, 0.15077245897613556, 0.30146852655112694, 0.546219489436733]}\n",
      "qda evaluated\n",
      "15\n",
      "12\n",
      "21\n",
      "4\n",
      "10\n",
      "44\n",
      "3\n",
      "18\n",
      "29\n",
      "20\n",
      "7\n",
      "19\n",
      "11\n",
      "2\n",
      "28\n",
      "5\n",
      "8\n",
      "16\n",
      "6\n",
      "{'accuracy': [0.35051546391752575, 0.3487394957983193, 0.36713286713286714, 0.3978102189781022, 0.3489208633093525, 0.5538461538461539, 0.352112676056338, 0.45714285714285713, 0.42105263157894735, 0.4728682170542636, 0.3870967741935484, 0.44502617801047123, 0.38095238095238093, 0.4846153846153846, 0.4682274247491639, 0.44074074074074077, 0.34191176470588236, 0.3155893536121673, 0.4332129963898917], 'roc_auc': [0.5132653061224489, 0.515422170002431, 0.5273957409050577, 0.5513850541043942, 0.5172221438272803, 0.6449797570850203, 0.5210881193693694, 0.5928044909824394, 0.5611111111111111, 0.6033519486465347, 0.5426665298481937, 0.5484734563681932, 0.5366366514040514, 0.6112987987987989, 0.6012373737373737, 0.5668876262626262, 0.5064818062844884, 0.4849168008588299, 0.5757263784031115], 'f1': [0.3478618866357609, 0.3471904008806698, 0.34919629307677574, 0.37468082228961336, 0.30594185269336, 0.5471216870903391, 0.3449733490019552, 0.45813435825258486, 0.4308096757809835, 0.4719541564955329, 0.36582808097367986, 0.4530294405505994, 0.38146075070153224, 0.4831351981351982, 0.45594508111386317, 0.4248303378864127, 0.34300756075918754, 0.3143322011897675, 0.43087984801493495]}\n",
      "cart evaluated\n",
      "15\n",
      "12\n",
      "21\n",
      "4\n",
      "10\n",
      "44\n",
      "3\n",
      "18\n",
      "29\n",
      "20\n",
      "7\n",
      "19\n",
      "11\n",
      "2\n",
      "28\n",
      "5\n",
      "8\n",
      "16\n",
      "6\n",
      "{'accuracy': [0.42955326460481097, 0.44537815126050423, 0.5034965034965035, 0.4306569343065693, 0.39928057553956836, 0.5461538461538461, 0.38967136150234744, 0.45, 0.49473684210526314, 0.4263565891472868, 0.5268817204301075, 0.5340314136125655, 0.45634920634920634, 0.5461538461538461, 0.41471571906354515, 0.42962962962962964, 0.40441176470588236, 0.44106463878326996, 0.4729241877256318], 'roc_auc': [0.622954982207706, 0.6244564189827945, 0.7191019976831313, 0.6031193983321643, 0.5864587716800512, 0.7620128205128204, 0.5988363363363364, 0.6112919731846227, 0.6611701625094483, 0.6110101655612996, 0.6796111453157293, 0.7069496658312447, 0.6204709979953399, 0.725829735985986, 0.6027278619528619, 0.5748509399551066, 0.5983482642777155, 0.6010631001371741, 0.678779010651008], 'f1': [0.4261304987191287, 0.43202653577703287, 0.4925755246048212, 0.42389259158142606, 0.3566600031369392, 0.5304152909689667, 0.3924279546331664, 0.4469207212240448, 0.4963664241905577, 0.42326264095193034, 0.4959807161166397, 0.5382753902671268, 0.4514141602869034, 0.5452631178945327, 0.40703619474044866, 0.38635787886403616, 0.37345890872201504, 0.44101246238879627, 0.4393963986614769]}\n",
      "knn evaluated\n",
      "15\n",
      "12\n",
      "21\n",
      "4\n",
      "10\n",
      "44\n",
      "3\n",
      "18\n",
      "29\n",
      "20\n",
      "7\n",
      "19\n",
      "11\n",
      "2\n",
      "28\n",
      "5\n",
      "8\n",
      "16\n",
      "6\n",
      "{'accuracy': [0.39862542955326463, 0.31512605042016806, 0.6153846153846154, 0.4051094890510949, 0.38489208633093525, 0.65, 0.38497652582159625, 0.5107142857142857, 0.4368421052631579, 0.5232558139534884, 0.4946236559139785, 0.6387434554973822, 0.4801587301587302, 0.5923076923076923, 0.46488294314381273, 0.42592592592592593, 0.34558823529411764, 0.3688212927756654, 0.516245487364621], 'roc_auc': [0.7084876915320372, 0.5701773222051157, 0.8366769262052647, 0.6961985938199181, 0.6662584530046122, 0.7474075573549258, 0.6474211711711712, 0.7448155618836682, 0.6031761778785588, 0.7137268991010813, 0.6655951292623619, 0.7331622142477405, 0.6553131993088719, 0.7742414289289289, 0.6572786195286194, 0.694769921436588, 0.6454285226010424, 0.5730914892348065, 0.7385482599964411], 'f1': [0.36893948750704036, 0.3064990151764214, 0.5939273976541057, 0.3739893982021494, 0.30037913354864393, 0.6121644878110395, 0.35344740297096583, 0.4533615370435193, 0.43215027652740645, 0.508364609032821, 0.46857565726833256, 0.6234615117704663, 0.4673877746695536, 0.5990508587688971, 0.426010382722545, 0.35762425448365964, 0.24617054894057938, 0.3688181946769077, 0.509910216137653]}\n",
      "ada evaluated\n",
      "15\n",
      "12\n",
      "21\n",
      "4\n",
      "10\n",
      "44\n",
      "3\n",
      "18\n",
      "29\n",
      "20\n",
      "7\n",
      "19\n",
      "11\n",
      "2\n",
      "28\n",
      "5\n",
      "8\n",
      "16\n",
      "6\n",
      "{'accuracy': [0.44673539518900346, 0.3907563025210084, 0.5699300699300699, 0.5, 0.38848920863309355, 0.6615384615384615, 0.43661971830985913, 0.5607142857142857, 0.6684210526315789, 0.5813953488372093, 0.4551971326164875, 0.6387434554973822, 0.47619047619047616, 0.6461538461538462, 0.5518394648829431, 0.44074074074074077, 0.35294117647058826, 0.4372623574144487, 0.5776173285198556], 'roc_auc': [0.6693600802297288, 0.6045120600707669, 0.7969816776348221, 0.7340258056550191, 0.6629575709775205, 0.891640350877193, 0.6917100694444445, 0.7469883786848074, 0.7846387629125724, 0.7422212313131507, 0.6985163487710176, 0.7946725241133136, 0.6830193387171389, 0.8334120578912246, 0.7899493265993266, 0.6832744107744109, 0.6546156631003296, 0.6072807946164093, 0.7866299982205955], 'f1': [0.44683513094116556, 0.38756926264405983, 0.5229257735508648, 0.4939499240099416, 0.2943722206542525, 0.6250507568638201, 0.42707990106002996, 0.5317648465920767, 0.6530398724082935, 0.5801617624782719, 0.3815148721705138, 0.6307655278371136, 0.4629756114782435, 0.6442193338678655, 0.5170503607314637, 0.3602413019079686, 0.24229672325288806, 0.4210535384625988, 0.5602004000060138]}\n",
      "rf evaluated\n"
     ]
    },
    {
     "name": "stderr",
     "output_type": "stream",
     "text": [
      "C:\\Users\\Mikel\\anaconda3\\lib\\site-packages\\sklearn\\neural_network\\_multilayer_perceptron.py:571: ConvergenceWarning: Stochastic Optimizer: Maximum iterations (200) reached and the optimization hasn't converged yet.\n",
      "  % self.max_iter, ConvergenceWarning)\n"
     ]
    },
    {
     "name": "stdout",
     "output_type": "stream",
     "text": [
      "15\n"
     ]
    },
    {
     "name": "stderr",
     "output_type": "stream",
     "text": [
      "C:\\Users\\Mikel\\anaconda3\\lib\\site-packages\\sklearn\\neural_network\\_multilayer_perceptron.py:571: ConvergenceWarning: Stochastic Optimizer: Maximum iterations (200) reached and the optimization hasn't converged yet.\n",
      "  % self.max_iter, ConvergenceWarning)\n"
     ]
    },
    {
     "name": "stdout",
     "output_type": "stream",
     "text": [
      "12\n"
     ]
    },
    {
     "name": "stderr",
     "output_type": "stream",
     "text": [
      "C:\\Users\\Mikel\\anaconda3\\lib\\site-packages\\sklearn\\neural_network\\_multilayer_perceptron.py:571: ConvergenceWarning: Stochastic Optimizer: Maximum iterations (200) reached and the optimization hasn't converged yet.\n",
      "  % self.max_iter, ConvergenceWarning)\n"
     ]
    },
    {
     "name": "stdout",
     "output_type": "stream",
     "text": [
      "21\n"
     ]
    },
    {
     "name": "stderr",
     "output_type": "stream",
     "text": [
      "C:\\Users\\Mikel\\anaconda3\\lib\\site-packages\\sklearn\\neural_network\\_multilayer_perceptron.py:571: ConvergenceWarning: Stochastic Optimizer: Maximum iterations (200) reached and the optimization hasn't converged yet.\n",
      "  % self.max_iter, ConvergenceWarning)\n"
     ]
    },
    {
     "name": "stdout",
     "output_type": "stream",
     "text": [
      "4\n"
     ]
    },
    {
     "name": "stderr",
     "output_type": "stream",
     "text": [
      "C:\\Users\\Mikel\\anaconda3\\lib\\site-packages\\sklearn\\neural_network\\_multilayer_perceptron.py:571: ConvergenceWarning: Stochastic Optimizer: Maximum iterations (200) reached and the optimization hasn't converged yet.\n",
      "  % self.max_iter, ConvergenceWarning)\n"
     ]
    },
    {
     "name": "stdout",
     "output_type": "stream",
     "text": [
      "10\n"
     ]
    },
    {
     "name": "stderr",
     "output_type": "stream",
     "text": [
      "C:\\Users\\Mikel\\anaconda3\\lib\\site-packages\\sklearn\\neural_network\\_multilayer_perceptron.py:571: ConvergenceWarning: Stochastic Optimizer: Maximum iterations (200) reached and the optimization hasn't converged yet.\n",
      "  % self.max_iter, ConvergenceWarning)\n"
     ]
    },
    {
     "name": "stdout",
     "output_type": "stream",
     "text": [
      "44\n"
     ]
    },
    {
     "name": "stderr",
     "output_type": "stream",
     "text": [
      "C:\\Users\\Mikel\\anaconda3\\lib\\site-packages\\sklearn\\neural_network\\_multilayer_perceptron.py:571: ConvergenceWarning: Stochastic Optimizer: Maximum iterations (200) reached and the optimization hasn't converged yet.\n",
      "  % self.max_iter, ConvergenceWarning)\n"
     ]
    },
    {
     "name": "stdout",
     "output_type": "stream",
     "text": [
      "3\n"
     ]
    },
    {
     "name": "stderr",
     "output_type": "stream",
     "text": [
      "C:\\Users\\Mikel\\anaconda3\\lib\\site-packages\\sklearn\\neural_network\\_multilayer_perceptron.py:571: ConvergenceWarning: Stochastic Optimizer: Maximum iterations (200) reached and the optimization hasn't converged yet.\n",
      "  % self.max_iter, ConvergenceWarning)\n"
     ]
    },
    {
     "name": "stdout",
     "output_type": "stream",
     "text": [
      "18\n"
     ]
    },
    {
     "name": "stderr",
     "output_type": "stream",
     "text": [
      "C:\\Users\\Mikel\\anaconda3\\lib\\site-packages\\sklearn\\neural_network\\_multilayer_perceptron.py:571: ConvergenceWarning: Stochastic Optimizer: Maximum iterations (200) reached and the optimization hasn't converged yet.\n",
      "  % self.max_iter, ConvergenceWarning)\n"
     ]
    },
    {
     "name": "stdout",
     "output_type": "stream",
     "text": [
      "29\n"
     ]
    },
    {
     "name": "stderr",
     "output_type": "stream",
     "text": [
      "C:\\Users\\Mikel\\anaconda3\\lib\\site-packages\\sklearn\\neural_network\\_multilayer_perceptron.py:571: ConvergenceWarning: Stochastic Optimizer: Maximum iterations (200) reached and the optimization hasn't converged yet.\n",
      "  % self.max_iter, ConvergenceWarning)\n"
     ]
    },
    {
     "name": "stdout",
     "output_type": "stream",
     "text": [
      "20\n"
     ]
    },
    {
     "name": "stderr",
     "output_type": "stream",
     "text": [
      "C:\\Users\\Mikel\\anaconda3\\lib\\site-packages\\sklearn\\neural_network\\_multilayer_perceptron.py:571: ConvergenceWarning: Stochastic Optimizer: Maximum iterations (200) reached and the optimization hasn't converged yet.\n",
      "  % self.max_iter, ConvergenceWarning)\n"
     ]
    },
    {
     "name": "stdout",
     "output_type": "stream",
     "text": [
      "7\n"
     ]
    },
    {
     "name": "stderr",
     "output_type": "stream",
     "text": [
      "C:\\Users\\Mikel\\anaconda3\\lib\\site-packages\\sklearn\\neural_network\\_multilayer_perceptron.py:571: ConvergenceWarning: Stochastic Optimizer: Maximum iterations (200) reached and the optimization hasn't converged yet.\n",
      "  % self.max_iter, ConvergenceWarning)\n"
     ]
    },
    {
     "name": "stdout",
     "output_type": "stream",
     "text": [
      "19\n"
     ]
    },
    {
     "name": "stderr",
     "output_type": "stream",
     "text": [
      "C:\\Users\\Mikel\\anaconda3\\lib\\site-packages\\sklearn\\neural_network\\_multilayer_perceptron.py:571: ConvergenceWarning: Stochastic Optimizer: Maximum iterations (200) reached and the optimization hasn't converged yet.\n",
      "  % self.max_iter, ConvergenceWarning)\n"
     ]
    },
    {
     "name": "stdout",
     "output_type": "stream",
     "text": [
      "11\n"
     ]
    },
    {
     "name": "stderr",
     "output_type": "stream",
     "text": [
      "C:\\Users\\Mikel\\anaconda3\\lib\\site-packages\\sklearn\\neural_network\\_multilayer_perceptron.py:571: ConvergenceWarning: Stochastic Optimizer: Maximum iterations (200) reached and the optimization hasn't converged yet.\n",
      "  % self.max_iter, ConvergenceWarning)\n"
     ]
    },
    {
     "name": "stdout",
     "output_type": "stream",
     "text": [
      "2\n"
     ]
    },
    {
     "name": "stderr",
     "output_type": "stream",
     "text": [
      "C:\\Users\\Mikel\\anaconda3\\lib\\site-packages\\sklearn\\neural_network\\_multilayer_perceptron.py:571: ConvergenceWarning: Stochastic Optimizer: Maximum iterations (200) reached and the optimization hasn't converged yet.\n",
      "  % self.max_iter, ConvergenceWarning)\n"
     ]
    },
    {
     "name": "stdout",
     "output_type": "stream",
     "text": [
      "28\n"
     ]
    },
    {
     "name": "stderr",
     "output_type": "stream",
     "text": [
      "C:\\Users\\Mikel\\anaconda3\\lib\\site-packages\\sklearn\\neural_network\\_multilayer_perceptron.py:571: ConvergenceWarning: Stochastic Optimizer: Maximum iterations (200) reached and the optimization hasn't converged yet.\n",
      "  % self.max_iter, ConvergenceWarning)\n"
     ]
    },
    {
     "name": "stdout",
     "output_type": "stream",
     "text": [
      "5\n"
     ]
    },
    {
     "name": "stderr",
     "output_type": "stream",
     "text": [
      "C:\\Users\\Mikel\\anaconda3\\lib\\site-packages\\sklearn\\neural_network\\_multilayer_perceptron.py:571: ConvergenceWarning: Stochastic Optimizer: Maximum iterations (200) reached and the optimization hasn't converged yet.\n",
      "  % self.max_iter, ConvergenceWarning)\n"
     ]
    },
    {
     "name": "stdout",
     "output_type": "stream",
     "text": [
      "8\n"
     ]
    },
    {
     "name": "stderr",
     "output_type": "stream",
     "text": [
      "C:\\Users\\Mikel\\anaconda3\\lib\\site-packages\\sklearn\\neural_network\\_multilayer_perceptron.py:571: ConvergenceWarning: Stochastic Optimizer: Maximum iterations (200) reached and the optimization hasn't converged yet.\n",
      "  % self.max_iter, ConvergenceWarning)\n"
     ]
    },
    {
     "name": "stdout",
     "output_type": "stream",
     "text": [
      "16\n"
     ]
    },
    {
     "name": "stderr",
     "output_type": "stream",
     "text": [
      "C:\\Users\\Mikel\\anaconda3\\lib\\site-packages\\sklearn\\neural_network\\_multilayer_perceptron.py:571: ConvergenceWarning: Stochastic Optimizer: Maximum iterations (200) reached and the optimization hasn't converged yet.\n",
      "  % self.max_iter, ConvergenceWarning)\n"
     ]
    },
    {
     "name": "stdout",
     "output_type": "stream",
     "text": [
      "6\n",
      "{'accuracy': [0.3642611683848797, 0.3403361344537815, 0.7517482517482518, 0.3905109489051095, 0.3489208633093525, 0.6730769230769231, 0.47417840375586856, 0.5321428571428571, 0.5421052631578948, 0.5077519379844961, 0.5555555555555556, 0.675392670157068, 0.4444444444444444, 0.6230769230769231, 0.5150501672240803, 0.43703703703703706, 0.3161764705882353, 0.4714828897338403, 0.5451263537906137], 'roc_auc': [0.6543603907728505, 0.5911291629527592, 0.9497760154786552, 0.7203030056245452, 0.6635989745941592, 0.7324912280701755, 0.7499676238738738, 0.7571990521014608, 0.7191625724363818, 0.7285534423227332, 0.7467036076543717, 0.743443599529126, 0.6865444928914096, 0.8069725975975975, 0.6472407407407407, 0.6376262626262625, 0.7044894021775793, 0.6607033160374546, 0.7629832990162435], 'f1': [0.28778160075486964, 0.274313000206388, 0.7532415289095111, 0.26625746516257465, 0.21930090541606465, 0.633345947433604, 0.4718583806717399, 0.48597238353335914, 0.5425279310808991, 0.4341744974451419, 0.5243055218358356, 0.6646212839992889, 0.409599395313681, 0.6141270567467333, 0.45579536379436464, 0.35390734058257706, 0.16569115530607342, 0.4514894734506073, 0.539589027546152]}\n",
      "mlp evaluated\n",
      "15\n",
      "12\n",
      "21\n",
      "4\n",
      "10\n",
      "44\n",
      "3\n",
      "18\n",
      "29\n",
      "20\n",
      "7\n",
      "19\n",
      "11\n",
      "2\n",
      "28\n",
      "5\n",
      "8\n",
      "16\n",
      "6\n",
      "{'accuracy': [0.32646048109965636, 0.3697478991596639, 0.8426573426573427, 0.38686131386861317, 0.37410071942446044, 0.6346153846153846, 0.6713615023474179, 0.4928571428571429, 0.4842105263157895, 0.46511627906976744, 0.5663082437275986, 0.5968586387434555, 0.376984126984127, 0.5807692307692308, 0.431438127090301, 0.4185185185185185, 0.36764705882352944, 0.3840304182509506, 0.5992779783393501], 'roc_auc': [0.686794062415514, 0.6186235583286065, 0.9412113803854876, 0.7357930538662071, 0.6719127581888417, 0.757855600539811, 0.7961167417417417, 0.7549450739598166, 0.6564452632905015, 0.7310590645394446, 0.7605709890939093, 0.6928554815067973, 0.7087490483631846, 0.7945925091758426, 0.6637683501683501, 0.6372257295173961, 0.7201185481005771, 0.6512392894773463, 0.7680001609937551], 'f1': [0.26736469544352454, 0.27249035680817196, 0.8422150101448957, 0.29174222958101, 0.2690846709027095, 0.575253065960625, 0.6672083784759841, 0.40039396817255696, 0.4845149177850192, 0.44191044387277656, 0.5363233622115303, 0.5545813626054918, 0.30835327277759644, 0.550484516054194, 0.33716136313027917, 0.3166277294956858, 0.2751126224872306, 0.31140759890177283, 0.6034615927291834]}\n",
      "svcl evaluated\n",
      "15\n",
      "12\n",
      "21\n",
      "4\n",
      "10\n",
      "44\n",
      "3\n",
      "18\n",
      "29\n",
      "20\n",
      "7\n",
      "19\n",
      "11\n",
      "2\n",
      "28\n",
      "5\n",
      "8\n",
      "16\n",
      "6\n",
      "{'accuracy': [0.38831615120274915, 0.3907563025210084, 0.6398601398601399, 0.4197080291970803, 0.3776978417266187, 0.6653846153846154, 0.460093896713615, 0.46785714285714286, 0.5631578947368421, 0.5271317829457365, 0.4265232974910394, 0.6544502617801047, 0.43253968253968256, 0.5923076923076923, 0.5719063545150501, 0.4925925925925926, 0.2867647058823529, 0.44866920152091255, 0.5667870036101083], 'roc_auc': [0.6373409836544716, 0.5989668584393485, 0.8999513981317163, 0.7151038259692336, 0.5838713186225224, 0.8110053981106612, 0.6275717905405406, 0.7343717041079998, 0.7403895817586293, 0.7254254550233261, 0.6290283193509001, 0.7566560814916078, 0.6730640337744557, 0.8209031948615282, 0.7820092592592592, 0.6493981481481482, 0.6294171085236804, 0.6657283155404465, 0.7677355804672207], 'f1': [0.32933428849809593, 0.3790547967972755, 0.6001040529860864, 0.33137227165454775, 0.3188895076547944, 0.6352674413818913, 0.4563543675677763, 0.41797297446443754, 0.5655624972552674, 0.5239313929644407, 0.3713482590365257, 0.6199430961352064, 0.4148864224052195, 0.5601149877021979, 0.50992799957127, 0.4156116646696517, 0.16016222798704868, 0.3819089548977913, 0.5602527657150165]}\n",
      "svmp evaluated\n",
      "\n",
      "Rank=1, Name=rf, Accuracy=0.515, roc_auc=0.729, f1=0.483\n",
      "Rank=2, Name=mlp, Accuracy=0.500, roc_auc=0.719, f1=0.450\n",
      "Rank=3, Name=logistic, Accuracy=0.494, roc_auc=0.723, f1=0.448\n",
      "Rank=4, Name=svmp, Accuracy=0.493, roc_auc=0.708, f1=0.450\n",
      "Rank=5, Name=svcl, Accuracy=0.493, roc_auc=0.724, f1=0.437\n",
      "Rank=6, Name=lda, Accuracy=0.481, roc_auc=0.710, f1=0.432\n",
      "Rank=7, Name=ada, Accuracy=0.471, roc_auc=0.688, f1=0.441\n",
      "Rank=8, Name=knn, Accuracy=0.460, roc_auc=0.642, f1=0.447\n",
      "Rank=9, Name=qda, Accuracy=0.436, roc_auc=0.664, f1=0.373\n",
      "Rank=10, Name=cart, Accuracy=0.409, roc_auc=0.554, f1=0.402\n",
      "0.40881654962022934 ['rf', 'mlp', 'logistic', 'svmp', 'svcl', 'lda', 'ada', 'knn', 'qda', 'cart']\n"
     ]
    },
    {
     "data": {
      "image/png": "[encoded data removed]",
      "text/plain": [
       "<Figure size 432x288 with 1 Axes>"
      ]
     },
     "metadata": {
      "needs_background": "light"
     },
     "output_type": "display_data"
    },
    {
     "data": {
      "image/png": "[encoded data removed]",
      "text/plain": [
       "<Figure size 432x288 with 1 Axes>"
      ]
     },
     "metadata": {
      "needs_background": "light"
     },
     "output_type": "display_data"
    },
    {
     "data": {
      "image/png": "[encoded data removed]",
      "text/plain": [
       "<Figure size 432x288 with 1 Axes>"
      ]
     },
     "metadata": {
      "needs_background": "light"
     },
     "output_type": "display_data"
    }
   ],
   "source": [
    "# evaluate models\n",
    "results = evaluate_models(X_scaled_train, Y_train, models, subjects_train)\n",
    "# summarize results\n",
    "summarize_results(results)"
   ]
  },
  {
   "cell_type": "markdown",
   "metadata": {},
   "source": [
    "Normalizing the data improved a bit the results, but generally PCA will not be useful for this data. "
   ]
  },
  {
   "cell_type": "code",
   "execution_count": null,
   "metadata": {},
   "outputs": [],
   "source": []
  }
 ],
 "metadata": {
  "kernelspec": {
   "display_name": "Python 3",
   "language": "python",
   "name": "python3"
  },
  "language_info": {
   "codemirror_mode": {
    "name": "ipython",
    "version": 3
   },
   "file_extension": ".py",
   "mimetype": "text/x-python",
   "name": "python",
   "nbconvert_exporter": "python",
   "pygments_lexer": "ipython3",
   "version": "3.7.6"
  }
 },
 "nbformat": 4,
 "nbformat_minor": 4
}
