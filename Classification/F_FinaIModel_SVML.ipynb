{
 "cells": [
  {
   "cell_type": "markdown",
   "metadata": {},
   "source": [
    "# Training and evaluation of a SVCL classification model \n",
    "In this script a support vector machines with linear kernel classification model is trained and evaluated with different subjects."
   ]
  },
  {
   "cell_type": "markdown",
   "metadata": {},
   "source": [
    "## Import the libraries"
   ]
  },
  {
   "cell_type": "code",
   "execution_count": 1,
   "metadata": {},
   "outputs": [],
   "source": [
    "import os\n",
    "import pandas as pd\n",
    "import numpy as np\n",
    "from numpy import mean\n",
    "from numpy import std\n",
    "from matplotlib import pyplot\n",
    "import seaborn as sns\n",
    "from sklearn.preprocessing import StandardScaler\n",
    "from sklearn.preprocessing import MinMaxScaler\n",
    "from sklearn.ensemble import RandomForestClassifier\n",
    "from sklearn.metrics import confusion_matrix\n",
    "from sklearn.metrics import multilabel_confusion_matrix\n",
    "import matplotlib.pyplot as plt\n",
    "from sklearn.decomposition import PCA\n",
    "from sklearn.metrics import accuracy_score\n",
    "from sklearn.model_selection import cross_val_score\n",
    "from sklearn.model_selection import KFold\n",
    "from sklearn.model_selection import train_test_split\n",
    "from collections import Counter\n",
    "from sklearn.neural_network import MLPClassifier\n",
    "from sklearn.svm import SVC\n",
    "from sklearn.preprocessing import LabelBinarizer\n",
    "from sklearn.metrics import roc_curve, auc"
   ]
  },
  {
   "cell_type": "markdown",
   "metadata": {},
   "source": [
    "## Create some functions"
   ]
  },
  {
   "cell_type": "code",
   "execution_count": 2,
   "metadata": {},
   "outputs": [],
   "source": [
    "def evaluate_model_predictions(real_classes, predicted_classes, subject) :\n",
    "    #Calculate the confusion matrix\n",
    "    cm = confusion_matrix(real_classes, predicted_classes)\n",
    "    #Show the co-occurrence matrix\n",
    "    plt.figure(figsize = (8,6))\n",
    "    sns.heatmap(cm, square=True, annot=True, annot_kws={\"size\": 20}, cmap=plt.cm.Blues, cbar=False,\n",
    "                xticklabels=['Resting', 'Right','Left'], yticklabels=['Resting', 'Right', 'Left'])\n",
    "    plt.xlabel('Predicted label', fontsize=14)\n",
    "    plt.ylabel('True label', fontsize=14)\n",
    "    plt.title('Subject %d' % (subject), fontsize=18)\n",
    "    #Calculate true positives and false negatives for each class\n",
    "    tp0 = cm[0,0]\n",
    "    tp1 = cm[1,1]\n",
    "    tp2 = cm[2,2]\n",
    "    tn0 = cm[1,1] + cm[1,2] + cm[2,1] + cm[2,2]\n",
    "    tn1 = cm[0,0] + cm[2,0] + cm[0,2] + cm[2,2]\n",
    "    tn2 = cm[0,0] + cm[1,0] + cm[0,1] + cm[1,1]\n",
    "    fp0 = cm[1,0] + cm[2,0]\n",
    "    fp1 = cm[0,1] + cm[2,1]\n",
    "    fp2 = cm[0,2] + cm[1,2]\n",
    "    fn0 = cm[0,1] + cm[0,2]\n",
    "    fn1 = cm[1,0] + cm[1,2]\n",
    "    fn2 = cm[2,0] + cm[2,1]\n",
    "    #Calculate and print the metrics\n",
    "    accuracy = (tp0+tp1+tp2)/np.sum(cm)\n",
    "    print('Total accuracy:', accuracy)\n",
    "    print('------------------------------------------')\n",
    "    precision0 = tp0/(tp0+fp0)\n",
    "    precision1 = tp1/(tp1+fp1)\n",
    "    precision2 = tp2/(tp2+fp2)\n",
    "    print('Precision for resting state:', precision0)\n",
    "    print('Precision for right movement:', precision1)\n",
    "    print('Precision for left movement:', precision2)\n",
    "    print('------------------------------------------')\n",
    "    sensitivity0 = tp0/(tp0+fn0)\n",
    "    sensitivity1 = tp1/(tp1+fn1)\n",
    "    sensitivity2 = tp2/(tp2+fn2)\n",
    "    print('Sensitivity (true positive rate) for resting state:', sensitivity0)\n",
    "    print('Sensitivity (true positive rate) for right movement:', sensitivity1)\n",
    "    print('Sensitivity (true positive rate) for left movement:', sensitivity2)\n",
    "    print('------------------------------------------')\n",
    "    specificity0 = tn0/(tn0+fp0)\n",
    "    specificity1 = tn1/(tn1+fp1)\n",
    "    specificity2 = tn2/(tn2+fp2)\n",
    "    print('Specificity (true negative rate) for resting state:', specificity0)\n",
    "    print('Specificity (true negative rate) for right movement:', specificity1)\n",
    "    print('Specificity (true negative rate) for left movement:', specificity2)\n",
    "    print('------------------------------------------')\n",
    "    f1_0 = 2*(precision0*sensitivity0)/(precision0+sensitivity0)\n",
    "    f1_1 = 2*(precision1*sensitivity1)/(precision1+sensitivity1)\n",
    "    f1_2 = 2*(precision2*sensitivity2)/(precision2+sensitivity2)\n",
    "    print('F1 for resting state:', f1_0)\n",
    "    print('F1 for right movement:', f1_1)\n",
    "    print('F1 for left movement:', f1_2)\n",
    "    print('------------------------------------------')"
   ]
  },
  {
   "cell_type": "code",
   "execution_count": 3,
   "metadata": {},
   "outputs": [],
   "source": [
    "def plot_roc_curve(y_test, y_prob, subject) :\n",
    "    lb = LabelBinarizer()\n",
    "    y_test = lb.fit_transform(y_test)\n",
    "    classes = ['Resting','Right','Left']\n",
    "    #Compute and plot ROC curve and ROC area for each class\n",
    "    plt.figure(figsize = (8,6))\n",
    "    for i in range(3):\n",
    "        fpr, tpr, _ = roc_curve(y_test[:, i], y_prob[:, i])\n",
    "        roc_auc = auc(fpr, tpr)\n",
    "        label = 'ROC curve of ' + classes[i] + ' (area =%.2f)' % (roc_auc)\n",
    "        plt.plot(fpr, tpr, lw=2, label=label)\n",
    "    plt.plot([0, 1], [0, 1], 'k--', lw=2)\n",
    "    plt.xlim([0.0, 1.0])\n",
    "    plt.ylim([0.0, 1.05])\n",
    "    plt.xlabel('False Positive Rate', fontsize=14)\n",
    "    plt.ylabel('True Positive Rate', fontsize=14)\n",
    "    #plt.title('ROC Curves for subject %d' % (subject), fontisize=18)\n",
    "    plt.legend(loc=\"lower right\")\n",
    "    plt.show()"
   ]
  },
  {
   "cell_type": "markdown",
   "metadata": {},
   "source": [
    "## Read the features and labels from all the subjects"
   ]
  },
  {
   "cell_type": "code",
   "execution_count": 4,
   "metadata": {},
   "outputs": [
    {
     "data": {
      "text/html": [
       "<div>\n",
       "<style scoped>\n",
       "    .dataframe tbody tr th:only-of-type {\n",
       "        vertical-align: middle;\n",
       "    }\n",
       "\n",
       "    .dataframe tbody tr th {\n",
       "        vertical-align: top;\n",
       "    }\n",
       "\n",
       "    .dataframe thead th {\n",
       "        text-align: right;\n",
       "    }\n",
       "</style>\n",
       "<table border=\"1\" class=\"dataframe\">\n",
       "  <thead>\n",
       "    <tr style=\"text-align: right;\">\n",
       "      <th></th>\n",
       "      <th>Subject</th>\n",
       "      <th>Epoch</th>\n",
       "      <th>Mean_FC5</th>\n",
       "      <th>Variance_FC5</th>\n",
       "      <th>Kurtosis_FC5</th>\n",
       "      <th>Mean_FC3</th>\n",
       "      <th>Variance_FC3</th>\n",
       "      <th>Kurtosis_FC3</th>\n",
       "      <th>Mean_FC1</th>\n",
       "      <th>Variance_FC1</th>\n",
       "      <th>...</th>\n",
       "      <th>PLV_CP1_CP2</th>\n",
       "      <th>PLV_CP1_CP4</th>\n",
       "      <th>PLV_CP1_CP6</th>\n",
       "      <th>PLV_CPz_CP2</th>\n",
       "      <th>PLV_CPz_CP4</th>\n",
       "      <th>PLV_CPz_CP6</th>\n",
       "      <th>PLV_CP2_CP4</th>\n",
       "      <th>PLV_CP2_CP6</th>\n",
       "      <th>PLV_CP4_CP6</th>\n",
       "      <th>Label</th>\n",
       "    </tr>\n",
       "  </thead>\n",
       "  <tbody>\n",
       "    <tr>\n",
       "      <th>0</th>\n",
       "      <td>1</td>\n",
       "      <td>1</td>\n",
       "      <td>0.077105</td>\n",
       "      <td>7.357580</td>\n",
       "      <td>2.809176</td>\n",
       "      <td>0.382332</td>\n",
       "      <td>7.589385</td>\n",
       "      <td>3.297552</td>\n",
       "      <td>0.464633</td>\n",
       "      <td>7.700149</td>\n",
       "      <td>...</td>\n",
       "      <td>0.318132</td>\n",
       "      <td>0.073507</td>\n",
       "      <td>0.323108</td>\n",
       "      <td>0.669452</td>\n",
       "      <td>0.247354</td>\n",
       "      <td>0.067815</td>\n",
       "      <td>0.685624</td>\n",
       "      <td>0.365035</td>\n",
       "      <td>0.772310</td>\n",
       "      <td>1</td>\n",
       "    </tr>\n",
       "    <tr>\n",
       "      <th>1</th>\n",
       "      <td>1</td>\n",
       "      <td>2</td>\n",
       "      <td>-0.018304</td>\n",
       "      <td>7.029542</td>\n",
       "      <td>2.842915</td>\n",
       "      <td>0.184697</td>\n",
       "      <td>6.991603</td>\n",
       "      <td>3.060431</td>\n",
       "      <td>0.281971</td>\n",
       "      <td>7.484742</td>\n",
       "      <td>...</td>\n",
       "      <td>0.470648</td>\n",
       "      <td>0.123157</td>\n",
       "      <td>0.181453</td>\n",
       "      <td>0.699222</td>\n",
       "      <td>0.302571</td>\n",
       "      <td>0.062673</td>\n",
       "      <td>0.705291</td>\n",
       "      <td>0.361569</td>\n",
       "      <td>0.726673</td>\n",
       "      <td>2</td>\n",
       "    </tr>\n",
       "    <tr>\n",
       "      <th>2</th>\n",
       "      <td>1</td>\n",
       "      <td>3</td>\n",
       "      <td>-0.319861</td>\n",
       "      <td>6.399684</td>\n",
       "      <td>3.428581</td>\n",
       "      <td>-0.346442</td>\n",
       "      <td>6.964995</td>\n",
       "      <td>2.777844</td>\n",
       "      <td>-0.256384</td>\n",
       "      <td>8.132662</td>\n",
       "      <td>...</td>\n",
       "      <td>0.580862</td>\n",
       "      <td>0.386278</td>\n",
       "      <td>0.231118</td>\n",
       "      <td>0.773177</td>\n",
       "      <td>0.498727</td>\n",
       "      <td>0.242550</td>\n",
       "      <td>0.764621</td>\n",
       "      <td>0.475057</td>\n",
       "      <td>0.770152</td>\n",
       "      <td>1</td>\n",
       "    </tr>\n",
       "    <tr>\n",
       "      <th>3</th>\n",
       "      <td>1</td>\n",
       "      <td>4</td>\n",
       "      <td>0.036567</td>\n",
       "      <td>8.415375</td>\n",
       "      <td>2.555121</td>\n",
       "      <td>0.150948</td>\n",
       "      <td>9.348971</td>\n",
       "      <td>3.053070</td>\n",
       "      <td>0.207301</td>\n",
       "      <td>8.933164</td>\n",
       "      <td>...</td>\n",
       "      <td>0.607181</td>\n",
       "      <td>0.256862</td>\n",
       "      <td>0.167798</td>\n",
       "      <td>0.806269</td>\n",
       "      <td>0.438541</td>\n",
       "      <td>0.089317</td>\n",
       "      <td>0.747473</td>\n",
       "      <td>0.330642</td>\n",
       "      <td>0.694656</td>\n",
       "      <td>2</td>\n",
       "    </tr>\n",
       "    <tr>\n",
       "      <th>4</th>\n",
       "      <td>1</td>\n",
       "      <td>5</td>\n",
       "      <td>0.257114</td>\n",
       "      <td>13.767046</td>\n",
       "      <td>2.879540</td>\n",
       "      <td>0.157239</td>\n",
       "      <td>14.221320</td>\n",
       "      <td>2.764797</td>\n",
       "      <td>-0.017693</td>\n",
       "      <td>13.340810</td>\n",
       "      <td>...</td>\n",
       "      <td>0.464897</td>\n",
       "      <td>0.257998</td>\n",
       "      <td>0.146752</td>\n",
       "      <td>0.819921</td>\n",
       "      <td>0.607017</td>\n",
       "      <td>0.364591</td>\n",
       "      <td>0.854306</td>\n",
       "      <td>0.557560</td>\n",
       "      <td>0.742894</td>\n",
       "      <td>2</td>\n",
       "    </tr>\n",
       "    <tr>\n",
       "      <th>...</th>\n",
       "      <td>...</td>\n",
       "      <td>...</td>\n",
       "      <td>...</td>\n",
       "      <td>...</td>\n",
       "      <td>...</td>\n",
       "      <td>...</td>\n",
       "      <td>...</td>\n",
       "      <td>...</td>\n",
       "      <td>...</td>\n",
       "      <td>...</td>\n",
       "      <td>...</td>\n",
       "      <td>...</td>\n",
       "      <td>...</td>\n",
       "      <td>...</td>\n",
       "      <td>...</td>\n",
       "      <td>...</td>\n",
       "      <td>...</td>\n",
       "      <td>...</td>\n",
       "      <td>...</td>\n",
       "      <td>...</td>\n",
       "      <td>...</td>\n",
       "    </tr>\n",
       "    <tr>\n",
       "      <th>255</th>\n",
       "      <td>44</td>\n",
       "      <td>256</td>\n",
       "      <td>-0.347318</td>\n",
       "      <td>11.215760</td>\n",
       "      <td>2.415819</td>\n",
       "      <td>-0.551029</td>\n",
       "      <td>13.194753</td>\n",
       "      <td>2.405359</td>\n",
       "      <td>-0.656948</td>\n",
       "      <td>12.642553</td>\n",
       "      <td>...</td>\n",
       "      <td>0.080379</td>\n",
       "      <td>0.140109</td>\n",
       "      <td>0.308763</td>\n",
       "      <td>0.595714</td>\n",
       "      <td>0.356431</td>\n",
       "      <td>0.148958</td>\n",
       "      <td>0.845309</td>\n",
       "      <td>0.611503</td>\n",
       "      <td>0.830670</td>\n",
       "      <td>0</td>\n",
       "    </tr>\n",
       "    <tr>\n",
       "      <th>256</th>\n",
       "      <td>44</td>\n",
       "      <td>257</td>\n",
       "      <td>0.221785</td>\n",
       "      <td>12.573679</td>\n",
       "      <td>3.445813</td>\n",
       "      <td>0.237528</td>\n",
       "      <td>11.310268</td>\n",
       "      <td>3.638090</td>\n",
       "      <td>0.239306</td>\n",
       "      <td>11.290607</td>\n",
       "      <td>...</td>\n",
       "      <td>0.266919</td>\n",
       "      <td>0.165629</td>\n",
       "      <td>0.418936</td>\n",
       "      <td>0.611298</td>\n",
       "      <td>0.252375</td>\n",
       "      <td>0.062959</td>\n",
       "      <td>0.743924</td>\n",
       "      <td>0.390819</td>\n",
       "      <td>0.758761</td>\n",
       "      <td>0</td>\n",
       "    </tr>\n",
       "    <tr>\n",
       "      <th>257</th>\n",
       "      <td>44</td>\n",
       "      <td>258</td>\n",
       "      <td>-0.429369</td>\n",
       "      <td>7.199075</td>\n",
       "      <td>3.063733</td>\n",
       "      <td>-0.496420</td>\n",
       "      <td>8.957319</td>\n",
       "      <td>3.198463</td>\n",
       "      <td>-0.582399</td>\n",
       "      <td>9.467059</td>\n",
       "      <td>...</td>\n",
       "      <td>0.578182</td>\n",
       "      <td>0.322126</td>\n",
       "      <td>0.422456</td>\n",
       "      <td>0.720966</td>\n",
       "      <td>0.303902</td>\n",
       "      <td>0.250078</td>\n",
       "      <td>0.694467</td>\n",
       "      <td>0.191094</td>\n",
       "      <td>0.554233</td>\n",
       "      <td>0</td>\n",
       "    </tr>\n",
       "    <tr>\n",
       "      <th>258</th>\n",
       "      <td>44</td>\n",
       "      <td>259</td>\n",
       "      <td>-0.945257</td>\n",
       "      <td>21.763986</td>\n",
       "      <td>6.206397</td>\n",
       "      <td>-0.971078</td>\n",
       "      <td>17.039679</td>\n",
       "      <td>6.818231</td>\n",
       "      <td>-0.958857</td>\n",
       "      <td>15.633321</td>\n",
       "      <td>...</td>\n",
       "      <td>0.444469</td>\n",
       "      <td>0.202010</td>\n",
       "      <td>0.083466</td>\n",
       "      <td>0.758260</td>\n",
       "      <td>0.527970</td>\n",
       "      <td>0.244990</td>\n",
       "      <td>0.844094</td>\n",
       "      <td>0.562038</td>\n",
       "      <td>0.789984</td>\n",
       "      <td>0</td>\n",
       "    </tr>\n",
       "    <tr>\n",
       "      <th>259</th>\n",
       "      <td>44</td>\n",
       "      <td>260</td>\n",
       "      <td>0.167214</td>\n",
       "      <td>4.859880</td>\n",
       "      <td>3.381623</td>\n",
       "      <td>0.117990</td>\n",
       "      <td>4.956969</td>\n",
       "      <td>2.973658</td>\n",
       "      <td>0.105943</td>\n",
       "      <td>5.630100</td>\n",
       "      <td>...</td>\n",
       "      <td>0.533983</td>\n",
       "      <td>0.121270</td>\n",
       "      <td>0.270544</td>\n",
       "      <td>0.764531</td>\n",
       "      <td>0.372002</td>\n",
       "      <td>0.079072</td>\n",
       "      <td>0.688026</td>\n",
       "      <td>0.228740</td>\n",
       "      <td>0.631245</td>\n",
       "      <td>0</td>\n",
       "    </tr>\n",
       "  </tbody>\n",
       "</table>\n",
       "<p>6251 rows × 313 columns</p>\n",
       "</div>"
      ],
      "text/plain": [
       "     Subject  Epoch  Mean_FC5  Variance_FC5  Kurtosis_FC5  Mean_FC3  \\\n",
       "0          1      1  0.077105      7.357580      2.809176  0.382332   \n",
       "1          1      2 -0.018304      7.029542      2.842915  0.184697   \n",
       "2          1      3 -0.319861      6.399684      3.428581 -0.346442   \n",
       "3          1      4  0.036567      8.415375      2.555121  0.150948   \n",
       "4          1      5  0.257114     13.767046      2.879540  0.157239   \n",
       "..       ...    ...       ...           ...           ...       ...   \n",
       "255       44    256 -0.347318     11.215760      2.415819 -0.551029   \n",
       "256       44    257  0.221785     12.573679      3.445813  0.237528   \n",
       "257       44    258 -0.429369      7.199075      3.063733 -0.496420   \n",
       "258       44    259 -0.945257     21.763986      6.206397 -0.971078   \n",
       "259       44    260  0.167214      4.859880      3.381623  0.117990   \n",
       "\n",
       "     Variance_FC3  Kurtosis_FC3  Mean_FC1  Variance_FC1  ...  PLV_CP1_CP2  \\\n",
       "0        7.589385      3.297552  0.464633      7.700149  ...     0.318132   \n",
       "1        6.991603      3.060431  0.281971      7.484742  ...     0.470648   \n",
       "2        6.964995      2.777844 -0.256384      8.132662  ...     0.580862   \n",
       "3        9.348971      3.053070  0.207301      8.933164  ...     0.607181   \n",
       "4       14.221320      2.764797 -0.017693     13.340810  ...     0.464897   \n",
       "..            ...           ...       ...           ...  ...          ...   \n",
       "255     13.194753      2.405359 -0.656948     12.642553  ...     0.080379   \n",
       "256     11.310268      3.638090  0.239306     11.290607  ...     0.266919   \n",
       "257      8.957319      3.198463 -0.582399      9.467059  ...     0.578182   \n",
       "258     17.039679      6.818231 -0.958857     15.633321  ...     0.444469   \n",
       "259      4.956969      2.973658  0.105943      5.630100  ...     0.533983   \n",
       "\n",
       "     PLV_CP1_CP4  PLV_CP1_CP6  PLV_CPz_CP2  PLV_CPz_CP4  PLV_CPz_CP6  \\\n",
       "0       0.073507     0.323108     0.669452     0.247354     0.067815   \n",
       "1       0.123157     0.181453     0.699222     0.302571     0.062673   \n",
       "2       0.386278     0.231118     0.773177     0.498727     0.242550   \n",
       "3       0.256862     0.167798     0.806269     0.438541     0.089317   \n",
       "4       0.257998     0.146752     0.819921     0.607017     0.364591   \n",
       "..           ...          ...          ...          ...          ...   \n",
       "255     0.140109     0.308763     0.595714     0.356431     0.148958   \n",
       "256     0.165629     0.418936     0.611298     0.252375     0.062959   \n",
       "257     0.322126     0.422456     0.720966     0.303902     0.250078   \n",
       "258     0.202010     0.083466     0.758260     0.527970     0.244990   \n",
       "259     0.121270     0.270544     0.764531     0.372002     0.079072   \n",
       "\n",
       "     PLV_CP2_CP4  PLV_CP2_CP6  PLV_CP4_CP6  Label  \n",
       "0       0.685624     0.365035     0.772310      1  \n",
       "1       0.705291     0.361569     0.726673      2  \n",
       "2       0.764621     0.475057     0.770152      1  \n",
       "3       0.747473     0.330642     0.694656      2  \n",
       "4       0.854306     0.557560     0.742894      2  \n",
       "..           ...          ...          ...    ...  \n",
       "255     0.845309     0.611503     0.830670      0  \n",
       "256     0.743924     0.390819     0.758761      0  \n",
       "257     0.694467     0.191094     0.554233      0  \n",
       "258     0.844094     0.562038     0.789984      0  \n",
       "259     0.688026     0.228740     0.631245      0  \n",
       "\n",
       "[6251 rows x 313 columns]"
      ]
     },
     "execution_count": 4,
     "metadata": {},
     "output_type": "execute_result"
    }
   ],
   "source": [
    "#read subjects files and merge them\n",
    "files = os.listdir('Subjects data')\n",
    "features_all = pd.read_csv('Subjects data/' + files[0], encoding='latin1')\n",
    "files.pop(0)\n",
    "for f in files :\n",
    "    features_subject = pd.read_csv('Subjects data/' + f, encoding='latin1')\n",
    "    frames = [features_all, features_subject]\n",
    "    features_all = pd.concat(frames)\n",
    "#features_all.index = [features_all['Subject'], features_all['Epoch']]\n",
    "subjects_idx = features_all['Subject'].values\n",
    "#features_all = features_all.drop(['Subject','Epoch'], axis = 1)\n",
    "features_all"
   ]
  },
  {
   "cell_type": "markdown",
   "metadata": {},
   "source": [
    "- Select the features according to the previously result from RFE method"
   ]
  },
  {
   "cell_type": "code",
   "execution_count": 5,
   "metadata": {},
   "outputs": [],
   "source": [
    "features_names = ['PSD_FC1_D3', 'PSD_Cz_D3', 'PSD_CP1_D3', 'PSD_CP2_D3', 'PLV_FC5_FC1',\n",
    "                   'PLV_FC5_CP5', 'PLV_FC3_C1', 'PLV_FC3_CP1', 'PLV_FC1_FC2', 'PLV_FC1_C3',\n",
    "                   'PLV_FC1_C2', 'PLV_FC1_CPz', 'PLV_C5_CP6', 'PLV_C3_C1', 'PLV_Cz_C4',\n",
    "                   'PLV_C2_C4', 'PLV_CP5_CP3', 'PLV_CP5_CP6', 'PLV_CP3_CP2', 'PLV_CP4_CP6']"
   ]
  },
  {
   "cell_type": "markdown",
   "metadata": {},
   "source": [
    "## Split the subjects into training and test"
   ]
  },
  {
   "cell_type": "code",
   "execution_count": 6,
   "metadata": {},
   "outputs": [
    {
     "data": {
      "text/plain": [
       "([15, 12, 21, 4, 10, 44, 3, 18, 29, 20, 7, 19, 11, 2, 28, 5, 8, 16, 6],\n",
       " [1, 13, 17, 14, 9])"
      ]
     },
     "execution_count": 6,
     "metadata": {},
     "output_type": "execute_result"
    }
   ],
   "source": [
    "#Select randomly subjects for train and test\n",
    "subjects = np.unique(subjects_idx)\n",
    "subjects_train = [15, 12, 21, 4, 10, 44, 3, 18, 29, 20, 7, 19, 11, 2, 28, 5, 8, 16, 6]\n",
    "subjects_test = [1, 13, 17, 14, 9]\n",
    "subjects_train, subjects_test"
   ]
  },
  {
   "cell_type": "markdown",
   "metadata": {},
   "source": [
    "- Get the training data"
   ]
  },
  {
   "cell_type": "code",
   "execution_count": 7,
   "metadata": {},
   "outputs": [
    {
     "data": {
      "text/html": [
       "<div>\n",
       "<style scoped>\n",
       "    .dataframe tbody tr th:only-of-type {\n",
       "        vertical-align: middle;\n",
       "    }\n",
       "\n",
       "    .dataframe tbody tr th {\n",
       "        vertical-align: top;\n",
       "    }\n",
       "\n",
       "    .dataframe thead th {\n",
       "        text-align: right;\n",
       "    }\n",
       "</style>\n",
       "<table border=\"1\" class=\"dataframe\">\n",
       "  <thead>\n",
       "    <tr style=\"text-align: right;\">\n",
       "      <th></th>\n",
       "      <th></th>\n",
       "      <th>PSD_FC1_D3</th>\n",
       "      <th>PSD_Cz_D3</th>\n",
       "      <th>PSD_CP1_D3</th>\n",
       "      <th>PSD_CP2_D3</th>\n",
       "      <th>PLV_FC5_FC1</th>\n",
       "      <th>PLV_FC5_CP5</th>\n",
       "      <th>PLV_FC3_C1</th>\n",
       "      <th>PLV_FC3_CP1</th>\n",
       "      <th>PLV_FC1_FC2</th>\n",
       "      <th>PLV_FC1_C3</th>\n",
       "      <th>PLV_FC1_C2</th>\n",
       "      <th>PLV_FC1_CPz</th>\n",
       "      <th>PLV_C5_CP6</th>\n",
       "      <th>PLV_C3_C1</th>\n",
       "      <th>PLV_Cz_C4</th>\n",
       "      <th>PLV_C2_C4</th>\n",
       "      <th>PLV_CP5_CP3</th>\n",
       "      <th>PLV_CP5_CP6</th>\n",
       "      <th>PLV_CP3_CP2</th>\n",
       "      <th>PLV_CP4_CP6</th>\n",
       "    </tr>\n",
       "    <tr>\n",
       "      <th>Subject</th>\n",
       "      <th>Epoch</th>\n",
       "      <th></th>\n",
       "      <th></th>\n",
       "      <th></th>\n",
       "      <th></th>\n",
       "      <th></th>\n",
       "      <th></th>\n",
       "      <th></th>\n",
       "      <th></th>\n",
       "      <th></th>\n",
       "      <th></th>\n",
       "      <th></th>\n",
       "      <th></th>\n",
       "      <th></th>\n",
       "      <th></th>\n",
       "      <th></th>\n",
       "      <th></th>\n",
       "      <th></th>\n",
       "      <th></th>\n",
       "      <th></th>\n",
       "      <th></th>\n",
       "    </tr>\n",
       "  </thead>\n",
       "  <tbody>\n",
       "    <tr>\n",
       "      <th rowspan=\"5\" valign=\"top\">15</th>\n",
       "      <th>1</th>\n",
       "      <td>0.034486</td>\n",
       "      <td>0.076231</td>\n",
       "      <td>0.027698</td>\n",
       "      <td>0.044284</td>\n",
       "      <td>0.328939</td>\n",
       "      <td>0.274523</td>\n",
       "      <td>0.666815</td>\n",
       "      <td>0.648738</td>\n",
       "      <td>0.686277</td>\n",
       "      <td>0.700358</td>\n",
       "      <td>0.570172</td>\n",
       "      <td>0.507703</td>\n",
       "      <td>0.194724</td>\n",
       "      <td>0.631169</td>\n",
       "      <td>0.327217</td>\n",
       "      <td>0.604345</td>\n",
       "      <td>0.425065</td>\n",
       "      <td>0.194597</td>\n",
       "      <td>0.213017</td>\n",
       "      <td>0.794813</td>\n",
       "    </tr>\n",
       "    <tr>\n",
       "      <th>2</th>\n",
       "      <td>0.028806</td>\n",
       "      <td>0.060074</td>\n",
       "      <td>0.028159</td>\n",
       "      <td>0.033061</td>\n",
       "      <td>0.422381</td>\n",
       "      <td>0.201130</td>\n",
       "      <td>0.644448</td>\n",
       "      <td>0.581876</td>\n",
       "      <td>0.576222</td>\n",
       "      <td>0.675428</td>\n",
       "      <td>0.454940</td>\n",
       "      <td>0.415534</td>\n",
       "      <td>0.168461</td>\n",
       "      <td>0.617415</td>\n",
       "      <td>0.196764</td>\n",
       "      <td>0.591272</td>\n",
       "      <td>0.473716</td>\n",
       "      <td>0.142296</td>\n",
       "      <td>0.210151</td>\n",
       "      <td>0.726290</td>\n",
       "    </tr>\n",
       "    <tr>\n",
       "      <th>3</th>\n",
       "      <td>0.035788</td>\n",
       "      <td>0.073811</td>\n",
       "      <td>0.034063</td>\n",
       "      <td>0.042011</td>\n",
       "      <td>0.404427</td>\n",
       "      <td>0.251832</td>\n",
       "      <td>0.668037</td>\n",
       "      <td>0.626021</td>\n",
       "      <td>0.709359</td>\n",
       "      <td>0.745186</td>\n",
       "      <td>0.614729</td>\n",
       "      <td>0.480164</td>\n",
       "      <td>0.042859</td>\n",
       "      <td>0.674037</td>\n",
       "      <td>0.340390</td>\n",
       "      <td>0.585532</td>\n",
       "      <td>0.434534</td>\n",
       "      <td>0.250633</td>\n",
       "      <td>0.207092</td>\n",
       "      <td>0.698610</td>\n",
       "    </tr>\n",
       "    <tr>\n",
       "      <th>4</th>\n",
       "      <td>0.029694</td>\n",
       "      <td>0.059838</td>\n",
       "      <td>0.027287</td>\n",
       "      <td>0.037784</td>\n",
       "      <td>0.295600</td>\n",
       "      <td>0.238209</td>\n",
       "      <td>0.560659</td>\n",
       "      <td>0.517382</td>\n",
       "      <td>0.648619</td>\n",
       "      <td>0.649738</td>\n",
       "      <td>0.526301</td>\n",
       "      <td>0.508942</td>\n",
       "      <td>0.049900</td>\n",
       "      <td>0.590852</td>\n",
       "      <td>0.317237</td>\n",
       "      <td>0.589996</td>\n",
       "      <td>0.376382</td>\n",
       "      <td>0.156909</td>\n",
       "      <td>0.238464</td>\n",
       "      <td>0.709662</td>\n",
       "    </tr>\n",
       "    <tr>\n",
       "      <th>5</th>\n",
       "      <td>0.026469</td>\n",
       "      <td>0.040255</td>\n",
       "      <td>0.024066</td>\n",
       "      <td>0.030912</td>\n",
       "      <td>0.437315</td>\n",
       "      <td>0.303521</td>\n",
       "      <td>0.759739</td>\n",
       "      <td>0.724280</td>\n",
       "      <td>0.659948</td>\n",
       "      <td>0.773086</td>\n",
       "      <td>0.603110</td>\n",
       "      <td>0.559794</td>\n",
       "      <td>0.150218</td>\n",
       "      <td>0.774976</td>\n",
       "      <td>0.266988</td>\n",
       "      <td>0.557998</td>\n",
       "      <td>0.491774</td>\n",
       "      <td>0.254824</td>\n",
       "      <td>0.117975</td>\n",
       "      <td>0.828787</td>\n",
       "    </tr>\n",
       "    <tr>\n",
       "      <th>...</th>\n",
       "      <th>...</th>\n",
       "      <td>...</td>\n",
       "      <td>...</td>\n",
       "      <td>...</td>\n",
       "      <td>...</td>\n",
       "      <td>...</td>\n",
       "      <td>...</td>\n",
       "      <td>...</td>\n",
       "      <td>...</td>\n",
       "      <td>...</td>\n",
       "      <td>...</td>\n",
       "      <td>...</td>\n",
       "      <td>...</td>\n",
       "      <td>...</td>\n",
       "      <td>...</td>\n",
       "      <td>...</td>\n",
       "      <td>...</td>\n",
       "      <td>...</td>\n",
       "      <td>...</td>\n",
       "      <td>...</td>\n",
       "      <td>...</td>\n",
       "    </tr>\n",
       "    <tr>\n",
       "      <th rowspan=\"5\" valign=\"top\">6</th>\n",
       "      <th>273</th>\n",
       "      <td>0.242868</td>\n",
       "      <td>0.132700</td>\n",
       "      <td>0.074924</td>\n",
       "      <td>0.114307</td>\n",
       "      <td>0.300043</td>\n",
       "      <td>0.308553</td>\n",
       "      <td>0.650554</td>\n",
       "      <td>0.344405</td>\n",
       "      <td>0.625155</td>\n",
       "      <td>0.542170</td>\n",
       "      <td>0.483756</td>\n",
       "      <td>0.487275</td>\n",
       "      <td>0.251002</td>\n",
       "      <td>0.647679</td>\n",
       "      <td>0.298595</td>\n",
       "      <td>0.704364</td>\n",
       "      <td>0.621519</td>\n",
       "      <td>0.229030</td>\n",
       "      <td>0.134593</td>\n",
       "      <td>0.709654</td>\n",
       "    </tr>\n",
       "    <tr>\n",
       "      <th>274</th>\n",
       "      <td>0.257755</td>\n",
       "      <td>0.198752</td>\n",
       "      <td>0.089106</td>\n",
       "      <td>0.107626</td>\n",
       "      <td>0.421420</td>\n",
       "      <td>0.219168</td>\n",
       "      <td>0.663909</td>\n",
       "      <td>0.364445</td>\n",
       "      <td>0.601041</td>\n",
       "      <td>0.573837</td>\n",
       "      <td>0.399727</td>\n",
       "      <td>0.364564</td>\n",
       "      <td>0.318455</td>\n",
       "      <td>0.719368</td>\n",
       "      <td>0.452053</td>\n",
       "      <td>0.815618</td>\n",
       "      <td>0.489901</td>\n",
       "      <td>0.222150</td>\n",
       "      <td>0.351906</td>\n",
       "      <td>0.785686</td>\n",
       "    </tr>\n",
       "    <tr>\n",
       "      <th>275</th>\n",
       "      <td>0.123824</td>\n",
       "      <td>0.128342</td>\n",
       "      <td>0.070091</td>\n",
       "      <td>0.076460</td>\n",
       "      <td>0.503686</td>\n",
       "      <td>0.287101</td>\n",
       "      <td>0.728531</td>\n",
       "      <td>0.537757</td>\n",
       "      <td>0.638831</td>\n",
       "      <td>0.343031</td>\n",
       "      <td>0.564578</td>\n",
       "      <td>0.585509</td>\n",
       "      <td>0.345457</td>\n",
       "      <td>0.653562</td>\n",
       "      <td>0.429753</td>\n",
       "      <td>0.782901</td>\n",
       "      <td>0.772894</td>\n",
       "      <td>0.322103</td>\n",
       "      <td>0.125312</td>\n",
       "      <td>0.726543</td>\n",
       "    </tr>\n",
       "    <tr>\n",
       "      <th>276</th>\n",
       "      <td>0.515490</td>\n",
       "      <td>0.347935</td>\n",
       "      <td>0.110243</td>\n",
       "      <td>0.164176</td>\n",
       "      <td>0.423568</td>\n",
       "      <td>0.243886</td>\n",
       "      <td>0.620636</td>\n",
       "      <td>0.392398</td>\n",
       "      <td>0.559320</td>\n",
       "      <td>0.509189</td>\n",
       "      <td>0.435446</td>\n",
       "      <td>0.433962</td>\n",
       "      <td>0.285531</td>\n",
       "      <td>0.697862</td>\n",
       "      <td>0.278913</td>\n",
       "      <td>0.716274</td>\n",
       "      <td>0.652634</td>\n",
       "      <td>0.176325</td>\n",
       "      <td>0.129566</td>\n",
       "      <td>0.699691</td>\n",
       "    </tr>\n",
       "    <tr>\n",
       "      <th>277</th>\n",
       "      <td>0.505996</td>\n",
       "      <td>0.253699</td>\n",
       "      <td>0.108354</td>\n",
       "      <td>0.124724</td>\n",
       "      <td>0.427082</td>\n",
       "      <td>0.267295</td>\n",
       "      <td>0.733090</td>\n",
       "      <td>0.428935</td>\n",
       "      <td>0.745127</td>\n",
       "      <td>0.593039</td>\n",
       "      <td>0.669092</td>\n",
       "      <td>0.494826</td>\n",
       "      <td>0.145324</td>\n",
       "      <td>0.749290</td>\n",
       "      <td>0.524799</td>\n",
       "      <td>0.763347</td>\n",
       "      <td>0.575439</td>\n",
       "      <td>0.081943</td>\n",
       "      <td>0.230565</td>\n",
       "      <td>0.655788</td>\n",
       "    </tr>\n",
       "  </tbody>\n",
       "</table>\n",
       "<p>4931 rows × 20 columns</p>\n",
       "</div>"
      ],
      "text/plain": [
       "               PSD_FC1_D3  PSD_Cz_D3  PSD_CP1_D3  PSD_CP2_D3  PLV_FC5_FC1  \\\n",
       "Subject Epoch                                                               \n",
       "15      1        0.034486   0.076231    0.027698    0.044284     0.328939   \n",
       "        2        0.028806   0.060074    0.028159    0.033061     0.422381   \n",
       "        3        0.035788   0.073811    0.034063    0.042011     0.404427   \n",
       "        4        0.029694   0.059838    0.027287    0.037784     0.295600   \n",
       "        5        0.026469   0.040255    0.024066    0.030912     0.437315   \n",
       "...                   ...        ...         ...         ...          ...   \n",
       "6       273      0.242868   0.132700    0.074924    0.114307     0.300043   \n",
       "        274      0.257755   0.198752    0.089106    0.107626     0.421420   \n",
       "        275      0.123824   0.128342    0.070091    0.076460     0.503686   \n",
       "        276      0.515490   0.347935    0.110243    0.164176     0.423568   \n",
       "        277      0.505996   0.253699    0.108354    0.124724     0.427082   \n",
       "\n",
       "               PLV_FC5_CP5  PLV_FC3_C1  PLV_FC3_CP1  PLV_FC1_FC2  PLV_FC1_C3  \\\n",
       "Subject Epoch                                                                  \n",
       "15      1         0.274523    0.666815     0.648738     0.686277    0.700358   \n",
       "        2         0.201130    0.644448     0.581876     0.576222    0.675428   \n",
       "        3         0.251832    0.668037     0.626021     0.709359    0.745186   \n",
       "        4         0.238209    0.560659     0.517382     0.648619    0.649738   \n",
       "        5         0.303521    0.759739     0.724280     0.659948    0.773086   \n",
       "...                    ...         ...          ...          ...         ...   \n",
       "6       273       0.308553    0.650554     0.344405     0.625155    0.542170   \n",
       "        274       0.219168    0.663909     0.364445     0.601041    0.573837   \n",
       "        275       0.287101    0.728531     0.537757     0.638831    0.343031   \n",
       "        276       0.243886    0.620636     0.392398     0.559320    0.509189   \n",
       "        277       0.267295    0.733090     0.428935     0.745127    0.593039   \n",
       "\n",
       "               PLV_FC1_C2  PLV_FC1_CPz  PLV_C5_CP6  PLV_C3_C1  PLV_Cz_C4  \\\n",
       "Subject Epoch                                                              \n",
       "15      1        0.570172     0.507703    0.194724   0.631169   0.327217   \n",
       "        2        0.454940     0.415534    0.168461   0.617415   0.196764   \n",
       "        3        0.614729     0.480164    0.042859   0.674037   0.340390   \n",
       "        4        0.526301     0.508942    0.049900   0.590852   0.317237   \n",
       "        5        0.603110     0.559794    0.150218   0.774976   0.266988   \n",
       "...                   ...          ...         ...        ...        ...   \n",
       "6       273      0.483756     0.487275    0.251002   0.647679   0.298595   \n",
       "        274      0.399727     0.364564    0.318455   0.719368   0.452053   \n",
       "        275      0.564578     0.585509    0.345457   0.653562   0.429753   \n",
       "        276      0.435446     0.433962    0.285531   0.697862   0.278913   \n",
       "        277      0.669092     0.494826    0.145324   0.749290   0.524799   \n",
       "\n",
       "               PLV_C2_C4  PLV_CP5_CP3  PLV_CP5_CP6  PLV_CP3_CP2  PLV_CP4_CP6  \n",
       "Subject Epoch                                                                 \n",
       "15      1       0.604345     0.425065     0.194597     0.213017     0.794813  \n",
       "        2       0.591272     0.473716     0.142296     0.210151     0.726290  \n",
       "        3       0.585532     0.434534     0.250633     0.207092     0.698610  \n",
       "        4       0.589996     0.376382     0.156909     0.238464     0.709662  \n",
       "        5       0.557998     0.491774     0.254824     0.117975     0.828787  \n",
       "...                  ...          ...          ...          ...          ...  \n",
       "6       273     0.704364     0.621519     0.229030     0.134593     0.709654  \n",
       "        274     0.815618     0.489901     0.222150     0.351906     0.785686  \n",
       "        275     0.782901     0.772894     0.322103     0.125312     0.726543  \n",
       "        276     0.716274     0.652634     0.176325     0.129566     0.699691  \n",
       "        277     0.763347     0.575439     0.081943     0.230565     0.655788  \n",
       "\n",
       "[4931 rows x 20 columns]"
      ]
     },
     "execution_count": 7,
     "metadata": {},
     "output_type": "execute_result"
    }
   ],
   "source": [
    "train_idx = features_all['Subject'] == subjects_train[0]\n",
    "features_train = features_all[train_idx]\n",
    "subjects_train2 = np.delete(subjects_train, 0, axis=None)\n",
    "for subject in subjects_train2 :\n",
    "    train_idx = features_all['Subject'] == subject\n",
    "    frames = [features_train, features_all[train_idx]]\n",
    "    features_train = pd.concat(frames)\n",
    "subjects_idx_train = features_train['Subject']\n",
    "features_train.index = [features_train['Subject'], features_train['Epoch']]\n",
    "X_train = features_train.drop(['Subject','Epoch'], axis = 1)\n",
    "X_train = X_train[features_names]\n",
    "X_train"
   ]
  },
  {
   "cell_type": "code",
   "execution_count": 8,
   "metadata": {},
   "outputs": [
    {
     "data": {
      "text/plain": [
       "Counter({1: 1737, 2: 1701, 0: 1493})"
      ]
     },
     "execution_count": 8,
     "metadata": {},
     "output_type": "execute_result"
    }
   ],
   "source": [
    "Y_train = features_train['Label'].values\n",
    "Counter(Y_train)"
   ]
  },
  {
   "cell_type": "markdown",
   "metadata": {},
   "source": [
    "- Get the test data"
   ]
  },
  {
   "cell_type": "code",
   "execution_count": 9,
   "metadata": {},
   "outputs": [
    {
     "data": {
      "text/html": [
       "<div>\n",
       "<style scoped>\n",
       "    .dataframe tbody tr th:only-of-type {\n",
       "        vertical-align: middle;\n",
       "    }\n",
       "\n",
       "    .dataframe tbody tr th {\n",
       "        vertical-align: top;\n",
       "    }\n",
       "\n",
       "    .dataframe thead th {\n",
       "        text-align: right;\n",
       "    }\n",
       "</style>\n",
       "<table border=\"1\" class=\"dataframe\">\n",
       "  <thead>\n",
       "    <tr style=\"text-align: right;\">\n",
       "      <th></th>\n",
       "      <th></th>\n",
       "      <th>PSD_FC1_D3</th>\n",
       "      <th>PSD_Cz_D3</th>\n",
       "      <th>PSD_CP1_D3</th>\n",
       "      <th>PSD_CP2_D3</th>\n",
       "      <th>PLV_FC5_FC1</th>\n",
       "      <th>PLV_FC5_CP5</th>\n",
       "      <th>PLV_FC3_C1</th>\n",
       "      <th>PLV_FC3_CP1</th>\n",
       "      <th>PLV_FC1_FC2</th>\n",
       "      <th>PLV_FC1_C3</th>\n",
       "      <th>PLV_FC1_C2</th>\n",
       "      <th>PLV_FC1_CPz</th>\n",
       "      <th>PLV_C5_CP6</th>\n",
       "      <th>PLV_C3_C1</th>\n",
       "      <th>PLV_Cz_C4</th>\n",
       "      <th>PLV_C2_C4</th>\n",
       "      <th>PLV_CP5_CP3</th>\n",
       "      <th>PLV_CP5_CP6</th>\n",
       "      <th>PLV_CP3_CP2</th>\n",
       "      <th>PLV_CP4_CP6</th>\n",
       "    </tr>\n",
       "    <tr>\n",
       "      <th>Subject</th>\n",
       "      <th>Epoch</th>\n",
       "      <th></th>\n",
       "      <th></th>\n",
       "      <th></th>\n",
       "      <th></th>\n",
       "      <th></th>\n",
       "      <th></th>\n",
       "      <th></th>\n",
       "      <th></th>\n",
       "      <th></th>\n",
       "      <th></th>\n",
       "      <th></th>\n",
       "      <th></th>\n",
       "      <th></th>\n",
       "      <th></th>\n",
       "      <th></th>\n",
       "      <th></th>\n",
       "      <th></th>\n",
       "      <th></th>\n",
       "      <th></th>\n",
       "      <th></th>\n",
       "    </tr>\n",
       "  </thead>\n",
       "  <tbody>\n",
       "    <tr>\n",
       "      <th rowspan=\"5\" valign=\"top\">1</th>\n",
       "      <th>1</th>\n",
       "      <td>0.086664</td>\n",
       "      <td>0.083963</td>\n",
       "      <td>0.092970</td>\n",
       "      <td>0.114292</td>\n",
       "      <td>0.484257</td>\n",
       "      <td>0.409340</td>\n",
       "      <td>0.706897</td>\n",
       "      <td>0.370033</td>\n",
       "      <td>0.651189</td>\n",
       "      <td>0.586365</td>\n",
       "      <td>0.427701</td>\n",
       "      <td>0.304971</td>\n",
       "      <td>0.626944</td>\n",
       "      <td>0.717270</td>\n",
       "      <td>0.298653</td>\n",
       "      <td>0.661658</td>\n",
       "      <td>0.665249</td>\n",
       "      <td>0.506631</td>\n",
       "      <td>0.047242</td>\n",
       "      <td>0.772310</td>\n",
       "    </tr>\n",
       "    <tr>\n",
       "      <th>2</th>\n",
       "      <td>0.095059</td>\n",
       "      <td>0.091064</td>\n",
       "      <td>0.096780</td>\n",
       "      <td>0.107360</td>\n",
       "      <td>0.374931</td>\n",
       "      <td>0.378246</td>\n",
       "      <td>0.632239</td>\n",
       "      <td>0.361586</td>\n",
       "      <td>0.666060</td>\n",
       "      <td>0.649646</td>\n",
       "      <td>0.509595</td>\n",
       "      <td>0.465891</td>\n",
       "      <td>0.657044</td>\n",
       "      <td>0.776927</td>\n",
       "      <td>0.420719</td>\n",
       "      <td>0.673993</td>\n",
       "      <td>0.559321</td>\n",
       "      <td>0.489782</td>\n",
       "      <td>0.205185</td>\n",
       "      <td>0.726673</td>\n",
       "    </tr>\n",
       "    <tr>\n",
       "      <th>3</th>\n",
       "      <td>0.106750</td>\n",
       "      <td>0.100655</td>\n",
       "      <td>0.090766</td>\n",
       "      <td>0.103356</td>\n",
       "      <td>0.355464</td>\n",
       "      <td>0.353106</td>\n",
       "      <td>0.685720</td>\n",
       "      <td>0.335658</td>\n",
       "      <td>0.717759</td>\n",
       "      <td>0.651853</td>\n",
       "      <td>0.550038</td>\n",
       "      <td>0.424132</td>\n",
       "      <td>0.562358</td>\n",
       "      <td>0.751411</td>\n",
       "      <td>0.521960</td>\n",
       "      <td>0.764893</td>\n",
       "      <td>0.622897</td>\n",
       "      <td>0.484027</td>\n",
       "      <td>0.234950</td>\n",
       "      <td>0.770152</td>\n",
       "    </tr>\n",
       "    <tr>\n",
       "      <th>4</th>\n",
       "      <td>0.094363</td>\n",
       "      <td>0.104104</td>\n",
       "      <td>0.117389</td>\n",
       "      <td>0.117265</td>\n",
       "      <td>0.558519</td>\n",
       "      <td>0.244538</td>\n",
       "      <td>0.553517</td>\n",
       "      <td>0.085060</td>\n",
       "      <td>0.579363</td>\n",
       "      <td>0.522678</td>\n",
       "      <td>0.254056</td>\n",
       "      <td>0.150095</td>\n",
       "      <td>0.507196</td>\n",
       "      <td>0.757050</td>\n",
       "      <td>0.235753</td>\n",
       "      <td>0.571460</td>\n",
       "      <td>0.762745</td>\n",
       "      <td>0.425203</td>\n",
       "      <td>0.343694</td>\n",
       "      <td>0.694656</td>\n",
       "    </tr>\n",
       "    <tr>\n",
       "      <th>5</th>\n",
       "      <td>0.104158</td>\n",
       "      <td>0.092221</td>\n",
       "      <td>0.087931</td>\n",
       "      <td>0.091201</td>\n",
       "      <td>0.582973</td>\n",
       "      <td>0.456529</td>\n",
       "      <td>0.700441</td>\n",
       "      <td>0.273706</td>\n",
       "      <td>0.610447</td>\n",
       "      <td>0.528336</td>\n",
       "      <td>0.266067</td>\n",
       "      <td>0.260937</td>\n",
       "      <td>0.650128</td>\n",
       "      <td>0.732707</td>\n",
       "      <td>0.480823</td>\n",
       "      <td>0.812188</td>\n",
       "      <td>0.710487</td>\n",
       "      <td>0.531538</td>\n",
       "      <td>0.115385</td>\n",
       "      <td>0.742894</td>\n",
       "    </tr>\n",
       "    <tr>\n",
       "      <th>...</th>\n",
       "      <th>...</th>\n",
       "      <td>...</td>\n",
       "      <td>...</td>\n",
       "      <td>...</td>\n",
       "      <td>...</td>\n",
       "      <td>...</td>\n",
       "      <td>...</td>\n",
       "      <td>...</td>\n",
       "      <td>...</td>\n",
       "      <td>...</td>\n",
       "      <td>...</td>\n",
       "      <td>...</td>\n",
       "      <td>...</td>\n",
       "      <td>...</td>\n",
       "      <td>...</td>\n",
       "      <td>...</td>\n",
       "      <td>...</td>\n",
       "      <td>...</td>\n",
       "      <td>...</td>\n",
       "      <td>...</td>\n",
       "      <td>...</td>\n",
       "    </tr>\n",
       "    <tr>\n",
       "      <th rowspan=\"5\" valign=\"top\">9</th>\n",
       "      <th>263</th>\n",
       "      <td>0.113542</td>\n",
       "      <td>0.072197</td>\n",
       "      <td>0.057427</td>\n",
       "      <td>0.050536</td>\n",
       "      <td>0.258811</td>\n",
       "      <td>0.532221</td>\n",
       "      <td>0.609925</td>\n",
       "      <td>0.418659</td>\n",
       "      <td>0.664519</td>\n",
       "      <td>0.461894</td>\n",
       "      <td>0.545406</td>\n",
       "      <td>0.459361</td>\n",
       "      <td>0.512965</td>\n",
       "      <td>0.577709</td>\n",
       "      <td>0.625764</td>\n",
       "      <td>0.857473</td>\n",
       "      <td>0.472799</td>\n",
       "      <td>0.493498</td>\n",
       "      <td>0.206238</td>\n",
       "      <td>0.740253</td>\n",
       "    </tr>\n",
       "    <tr>\n",
       "      <th>264</th>\n",
       "      <td>0.128066</td>\n",
       "      <td>0.079912</td>\n",
       "      <td>0.083043</td>\n",
       "      <td>0.054004</td>\n",
       "      <td>0.358929</td>\n",
       "      <td>0.321260</td>\n",
       "      <td>0.563016</td>\n",
       "      <td>0.385310</td>\n",
       "      <td>0.679616</td>\n",
       "      <td>0.416684</td>\n",
       "      <td>0.487965</td>\n",
       "      <td>0.394062</td>\n",
       "      <td>0.146919</td>\n",
       "      <td>0.571722</td>\n",
       "      <td>0.450394</td>\n",
       "      <td>0.767267</td>\n",
       "      <td>0.674208</td>\n",
       "      <td>0.120360</td>\n",
       "      <td>0.226058</td>\n",
       "      <td>0.628691</td>\n",
       "    </tr>\n",
       "    <tr>\n",
       "      <th>265</th>\n",
       "      <td>0.128899</td>\n",
       "      <td>0.084458</td>\n",
       "      <td>0.075904</td>\n",
       "      <td>0.076802</td>\n",
       "      <td>0.468202</td>\n",
       "      <td>0.301832</td>\n",
       "      <td>0.697657</td>\n",
       "      <td>0.362905</td>\n",
       "      <td>0.613061</td>\n",
       "      <td>0.548913</td>\n",
       "      <td>0.314784</td>\n",
       "      <td>0.145553</td>\n",
       "      <td>0.317181</td>\n",
       "      <td>0.742639</td>\n",
       "      <td>0.259305</td>\n",
       "      <td>0.670932</td>\n",
       "      <td>0.720382</td>\n",
       "      <td>0.328391</td>\n",
       "      <td>0.099232</td>\n",
       "      <td>0.804011</td>\n",
       "    </tr>\n",
       "    <tr>\n",
       "      <th>266</th>\n",
       "      <td>0.098970</td>\n",
       "      <td>0.058202</td>\n",
       "      <td>0.051273</td>\n",
       "      <td>0.038706</td>\n",
       "      <td>0.417310</td>\n",
       "      <td>0.538417</td>\n",
       "      <td>0.767497</td>\n",
       "      <td>0.614627</td>\n",
       "      <td>0.620598</td>\n",
       "      <td>0.602608</td>\n",
       "      <td>0.324030</td>\n",
       "      <td>0.408026</td>\n",
       "      <td>0.498418</td>\n",
       "      <td>0.768375</td>\n",
       "      <td>0.344466</td>\n",
       "      <td>0.760772</td>\n",
       "      <td>0.601093</td>\n",
       "      <td>0.472075</td>\n",
       "      <td>0.122132</td>\n",
       "      <td>0.764448</td>\n",
       "    </tr>\n",
       "    <tr>\n",
       "      <th>267</th>\n",
       "      <td>0.090022</td>\n",
       "      <td>0.057881</td>\n",
       "      <td>0.055523</td>\n",
       "      <td>0.041734</td>\n",
       "      <td>0.207255</td>\n",
       "      <td>0.499802</td>\n",
       "      <td>0.572933</td>\n",
       "      <td>0.314509</td>\n",
       "      <td>0.624005</td>\n",
       "      <td>0.388376</td>\n",
       "      <td>0.361577</td>\n",
       "      <td>0.288574</td>\n",
       "      <td>0.401995</td>\n",
       "      <td>0.540456</td>\n",
       "      <td>0.533751</td>\n",
       "      <td>0.819633</td>\n",
       "      <td>0.610475</td>\n",
       "      <td>0.370161</td>\n",
       "      <td>0.068948</td>\n",
       "      <td>0.772965</td>\n",
       "    </tr>\n",
       "  </tbody>\n",
       "</table>\n",
       "<p>1320 rows × 20 columns</p>\n",
       "</div>"
      ],
      "text/plain": [
       "               PSD_FC1_D3  PSD_Cz_D3  PSD_CP1_D3  PSD_CP2_D3  PLV_FC5_FC1  \\\n",
       "Subject Epoch                                                               \n",
       "1       1        0.086664   0.083963    0.092970    0.114292     0.484257   \n",
       "        2        0.095059   0.091064    0.096780    0.107360     0.374931   \n",
       "        3        0.106750   0.100655    0.090766    0.103356     0.355464   \n",
       "        4        0.094363   0.104104    0.117389    0.117265     0.558519   \n",
       "        5        0.104158   0.092221    0.087931    0.091201     0.582973   \n",
       "...                   ...        ...         ...         ...          ...   \n",
       "9       263      0.113542   0.072197    0.057427    0.050536     0.258811   \n",
       "        264      0.128066   0.079912    0.083043    0.054004     0.358929   \n",
       "        265      0.128899   0.084458    0.075904    0.076802     0.468202   \n",
       "        266      0.098970   0.058202    0.051273    0.038706     0.417310   \n",
       "        267      0.090022   0.057881    0.055523    0.041734     0.207255   \n",
       "\n",
       "               PLV_FC5_CP5  PLV_FC3_C1  PLV_FC3_CP1  PLV_FC1_FC2  PLV_FC1_C3  \\\n",
       "Subject Epoch                                                                  \n",
       "1       1         0.409340    0.706897     0.370033     0.651189    0.586365   \n",
       "        2         0.378246    0.632239     0.361586     0.666060    0.649646   \n",
       "        3         0.353106    0.685720     0.335658     0.717759    0.651853   \n",
       "        4         0.244538    0.553517     0.085060     0.579363    0.522678   \n",
       "        5         0.456529    0.700441     0.273706     0.610447    0.528336   \n",
       "...                    ...         ...          ...          ...         ...   \n",
       "9       263       0.532221    0.609925     0.418659     0.664519    0.461894   \n",
       "        264       0.321260    0.563016     0.385310     0.679616    0.416684   \n",
       "        265       0.301832    0.697657     0.362905     0.613061    0.548913   \n",
       "        266       0.538417    0.767497     0.614627     0.620598    0.602608   \n",
       "        267       0.499802    0.572933     0.314509     0.624005    0.388376   \n",
       "\n",
       "               PLV_FC1_C2  PLV_FC1_CPz  PLV_C5_CP6  PLV_C3_C1  PLV_Cz_C4  \\\n",
       "Subject Epoch                                                              \n",
       "1       1        0.427701     0.304971    0.626944   0.717270   0.298653   \n",
       "        2        0.509595     0.465891    0.657044   0.776927   0.420719   \n",
       "        3        0.550038     0.424132    0.562358   0.751411   0.521960   \n",
       "        4        0.254056     0.150095    0.507196   0.757050   0.235753   \n",
       "        5        0.266067     0.260937    0.650128   0.732707   0.480823   \n",
       "...                   ...          ...         ...        ...        ...   \n",
       "9       263      0.545406     0.459361    0.512965   0.577709   0.625764   \n",
       "        264      0.487965     0.394062    0.146919   0.571722   0.450394   \n",
       "        265      0.314784     0.145553    0.317181   0.742639   0.259305   \n",
       "        266      0.324030     0.408026    0.498418   0.768375   0.344466   \n",
       "        267      0.361577     0.288574    0.401995   0.540456   0.533751   \n",
       "\n",
       "               PLV_C2_C4  PLV_CP5_CP3  PLV_CP5_CP6  PLV_CP3_CP2  PLV_CP4_CP6  \n",
       "Subject Epoch                                                                 \n",
       "1       1       0.661658     0.665249     0.506631     0.047242     0.772310  \n",
       "        2       0.673993     0.559321     0.489782     0.205185     0.726673  \n",
       "        3       0.764893     0.622897     0.484027     0.234950     0.770152  \n",
       "        4       0.571460     0.762745     0.425203     0.343694     0.694656  \n",
       "        5       0.812188     0.710487     0.531538     0.115385     0.742894  \n",
       "...                  ...          ...          ...          ...          ...  \n",
       "9       263     0.857473     0.472799     0.493498     0.206238     0.740253  \n",
       "        264     0.767267     0.674208     0.120360     0.226058     0.628691  \n",
       "        265     0.670932     0.720382     0.328391     0.099232     0.804011  \n",
       "        266     0.760772     0.601093     0.472075     0.122132     0.764448  \n",
       "        267     0.819633     0.610475     0.370161     0.068948     0.772965  \n",
       "\n",
       "[1320 rows x 20 columns]"
      ]
     },
     "execution_count": 9,
     "metadata": {},
     "output_type": "execute_result"
    }
   ],
   "source": [
    "test_idx = features_all['Subject'] == subjects_test[0]\n",
    "features_test = features_all[test_idx]\n",
    "subjects_test2 = np.delete(subjects_test, 0, axis=None)\n",
    "for subject in subjects_test2 :\n",
    "    test_idx = features_all['Subject'] == subject\n",
    "    frames = [features_test, features_all[test_idx]]\n",
    "    features_test = pd.concat(frames)\n",
    "subjects_idx_test = features_test['Subject']\n",
    "features_test.index = [features_test['Subject'], features_test['Epoch']]\n",
    "X_test = features_test.drop(['Subject','Epoch'], axis = 1)\n",
    "X_test = X_test[features_names]\n",
    "X_test"
   ]
  },
  {
   "cell_type": "code",
   "execution_count": 10,
   "metadata": {},
   "outputs": [
    {
     "data": {
      "text/plain": [
       "Counter({1: 471, 2: 466, 0: 383})"
      ]
     },
     "execution_count": 10,
     "metadata": {},
     "output_type": "execute_result"
    }
   ],
   "source": [
    "Y_test = features_test['Label'].values\n",
    "Counter(Y_test)"
   ]
  },
  {
   "cell_type": "markdown",
   "metadata": {},
   "source": [
    "## Preprocess the training data\n",
    "- Standardize and normalize the data"
   ]
  },
  {
   "cell_type": "code",
   "execution_count": 11,
   "metadata": {},
   "outputs": [
    {
     "data": {
      "text/plain": [
       "(4931, 20)"
      ]
     },
     "execution_count": 11,
     "metadata": {},
     "output_type": "execute_result"
    }
   ],
   "source": [
    "standardizer = StandardScaler()\n",
    "X_scaled_train = standardizer.fit_transform(X_train)\n",
    "normalizer = MinMaxScaler(feature_range=(0,1))\n",
    "X_scaled_train = normalizer.fit_transform(X_scaled_train)\n",
    "X_scaled_train.shape"
   ]
  },
  {
   "cell_type": "markdown",
   "metadata": {},
   "source": [
    "## Train the SVCL classifier"
   ]
  },
  {
   "cell_type": "code",
   "execution_count": 12,
   "metadata": {},
   "outputs": [
    {
     "name": "stdout",
     "output_type": "stream",
     "text": [
      "[LibSVM]"
     ]
    },
    {
     "data": {
      "text/plain": [
       "SVC(C=0.1, break_ties=False, cache_size=200, class_weight=None, coef0=0.0,\n",
       "    decision_function_shape='ovr', degree=3, gamma='scale', kernel='linear',\n",
       "    max_iter=-1, probability=False, random_state=None, shrinking=True,\n",
       "    tol=0.001, verbose=True)"
      ]
     },
     "execution_count": 12,
     "metadata": {},
     "output_type": "execute_result"
    }
   ],
   "source": [
    "classifier = SVC(kernel='linear', C=0.1, verbose=True)\n",
    "classifier.fit(X_scaled_train, Y_train)"
   ]
  },
  {
   "cell_type": "markdown",
   "metadata": {},
   "source": [
    "## Evaluate the model on different subjects"
   ]
  },
  {
   "cell_type": "markdown",
   "metadata": {},
   "source": [
    "- Evaluate on first test subject"
   ]
  },
  {
   "cell_type": "code",
   "execution_count": 13,
   "metadata": {},
   "outputs": [
    {
     "data": {
      "text/plain": [
       "((260, 310), (260,), Counter({1: 88, 2: 84, 0: 88}))"
      ]
     },
     "execution_count": 13,
     "metadata": {},
     "output_type": "execute_result"
    }
   ],
   "source": [
    "#Select the data from the first testing subject\n",
    "test_idx = features_all['Subject'] == subjects_test[0]\n",
    "features_test = features_all[test_idx]\n",
    "features_test.index = [features_test['Subject'], features_test['Epoch']]\n",
    "X_test = features_test.drop(['Subject','Epoch','Label'], axis = 1)\n",
    "Y_test = features_test['Label']\n",
    "X_test.shape, Y_test.shape, Counter(Y_test)"
   ]
  },
  {
   "cell_type": "code",
   "execution_count": 14,
   "metadata": {},
   "outputs": [
    {
     "data": {
      "text/plain": [
       "(260, 20)"
      ]
     },
     "execution_count": 14,
     "metadata": {},
     "output_type": "execute_result"
    }
   ],
   "source": [
    "#Preprocess the data\n",
    "X_test = X_test[features_names]\n",
    "X_scaled_test = standardizer.transform(X_test)\n",
    "X_scaled_test = normalizer.fit_transform(X_scaled_test)\n",
    "X_scaled_test.shape"
   ]
  },
  {
   "cell_type": "code",
   "execution_count": 15,
   "metadata": {},
   "outputs": [
    {
     "name": "stdout",
     "output_type": "stream",
     "text": [
      "---------------------\n",
      "SVCL classification results (subject 1 )\n",
      "---------------------\n",
      "Total accuracy: 0.5307692307692308\n",
      "------------------------------------------\n",
      "Precision for resting state: 0.4859154929577465\n",
      "Precision for right movement: 0.6379310344827587\n",
      "Precision for left movement: 0.5333333333333333\n",
      "------------------------------------------\n",
      "Sensitivity (true positive rate) for resting state: 0.7840909090909091\n",
      "Sensitivity (true positive rate) for right movement: 0.42045454545454547\n",
      "Sensitivity (true positive rate) for left movement: 0.38095238095238093\n",
      "------------------------------------------\n",
      "Specificity (true negative rate) for resting state: 0.5755813953488372\n",
      "Specificity (true negative rate) for right movement: 0.877906976744186\n",
      "Specificity (true negative rate) for left movement: 0.8409090909090909\n",
      "------------------------------------------\n",
      "F1 for resting state: 0.5999999999999999\n",
      "F1 for right movement: 0.5068493150684932\n",
      "F1 for left movement: 0.4444444444444444\n",
      "------------------------------------------\n"
     ]
    },
    {
     "data": {
      "image/png": "[encoded data removed]",
      "text/plain": [
       "<Figure size 576x432 with 1 Axes>"
      ]
     },
     "metadata": {
      "needs_background": "light"
     },
     "output_type": "display_data"
    },
    {
     "data": {
      "image/png": "[encoded data removed]",
      "text/plain": [
       "<Figure size 576x432 with 1 Axes>"
      ]
     },
     "metadata": {
      "needs_background": "light"
     },
     "output_type": "display_data"
    }
   ],
   "source": [
    "# Predicting the Test set results\n",
    "y_pred = classifier.predict(X_scaled_test)\n",
    "y_prob = classifier.decision_function(X_scaled_test)\n",
    "y_test = Y_test\n",
    "y_pred = y_pred\n",
    "#Evaluate the model\n",
    "print('---------------------')\n",
    "print('SVCL classification results (subject', subjects_test[0], ')')\n",
    "print('---------------------')\n",
    "evaluate_model_predictions(y_test,y_pred, subjects_test[0])\n",
    "plot_roc_curve(y_test,y_prob, subjects_test[0])"
   ]
  },
  {
   "cell_type": "markdown",
   "metadata": {},
   "source": [
    "- Evaluate on second subject"
   ]
  },
  {
   "cell_type": "code",
   "execution_count": 28,
   "metadata": {},
   "outputs": [
    {
     "data": {
      "text/plain": [
       "((299, 310), (299,), Counter({2: 99, 1: 100, 0: 100}))"
      ]
     },
     "execution_count": 28,
     "metadata": {},
     "output_type": "execute_result"
    }
   ],
   "source": [
    "#Select the data from the first testing subject\n",
    "test_idx = features_all['Subject'] == subjects_test[1]\n",
    "features_test = features_all[test_idx]\n",
    "features_test.index = [features_test['Subject'], features_test['Epoch']]\n",
    "X_test = features_test.drop(['Subject','Epoch','Label'], axis = 1)\n",
    "Y_test = features_test['Label']\n",
    "X_test.shape, Y_test.shape, Counter(Y_test)"
   ]
  },
  {
   "cell_type": "code",
   "execution_count": 29,
   "metadata": {},
   "outputs": [
    {
     "data": {
      "text/plain": [
       "(299, 20)"
      ]
     },
     "execution_count": 29,
     "metadata": {},
     "output_type": "execute_result"
    }
   ],
   "source": [
    "#Preprocess the data\n",
    "X_test = X_test[features_names]\n",
    "X_scaled_test = standardizer.transform(X_test)\n",
    "X_scaled_test = normalizer.fit_transform(X_scaled_test)\n",
    "X_scaled_test.shape"
   ]
  },
  {
   "cell_type": "code",
   "execution_count": 30,
   "metadata": {},
   "outputs": [
    {
     "name": "stdout",
     "output_type": "stream",
     "text": [
      "---------------------\n",
      "SVCL classification results (subject 13 )\n",
      "---------------------\n",
      "Total accuracy: 0.411371237458194\n",
      "------------------------------------------\n",
      "Precision for resting state: 0.38271604938271603\n",
      "Precision for right movement: 0.5238095238095238\n",
      "Precision for left movement: 0.5428571428571428\n",
      "------------------------------------------\n",
      "Sensitivity (true positive rate) for resting state: 0.93\n",
      "Sensitivity (true positive rate) for right movement: 0.11\n",
      "Sensitivity (true positive rate) for left movement: 0.1919191919191919\n",
      "------------------------------------------\n",
      "Specificity (true negative rate) for resting state: 0.24623115577889448\n",
      "Specificity (true negative rate) for right movement: 0.949748743718593\n",
      "Specificity (true negative rate) for left movement: 0.92\n",
      "------------------------------------------\n",
      "F1 for resting state: 0.5422740524781341\n",
      "F1 for right movement: 0.18181818181818182\n",
      "F1 for left movement: 0.2835820895522388\n",
      "------------------------------------------\n"
     ]
    },
    {
     "data": {
      "image/png": "[encoded data removed]",
      "text/plain": [
       "<Figure size 576x432 with 1 Axes>"
      ]
     },
     "metadata": {
      "needs_background": "light"
     },
     "output_type": "display_data"
    },
    {
     "data": {
      "image/png": "[encoded data removed]",
      "text/plain": [
       "<Figure size 576x432 with 1 Axes>"
      ]
     },
     "metadata": {
      "needs_background": "light"
     },
     "output_type": "display_data"
    }
   ],
   "source": [
    "# Predicting the Test set results\n",
    "y_pred = classifier.predict(X_scaled_test)\n",
    "y_prob = classifier.decision_function(X_scaled_test)\n",
    "y_test = Y_test\n",
    "y_pred = y_pred\n",
    "#Evaluate the model\n",
    "print('---------------------')\n",
    "print('SVCL classification results (subject', subjects_test[1], ')')\n",
    "print('---------------------')\n",
    "evaluate_model_predictions(y_test,y_pred, subjects_test[1])\n",
    "plot_roc_curve(y_test,y_prob, subjects_test[1])"
   ]
  },
  {
   "cell_type": "markdown",
   "metadata": {},
   "source": [
    "- Evaluate on thrid subject"
   ]
  },
  {
   "cell_type": "code",
   "execution_count": 31,
   "metadata": {},
   "outputs": [
    {
     "data": {
      "text/plain": [
       "((230, 310), (230,), Counter({2: 90, 1: 90, 0: 50}))"
      ]
     },
     "execution_count": 31,
     "metadata": {},
     "output_type": "execute_result"
    }
   ],
   "source": [
    "#Select the data from the first testing subject\n",
    "test_idx = features_all['Subject'] == subjects_test[2]\n",
    "features_test = features_all[test_idx]\n",
    "features_test.index = [features_test['Subject'], features_test['Epoch']]\n",
    "X_test = features_test.drop(['Subject','Epoch','Label'], axis = 1)\n",
    "Y_test = features_test['Label']\n",
    "X_test.shape, Y_test.shape, Counter(Y_test)"
   ]
  },
  {
   "cell_type": "code",
   "execution_count": 32,
   "metadata": {},
   "outputs": [
    {
     "data": {
      "text/plain": [
       "(230, 20)"
      ]
     },
     "execution_count": 32,
     "metadata": {},
     "output_type": "execute_result"
    }
   ],
   "source": [
    "#Preprocess the data\n",
    "X_test = X_test[features_names]\n",
    "X_scaled_test = standardizer.transform(X_test)\n",
    "X_scaled_test = normalizer.fit_transform(X_scaled_test)\n",
    "X_scaled_test.shape"
   ]
  },
  {
   "cell_type": "code",
   "execution_count": 33,
   "metadata": {},
   "outputs": [
    {
     "name": "stdout",
     "output_type": "stream",
     "text": [
      "---------------------\n",
      "SVCL classification results (subject 17 )\n",
      "---------------------\n",
      "Total accuracy: 0.5608695652173913\n",
      "------------------------------------------\n",
      "Precision for resting state: 0.5\n",
      "Precision for right movement: 0.627906976744186\n",
      "Precision for left movement: 0.5714285714285714\n",
      "------------------------------------------\n",
      "Sensitivity (true positive rate) for resting state: 0.68\n",
      "Sensitivity (true positive rate) for right movement: 0.3\n",
      "Sensitivity (true positive rate) for left movement: 0.7555555555555555\n",
      "------------------------------------------\n",
      "Specificity (true negative rate) for resting state: 0.8111111111111111\n",
      "Specificity (true negative rate) for right movement: 0.8857142857142857\n",
      "Specificity (true negative rate) for left movement: 0.6357142857142857\n",
      "------------------------------------------\n",
      "F1 for resting state: 0.576271186440678\n",
      "F1 for right movement: 0.40601503759398494\n",
      "F1 for left movement: 0.6507177033492823\n",
      "------------------------------------------\n"
     ]
    },
    {
     "data": {
      "image/png": "[encoded data removed]",
      "text/plain": [
       "<Figure size 576x432 with 1 Axes>"
      ]
     },
     "metadata": {
      "needs_background": "light"
     },
     "output_type": "display_data"
    },
    {
     "data": {
      "image/png": "[encoded data removed]",
      "text/plain": [
       "<Figure size 576x432 with 1 Axes>"
      ]
     },
     "metadata": {
      "needs_background": "light"
     },
     "output_type": "display_data"
    }
   ],
   "source": [
    "# Predicting the Test set results\n",
    "y_pred = classifier.predict(X_scaled_test)\n",
    "y_prob = classifier.decision_function(X_scaled_test)\n",
    "y_test = Y_test\n",
    "y_pred = y_pred\n",
    "#Evaluate the model\n",
    "print('---------------------')\n",
    "print('SVCL classification results (subject', subjects_test[2], ')')\n",
    "print('---------------------')\n",
    "evaluate_model_predictions(y_test,y_pred, subjects_test[2])\n",
    "plot_roc_curve(y_test,y_prob, subjects_test[2])"
   ]
  },
  {
   "cell_type": "markdown",
   "metadata": {},
   "source": [
    "- Evaluate on fourth subject"
   ]
  },
  {
   "cell_type": "code",
   "execution_count": 34,
   "metadata": {},
   "outputs": [
    {
     "data": {
      "text/plain": [
       "((264, 310), (264,), Counter({1: 97, 2: 97, 0: 70}))"
      ]
     },
     "execution_count": 34,
     "metadata": {},
     "output_type": "execute_result"
    }
   ],
   "source": [
    "#Select the data from the first testing subject\n",
    "test_idx = features_all['Subject'] == subjects_test[3]\n",
    "features_test = features_all[test_idx]\n",
    "features_test.index = [features_test['Subject'], features_test['Epoch']]\n",
    "X_test = features_test.drop(['Subject','Epoch','Label'], axis = 1)\n",
    "Y_test = features_test['Label']\n",
    "X_test.shape, Y_test.shape, Counter(Y_test)"
   ]
  },
  {
   "cell_type": "code",
   "execution_count": 35,
   "metadata": {},
   "outputs": [
    {
     "data": {
      "text/plain": [
       "(264, 20)"
      ]
     },
     "execution_count": 35,
     "metadata": {},
     "output_type": "execute_result"
    }
   ],
   "source": [
    "#Preprocess the data\n",
    "X_test = X_test[features_names]\n",
    "X_scaled_test = standardizer.transform(X_test)\n",
    "X_scaled_test = normalizer.fit_transform(X_scaled_test)\n",
    "X_scaled_test.shape"
   ]
  },
  {
   "cell_type": "code",
   "execution_count": 36,
   "metadata": {},
   "outputs": [
    {
     "name": "stdout",
     "output_type": "stream",
     "text": [
      "---------------------\n",
      "SVCL classification results (subject 14 )\n",
      "---------------------\n",
      "Total accuracy: 0.4053030303030303\n",
      "------------------------------------------\n",
      "Precision for resting state: 0.3624161073825503\n",
      "Precision for right movement: 0.5\n",
      "Precision for left movement: 0.4262295081967213\n",
      "------------------------------------------\n",
      "Sensitivity (true positive rate) for resting state: 0.7714285714285715\n",
      "Sensitivity (true positive rate) for right movement: 0.27835051546391754\n",
      "Sensitivity (true positive rate) for left movement: 0.26804123711340205\n",
      "------------------------------------------\n",
      "Specificity (true negative rate) for resting state: 0.5103092783505154\n",
      "Specificity (true negative rate) for right movement: 0.8383233532934131\n",
      "Specificity (true negative rate) for left movement: 0.7904191616766467\n",
      "------------------------------------------\n",
      "F1 for resting state: 0.4931506849315068\n",
      "F1 for right movement: 0.3576158940397351\n",
      "F1 for left movement: 0.3291139240506329\n",
      "------------------------------------------\n"
     ]
    },
    {
     "data": {
      "image/png": "[encoded data removed]",
      "text/plain": [
       "<Figure size 576x432 with 1 Axes>"
      ]
     },
     "metadata": {
      "needs_background": "light"
     },
     "output_type": "display_data"
    },
    {
     "data": {
      "image/png": "[encoded data removed]",
      "text/plain": [
       "<Figure size 576x432 with 1 Axes>"
      ]
     },
     "metadata": {
      "needs_background": "light"
     },
     "output_type": "display_data"
    }
   ],
   "source": [
    "# Predicting the Test set results\n",
    "y_pred = classifier.predict(X_scaled_test)\n",
    "y_prob = classifier.decision_function(X_scaled_test)\n",
    "y_test = Y_test\n",
    "y_pred = y_pred\n",
    "#Evaluate the model\n",
    "print('---------------------')\n",
    "print('SVCL classification results (subject', subjects_test[3], ')')\n",
    "print('---------------------')\n",
    "evaluate_model_predictions(y_test,y_pred, subjects_test[3])\n",
    "plot_roc_curve(y_test,y_prob, subjects_test[3])"
   ]
  },
  {
   "cell_type": "markdown",
   "metadata": {},
   "source": [
    "- Evaluate on subject five"
   ]
  },
  {
   "cell_type": "code",
   "execution_count": 37,
   "metadata": {},
   "outputs": [
    {
     "data": {
      "text/plain": [
       "((267, 310), (267,), Counter({1: 96, 2: 96, 0: 75}))"
      ]
     },
     "execution_count": 37,
     "metadata": {},
     "output_type": "execute_result"
    }
   ],
   "source": [
    "#Select the data from the first testing subject\n",
    "test_idx = features_all['Subject'] == subjects_test[4]\n",
    "features_test = features_all[test_idx]\n",
    "features_test.index = [features_test['Subject'], features_test['Epoch']]\n",
    "X_test = features_test.drop(['Subject','Epoch','Label'], axis = 1)\n",
    "Y_test = features_test['Label']\n",
    "X_test.shape, Y_test.shape, Counter(Y_test)"
   ]
  },
  {
   "cell_type": "code",
   "execution_count": 38,
   "metadata": {},
   "outputs": [
    {
     "data": {
      "text/plain": [
       "(267, 20)"
      ]
     },
     "execution_count": 38,
     "metadata": {},
     "output_type": "execute_result"
    }
   ],
   "source": [
    "#Preprocess the data\n",
    "X_test = X_test[features_names]\n",
    "X_scaled_test = standardizer.transform(X_test)\n",
    "X_scaled_test = normalizer.fit_transform(X_scaled_test)\n",
    "X_scaled_test.shape"
   ]
  },
  {
   "cell_type": "code",
   "execution_count": 39,
   "metadata": {},
   "outputs": [
    {
     "name": "stdout",
     "output_type": "stream",
     "text": [
      "---------------------\n",
      "SVCL classification results (subject 9 )\n",
      "---------------------\n",
      "Total accuracy: 0.550561797752809\n",
      "------------------------------------------\n",
      "Precision for resting state: 0.460431654676259\n",
      "Precision for right movement: 0.627906976744186\n",
      "Precision for left movement: 0.6904761904761905\n",
      "------------------------------------------\n",
      "Sensitivity (true positive rate) for resting state: 0.8533333333333334\n",
      "Sensitivity (true positive rate) for right movement: 0.5625\n",
      "Sensitivity (true positive rate) for left movement: 0.3020833333333333\n",
      "------------------------------------------\n",
      "Specificity (true negative rate) for resting state: 0.609375\n",
      "Specificity (true negative rate) for right movement: 0.8128654970760234\n",
      "Specificity (true negative rate) for left movement: 0.9239766081871345\n",
      "------------------------------------------\n",
      "F1 for resting state: 0.5981308411214954\n",
      "F1 for right movement: 0.5934065934065934\n",
      "F1 for left movement: 0.42028985507246375\n",
      "------------------------------------------\n"
     ]
    },
    {
     "data": {
      "image/png": "[encoded data removed]",
      "text/plain": [
       "<Figure size 576x432 with 1 Axes>"
      ]
     },
     "metadata": {
      "needs_background": "light"
     },
     "output_type": "display_data"
    },
    {
     "data": {
      "image/png": "[encoded data removed]",
      "text/plain": [
       "<Figure size 576x432 with 1 Axes>"
      ]
     },
     "metadata": {
      "needs_background": "light"
     },
     "output_type": "display_data"
    }
   ],
   "source": [
    "# Predicting the Test set results\n",
    "y_pred = classifier.predict(X_scaled_test)\n",
    "y_prob = classifier.decision_function(X_scaled_test)\n",
    "y_test = Y_test\n",
    "y_pred = y_pred\n",
    "#Evaluate the model\n",
    "print('---------------------')\n",
    "print('SVCL classification results (subject', subjects_test[4], ')')\n",
    "print('---------------------')\n",
    "evaluate_model_predictions(y_test,y_pred, subjects_test[4])\n",
    "plot_roc_curve(y_test,y_prob, subjects_test[4])"
   ]
  },
  {
   "cell_type": "code",
   "execution_count": null,
   "metadata": {},
   "outputs": [],
   "source": []
  }
 ],
 "metadata": {
  "kernelspec": {
   "display_name": "Python 3",
   "language": "python",
   "name": "python3"
  },
  "language_info": {
   "codemirror_mode": {
    "name": "ipython",
    "version": 3
   },
   "file_extension": ".py",
   "mimetype": "text/x-python",
   "name": "python",
   "nbconvert_exporter": "python",
   "pygments_lexer": "ipython3",
   "version": "3.7.6"
  }
 },
 "nbformat": 4,
 "nbformat_minor": 4
}
