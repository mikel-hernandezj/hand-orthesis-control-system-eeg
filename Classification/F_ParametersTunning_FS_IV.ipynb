{
 "cells": [
  {
   "cell_type": "markdown",
   "metadata": {},
   "source": [
    "# Tunne parameters of the selected model from the previous spot-checks\n",
    "In this script we spot-check different EEG classification models to clasify different epochs of one subject into resting state, left hand movement and right hand movement using leave one subject out cross-validation, with the model  selected from the previously done spot-check."
   ]
  },
  {
   "cell_type": "markdown",
   "metadata": {},
   "source": [
    "## Import libraries"
   ]
  },
  {
   "cell_type": "code",
   "execution_count": 22,
   "metadata": {},
   "outputs": [],
   "source": [
    "import os\n",
    "import pandas as pd\n",
    "import numpy as np\n",
    "from numpy import mean\n",
    "from numpy import std\n",
    "from matplotlib import pyplot\n",
    "import seaborn as sns\n",
    "from sklearn.preprocessing import StandardScaler\n",
    "from sklearn.preprocessing import MinMaxScaler\n",
    "from sklearn.linear_model import LogisticRegression\n",
    "from sklearn.preprocessing import LabelBinarizer\n",
    "from sklearn.model_selection import GridSearchCV\n",
    "from sklearn.ensemble import RandomForestClassifier\n",
    "from sklearn.discriminant_analysis import LinearDiscriminantAnalysis\n",
    "from sklearn.discriminant_analysis import QuadraticDiscriminantAnalysis\n",
    "from sklearn.svm import SVC\n",
    "from sklearn.neighbors import KNeighborsClassifier\n",
    "from sklearn.neural_network import MLPClassifier\n",
    "from sklearn.tree import DecisionTreeClassifier\n",
    "from sklearn.metrics import confusion_matrix\n",
    "from sklearn.metrics import multilabel_confusion_matrix\n",
    "import matplotlib.pyplot as plt\n",
    "from sklearn.decomposition import PCA\n",
    "from sklearn.metrics import accuracy_score\n",
    "from collections import Counter\n",
    "from sklearn.ensemble import AdaBoostClassifier\n",
    "from sklearn.pipeline import Pipeline\n",
    "from sklearn.model_selection import cross_val_score\n",
    "from sklearn.model_selection import KFold\n",
    "from sklearn.model_selection import train_test_split\n",
    "from sklearn.feature_selection import RFE\n",
    "from sklearn.metrics import accuracy_score, roc_auc_score, f1_score"
   ]
  },
  {
   "cell_type": "markdown",
   "metadata": {},
   "source": [
    "## Create some functions"
   ]
  },
  {
   "cell_type": "code",
   "execution_count": 5,
   "metadata": {},
   "outputs": [],
   "source": [
    "# create a dict of some models to evaluate them {key:model name} {values:model object}\n",
    "def define_models_svcl(models=dict()) :\n",
    "    C_values = [0.001, 0.01, 0.1, 1, 10, 100, 1000]\n",
    "    cont = 1\n",
    "    for C_val in C_values :\n",
    "        models['svm%d' % (cont)] = SVC(kernel='linear', C=C_val, probability=True)\n",
    "        cont = cont + 1\n",
    "    return models"
   ]
  },
  {
   "cell_type": "code",
   "execution_count": 6,
   "metadata": {},
   "outputs": [],
   "source": [
    "# create a dict of some models to evaluate them {key:model name} {values:model object}\n",
    "def define_models_logistic(models=dict()) :\n",
    "    C_values = [0.001, 0.01, 0.1, 1, 10, 100, 1000]\n",
    "    cont1 = 1\n",
    "    for C_val in C_values :\n",
    "        models['logistic%d' % (cont1)] = LogisticRegression(C=C_val)\n",
    "        cont1 = cont1 + 1\n",
    "    return models"
   ]
  },
  {
   "cell_type": "code",
   "execution_count": 7,
   "metadata": {},
   "outputs": [],
   "source": [
    "# evaluate a single model\n",
    "def evaluate_model(X, y, model, subjects_train):\n",
    "    # evaluate model\n",
    "    scores = dict()\n",
    "    scores['accuracy'] = []\n",
    "    scores['roc_auc'] = []\n",
    "    scores['f1'] = []\n",
    "    for subject in subjects_train :\n",
    "        train_idx = subjects_idx_train != subject\n",
    "        X_training = X[train_idx.values]\n",
    "        y_training = y[train_idx.values]\n",
    "        val_idx = subjects_idx_train == subject\n",
    "        X_val = X[val_idx.values]\n",
    "        y_val = y[val_idx.values]\n",
    "        #train the model\n",
    "        model.fit(X_training,y_training)\n",
    "        y_pred = model.predict(X_val)\n",
    "        y_prob = model.predict_proba(X_val)\n",
    "        scores['accuracy'].append(accuracy_score(y_val,y_pred))\n",
    "        scores['roc_auc'].append(roc_auc_score(y_val,y_prob,multi_class='ovo',labels=[0,1,2]))\n",
    "        scores['f1'].append(f1_score(y_val,y_pred,average='weighted'))\n",
    "        print(subject)\n",
    "    print(scores)\n",
    "    return scores"
   ]
  },
  {
   "cell_type": "code",
   "execution_count": 8,
   "metadata": {},
   "outputs": [],
   "source": [
    "# evaluate a dict of models {name:object}, returns {name:score}\n",
    "def evaluate_models(X, y, models, subjects_train):\n",
    "    results = dict()\n",
    "    metric='accuracy'\n",
    "    for name, model in models.items():\n",
    "        scores = evaluate_model(X, y, model, subjects_train)\n",
    "        results[name] = scores\n",
    "        print(name,'evaluated')\n",
    "    return results"
   ]
  },
  {
   "cell_type": "code",
   "execution_count": 9,
   "metadata": {},
   "outputs": [],
   "source": [
    "#print and plot the results of the models in order (from the best one to the worse one)\n",
    "def summarize_results(results):\n",
    "    # create a list of (name, mean(scores)) tuples\n",
    "    mean_accuracy_scores = dict()\n",
    "    mean_auc_scores = dict()\n",
    "    mean_f1_scores = dict()\n",
    "    for k,v in results.items() :\n",
    "        mean_accuracy_scores.update({k : mean(v['accuracy'])})\n",
    "        mean_auc_scores.update({k : mean(v['roc_auc'])})\n",
    "        mean_f1_scores.update({k : mean(v['f1'])})\n",
    "    # sort tuples by mean score\n",
    "    ordered_accuracy = sorted(mean_accuracy_scores.items(), key=lambda x: x[1])\n",
    "    # reverse for descending order (from the best one to the worse one)\n",
    "    ordered_accuracy = list(reversed(ordered_accuracy))\n",
    "    # retrieve the top for summarization\n",
    "    names = [x[0] for x in ordered_accuracy]\n",
    "    accuracy_scores = [results[x]['accuracy'] for x in names]\n",
    "    auc_scores = [results[x]['roc_auc'] for x in names]\n",
    "    f1_scores = [results[x]['f1'] for x in names]\n",
    "    # print the top \n",
    "    print()\n",
    "    for i in range(len(results)):\n",
    "        name = names[i]\n",
    "        mean_accuracy_score = mean_accuracy_scores[name]\n",
    "        mean_auc_score = mean_auc_scores[name]\n",
    "        mean_f1 = mean_f1_scores[name]\n",
    "        print('Rank=%d, Name=%s, Accuracy=%.3f, roc_auc=%.3f, f1=%.3f' % (i+1, name, mean_accuracy_score, mean_auc_score, mean_f1))\n",
    "    # boxplot for the top n\n",
    "    print(mean_accuracy_score, names)\n",
    "    plt.figure()\n",
    "    plt.boxplot(accuracy_scores, labels=names)\n",
    "    _, labels = pyplot.xticks()\n",
    "    pyplot.setp(labels, rotation=90)\n",
    "    plt.title('Accuracy scores')\n",
    "    plt.figure()\n",
    "    plt.boxplot(auc_scores, labels=names)\n",
    "    _, labels = pyplot.xticks()\n",
    "    pyplot.setp(labels, rotation=90)\n",
    "    plt.title('ROC-AUC scores')\n",
    "    plt.figure()\n",
    "    plt.boxplot(f1_scores, labels=names)\n",
    "    _, labels = pyplot.xticks()\n",
    "    pyplot.setp(labels, rotation=90)\n",
    "    plt.title('F1 scores')"
   ]
  },
  {
   "cell_type": "markdown",
   "metadata": {},
   "source": [
    "## Read statistical features and labels from all subjects"
   ]
  },
  {
   "cell_type": "code",
   "execution_count": 10,
   "metadata": {},
   "outputs": [
    {
     "data": {
      "text/html": [
       "<div>\n",
       "<style scoped>\n",
       "    .dataframe tbody tr th:only-of-type {\n",
       "        vertical-align: middle;\n",
       "    }\n",
       "\n",
       "    .dataframe tbody tr th {\n",
       "        vertical-align: top;\n",
       "    }\n",
       "\n",
       "    .dataframe thead th {\n",
       "        text-align: right;\n",
       "    }\n",
       "</style>\n",
       "<table border=\"1\" class=\"dataframe\">\n",
       "  <thead>\n",
       "    <tr style=\"text-align: right;\">\n",
       "      <th></th>\n",
       "      <th>Subject</th>\n",
       "      <th>Epoch</th>\n",
       "      <th>Mean_FC5</th>\n",
       "      <th>Variance_FC5</th>\n",
       "      <th>Kurtosis_FC5</th>\n",
       "      <th>Mean_FC3</th>\n",
       "      <th>Variance_FC3</th>\n",
       "      <th>Kurtosis_FC3</th>\n",
       "      <th>Mean_FC1</th>\n",
       "      <th>Variance_FC1</th>\n",
       "      <th>...</th>\n",
       "      <th>PLV_CP1_CP2</th>\n",
       "      <th>PLV_CP1_CP4</th>\n",
       "      <th>PLV_CP1_CP6</th>\n",
       "      <th>PLV_CPz_CP2</th>\n",
       "      <th>PLV_CPz_CP4</th>\n",
       "      <th>PLV_CPz_CP6</th>\n",
       "      <th>PLV_CP2_CP4</th>\n",
       "      <th>PLV_CP2_CP6</th>\n",
       "      <th>PLV_CP4_CP6</th>\n",
       "      <th>Label</th>\n",
       "    </tr>\n",
       "  </thead>\n",
       "  <tbody>\n",
       "    <tr>\n",
       "      <th>0</th>\n",
       "      <td>1</td>\n",
       "      <td>1</td>\n",
       "      <td>0.077105</td>\n",
       "      <td>7.357580</td>\n",
       "      <td>2.809176</td>\n",
       "      <td>0.382332</td>\n",
       "      <td>7.589385</td>\n",
       "      <td>3.297552</td>\n",
       "      <td>0.464633</td>\n",
       "      <td>7.700149</td>\n",
       "      <td>...</td>\n",
       "      <td>0.318132</td>\n",
       "      <td>0.073507</td>\n",
       "      <td>0.323108</td>\n",
       "      <td>0.669452</td>\n",
       "      <td>0.247354</td>\n",
       "      <td>0.067815</td>\n",
       "      <td>0.685624</td>\n",
       "      <td>0.365035</td>\n",
       "      <td>0.772310</td>\n",
       "      <td>1</td>\n",
       "    </tr>\n",
       "    <tr>\n",
       "      <th>1</th>\n",
       "      <td>1</td>\n",
       "      <td>2</td>\n",
       "      <td>-0.018304</td>\n",
       "      <td>7.029542</td>\n",
       "      <td>2.842915</td>\n",
       "      <td>0.184697</td>\n",
       "      <td>6.991603</td>\n",
       "      <td>3.060431</td>\n",
       "      <td>0.281971</td>\n",
       "      <td>7.484742</td>\n",
       "      <td>...</td>\n",
       "      <td>0.470648</td>\n",
       "      <td>0.123157</td>\n",
       "      <td>0.181453</td>\n",
       "      <td>0.699222</td>\n",
       "      <td>0.302571</td>\n",
       "      <td>0.062673</td>\n",
       "      <td>0.705291</td>\n",
       "      <td>0.361569</td>\n",
       "      <td>0.726673</td>\n",
       "      <td>2</td>\n",
       "    </tr>\n",
       "    <tr>\n",
       "      <th>2</th>\n",
       "      <td>1</td>\n",
       "      <td>3</td>\n",
       "      <td>-0.319861</td>\n",
       "      <td>6.399684</td>\n",
       "      <td>3.428581</td>\n",
       "      <td>-0.346442</td>\n",
       "      <td>6.964995</td>\n",
       "      <td>2.777844</td>\n",
       "      <td>-0.256384</td>\n",
       "      <td>8.132662</td>\n",
       "      <td>...</td>\n",
       "      <td>0.580862</td>\n",
       "      <td>0.386278</td>\n",
       "      <td>0.231118</td>\n",
       "      <td>0.773177</td>\n",
       "      <td>0.498727</td>\n",
       "      <td>0.242550</td>\n",
       "      <td>0.764621</td>\n",
       "      <td>0.475057</td>\n",
       "      <td>0.770152</td>\n",
       "      <td>1</td>\n",
       "    </tr>\n",
       "    <tr>\n",
       "      <th>3</th>\n",
       "      <td>1</td>\n",
       "      <td>4</td>\n",
       "      <td>0.036567</td>\n",
       "      <td>8.415375</td>\n",
       "      <td>2.555121</td>\n",
       "      <td>0.150948</td>\n",
       "      <td>9.348971</td>\n",
       "      <td>3.053070</td>\n",
       "      <td>0.207301</td>\n",
       "      <td>8.933164</td>\n",
       "      <td>...</td>\n",
       "      <td>0.607181</td>\n",
       "      <td>0.256862</td>\n",
       "      <td>0.167798</td>\n",
       "      <td>0.806269</td>\n",
       "      <td>0.438541</td>\n",
       "      <td>0.089317</td>\n",
       "      <td>0.747473</td>\n",
       "      <td>0.330642</td>\n",
       "      <td>0.694656</td>\n",
       "      <td>2</td>\n",
       "    </tr>\n",
       "    <tr>\n",
       "      <th>4</th>\n",
       "      <td>1</td>\n",
       "      <td>5</td>\n",
       "      <td>0.257114</td>\n",
       "      <td>13.767046</td>\n",
       "      <td>2.879540</td>\n",
       "      <td>0.157239</td>\n",
       "      <td>14.221320</td>\n",
       "      <td>2.764797</td>\n",
       "      <td>-0.017693</td>\n",
       "      <td>13.340810</td>\n",
       "      <td>...</td>\n",
       "      <td>0.464897</td>\n",
       "      <td>0.257998</td>\n",
       "      <td>0.146752</td>\n",
       "      <td>0.819921</td>\n",
       "      <td>0.607017</td>\n",
       "      <td>0.364591</td>\n",
       "      <td>0.854306</td>\n",
       "      <td>0.557560</td>\n",
       "      <td>0.742894</td>\n",
       "      <td>2</td>\n",
       "    </tr>\n",
       "    <tr>\n",
       "      <th>...</th>\n",
       "      <td>...</td>\n",
       "      <td>...</td>\n",
       "      <td>...</td>\n",
       "      <td>...</td>\n",
       "      <td>...</td>\n",
       "      <td>...</td>\n",
       "      <td>...</td>\n",
       "      <td>...</td>\n",
       "      <td>...</td>\n",
       "      <td>...</td>\n",
       "      <td>...</td>\n",
       "      <td>...</td>\n",
       "      <td>...</td>\n",
       "      <td>...</td>\n",
       "      <td>...</td>\n",
       "      <td>...</td>\n",
       "      <td>...</td>\n",
       "      <td>...</td>\n",
       "      <td>...</td>\n",
       "      <td>...</td>\n",
       "      <td>...</td>\n",
       "    </tr>\n",
       "    <tr>\n",
       "      <th>255</th>\n",
       "      <td>44</td>\n",
       "      <td>256</td>\n",
       "      <td>-0.347318</td>\n",
       "      <td>11.215760</td>\n",
       "      <td>2.415819</td>\n",
       "      <td>-0.551029</td>\n",
       "      <td>13.194753</td>\n",
       "      <td>2.405359</td>\n",
       "      <td>-0.656948</td>\n",
       "      <td>12.642553</td>\n",
       "      <td>...</td>\n",
       "      <td>0.080379</td>\n",
       "      <td>0.140109</td>\n",
       "      <td>0.308763</td>\n",
       "      <td>0.595714</td>\n",
       "      <td>0.356431</td>\n",
       "      <td>0.148958</td>\n",
       "      <td>0.845309</td>\n",
       "      <td>0.611503</td>\n",
       "      <td>0.830670</td>\n",
       "      <td>0</td>\n",
       "    </tr>\n",
       "    <tr>\n",
       "      <th>256</th>\n",
       "      <td>44</td>\n",
       "      <td>257</td>\n",
       "      <td>0.221785</td>\n",
       "      <td>12.573679</td>\n",
       "      <td>3.445813</td>\n",
       "      <td>0.237528</td>\n",
       "      <td>11.310268</td>\n",
       "      <td>3.638090</td>\n",
       "      <td>0.239306</td>\n",
       "      <td>11.290607</td>\n",
       "      <td>...</td>\n",
       "      <td>0.266919</td>\n",
       "      <td>0.165629</td>\n",
       "      <td>0.418936</td>\n",
       "      <td>0.611298</td>\n",
       "      <td>0.252375</td>\n",
       "      <td>0.062959</td>\n",
       "      <td>0.743924</td>\n",
       "      <td>0.390819</td>\n",
       "      <td>0.758761</td>\n",
       "      <td>0</td>\n",
       "    </tr>\n",
       "    <tr>\n",
       "      <th>257</th>\n",
       "      <td>44</td>\n",
       "      <td>258</td>\n",
       "      <td>-0.429369</td>\n",
       "      <td>7.199075</td>\n",
       "      <td>3.063733</td>\n",
       "      <td>-0.496420</td>\n",
       "      <td>8.957319</td>\n",
       "      <td>3.198463</td>\n",
       "      <td>-0.582399</td>\n",
       "      <td>9.467059</td>\n",
       "      <td>...</td>\n",
       "      <td>0.578182</td>\n",
       "      <td>0.322126</td>\n",
       "      <td>0.422456</td>\n",
       "      <td>0.720966</td>\n",
       "      <td>0.303902</td>\n",
       "      <td>0.250078</td>\n",
       "      <td>0.694467</td>\n",
       "      <td>0.191094</td>\n",
       "      <td>0.554233</td>\n",
       "      <td>0</td>\n",
       "    </tr>\n",
       "    <tr>\n",
       "      <th>258</th>\n",
       "      <td>44</td>\n",
       "      <td>259</td>\n",
       "      <td>-0.945257</td>\n",
       "      <td>21.763986</td>\n",
       "      <td>6.206397</td>\n",
       "      <td>-0.971078</td>\n",
       "      <td>17.039679</td>\n",
       "      <td>6.818231</td>\n",
       "      <td>-0.958857</td>\n",
       "      <td>15.633321</td>\n",
       "      <td>...</td>\n",
       "      <td>0.444469</td>\n",
       "      <td>0.202010</td>\n",
       "      <td>0.083466</td>\n",
       "      <td>0.758260</td>\n",
       "      <td>0.527970</td>\n",
       "      <td>0.244990</td>\n",
       "      <td>0.844094</td>\n",
       "      <td>0.562038</td>\n",
       "      <td>0.789984</td>\n",
       "      <td>0</td>\n",
       "    </tr>\n",
       "    <tr>\n",
       "      <th>259</th>\n",
       "      <td>44</td>\n",
       "      <td>260</td>\n",
       "      <td>0.167214</td>\n",
       "      <td>4.859880</td>\n",
       "      <td>3.381623</td>\n",
       "      <td>0.117990</td>\n",
       "      <td>4.956969</td>\n",
       "      <td>2.973658</td>\n",
       "      <td>0.105943</td>\n",
       "      <td>5.630100</td>\n",
       "      <td>...</td>\n",
       "      <td>0.533983</td>\n",
       "      <td>0.121270</td>\n",
       "      <td>0.270544</td>\n",
       "      <td>0.764531</td>\n",
       "      <td>0.372002</td>\n",
       "      <td>0.079072</td>\n",
       "      <td>0.688026</td>\n",
       "      <td>0.228740</td>\n",
       "      <td>0.631245</td>\n",
       "      <td>0</td>\n",
       "    </tr>\n",
       "  </tbody>\n",
       "</table>\n",
       "<p>6251 rows × 313 columns</p>\n",
       "</div>"
      ],
      "text/plain": [
       "     Subject  Epoch  Mean_FC5  Variance_FC5  Kurtosis_FC5  Mean_FC3  \\\n",
       "0          1      1  0.077105      7.357580      2.809176  0.382332   \n",
       "1          1      2 -0.018304      7.029542      2.842915  0.184697   \n",
       "2          1      3 -0.319861      6.399684      3.428581 -0.346442   \n",
       "3          1      4  0.036567      8.415375      2.555121  0.150948   \n",
       "4          1      5  0.257114     13.767046      2.879540  0.157239   \n",
       "..       ...    ...       ...           ...           ...       ...   \n",
       "255       44    256 -0.347318     11.215760      2.415819 -0.551029   \n",
       "256       44    257  0.221785     12.573679      3.445813  0.237528   \n",
       "257       44    258 -0.429369      7.199075      3.063733 -0.496420   \n",
       "258       44    259 -0.945257     21.763986      6.206397 -0.971078   \n",
       "259       44    260  0.167214      4.859880      3.381623  0.117990   \n",
       "\n",
       "     Variance_FC3  Kurtosis_FC3  Mean_FC1  Variance_FC1  ...  PLV_CP1_CP2  \\\n",
       "0        7.589385      3.297552  0.464633      7.700149  ...     0.318132   \n",
       "1        6.991603      3.060431  0.281971      7.484742  ...     0.470648   \n",
       "2        6.964995      2.777844 -0.256384      8.132662  ...     0.580862   \n",
       "3        9.348971      3.053070  0.207301      8.933164  ...     0.607181   \n",
       "4       14.221320      2.764797 -0.017693     13.340810  ...     0.464897   \n",
       "..            ...           ...       ...           ...  ...          ...   \n",
       "255     13.194753      2.405359 -0.656948     12.642553  ...     0.080379   \n",
       "256     11.310268      3.638090  0.239306     11.290607  ...     0.266919   \n",
       "257      8.957319      3.198463 -0.582399      9.467059  ...     0.578182   \n",
       "258     17.039679      6.818231 -0.958857     15.633321  ...     0.444469   \n",
       "259      4.956969      2.973658  0.105943      5.630100  ...     0.533983   \n",
       "\n",
       "     PLV_CP1_CP4  PLV_CP1_CP6  PLV_CPz_CP2  PLV_CPz_CP4  PLV_CPz_CP6  \\\n",
       "0       0.073507     0.323108     0.669452     0.247354     0.067815   \n",
       "1       0.123157     0.181453     0.699222     0.302571     0.062673   \n",
       "2       0.386278     0.231118     0.773177     0.498727     0.242550   \n",
       "3       0.256862     0.167798     0.806269     0.438541     0.089317   \n",
       "4       0.257998     0.146752     0.819921     0.607017     0.364591   \n",
       "..           ...          ...          ...          ...          ...   \n",
       "255     0.140109     0.308763     0.595714     0.356431     0.148958   \n",
       "256     0.165629     0.418936     0.611298     0.252375     0.062959   \n",
       "257     0.322126     0.422456     0.720966     0.303902     0.250078   \n",
       "258     0.202010     0.083466     0.758260     0.527970     0.244990   \n",
       "259     0.121270     0.270544     0.764531     0.372002     0.079072   \n",
       "\n",
       "     PLV_CP2_CP4  PLV_CP2_CP6  PLV_CP4_CP6  Label  \n",
       "0       0.685624     0.365035     0.772310      1  \n",
       "1       0.705291     0.361569     0.726673      2  \n",
       "2       0.764621     0.475057     0.770152      1  \n",
       "3       0.747473     0.330642     0.694656      2  \n",
       "4       0.854306     0.557560     0.742894      2  \n",
       "..           ...          ...          ...    ...  \n",
       "255     0.845309     0.611503     0.830670      0  \n",
       "256     0.743924     0.390819     0.758761      0  \n",
       "257     0.694467     0.191094     0.554233      0  \n",
       "258     0.844094     0.562038     0.789984      0  \n",
       "259     0.688026     0.228740     0.631245      0  \n",
       "\n",
       "[6251 rows x 313 columns]"
      ]
     },
     "execution_count": 10,
     "metadata": {},
     "output_type": "execute_result"
    }
   ],
   "source": [
    "#read subjects files and merge them\n",
    "files = os.listdir('Subjects data')\n",
    "features_all = pd.read_csv('Subjects data/' + files[0], encoding='latin1')\n",
    "files.pop(0)\n",
    "for f in files :\n",
    "    features_subject = pd.read_csv('Subjects data/' + f, encoding='latin1')\n",
    "    frames = [features_all, features_subject]\n",
    "    features_all = pd.concat(frames)\n",
    "#features_all.index = [features_all['Subject'], features_all['Epoch']]\n",
    "subjects_idx = features_all['Subject'].values\n",
    "#features_all = features_all.drop(['Subject','Epoch'], axis = 1)\n",
    "features_all"
   ]
  },
  {
   "cell_type": "markdown",
   "metadata": {},
   "source": [
    "## Split the data into training and test"
   ]
  },
  {
   "cell_type": "code",
   "execution_count": 11,
   "metadata": {},
   "outputs": [
    {
     "data": {
      "text/plain": [
       "([15, 12, 21, 4, 10, 44, 3, 18, 29, 20, 7, 19, 11, 2, 28, 5, 8, 16, 6],\n",
       " [1, 13, 17, 14, 9])"
      ]
     },
     "execution_count": 11,
     "metadata": {},
     "output_type": "execute_result"
    }
   ],
   "source": [
    "#Select randomly subjects for train and test\n",
    "subjects = np.unique(subjects_idx)\n",
    "subjects_train = [15, 12, 21, 4, 10, 44, 3, 18, 29, 20, 7, 19, 11, 2, 28, 5, 8, 16, 6]\n",
    "subjects_test = [1, 13, 17, 14, 9]\n",
    "subjects_train, subjects_test"
   ]
  },
  {
   "cell_type": "code",
   "execution_count": 12,
   "metadata": {},
   "outputs": [
    {
     "data": {
      "text/html": [
       "<div>\n",
       "<style scoped>\n",
       "    .dataframe tbody tr th:only-of-type {\n",
       "        vertical-align: middle;\n",
       "    }\n",
       "\n",
       "    .dataframe tbody tr th {\n",
       "        vertical-align: top;\n",
       "    }\n",
       "\n",
       "    .dataframe thead th {\n",
       "        text-align: right;\n",
       "    }\n",
       "</style>\n",
       "<table border=\"1\" class=\"dataframe\">\n",
       "  <thead>\n",
       "    <tr style=\"text-align: right;\">\n",
       "      <th></th>\n",
       "      <th>Subject</th>\n",
       "      <th>Epoch</th>\n",
       "      <th>Mean_FC5</th>\n",
       "      <th>Variance_FC5</th>\n",
       "      <th>Kurtosis_FC5</th>\n",
       "      <th>Mean_FC3</th>\n",
       "      <th>Variance_FC3</th>\n",
       "      <th>Kurtosis_FC3</th>\n",
       "      <th>Mean_FC1</th>\n",
       "      <th>Variance_FC1</th>\n",
       "      <th>...</th>\n",
       "      <th>PLV_CP1_CP2</th>\n",
       "      <th>PLV_CP1_CP4</th>\n",
       "      <th>PLV_CP1_CP6</th>\n",
       "      <th>PLV_CPz_CP2</th>\n",
       "      <th>PLV_CPz_CP4</th>\n",
       "      <th>PLV_CPz_CP6</th>\n",
       "      <th>PLV_CP2_CP4</th>\n",
       "      <th>PLV_CP2_CP6</th>\n",
       "      <th>PLV_CP4_CP6</th>\n",
       "      <th>Label</th>\n",
       "    </tr>\n",
       "  </thead>\n",
       "  <tbody>\n",
       "    <tr>\n",
       "      <th>0</th>\n",
       "      <td>15</td>\n",
       "      <td>1</td>\n",
       "      <td>-0.226124</td>\n",
       "      <td>3.195941</td>\n",
       "      <td>2.881555</td>\n",
       "      <td>-0.275889</td>\n",
       "      <td>2.269788</td>\n",
       "      <td>3.280869</td>\n",
       "      <td>-0.109598</td>\n",
       "      <td>2.684536</td>\n",
       "      <td>...</td>\n",
       "      <td>0.498464</td>\n",
       "      <td>0.109177</td>\n",
       "      <td>0.096379</td>\n",
       "      <td>0.723574</td>\n",
       "      <td>0.384581</td>\n",
       "      <td>0.159108</td>\n",
       "      <td>0.645515</td>\n",
       "      <td>0.389479</td>\n",
       "      <td>0.794813</td>\n",
       "      <td>1</td>\n",
       "    </tr>\n",
       "    <tr>\n",
       "      <th>1</th>\n",
       "      <td>15</td>\n",
       "      <td>2</td>\n",
       "      <td>0.030149</td>\n",
       "      <td>3.409489</td>\n",
       "      <td>3.228332</td>\n",
       "      <td>0.014870</td>\n",
       "      <td>2.478137</td>\n",
       "      <td>3.812820</td>\n",
       "      <td>-0.002679</td>\n",
       "      <td>1.796357</td>\n",
       "      <td>...</td>\n",
       "      <td>0.266234</td>\n",
       "      <td>0.056251</td>\n",
       "      <td>0.144260</td>\n",
       "      <td>0.655767</td>\n",
       "      <td>0.335991</td>\n",
       "      <td>0.098588</td>\n",
       "      <td>0.706705</td>\n",
       "      <td>0.473348</td>\n",
       "      <td>0.726290</td>\n",
       "      <td>2</td>\n",
       "    </tr>\n",
       "    <tr>\n",
       "      <th>2</th>\n",
       "      <td>15</td>\n",
       "      <td>3</td>\n",
       "      <td>0.047237</td>\n",
       "      <td>3.708139</td>\n",
       "      <td>2.910095</td>\n",
       "      <td>-0.005586</td>\n",
       "      <td>2.811760</td>\n",
       "      <td>3.038567</td>\n",
       "      <td>-0.054310</td>\n",
       "      <td>2.949162</td>\n",
       "      <td>...</td>\n",
       "      <td>0.456545</td>\n",
       "      <td>0.202658</td>\n",
       "      <td>0.047853</td>\n",
       "      <td>0.738647</td>\n",
       "      <td>0.387145</td>\n",
       "      <td>0.150339</td>\n",
       "      <td>0.640531</td>\n",
       "      <td>0.420457</td>\n",
       "      <td>0.698610</td>\n",
       "      <td>1</td>\n",
       "    </tr>\n",
       "    <tr>\n",
       "      <th>3</th>\n",
       "      <td>15</td>\n",
       "      <td>4</td>\n",
       "      <td>-0.275433</td>\n",
       "      <td>3.773190</td>\n",
       "      <td>2.643662</td>\n",
       "      <td>-0.073327</td>\n",
       "      <td>2.295184</td>\n",
       "      <td>2.892549</td>\n",
       "      <td>0.087973</td>\n",
       "      <td>2.130878</td>\n",
       "      <td>...</td>\n",
       "      <td>0.432633</td>\n",
       "      <td>0.148281</td>\n",
       "      <td>0.160235</td>\n",
       "      <td>0.758073</td>\n",
       "      <td>0.410296</td>\n",
       "      <td>0.160244</td>\n",
       "      <td>0.620352</td>\n",
       "      <td>0.321739</td>\n",
       "      <td>0.709662</td>\n",
       "      <td>1</td>\n",
       "    </tr>\n",
       "    <tr>\n",
       "      <th>4</th>\n",
       "      <td>15</td>\n",
       "      <td>5</td>\n",
       "      <td>-0.060434</td>\n",
       "      <td>3.423417</td>\n",
       "      <td>2.893461</td>\n",
       "      <td>-0.089059</td>\n",
       "      <td>2.716601</td>\n",
       "      <td>2.856706</td>\n",
       "      <td>-0.087965</td>\n",
       "      <td>2.550269</td>\n",
       "      <td>...</td>\n",
       "      <td>0.419553</td>\n",
       "      <td>0.095825</td>\n",
       "      <td>0.118061</td>\n",
       "      <td>0.684872</td>\n",
       "      <td>0.278488</td>\n",
       "      <td>0.105448</td>\n",
       "      <td>0.628054</td>\n",
       "      <td>0.470720</td>\n",
       "      <td>0.828787</td>\n",
       "      <td>1</td>\n",
       "    </tr>\n",
       "    <tr>\n",
       "      <th>...</th>\n",
       "      <td>...</td>\n",
       "      <td>...</td>\n",
       "      <td>...</td>\n",
       "      <td>...</td>\n",
       "      <td>...</td>\n",
       "      <td>...</td>\n",
       "      <td>...</td>\n",
       "      <td>...</td>\n",
       "      <td>...</td>\n",
       "      <td>...</td>\n",
       "      <td>...</td>\n",
       "      <td>...</td>\n",
       "      <td>...</td>\n",
       "      <td>...</td>\n",
       "      <td>...</td>\n",
       "      <td>...</td>\n",
       "      <td>...</td>\n",
       "      <td>...</td>\n",
       "      <td>...</td>\n",
       "      <td>...</td>\n",
       "      <td>...</td>\n",
       "    </tr>\n",
       "    <tr>\n",
       "      <th>272</th>\n",
       "      <td>6</td>\n",
       "      <td>273</td>\n",
       "      <td>-0.304880</td>\n",
       "      <td>22.298991</td>\n",
       "      <td>3.302567</td>\n",
       "      <td>-0.129734</td>\n",
       "      <td>14.958487</td>\n",
       "      <td>3.370847</td>\n",
       "      <td>-0.051861</td>\n",
       "      <td>15.985407</td>\n",
       "      <td>...</td>\n",
       "      <td>0.400836</td>\n",
       "      <td>0.100550</td>\n",
       "      <td>0.256252</td>\n",
       "      <td>0.661555</td>\n",
       "      <td>0.268539</td>\n",
       "      <td>0.130888</td>\n",
       "      <td>0.714714</td>\n",
       "      <td>0.310249</td>\n",
       "      <td>0.709654</td>\n",
       "      <td>0</td>\n",
       "    </tr>\n",
       "    <tr>\n",
       "      <th>273</th>\n",
       "      <td>6</td>\n",
       "      <td>274</td>\n",
       "      <td>0.269868</td>\n",
       "      <td>33.843053</td>\n",
       "      <td>3.654818</td>\n",
       "      <td>0.212369</td>\n",
       "      <td>16.329158</td>\n",
       "      <td>2.957622</td>\n",
       "      <td>0.039009</td>\n",
       "      <td>16.658380</td>\n",
       "      <td>...</td>\n",
       "      <td>0.552139</td>\n",
       "      <td>0.370040</td>\n",
       "      <td>0.223648</td>\n",
       "      <td>0.712328</td>\n",
       "      <td>0.506982</td>\n",
       "      <td>0.296971</td>\n",
       "      <td>0.870735</td>\n",
       "      <td>0.596865</td>\n",
       "      <td>0.785686</td>\n",
       "      <td>0</td>\n",
       "    </tr>\n",
       "    <tr>\n",
       "      <th>274</th>\n",
       "      <td>6</td>\n",
       "      <td>275</td>\n",
       "      <td>0.696642</td>\n",
       "      <td>15.568775</td>\n",
       "      <td>3.843750</td>\n",
       "      <td>0.337532</td>\n",
       "      <td>14.240621</td>\n",
       "      <td>4.116896</td>\n",
       "      <td>0.411972</td>\n",
       "      <td>16.540324</td>\n",
       "      <td>...</td>\n",
       "      <td>0.293143</td>\n",
       "      <td>0.119998</td>\n",
       "      <td>0.265822</td>\n",
       "      <td>0.706523</td>\n",
       "      <td>0.229444</td>\n",
       "      <td>0.090624</td>\n",
       "      <td>0.610597</td>\n",
       "      <td>0.295000</td>\n",
       "      <td>0.726543</td>\n",
       "      <td>0</td>\n",
       "    </tr>\n",
       "    <tr>\n",
       "      <th>275</th>\n",
       "      <td>6</td>\n",
       "      <td>276</td>\n",
       "      <td>0.170718</td>\n",
       "      <td>26.607633</td>\n",
       "      <td>2.631762</td>\n",
       "      <td>-0.082792</td>\n",
       "      <td>16.046166</td>\n",
       "      <td>3.065634</td>\n",
       "      <td>-0.065649</td>\n",
       "      <td>16.759860</td>\n",
       "      <td>...</td>\n",
       "      <td>0.383266</td>\n",
       "      <td>0.052075</td>\n",
       "      <td>0.214457</td>\n",
       "      <td>0.670556</td>\n",
       "      <td>0.267428</td>\n",
       "      <td>0.075736</td>\n",
       "      <td>0.681577</td>\n",
       "      <td>0.318358</td>\n",
       "      <td>0.699691</td>\n",
       "      <td>0</td>\n",
       "    </tr>\n",
       "    <tr>\n",
       "      <th>276</th>\n",
       "      <td>6</td>\n",
       "      <td>277</td>\n",
       "      <td>-0.149774</td>\n",
       "      <td>25.667610</td>\n",
       "      <td>3.001896</td>\n",
       "      <td>-0.331184</td>\n",
       "      <td>15.513927</td>\n",
       "      <td>2.970890</td>\n",
       "      <td>-0.570239</td>\n",
       "      <td>19.720077</td>\n",
       "      <td>...</td>\n",
       "      <td>0.530426</td>\n",
       "      <td>0.263476</td>\n",
       "      <td>0.195801</td>\n",
       "      <td>0.788003</td>\n",
       "      <td>0.473607</td>\n",
       "      <td>0.175662</td>\n",
       "      <td>0.745219</td>\n",
       "      <td>0.345032</td>\n",
       "      <td>0.655788</td>\n",
       "      <td>0</td>\n",
       "    </tr>\n",
       "  </tbody>\n",
       "</table>\n",
       "<p>4931 rows × 313 columns</p>\n",
       "</div>"
      ],
      "text/plain": [
       "     Subject  Epoch  Mean_FC5  Variance_FC5  Kurtosis_FC5  Mean_FC3  \\\n",
       "0         15      1 -0.226124      3.195941      2.881555 -0.275889   \n",
       "1         15      2  0.030149      3.409489      3.228332  0.014870   \n",
       "2         15      3  0.047237      3.708139      2.910095 -0.005586   \n",
       "3         15      4 -0.275433      3.773190      2.643662 -0.073327   \n",
       "4         15      5 -0.060434      3.423417      2.893461 -0.089059   \n",
       "..       ...    ...       ...           ...           ...       ...   \n",
       "272        6    273 -0.304880     22.298991      3.302567 -0.129734   \n",
       "273        6    274  0.269868     33.843053      3.654818  0.212369   \n",
       "274        6    275  0.696642     15.568775      3.843750  0.337532   \n",
       "275        6    276  0.170718     26.607633      2.631762 -0.082792   \n",
       "276        6    277 -0.149774     25.667610      3.001896 -0.331184   \n",
       "\n",
       "     Variance_FC3  Kurtosis_FC3  Mean_FC1  Variance_FC1  ...  PLV_CP1_CP2  \\\n",
       "0        2.269788      3.280869 -0.109598      2.684536  ...     0.498464   \n",
       "1        2.478137      3.812820 -0.002679      1.796357  ...     0.266234   \n",
       "2        2.811760      3.038567 -0.054310      2.949162  ...     0.456545   \n",
       "3        2.295184      2.892549  0.087973      2.130878  ...     0.432633   \n",
       "4        2.716601      2.856706 -0.087965      2.550269  ...     0.419553   \n",
       "..            ...           ...       ...           ...  ...          ...   \n",
       "272     14.958487      3.370847 -0.051861     15.985407  ...     0.400836   \n",
       "273     16.329158      2.957622  0.039009     16.658380  ...     0.552139   \n",
       "274     14.240621      4.116896  0.411972     16.540324  ...     0.293143   \n",
       "275     16.046166      3.065634 -0.065649     16.759860  ...     0.383266   \n",
       "276     15.513927      2.970890 -0.570239     19.720077  ...     0.530426   \n",
       "\n",
       "     PLV_CP1_CP4  PLV_CP1_CP6  PLV_CPz_CP2  PLV_CPz_CP4  PLV_CPz_CP6  \\\n",
       "0       0.109177     0.096379     0.723574     0.384581     0.159108   \n",
       "1       0.056251     0.144260     0.655767     0.335991     0.098588   \n",
       "2       0.202658     0.047853     0.738647     0.387145     0.150339   \n",
       "3       0.148281     0.160235     0.758073     0.410296     0.160244   \n",
       "4       0.095825     0.118061     0.684872     0.278488     0.105448   \n",
       "..           ...          ...          ...          ...          ...   \n",
       "272     0.100550     0.256252     0.661555     0.268539     0.130888   \n",
       "273     0.370040     0.223648     0.712328     0.506982     0.296971   \n",
       "274     0.119998     0.265822     0.706523     0.229444     0.090624   \n",
       "275     0.052075     0.214457     0.670556     0.267428     0.075736   \n",
       "276     0.263476     0.195801     0.788003     0.473607     0.175662   \n",
       "\n",
       "     PLV_CP2_CP4  PLV_CP2_CP6  PLV_CP4_CP6  Label  \n",
       "0       0.645515     0.389479     0.794813      1  \n",
       "1       0.706705     0.473348     0.726290      2  \n",
       "2       0.640531     0.420457     0.698610      1  \n",
       "3       0.620352     0.321739     0.709662      1  \n",
       "4       0.628054     0.470720     0.828787      1  \n",
       "..           ...          ...          ...    ...  \n",
       "272     0.714714     0.310249     0.709654      0  \n",
       "273     0.870735     0.596865     0.785686      0  \n",
       "274     0.610597     0.295000     0.726543      0  \n",
       "275     0.681577     0.318358     0.699691      0  \n",
       "276     0.745219     0.345032     0.655788      0  \n",
       "\n",
       "[4931 rows x 313 columns]"
      ]
     },
     "execution_count": 12,
     "metadata": {},
     "output_type": "execute_result"
    }
   ],
   "source": [
    "train_idx = features_all['Subject'] == subjects_train[0]\n",
    "features_train = features_all[train_idx]\n",
    "subjects_train2 = np.delete(subjects_train, 0, axis=None)\n",
    "for subject in subjects_train2 :\n",
    "    train_idx = features_all['Subject'] == subject\n",
    "    frames = [features_train, features_all[train_idx]]\n",
    "    features_train = pd.concat(frames)\n",
    "subjects_idx_train = features_train['Subject']\n",
    "features_train"
   ]
  },
  {
   "cell_type": "code",
   "execution_count": 13,
   "metadata": {},
   "outputs": [
    {
     "data": {
      "text/html": [
       "<div>\n",
       "<style scoped>\n",
       "    .dataframe tbody tr th:only-of-type {\n",
       "        vertical-align: middle;\n",
       "    }\n",
       "\n",
       "    .dataframe tbody tr th {\n",
       "        vertical-align: top;\n",
       "    }\n",
       "\n",
       "    .dataframe thead th {\n",
       "        text-align: right;\n",
       "    }\n",
       "</style>\n",
       "<table border=\"1\" class=\"dataframe\">\n",
       "  <thead>\n",
       "    <tr style=\"text-align: right;\">\n",
       "      <th></th>\n",
       "      <th></th>\n",
       "      <th>Mean_FC5</th>\n",
       "      <th>Variance_FC5</th>\n",
       "      <th>Kurtosis_FC5</th>\n",
       "      <th>Mean_FC3</th>\n",
       "      <th>Variance_FC3</th>\n",
       "      <th>Kurtosis_FC3</th>\n",
       "      <th>Mean_FC1</th>\n",
       "      <th>Variance_FC1</th>\n",
       "      <th>Kurtosis_FC1</th>\n",
       "      <th>Mean_FC2</th>\n",
       "      <th>...</th>\n",
       "      <th>PLV_CP1_CPz</th>\n",
       "      <th>PLV_CP1_CP2</th>\n",
       "      <th>PLV_CP1_CP4</th>\n",
       "      <th>PLV_CP1_CP6</th>\n",
       "      <th>PLV_CPz_CP2</th>\n",
       "      <th>PLV_CPz_CP4</th>\n",
       "      <th>PLV_CPz_CP6</th>\n",
       "      <th>PLV_CP2_CP4</th>\n",
       "      <th>PLV_CP2_CP6</th>\n",
       "      <th>PLV_CP4_CP6</th>\n",
       "    </tr>\n",
       "    <tr>\n",
       "      <th>Subject</th>\n",
       "      <th>Epoch</th>\n",
       "      <th></th>\n",
       "      <th></th>\n",
       "      <th></th>\n",
       "      <th></th>\n",
       "      <th></th>\n",
       "      <th></th>\n",
       "      <th></th>\n",
       "      <th></th>\n",
       "      <th></th>\n",
       "      <th></th>\n",
       "      <th></th>\n",
       "      <th></th>\n",
       "      <th></th>\n",
       "      <th></th>\n",
       "      <th></th>\n",
       "      <th></th>\n",
       "      <th></th>\n",
       "      <th></th>\n",
       "      <th></th>\n",
       "      <th></th>\n",
       "      <th></th>\n",
       "    </tr>\n",
       "  </thead>\n",
       "  <tbody>\n",
       "    <tr>\n",
       "      <th rowspan=\"5\" valign=\"top\">15</th>\n",
       "      <th>1</th>\n",
       "      <td>-0.226124</td>\n",
       "      <td>3.195941</td>\n",
       "      <td>2.881555</td>\n",
       "      <td>-0.275889</td>\n",
       "      <td>2.269788</td>\n",
       "      <td>3.280869</td>\n",
       "      <td>-0.109598</td>\n",
       "      <td>2.684536</td>\n",
       "      <td>2.901555</td>\n",
       "      <td>-0.101212</td>\n",
       "      <td>...</td>\n",
       "      <td>0.610267</td>\n",
       "      <td>0.498464</td>\n",
       "      <td>0.109177</td>\n",
       "      <td>0.096379</td>\n",
       "      <td>0.723574</td>\n",
       "      <td>0.384581</td>\n",
       "      <td>0.159108</td>\n",
       "      <td>0.645515</td>\n",
       "      <td>0.389479</td>\n",
       "      <td>0.794813</td>\n",
       "    </tr>\n",
       "    <tr>\n",
       "      <th>2</th>\n",
       "      <td>0.030149</td>\n",
       "      <td>3.409489</td>\n",
       "      <td>3.228332</td>\n",
       "      <td>0.014870</td>\n",
       "      <td>2.478137</td>\n",
       "      <td>3.812820</td>\n",
       "      <td>-0.002679</td>\n",
       "      <td>1.796357</td>\n",
       "      <td>2.764866</td>\n",
       "      <td>0.045633</td>\n",
       "      <td>...</td>\n",
       "      <td>0.519540</td>\n",
       "      <td>0.266234</td>\n",
       "      <td>0.056251</td>\n",
       "      <td>0.144260</td>\n",
       "      <td>0.655767</td>\n",
       "      <td>0.335991</td>\n",
       "      <td>0.098588</td>\n",
       "      <td>0.706705</td>\n",
       "      <td>0.473348</td>\n",
       "      <td>0.726290</td>\n",
       "    </tr>\n",
       "    <tr>\n",
       "      <th>3</th>\n",
       "      <td>0.047237</td>\n",
       "      <td>3.708139</td>\n",
       "      <td>2.910095</td>\n",
       "      <td>-0.005586</td>\n",
       "      <td>2.811760</td>\n",
       "      <td>3.038567</td>\n",
       "      <td>-0.054310</td>\n",
       "      <td>2.949162</td>\n",
       "      <td>3.309821</td>\n",
       "      <td>-0.171491</td>\n",
       "      <td>...</td>\n",
       "      <td>0.601333</td>\n",
       "      <td>0.456545</td>\n",
       "      <td>0.202658</td>\n",
       "      <td>0.047853</td>\n",
       "      <td>0.738647</td>\n",
       "      <td>0.387145</td>\n",
       "      <td>0.150339</td>\n",
       "      <td>0.640531</td>\n",
       "      <td>0.420457</td>\n",
       "      <td>0.698610</td>\n",
       "    </tr>\n",
       "    <tr>\n",
       "      <th>4</th>\n",
       "      <td>-0.275433</td>\n",
       "      <td>3.773190</td>\n",
       "      <td>2.643662</td>\n",
       "      <td>-0.073327</td>\n",
       "      <td>2.295184</td>\n",
       "      <td>2.892549</td>\n",
       "      <td>0.087973</td>\n",
       "      <td>2.130878</td>\n",
       "      <td>2.651647</td>\n",
       "      <td>0.310267</td>\n",
       "      <td>...</td>\n",
       "      <td>0.605191</td>\n",
       "      <td>0.432633</td>\n",
       "      <td>0.148281</td>\n",
       "      <td>0.160235</td>\n",
       "      <td>0.758073</td>\n",
       "      <td>0.410296</td>\n",
       "      <td>0.160244</td>\n",
       "      <td>0.620352</td>\n",
       "      <td>0.321739</td>\n",
       "      <td>0.709662</td>\n",
       "    </tr>\n",
       "    <tr>\n",
       "      <th>5</th>\n",
       "      <td>-0.060434</td>\n",
       "      <td>3.423417</td>\n",
       "      <td>2.893461</td>\n",
       "      <td>-0.089059</td>\n",
       "      <td>2.716601</td>\n",
       "      <td>2.856706</td>\n",
       "      <td>-0.087965</td>\n",
       "      <td>2.550269</td>\n",
       "      <td>3.046728</td>\n",
       "      <td>-0.186947</td>\n",
       "      <td>...</td>\n",
       "      <td>0.610368</td>\n",
       "      <td>0.419553</td>\n",
       "      <td>0.095825</td>\n",
       "      <td>0.118061</td>\n",
       "      <td>0.684872</td>\n",
       "      <td>0.278488</td>\n",
       "      <td>0.105448</td>\n",
       "      <td>0.628054</td>\n",
       "      <td>0.470720</td>\n",
       "      <td>0.828787</td>\n",
       "    </tr>\n",
       "    <tr>\n",
       "      <th>...</th>\n",
       "      <th>...</th>\n",
       "      <td>...</td>\n",
       "      <td>...</td>\n",
       "      <td>...</td>\n",
       "      <td>...</td>\n",
       "      <td>...</td>\n",
       "      <td>...</td>\n",
       "      <td>...</td>\n",
       "      <td>...</td>\n",
       "      <td>...</td>\n",
       "      <td>...</td>\n",
       "      <td>...</td>\n",
       "      <td>...</td>\n",
       "      <td>...</td>\n",
       "      <td>...</td>\n",
       "      <td>...</td>\n",
       "      <td>...</td>\n",
       "      <td>...</td>\n",
       "      <td>...</td>\n",
       "      <td>...</td>\n",
       "      <td>...</td>\n",
       "      <td>...</td>\n",
       "    </tr>\n",
       "    <tr>\n",
       "      <th rowspan=\"5\" valign=\"top\">6</th>\n",
       "      <th>273</th>\n",
       "      <td>-0.304880</td>\n",
       "      <td>22.298991</td>\n",
       "      <td>3.302567</td>\n",
       "      <td>-0.129734</td>\n",
       "      <td>14.958487</td>\n",
       "      <td>3.370847</td>\n",
       "      <td>-0.051861</td>\n",
       "      <td>15.985407</td>\n",
       "      <td>3.068512</td>\n",
       "      <td>-0.181406</td>\n",
       "      <td>...</td>\n",
       "      <td>0.749228</td>\n",
       "      <td>0.400836</td>\n",
       "      <td>0.100550</td>\n",
       "      <td>0.256252</td>\n",
       "      <td>0.661555</td>\n",
       "      <td>0.268539</td>\n",
       "      <td>0.130888</td>\n",
       "      <td>0.714714</td>\n",
       "      <td>0.310249</td>\n",
       "      <td>0.709654</td>\n",
       "    </tr>\n",
       "    <tr>\n",
       "      <th>274</th>\n",
       "      <td>0.269868</td>\n",
       "      <td>33.843053</td>\n",
       "      <td>3.654818</td>\n",
       "      <td>0.212369</td>\n",
       "      <td>16.329158</td>\n",
       "      <td>2.957622</td>\n",
       "      <td>0.039009</td>\n",
       "      <td>16.658380</td>\n",
       "      <td>3.534025</td>\n",
       "      <td>-0.243350</td>\n",
       "      <td>...</td>\n",
       "      <td>0.818852</td>\n",
       "      <td>0.552139</td>\n",
       "      <td>0.370040</td>\n",
       "      <td>0.223648</td>\n",
       "      <td>0.712328</td>\n",
       "      <td>0.506982</td>\n",
       "      <td>0.296971</td>\n",
       "      <td>0.870735</td>\n",
       "      <td>0.596865</td>\n",
       "      <td>0.785686</td>\n",
       "    </tr>\n",
       "    <tr>\n",
       "      <th>275</th>\n",
       "      <td>0.696642</td>\n",
       "      <td>15.568775</td>\n",
       "      <td>3.843750</td>\n",
       "      <td>0.337532</td>\n",
       "      <td>14.240621</td>\n",
       "      <td>4.116896</td>\n",
       "      <td>0.411972</td>\n",
       "      <td>16.540324</td>\n",
       "      <td>4.061586</td>\n",
       "      <td>0.370064</td>\n",
       "      <td>...</td>\n",
       "      <td>0.634006</td>\n",
       "      <td>0.293143</td>\n",
       "      <td>0.119998</td>\n",
       "      <td>0.265822</td>\n",
       "      <td>0.706523</td>\n",
       "      <td>0.229444</td>\n",
       "      <td>0.090624</td>\n",
       "      <td>0.610597</td>\n",
       "      <td>0.295000</td>\n",
       "      <td>0.726543</td>\n",
       "    </tr>\n",
       "    <tr>\n",
       "      <th>276</th>\n",
       "      <td>0.170718</td>\n",
       "      <td>26.607633</td>\n",
       "      <td>2.631762</td>\n",
       "      <td>-0.082792</td>\n",
       "      <td>16.046166</td>\n",
       "      <td>3.065634</td>\n",
       "      <td>-0.065649</td>\n",
       "      <td>16.759860</td>\n",
       "      <td>3.330850</td>\n",
       "      <td>-0.213369</td>\n",
       "      <td>...</td>\n",
       "      <td>0.728297</td>\n",
       "      <td>0.383266</td>\n",
       "      <td>0.052075</td>\n",
       "      <td>0.214457</td>\n",
       "      <td>0.670556</td>\n",
       "      <td>0.267428</td>\n",
       "      <td>0.075736</td>\n",
       "      <td>0.681577</td>\n",
       "      <td>0.318358</td>\n",
       "      <td>0.699691</td>\n",
       "    </tr>\n",
       "    <tr>\n",
       "      <th>277</th>\n",
       "      <td>-0.149774</td>\n",
       "      <td>25.667610</td>\n",
       "      <td>3.001896</td>\n",
       "      <td>-0.331184</td>\n",
       "      <td>15.513927</td>\n",
       "      <td>2.970890</td>\n",
       "      <td>-0.570239</td>\n",
       "      <td>19.720077</td>\n",
       "      <td>3.202597</td>\n",
       "      <td>-0.779327</td>\n",
       "      <td>...</td>\n",
       "      <td>0.805974</td>\n",
       "      <td>0.530426</td>\n",
       "      <td>0.263476</td>\n",
       "      <td>0.195801</td>\n",
       "      <td>0.788003</td>\n",
       "      <td>0.473607</td>\n",
       "      <td>0.175662</td>\n",
       "      <td>0.745219</td>\n",
       "      <td>0.345032</td>\n",
       "      <td>0.655788</td>\n",
       "    </tr>\n",
       "  </tbody>\n",
       "</table>\n",
       "<p>4931 rows × 310 columns</p>\n",
       "</div>"
      ],
      "text/plain": [
       "               Mean_FC5  Variance_FC5  Kurtosis_FC5  Mean_FC3  Variance_FC3  \\\n",
       "Subject Epoch                                                                 \n",
       "15      1     -0.226124      3.195941      2.881555 -0.275889      2.269788   \n",
       "        2      0.030149      3.409489      3.228332  0.014870      2.478137   \n",
       "        3      0.047237      3.708139      2.910095 -0.005586      2.811760   \n",
       "        4     -0.275433      3.773190      2.643662 -0.073327      2.295184   \n",
       "        5     -0.060434      3.423417      2.893461 -0.089059      2.716601   \n",
       "...                 ...           ...           ...       ...           ...   \n",
       "6       273   -0.304880     22.298991      3.302567 -0.129734     14.958487   \n",
       "        274    0.269868     33.843053      3.654818  0.212369     16.329158   \n",
       "        275    0.696642     15.568775      3.843750  0.337532     14.240621   \n",
       "        276    0.170718     26.607633      2.631762 -0.082792     16.046166   \n",
       "        277   -0.149774     25.667610      3.001896 -0.331184     15.513927   \n",
       "\n",
       "               Kurtosis_FC3  Mean_FC1  Variance_FC1  Kurtosis_FC1  Mean_FC2  \\\n",
       "Subject Epoch                                                                 \n",
       "15      1          3.280869 -0.109598      2.684536      2.901555 -0.101212   \n",
       "        2          3.812820 -0.002679      1.796357      2.764866  0.045633   \n",
       "        3          3.038567 -0.054310      2.949162      3.309821 -0.171491   \n",
       "        4          2.892549  0.087973      2.130878      2.651647  0.310267   \n",
       "        5          2.856706 -0.087965      2.550269      3.046728 -0.186947   \n",
       "...                     ...       ...           ...           ...       ...   \n",
       "6       273        3.370847 -0.051861     15.985407      3.068512 -0.181406   \n",
       "        274        2.957622  0.039009     16.658380      3.534025 -0.243350   \n",
       "        275        4.116896  0.411972     16.540324      4.061586  0.370064   \n",
       "        276        3.065634 -0.065649     16.759860      3.330850 -0.213369   \n",
       "        277        2.970890 -0.570239     19.720077      3.202597 -0.779327   \n",
       "\n",
       "               ...  PLV_CP1_CPz  PLV_CP1_CP2  PLV_CP1_CP4  PLV_CP1_CP6  \\\n",
       "Subject Epoch  ...                                                       \n",
       "15      1      ...     0.610267     0.498464     0.109177     0.096379   \n",
       "        2      ...     0.519540     0.266234     0.056251     0.144260   \n",
       "        3      ...     0.601333     0.456545     0.202658     0.047853   \n",
       "        4      ...     0.605191     0.432633     0.148281     0.160235   \n",
       "        5      ...     0.610368     0.419553     0.095825     0.118061   \n",
       "...            ...          ...          ...          ...          ...   \n",
       "6       273    ...     0.749228     0.400836     0.100550     0.256252   \n",
       "        274    ...     0.818852     0.552139     0.370040     0.223648   \n",
       "        275    ...     0.634006     0.293143     0.119998     0.265822   \n",
       "        276    ...     0.728297     0.383266     0.052075     0.214457   \n",
       "        277    ...     0.805974     0.530426     0.263476     0.195801   \n",
       "\n",
       "               PLV_CPz_CP2  PLV_CPz_CP4  PLV_CPz_CP6  PLV_CP2_CP4  \\\n",
       "Subject Epoch                                                       \n",
       "15      1         0.723574     0.384581     0.159108     0.645515   \n",
       "        2         0.655767     0.335991     0.098588     0.706705   \n",
       "        3         0.738647     0.387145     0.150339     0.640531   \n",
       "        4         0.758073     0.410296     0.160244     0.620352   \n",
       "        5         0.684872     0.278488     0.105448     0.628054   \n",
       "...                    ...          ...          ...          ...   \n",
       "6       273       0.661555     0.268539     0.130888     0.714714   \n",
       "        274       0.712328     0.506982     0.296971     0.870735   \n",
       "        275       0.706523     0.229444     0.090624     0.610597   \n",
       "        276       0.670556     0.267428     0.075736     0.681577   \n",
       "        277       0.788003     0.473607     0.175662     0.745219   \n",
       "\n",
       "               PLV_CP2_CP6  PLV_CP4_CP6  \n",
       "Subject Epoch                            \n",
       "15      1         0.389479     0.794813  \n",
       "        2         0.473348     0.726290  \n",
       "        3         0.420457     0.698610  \n",
       "        4         0.321739     0.709662  \n",
       "        5         0.470720     0.828787  \n",
       "...                    ...          ...  \n",
       "6       273       0.310249     0.709654  \n",
       "        274       0.596865     0.785686  \n",
       "        275       0.295000     0.726543  \n",
       "        276       0.318358     0.699691  \n",
       "        277       0.345032     0.655788  \n",
       "\n",
       "[4931 rows x 310 columns]"
      ]
     },
     "execution_count": 13,
     "metadata": {},
     "output_type": "execute_result"
    }
   ],
   "source": [
    "features_train.index = [features_train['Subject'], features_train['Epoch']]\n",
    "X_train = features_train.drop(['Subject','Epoch','Label'], axis = 1)\n",
    "X_train"
   ]
  },
  {
   "cell_type": "code",
   "execution_count": 14,
   "metadata": {},
   "outputs": [
    {
     "data": {
      "text/plain": [
       "Counter({1: 1737, 2: 1701, 0: 1493})"
      ]
     },
     "execution_count": 14,
     "metadata": {},
     "output_type": "execute_result"
    }
   ],
   "source": [
    "Y_train = features_train['Label']\n",
    "Counter(Y_train)"
   ]
  },
  {
   "cell_type": "markdown",
   "metadata": {},
   "source": [
    "## Select features"
   ]
  },
  {
   "cell_type": "code",
   "execution_count": 15,
   "metadata": {},
   "outputs": [
    {
     "data": {
      "text/html": [
       "<div>\n",
       "<style scoped>\n",
       "    .dataframe tbody tr th:only-of-type {\n",
       "        vertical-align: middle;\n",
       "    }\n",
       "\n",
       "    .dataframe tbody tr th {\n",
       "        vertical-align: top;\n",
       "    }\n",
       "\n",
       "    .dataframe thead th {\n",
       "        text-align: right;\n",
       "    }\n",
       "</style>\n",
       "<table border=\"1\" class=\"dataframe\">\n",
       "  <thead>\n",
       "    <tr style=\"text-align: right;\">\n",
       "      <th></th>\n",
       "      <th></th>\n",
       "      <th>PSD_FC1_D3</th>\n",
       "      <th>PSD_Cz_D3</th>\n",
       "      <th>PSD_CP1_D3</th>\n",
       "      <th>PSD_CP2_D3</th>\n",
       "      <th>PLV_FC5_FC1</th>\n",
       "      <th>PLV_FC5_CP5</th>\n",
       "      <th>PLV_FC3_C1</th>\n",
       "      <th>PLV_FC3_CP1</th>\n",
       "      <th>PLV_FC1_FC2</th>\n",
       "      <th>PLV_FC1_C3</th>\n",
       "      <th>PLV_FC1_C2</th>\n",
       "      <th>PLV_FC1_CPz</th>\n",
       "      <th>PLV_C5_CP6</th>\n",
       "      <th>PLV_C3_C1</th>\n",
       "      <th>PLV_Cz_C4</th>\n",
       "      <th>PLV_C2_C4</th>\n",
       "      <th>PLV_CP5_CP3</th>\n",
       "      <th>PLV_CP5_CP6</th>\n",
       "      <th>PLV_CP3_CP2</th>\n",
       "      <th>PLV_CP4_CP6</th>\n",
       "    </tr>\n",
       "    <tr>\n",
       "      <th>Subject</th>\n",
       "      <th>Epoch</th>\n",
       "      <th></th>\n",
       "      <th></th>\n",
       "      <th></th>\n",
       "      <th></th>\n",
       "      <th></th>\n",
       "      <th></th>\n",
       "      <th></th>\n",
       "      <th></th>\n",
       "      <th></th>\n",
       "      <th></th>\n",
       "      <th></th>\n",
       "      <th></th>\n",
       "      <th></th>\n",
       "      <th></th>\n",
       "      <th></th>\n",
       "      <th></th>\n",
       "      <th></th>\n",
       "      <th></th>\n",
       "      <th></th>\n",
       "      <th></th>\n",
       "    </tr>\n",
       "  </thead>\n",
       "  <tbody>\n",
       "    <tr>\n",
       "      <th rowspan=\"5\" valign=\"top\">15</th>\n",
       "      <th>1</th>\n",
       "      <td>0.034486</td>\n",
       "      <td>0.076231</td>\n",
       "      <td>0.027698</td>\n",
       "      <td>0.044284</td>\n",
       "      <td>0.328939</td>\n",
       "      <td>0.274523</td>\n",
       "      <td>0.666815</td>\n",
       "      <td>0.648738</td>\n",
       "      <td>0.686277</td>\n",
       "      <td>0.700358</td>\n",
       "      <td>0.570172</td>\n",
       "      <td>0.507703</td>\n",
       "      <td>0.194724</td>\n",
       "      <td>0.631169</td>\n",
       "      <td>0.327217</td>\n",
       "      <td>0.604345</td>\n",
       "      <td>0.425065</td>\n",
       "      <td>0.194597</td>\n",
       "      <td>0.213017</td>\n",
       "      <td>0.794813</td>\n",
       "    </tr>\n",
       "    <tr>\n",
       "      <th>2</th>\n",
       "      <td>0.028806</td>\n",
       "      <td>0.060074</td>\n",
       "      <td>0.028159</td>\n",
       "      <td>0.033061</td>\n",
       "      <td>0.422381</td>\n",
       "      <td>0.201130</td>\n",
       "      <td>0.644448</td>\n",
       "      <td>0.581876</td>\n",
       "      <td>0.576222</td>\n",
       "      <td>0.675428</td>\n",
       "      <td>0.454940</td>\n",
       "      <td>0.415534</td>\n",
       "      <td>0.168461</td>\n",
       "      <td>0.617415</td>\n",
       "      <td>0.196764</td>\n",
       "      <td>0.591272</td>\n",
       "      <td>0.473716</td>\n",
       "      <td>0.142296</td>\n",
       "      <td>0.210151</td>\n",
       "      <td>0.726290</td>\n",
       "    </tr>\n",
       "    <tr>\n",
       "      <th>3</th>\n",
       "      <td>0.035788</td>\n",
       "      <td>0.073811</td>\n",
       "      <td>0.034063</td>\n",
       "      <td>0.042011</td>\n",
       "      <td>0.404427</td>\n",
       "      <td>0.251832</td>\n",
       "      <td>0.668037</td>\n",
       "      <td>0.626021</td>\n",
       "      <td>0.709359</td>\n",
       "      <td>0.745186</td>\n",
       "      <td>0.614729</td>\n",
       "      <td>0.480164</td>\n",
       "      <td>0.042859</td>\n",
       "      <td>0.674037</td>\n",
       "      <td>0.340390</td>\n",
       "      <td>0.585532</td>\n",
       "      <td>0.434534</td>\n",
       "      <td>0.250633</td>\n",
       "      <td>0.207092</td>\n",
       "      <td>0.698610</td>\n",
       "    </tr>\n",
       "    <tr>\n",
       "      <th>4</th>\n",
       "      <td>0.029694</td>\n",
       "      <td>0.059838</td>\n",
       "      <td>0.027287</td>\n",
       "      <td>0.037784</td>\n",
       "      <td>0.295600</td>\n",
       "      <td>0.238209</td>\n",
       "      <td>0.560659</td>\n",
       "      <td>0.517382</td>\n",
       "      <td>0.648619</td>\n",
       "      <td>0.649738</td>\n",
       "      <td>0.526301</td>\n",
       "      <td>0.508942</td>\n",
       "      <td>0.049900</td>\n",
       "      <td>0.590852</td>\n",
       "      <td>0.317237</td>\n",
       "      <td>0.589996</td>\n",
       "      <td>0.376382</td>\n",
       "      <td>0.156909</td>\n",
       "      <td>0.238464</td>\n",
       "      <td>0.709662</td>\n",
       "    </tr>\n",
       "    <tr>\n",
       "      <th>5</th>\n",
       "      <td>0.026469</td>\n",
       "      <td>0.040255</td>\n",
       "      <td>0.024066</td>\n",
       "      <td>0.030912</td>\n",
       "      <td>0.437315</td>\n",
       "      <td>0.303521</td>\n",
       "      <td>0.759739</td>\n",
       "      <td>0.724280</td>\n",
       "      <td>0.659948</td>\n",
       "      <td>0.773086</td>\n",
       "      <td>0.603110</td>\n",
       "      <td>0.559794</td>\n",
       "      <td>0.150218</td>\n",
       "      <td>0.774976</td>\n",
       "      <td>0.266988</td>\n",
       "      <td>0.557998</td>\n",
       "      <td>0.491774</td>\n",
       "      <td>0.254824</td>\n",
       "      <td>0.117975</td>\n",
       "      <td>0.828787</td>\n",
       "    </tr>\n",
       "    <tr>\n",
       "      <th>...</th>\n",
       "      <th>...</th>\n",
       "      <td>...</td>\n",
       "      <td>...</td>\n",
       "      <td>...</td>\n",
       "      <td>...</td>\n",
       "      <td>...</td>\n",
       "      <td>...</td>\n",
       "      <td>...</td>\n",
       "      <td>...</td>\n",
       "      <td>...</td>\n",
       "      <td>...</td>\n",
       "      <td>...</td>\n",
       "      <td>...</td>\n",
       "      <td>...</td>\n",
       "      <td>...</td>\n",
       "      <td>...</td>\n",
       "      <td>...</td>\n",
       "      <td>...</td>\n",
       "      <td>...</td>\n",
       "      <td>...</td>\n",
       "      <td>...</td>\n",
       "    </tr>\n",
       "    <tr>\n",
       "      <th rowspan=\"5\" valign=\"top\">6</th>\n",
       "      <th>273</th>\n",
       "      <td>0.242868</td>\n",
       "      <td>0.132700</td>\n",
       "      <td>0.074924</td>\n",
       "      <td>0.114307</td>\n",
       "      <td>0.300043</td>\n",
       "      <td>0.308553</td>\n",
       "      <td>0.650554</td>\n",
       "      <td>0.344405</td>\n",
       "      <td>0.625155</td>\n",
       "      <td>0.542170</td>\n",
       "      <td>0.483756</td>\n",
       "      <td>0.487275</td>\n",
       "      <td>0.251002</td>\n",
       "      <td>0.647679</td>\n",
       "      <td>0.298595</td>\n",
       "      <td>0.704364</td>\n",
       "      <td>0.621519</td>\n",
       "      <td>0.229030</td>\n",
       "      <td>0.134593</td>\n",
       "      <td>0.709654</td>\n",
       "    </tr>\n",
       "    <tr>\n",
       "      <th>274</th>\n",
       "      <td>0.257755</td>\n",
       "      <td>0.198752</td>\n",
       "      <td>0.089106</td>\n",
       "      <td>0.107626</td>\n",
       "      <td>0.421420</td>\n",
       "      <td>0.219168</td>\n",
       "      <td>0.663909</td>\n",
       "      <td>0.364445</td>\n",
       "      <td>0.601041</td>\n",
       "      <td>0.573837</td>\n",
       "      <td>0.399727</td>\n",
       "      <td>0.364564</td>\n",
       "      <td>0.318455</td>\n",
       "      <td>0.719368</td>\n",
       "      <td>0.452053</td>\n",
       "      <td>0.815618</td>\n",
       "      <td>0.489901</td>\n",
       "      <td>0.222150</td>\n",
       "      <td>0.351906</td>\n",
       "      <td>0.785686</td>\n",
       "    </tr>\n",
       "    <tr>\n",
       "      <th>275</th>\n",
       "      <td>0.123824</td>\n",
       "      <td>0.128342</td>\n",
       "      <td>0.070091</td>\n",
       "      <td>0.076460</td>\n",
       "      <td>0.503686</td>\n",
       "      <td>0.287101</td>\n",
       "      <td>0.728531</td>\n",
       "      <td>0.537757</td>\n",
       "      <td>0.638831</td>\n",
       "      <td>0.343031</td>\n",
       "      <td>0.564578</td>\n",
       "      <td>0.585509</td>\n",
       "      <td>0.345457</td>\n",
       "      <td>0.653562</td>\n",
       "      <td>0.429753</td>\n",
       "      <td>0.782901</td>\n",
       "      <td>0.772894</td>\n",
       "      <td>0.322103</td>\n",
       "      <td>0.125312</td>\n",
       "      <td>0.726543</td>\n",
       "    </tr>\n",
       "    <tr>\n",
       "      <th>276</th>\n",
       "      <td>0.515490</td>\n",
       "      <td>0.347935</td>\n",
       "      <td>0.110243</td>\n",
       "      <td>0.164176</td>\n",
       "      <td>0.423568</td>\n",
       "      <td>0.243886</td>\n",
       "      <td>0.620636</td>\n",
       "      <td>0.392398</td>\n",
       "      <td>0.559320</td>\n",
       "      <td>0.509189</td>\n",
       "      <td>0.435446</td>\n",
       "      <td>0.433962</td>\n",
       "      <td>0.285531</td>\n",
       "      <td>0.697862</td>\n",
       "      <td>0.278913</td>\n",
       "      <td>0.716274</td>\n",
       "      <td>0.652634</td>\n",
       "      <td>0.176325</td>\n",
       "      <td>0.129566</td>\n",
       "      <td>0.699691</td>\n",
       "    </tr>\n",
       "    <tr>\n",
       "      <th>277</th>\n",
       "      <td>0.505996</td>\n",
       "      <td>0.253699</td>\n",
       "      <td>0.108354</td>\n",
       "      <td>0.124724</td>\n",
       "      <td>0.427082</td>\n",
       "      <td>0.267295</td>\n",
       "      <td>0.733090</td>\n",
       "      <td>0.428935</td>\n",
       "      <td>0.745127</td>\n",
       "      <td>0.593039</td>\n",
       "      <td>0.669092</td>\n",
       "      <td>0.494826</td>\n",
       "      <td>0.145324</td>\n",
       "      <td>0.749290</td>\n",
       "      <td>0.524799</td>\n",
       "      <td>0.763347</td>\n",
       "      <td>0.575439</td>\n",
       "      <td>0.081943</td>\n",
       "      <td>0.230565</td>\n",
       "      <td>0.655788</td>\n",
       "    </tr>\n",
       "  </tbody>\n",
       "</table>\n",
       "<p>4931 rows × 20 columns</p>\n",
       "</div>"
      ],
      "text/plain": [
       "               PSD_FC1_D3  PSD_Cz_D3  PSD_CP1_D3  PSD_CP2_D3  PLV_FC5_FC1  \\\n",
       "Subject Epoch                                                               \n",
       "15      1        0.034486   0.076231    0.027698    0.044284     0.328939   \n",
       "        2        0.028806   0.060074    0.028159    0.033061     0.422381   \n",
       "        3        0.035788   0.073811    0.034063    0.042011     0.404427   \n",
       "        4        0.029694   0.059838    0.027287    0.037784     0.295600   \n",
       "        5        0.026469   0.040255    0.024066    0.030912     0.437315   \n",
       "...                   ...        ...         ...         ...          ...   \n",
       "6       273      0.242868   0.132700    0.074924    0.114307     0.300043   \n",
       "        274      0.257755   0.198752    0.089106    0.107626     0.421420   \n",
       "        275      0.123824   0.128342    0.070091    0.076460     0.503686   \n",
       "        276      0.515490   0.347935    0.110243    0.164176     0.423568   \n",
       "        277      0.505996   0.253699    0.108354    0.124724     0.427082   \n",
       "\n",
       "               PLV_FC5_CP5  PLV_FC3_C1  PLV_FC3_CP1  PLV_FC1_FC2  PLV_FC1_C3  \\\n",
       "Subject Epoch                                                                  \n",
       "15      1         0.274523    0.666815     0.648738     0.686277    0.700358   \n",
       "        2         0.201130    0.644448     0.581876     0.576222    0.675428   \n",
       "        3         0.251832    0.668037     0.626021     0.709359    0.745186   \n",
       "        4         0.238209    0.560659     0.517382     0.648619    0.649738   \n",
       "        5         0.303521    0.759739     0.724280     0.659948    0.773086   \n",
       "...                    ...         ...          ...          ...         ...   \n",
       "6       273       0.308553    0.650554     0.344405     0.625155    0.542170   \n",
       "        274       0.219168    0.663909     0.364445     0.601041    0.573837   \n",
       "        275       0.287101    0.728531     0.537757     0.638831    0.343031   \n",
       "        276       0.243886    0.620636     0.392398     0.559320    0.509189   \n",
       "        277       0.267295    0.733090     0.428935     0.745127    0.593039   \n",
       "\n",
       "               PLV_FC1_C2  PLV_FC1_CPz  PLV_C5_CP6  PLV_C3_C1  PLV_Cz_C4  \\\n",
       "Subject Epoch                                                              \n",
       "15      1        0.570172     0.507703    0.194724   0.631169   0.327217   \n",
       "        2        0.454940     0.415534    0.168461   0.617415   0.196764   \n",
       "        3        0.614729     0.480164    0.042859   0.674037   0.340390   \n",
       "        4        0.526301     0.508942    0.049900   0.590852   0.317237   \n",
       "        5        0.603110     0.559794    0.150218   0.774976   0.266988   \n",
       "...                   ...          ...         ...        ...        ...   \n",
       "6       273      0.483756     0.487275    0.251002   0.647679   0.298595   \n",
       "        274      0.399727     0.364564    0.318455   0.719368   0.452053   \n",
       "        275      0.564578     0.585509    0.345457   0.653562   0.429753   \n",
       "        276      0.435446     0.433962    0.285531   0.697862   0.278913   \n",
       "        277      0.669092     0.494826    0.145324   0.749290   0.524799   \n",
       "\n",
       "               PLV_C2_C4  PLV_CP5_CP3  PLV_CP5_CP6  PLV_CP3_CP2  PLV_CP4_CP6  \n",
       "Subject Epoch                                                                 \n",
       "15      1       0.604345     0.425065     0.194597     0.213017     0.794813  \n",
       "        2       0.591272     0.473716     0.142296     0.210151     0.726290  \n",
       "        3       0.585532     0.434534     0.250633     0.207092     0.698610  \n",
       "        4       0.589996     0.376382     0.156909     0.238464     0.709662  \n",
       "        5       0.557998     0.491774     0.254824     0.117975     0.828787  \n",
       "...                  ...          ...          ...          ...          ...  \n",
       "6       273     0.704364     0.621519     0.229030     0.134593     0.709654  \n",
       "        274     0.815618     0.489901     0.222150     0.351906     0.785686  \n",
       "        275     0.782901     0.772894     0.322103     0.125312     0.726543  \n",
       "        276     0.716274     0.652634     0.176325     0.129566     0.699691  \n",
       "        277     0.763347     0.575439     0.081943     0.230565     0.655788  \n",
       "\n",
       "[4931 rows x 20 columns]"
      ]
     },
     "execution_count": 15,
     "metadata": {},
     "output_type": "execute_result"
    }
   ],
   "source": [
    "selected_features = ['PSD_FC1_D3', 'PSD_Cz_D3', 'PSD_CP1_D3', 'PSD_CP2_D3', 'PLV_FC5_FC1',\n",
    "                       'PLV_FC5_CP5', 'PLV_FC3_C1', 'PLV_FC3_CP1', 'PLV_FC1_FC2', 'PLV_FC1_C3',\n",
    "                       'PLV_FC1_C2', 'PLV_FC1_CPz', 'PLV_C5_CP6', 'PLV_C3_C1', 'PLV_Cz_C4',\n",
    "                       'PLV_C2_C4', 'PLV_CP5_CP3', 'PLV_CP5_CP6', 'PLV_CP3_CP2','PLV_CP4_CP6']\n",
    "X_train = X_train[selected_features]\n",
    "X_train"
   ]
  },
  {
   "cell_type": "code",
   "execution_count": 16,
   "metadata": {},
   "outputs": [
    {
     "data": {
      "text/plain": [
       "Index(['PSD_FC1_D3', 'PSD_Cz_D3', 'PSD_CP1_D3', 'PSD_CP2_D3', 'PLV_FC5_FC1',\n",
       "       'PLV_FC5_CP5', 'PLV_FC3_C1', 'PLV_FC3_CP1', 'PLV_FC1_FC2', 'PLV_FC1_C3',\n",
       "       'PLV_FC1_C2', 'PLV_FC1_CPz', 'PLV_C5_CP6', 'PLV_C3_C1', 'PLV_Cz_C4',\n",
       "       'PLV_C2_C4', 'PLV_CP5_CP3', 'PLV_CP5_CP6', 'PLV_CP3_CP2',\n",
       "       'PLV_CP4_CP6'],\n",
       "      dtype='object')"
      ]
     },
     "execution_count": 16,
     "metadata": {},
     "output_type": "execute_result"
    }
   ],
   "source": [
    "X_train.columns"
   ]
  },
  {
   "cell_type": "markdown",
   "metadata": {},
   "source": [
    "Preprocess the features matrix"
   ]
  },
  {
   "cell_type": "code",
   "execution_count": 17,
   "metadata": {},
   "outputs": [
    {
     "data": {
      "text/plain": [
       "(4931, 20)"
      ]
     },
     "execution_count": 17,
     "metadata": {},
     "output_type": "execute_result"
    }
   ],
   "source": [
    "standardizer = StandardScaler()\n",
    "X_scaled_train = standardizer.fit_transform(X_train)\n",
    "normalizer = MinMaxScaler(feature_range=(0,1))\n",
    "X_scaled_train = normalizer.fit_transform(X_scaled_train)\n",
    "X_scaled_train.shape"
   ]
  },
  {
   "cell_type": "code",
   "execution_count": 18,
   "metadata": {},
   "outputs": [
    {
     "data": {
      "text/plain": [
       "Counter({1: 1737, 2: 1701, 0: 1493})"
      ]
     },
     "execution_count": 18,
     "metadata": {},
     "output_type": "execute_result"
    }
   ],
   "source": [
    "Counter(Y_train)"
   ]
  },
  {
   "cell_type": "markdown",
   "metadata": {},
   "source": [
    "## Spot-check SVCL models"
   ]
  },
  {
   "cell_type": "code",
   "execution_count": 23,
   "metadata": {},
   "outputs": [],
   "source": [
    "# get model list\n",
    "models = define_models_svcl()"
   ]
  },
  {
   "cell_type": "code",
   "execution_count": 24,
   "metadata": {},
   "outputs": [
    {
     "name": "stdout",
     "output_type": "stream",
     "text": [
      "15\n",
      "12\n",
      "21\n",
      "4\n",
      "10\n",
      "44\n",
      "3\n",
      "18\n",
      "29\n",
      "20\n",
      "7\n",
      "19\n",
      "11\n",
      "2\n",
      "28\n",
      "5\n",
      "8\n",
      "16\n",
      "6\n",
      "{'accuracy': [0.33676975945017185, 0.3445378151260504, 0.34265734265734266, 0.3248175182481752, 0.3273381294964029, 0.38461538461538464, 0.3474178403755869, 0.35, 0.3684210526315789, 0.36046511627906974, 0.3333333333333333, 0.4397905759162304, 0.39285714285714285, 0.34615384615384615, 0.33444816053511706, 0.36666666666666664, 0.34558823529411764, 0.34980988593155893, 0.33574007220216606], 'roc_auc': [0.7406519213485608, 0.5287463198552251, 0.7684760271862369, 0.7599204524855971, 0.7176318483931418, 0.6273603238866398, 0.6807057057057057, 0.6318175526024362, 0.7618339002267573, 0.7443899709403992, 0.7917811484874303, 0.5904735797827904, 0.7679830520616672, 0.7427119828161496, 0.6340245791245792, 0.722723063973064, 0.6889364850218342, 0.590119977734041, 0.7711480125744595], 'f1': [0.16968347776923826, 0.17657563025210082, 0.17489801864801863, 0.15927690977458728, 0.16145132674348328, 0.2136752136752137, 0.1791562382424629, 0.18148148148148147, 0.19838056680161945, 0.19101570264360962, 0.16666666666666666, 0.2686720609233698, 0.2216117216117216, 0.178021978021978, 0.1676431882381539, 0.19674796747967477, 0.17751526840244292, 0.18130991270818833, 0.16877744170162945]}\n",
      "svm1 evaluated\n",
      "15\n",
      "12\n",
      "21\n",
      "4\n",
      "10\n",
      "44\n",
      "3\n",
      "18\n",
      "29\n",
      "20\n",
      "7\n",
      "19\n",
      "11\n",
      "2\n",
      "28\n",
      "5\n",
      "8\n",
      "16\n",
      "6\n",
      "{'accuracy': [0.5154639175257731, 0.3025210084033613, 0.43006993006993005, 0.4416058394160584, 0.4568345323741007, 0.4115384615384615, 0.4225352112676056, 0.35714285714285715, 0.531578947368421, 0.5271317829457365, 0.5448028673835126, 0.4397905759162304, 0.5595238095238095, 0.4461538461538462, 0.3411371237458194, 0.36666666666666664, 0.47794117647058826, 0.34980988593155893, 0.47653429602888087], 'roc_auc': [0.7343024105453138, 0.5427578802366098, 0.8776049369022972, 0.7617712194570908, 0.7250827976578952, 0.6193130904183536, 0.6575947822822822, 0.6457122093023256, 0.7678445452254975, 0.7456593413581073, 0.7929399594934399, 0.6054470931115667, 0.7716818382162774, 0.7488843009676343, 0.6113563973063973, 0.6995938552188553, 0.7096943203946807, 0.6055903461163794, 0.7270952489895524], 'f1': [0.4203510212159305, 0.23048048984274652, 0.32612294072968223, 0.34748401710316523, 0.3569248845153215, 0.2665235103266265, 0.3167223539255334, 0.19640784747167722, 0.471909369837149, 0.4207278509604091, 0.43867197569589195, 0.2696526158902434, 0.4367541061089449, 0.34730633902551095, 0.18160335244347692, 0.19674796747967477, 0.381866426129197, 0.18130991270818833, 0.38811441266314917]}\n",
      "svm2 evaluated\n",
      "15\n",
      "12\n",
      "21\n",
      "4\n",
      "10\n",
      "44\n",
      "3\n",
      "18\n",
      "29\n",
      "20\n",
      "7\n",
      "19\n",
      "11\n",
      "2\n",
      "28\n",
      "5\n",
      "8\n",
      "16\n",
      "6\n",
      "{'accuracy': [0.5154639175257731, 0.3739495798319328, 0.6958041958041958, 0.48175182481751827, 0.5431654676258992, 0.5884615384615385, 0.5539906103286385, 0.475, 0.5684210526315789, 0.5775193798449613, 0.5913978494623656, 0.5497382198952879, 0.5277777777777778, 0.6076923076923076, 0.5117056856187291, 0.4925925925925926, 0.5183823529411765, 0.38022813688212925, 0.5956678700361011], 'roc_auc': [0.7336904579232337, 0.5976149960835156, 0.9134794316277235, 0.7343529846518132, 0.737814906182253, 0.8266032388663968, 0.7322691441441441, 0.710969222960502, 0.7996771856890904, 0.7759745352265526, 0.7992833614225804, 0.6916320156451735, 0.7677077300229121, 0.7672432849516183, 0.7580974747474748, 0.7429622615039282, 0.7497994216507688, 0.6791390827220135, 0.7891191523255124], 'f1': [0.4271432123049446, 0.3078650984307242, 0.6792747768728131, 0.46064394581576823, 0.4786513066152377, 0.5573840168353065, 0.5427512338604453, 0.4116767194678097, 0.5650373310547541, 0.5721552285753132, 0.5510841138429459, 0.511253010912903, 0.5189162760239913, 0.5952393760086068, 0.4985400324442553, 0.4195759709907984, 0.4797777214285131, 0.3063288180799812, 0.5897567614263927]}\n",
      "svm3 evaluated\n",
      "15\n",
      "12\n",
      "21\n",
      "4\n",
      "10\n",
      "44\n",
      "3\n",
      "18\n",
      "29\n",
      "20\n",
      "7\n",
      "19\n",
      "11\n",
      "2\n",
      "28\n",
      "5\n",
      "8\n",
      "16\n",
      "6\n",
      "{'accuracy': [0.5085910652920962, 0.3949579831932773, 0.5804195804195804, 0.4562043795620438, 0.49280575539568344, 0.6307692307692307, 0.5305164319248826, 0.5071428571428571, 0.6157894736842106, 0.6317829457364341, 0.5089605734767025, 0.5130890052356021, 0.5317460317460317, 0.5692307692307692, 0.5953177257525084, 0.5111111111111111, 0.5588235294117647, 0.41064638783269963, 0.5523465703971119], 'roc_auc': [0.7287279788392264, 0.6230680928071739, 0.9197426026570049, 0.7097557793230754, 0.710622500636259, 0.8685870445344129, 0.7282394894894896, 0.7323241312028688, 0.8219749937011841, 0.7943712655445548, 0.7655911905487457, 0.7088614054074581, 0.7535652230928105, 0.7665858566900233, 0.7979518518518519, 0.7391435185185186, 0.757786352577162, 0.693642522017455, 0.786670564410212], 'f1': [0.43359746148219636, 0.336956191178061, 0.5517423143730856, 0.38592905285505663, 0.41973492634463855, 0.6110904667971493, 0.5227204945718591, 0.4424612694213393, 0.6110948870812478, 0.6298603225907357, 0.44664761347188947, 0.4326335089104598, 0.5144732883863319, 0.54977925229576, 0.5961715095930598, 0.4461192282205194, 0.5277224882497594, 0.3503756039796118, 0.5377835755240725]}\n",
      "svm4 evaluated\n",
      "15\n",
      "12\n",
      "21\n",
      "4\n",
      "10\n",
      "44\n",
      "3\n",
      "18\n",
      "29\n",
      "20\n",
      "7\n",
      "19\n",
      "11\n",
      "2\n",
      "28\n",
      "5\n",
      "8\n",
      "16\n",
      "6\n",
      "{'accuracy': [0.5154639175257731, 0.3949579831932773, 0.5629370629370629, 0.4708029197080292, 0.4568345323741007, 0.6461538461538462, 0.48826291079812206, 0.5107142857142857, 0.6, 0.6356589147286822, 0.48028673835125446, 0.518324607329843, 0.503968253968254, 0.573076923076923, 0.6153846153846154, 0.5259259259259259, 0.5441176470588235, 0.41825095057034223, 0.5595667870036101], 'roc_auc': [0.7236032866422617, 0.6274451016935418, 0.9161440617913832, 0.7048740366335394, 0.6892666685145473, 0.8736113360323886, 0.7134933370870872, 0.73312585693192, 0.820486898463089, 0.7967380545116566, 0.7312155492121537, 0.7058792815371763, 0.7465143076394428, 0.7691279821488156, 0.8020730639730639, 0.7391351010101009, 0.7591541979789258, 0.6932414365519572, 0.781772541244058], 'f1': [0.44410612173708436, 0.34176420619617914, 0.5314472642203735, 0.4022383552245707, 0.37777795300115763, 0.6281004051153001, 0.47950990174544267, 0.4456000363410337, 0.5944185184040548, 0.6338411474526385, 0.4117619961505401, 0.43550101220167126, 0.48061014605479213, 0.5543387646835922, 0.6182361627090243, 0.47195094589079983, 0.5112719228925212, 0.35642652866817875, 0.5480714537738928]}\n",
      "svm5 evaluated\n",
      "15\n",
      "12\n",
      "21\n",
      "4\n",
      "10\n",
      "44\n",
      "3\n",
      "18\n",
      "29\n",
      "20\n",
      "7\n",
      "19\n",
      "11\n",
      "2\n",
      "28\n",
      "5\n",
      "8\n",
      "16\n",
      "6\n",
      "{'accuracy': [0.5189003436426117, 0.3907563025210084, 0.5629370629370629, 0.4708029197080292, 0.44964028776978415, 0.6423076923076924, 0.5023474178403756, 0.5071428571428571, 0.5947368421052631, 0.6201550387596899, 0.48028673835125446, 0.5078534031413613, 0.5079365079365079, 0.573076923076923, 0.6120401337792643, 0.5259259259259259, 0.5441176470588235, 0.41825095057034223, 0.5595667870036101], 'roc_auc': [0.7239021387287461, 0.627781379142695, 0.9155448184708667, 0.7039254474109842, 0.6868474146048097, 0.8741255060728745, 0.7084614301801802, 0.7340697180034805, 0.8192979969765686, 0.7962272329367578, 0.7200277368358862, 0.7029090244550771, 0.7468822131642182, 0.7710554304304305, 0.8034427609427609, 0.7381544612794612, 0.7588920069977559, 0.6931648973181447, 0.7806862570646601], 'f1': [0.44703343095231035, 0.33754576651740725, 0.5314472642203735, 0.4022383552245707, 0.36865910497408527, 0.6240798217897455, 0.49479421591341516, 0.4424859169199595, 0.590257925876669, 0.6167342385704827, 0.41706818493662257, 0.41909718657403666, 0.4856378629112715, 0.5543387646835922, 0.6153083463354325, 0.47541379934768885, 0.5112719228925212, 0.35642652866817875, 0.5488395258458744]}\n",
      "svm6 evaluated\n",
      "15\n",
      "12\n",
      "21\n",
      "4\n",
      "10\n",
      "44\n",
      "3\n",
      "18\n",
      "29\n",
      "20\n",
      "7\n",
      "19\n",
      "11\n",
      "2\n",
      "28\n",
      "5\n",
      "8\n",
      "16\n",
      "6\n",
      "{'accuracy': [0.5189003436426117, 0.3907563025210084, 0.5629370629370629, 0.4708029197080292, 0.44964028776978415, 0.6461538461538462, 0.49765258215962443, 0.5071428571428571, 0.5947368421052631, 0.6201550387596899, 0.48028673835125446, 0.5078534031413613, 0.5079365079365079, 0.573076923076923, 0.6120401337792643, 0.5259259259259259, 0.5441176470588235, 0.41825095057034223, 0.555956678700361], 'roc_auc': [0.7233124721424552, 0.6275950085082246, 0.9168931159420289, 0.704293893213329, 0.6869280494022525, 0.8743117408906883, 0.7089264264264264, 0.7347470238095237, 0.8189673091458807, 0.7958019898725914, 0.7186276277957093, 0.7035474576592998, 0.7464657392533339, 0.7708239489489489, 0.8030604377104377, 0.7384490740740741, 0.7592337997004815, 0.6930177829466612, 0.7806750298685783], 'f1': [0.44703343095231035, 0.33754576651740725, 0.5314472642203735, 0.4022383552245707, 0.36865910497408527, 0.6295246098692641, 0.4890164608474468, 0.4424859169199595, 0.589942601629256, 0.6167342385704827, 0.4174846623892943, 0.41909718657403666, 0.4856378629112715, 0.5543387646835922, 0.6155152587663061, 0.47541379934768885, 0.5112955749856603, 0.35642652866817875, 0.5444033713559644]}\n",
      "svm7 evaluated\n",
      "\n",
      "Rank=1, Name=svm3, Accuracy=0.534, roc_auc=0.753, f1=0.499\n",
      "Rank=2, Name=svm4, Accuracy=0.532, roc_auc=0.758, f1=0.492\n",
      "Rank=3, Name=svm5, Accuracy=0.527, roc_auc=0.754, f1=0.488\n",
      "Rank=4, Name=svm6, Accuracy=0.526, roc_auc=0.753, f1=0.486\n",
      "Rank=5, Name=svm7, Accuracy=0.525, roc_auc=0.753, f1=0.486\n",
      "Rank=6, Name=svm2, Accuracy=0.442, roc_auc=0.703, f1=0.325\n",
      "Rank=7, Name=svm1, Accuracy=0.354, roc_auc=0.698, f1=0.186\n",
      "0.35428567777736536 ['svm3', 'svm4', 'svm5', 'svm6', 'svm7', 'svm2', 'svm1']\n"
     ]
    },
    {
     "data": {
      "image/png": "[encoded data removed]",
      "text/plain": [
       "<Figure size 432x288 with 1 Axes>"
      ]
     },
     "metadata": {
      "needs_background": "light"
     },
     "output_type": "display_data"
    },
    {
     "data": {
      "image/png": "[encoded data removed]",
      "text/plain": [
       "<Figure size 432x288 with 1 Axes>"
      ]
     },
     "metadata": {
      "needs_background": "light"
     },
     "output_type": "display_data"
    },
    {
     "data": {
      "image/png": "[encoded data removed]",
      "text/plain": [
       "<Figure size 432x288 with 1 Axes>"
      ]
     },
     "metadata": {
      "needs_background": "light"
     },
     "output_type": "display_data"
    }
   ],
   "source": [
    "# evaluate models\n",
    "results = evaluate_models(X_scaled_train, Y_train, models, subjects_train)\n",
    "# summarize results\n",
    "summarize_results(results)"
   ]
  },
  {
   "cell_type": "markdown",
   "metadata": {},
   "source": [
    "Standardizing the data we obtain that the best three models are Logistic, LDA and SCVL with mean estimated accuracies of 0.509, 0.504 and 0.494 respectively. Let's try to normalize the standardized dataset to see if we can improve the metrics."
   ]
  },
  {
   "cell_type": "markdown",
   "metadata": {},
   "source": [
    "## Spot-check logistic models"
   ]
  },
  {
   "cell_type": "code",
   "execution_count": 25,
   "metadata": {},
   "outputs": [],
   "source": [
    "# get model list\n",
    "models = define_models_logistic()"
   ]
  },
  {
   "cell_type": "code",
   "execution_count": 26,
   "metadata": {},
   "outputs": [
    {
     "name": "stdout",
     "output_type": "stream",
     "text": [
      "15\n",
      "12\n",
      "21\n",
      "4\n",
      "10\n",
      "44\n",
      "3\n",
      "18\n",
      "29\n",
      "20\n",
      "7\n",
      "19\n",
      "11\n",
      "2\n",
      "28\n",
      "5\n",
      "8\n",
      "16\n",
      "6\n",
      "{'accuracy': [0.44673539518900346, 0.35294117647058826, 0.44755244755244755, 0.38321167883211676, 0.5179856115107914, 0.38846153846153847, 0.38967136150234744, 0.3678571428571429, 0.3526315789473684, 0.4728682170542636, 0.5519713261648745, 0.45549738219895286, 0.5317460317460317, 0.4269230769230769, 0.33444816053511706, 0.3925925925925926, 0.375, 0.38022813688212925, 0.4404332129963899], 'roc_auc': [0.7360962537539183, 0.5270831645193529, 0.8149836247904959, 0.7578082925919407, 0.7141275944876035, 0.6007395411605938, 0.6738424361861862, 0.6565441583610189, 0.7573837868480725, 0.750236069514126, 0.7839804225203206, 0.581766917293233, 0.7707241303526914, 0.7132132132132133, 0.5983072390572391, 0.7036019921436588, 0.6879965550893382, 0.600236824317608, 0.7537435284747113], 'f1': [0.35331193231821006, 0.31494477314910746, 0.3532934134667909, 0.2839364990773357, 0.5204046277209351, 0.22292763259149814, 0.27039291934348547, 0.22470133667502087, 0.2764033820947705, 0.40211774954511775, 0.46662986172441695, 0.3144450858997073, 0.45077877153541984, 0.32951130284889874, 0.1676431882381539, 0.25480193236714976, 0.25602746113582026, 0.26780893230472047, 0.362186508812446]}\n",
      "logistic1 evaluated\n",
      "15\n",
      "12\n",
      "21\n",
      "4\n",
      "10\n",
      "44\n",
      "3\n",
      "18\n",
      "29\n",
      "20\n",
      "7\n",
      "19\n",
      "11\n",
      "2\n",
      "28\n",
      "5\n",
      "8\n",
      "16\n",
      "6\n",
      "{'accuracy': [0.5085910652920962, 0.3487394957983193, 0.7307692307692307, 0.5218978102189781, 0.4892086330935252, 0.48846153846153845, 0.5586854460093896, 0.45, 0.6052631578947368, 0.5387596899224806, 0.5949820788530465, 0.518324607329843, 0.5079365079365079, 0.5884615384615385, 0.35451505016722407, 0.4888888888888889, 0.4889705882352941, 0.38022813688212925, 0.6209386281588448], 'roc_auc': [0.7398255113001162, 0.5534465062258596, 0.8773222604259096, 0.757998754771406, 0.7234100455838589, 0.698800269905533, 0.7058028340840842, 0.6830530177187154, 0.7797619047619048, 0.7613390201975884, 0.7922871695367452, 0.6249798264600895, 0.7740097816729623, 0.738697030363697, 0.6606867003367003, 0.740283389450056, 0.7121021600399358, 0.6357256813979841, 0.7728062482523704], 'f1': [0.40777133447880876, 0.2757729187412633, 0.730682818032319, 0.5309996323131329, 0.4275110992287251, 0.4396993227290447, 0.5516276273471747, 0.38686949591123, 0.6117445460436316, 0.5217957183237235, 0.5534463019244048, 0.4963762960200591, 0.4916274630456854, 0.5918748986510084, 0.2686861165865624, 0.4163288778121314, 0.4400482067985655, 0.3132505489346338, 0.6134711019382535]}\n",
      "logistic2 evaluated\n",
      "15\n",
      "12\n",
      "21\n",
      "4\n",
      "10\n",
      "44\n",
      "3\n",
      "18\n",
      "29\n",
      "20\n",
      "7\n",
      "19\n",
      "11\n",
      "2\n",
      "28\n",
      "5\n",
      "8\n",
      "16\n",
      "6\n",
      "{'accuracy': [0.5223367697594502, 0.3403361344537815, 0.6538461538461539, 0.4708029197080292, 0.539568345323741, 0.5807692307692308, 0.568075117370892, 0.4928571428571429, 0.6210526315789474, 0.5891472868217055, 0.5376344086021505, 0.5445026178010471, 0.5396825396825397, 0.5846153846153846, 0.5250836120401338, 0.4962962962962963, 0.5110294117647058, 0.4068441064638783, 0.5848375451263538], 'roc_auc': [0.7426543764659462, 0.5964278961726495, 0.9211937265848369, 0.7378844161655541, 0.733086431263455, 0.834033738191633, 0.7411350412912913, 0.7156481536413014, 0.8119976694381457, 0.7813707504837968, 0.795441871842551, 0.7030134521910837, 0.7663305127243101, 0.7601731940273607, 0.7640580808080809, 0.7470889450056116, 0.7431560508551565, 0.6876217669628834, 0.7897029665217724], 'f1': [0.43013599420904364, 0.26203206469980506, 0.6358882174079289, 0.4276567342664834, 0.4942316593635404, 0.5499818869853057, 0.5657503334708816, 0.43081033362879173, 0.611647859419416, 0.5833439643723202, 0.4574224812693309, 0.49503953341840895, 0.5221569606189501, 0.5726445398894098, 0.5154781765315498, 0.42677826710802425, 0.4697807937404168, 0.3475101386304703, 0.5750978712256591]}\n",
      "logistic3 evaluated\n"
     ]
    },
    {
     "name": "stderr",
     "output_type": "stream",
     "text": [
      "C:\\Users\\Mikel\\anaconda3\\lib\\site-packages\\sklearn\\linear_model\\_logistic.py:940: ConvergenceWarning: lbfgs failed to converge (status=1):\n",
      "STOP: TOTAL NO. of ITERATIONS REACHED LIMIT.\n",
      "\n",
      "Increase the number of iterations (max_iter) or scale the data as shown in:\n",
      "    https://scikit-learn.org/stable/modules/preprocessing.html\n",
      "Please also refer to the documentation for alternative solver options:\n",
      "    https://scikit-learn.org/stable/modules/linear_model.html#logistic-regression\n",
      "  extra_warning_msg=_LOGISTIC_SOLVER_CONVERGENCE_MSG)\n"
     ]
    },
    {
     "name": "stdout",
     "output_type": "stream",
     "text": [
      "15\n"
     ]
    },
    {
     "name": "stderr",
     "output_type": "stream",
     "text": [
      "C:\\Users\\Mikel\\anaconda3\\lib\\site-packages\\sklearn\\linear_model\\_logistic.py:940: ConvergenceWarning: lbfgs failed to converge (status=1):\n",
      "STOP: TOTAL NO. of ITERATIONS REACHED LIMIT.\n",
      "\n",
      "Increase the number of iterations (max_iter) or scale the data as shown in:\n",
      "    https://scikit-learn.org/stable/modules/preprocessing.html\n",
      "Please also refer to the documentation for alternative solver options:\n",
      "    https://scikit-learn.org/stable/modules/linear_model.html#logistic-regression\n",
      "  extra_warning_msg=_LOGISTIC_SOLVER_CONVERGENCE_MSG)\n"
     ]
    },
    {
     "name": "stdout",
     "output_type": "stream",
     "text": [
      "12\n"
     ]
    },
    {
     "name": "stderr",
     "output_type": "stream",
     "text": [
      "C:\\Users\\Mikel\\anaconda3\\lib\\site-packages\\sklearn\\linear_model\\_logistic.py:940: ConvergenceWarning: lbfgs failed to converge (status=1):\n",
      "STOP: TOTAL NO. of ITERATIONS REACHED LIMIT.\n",
      "\n",
      "Increase the number of iterations (max_iter) or scale the data as shown in:\n",
      "    https://scikit-learn.org/stable/modules/preprocessing.html\n",
      "Please also refer to the documentation for alternative solver options:\n",
      "    https://scikit-learn.org/stable/modules/linear_model.html#logistic-regression\n",
      "  extra_warning_msg=_LOGISTIC_SOLVER_CONVERGENCE_MSG)\n"
     ]
    },
    {
     "name": "stdout",
     "output_type": "stream",
     "text": [
      "21\n"
     ]
    },
    {
     "name": "stderr",
     "output_type": "stream",
     "text": [
      "C:\\Users\\Mikel\\anaconda3\\lib\\site-packages\\sklearn\\linear_model\\_logistic.py:940: ConvergenceWarning: lbfgs failed to converge (status=1):\n",
      "STOP: TOTAL NO. of ITERATIONS REACHED LIMIT.\n",
      "\n",
      "Increase the number of iterations (max_iter) or scale the data as shown in:\n",
      "    https://scikit-learn.org/stable/modules/preprocessing.html\n",
      "Please also refer to the documentation for alternative solver options:\n",
      "    https://scikit-learn.org/stable/modules/linear_model.html#logistic-regression\n",
      "  extra_warning_msg=_LOGISTIC_SOLVER_CONVERGENCE_MSG)\n"
     ]
    },
    {
     "name": "stdout",
     "output_type": "stream",
     "text": [
      "4\n"
     ]
    },
    {
     "name": "stderr",
     "output_type": "stream",
     "text": [
      "C:\\Users\\Mikel\\anaconda3\\lib\\site-packages\\sklearn\\linear_model\\_logistic.py:940: ConvergenceWarning: lbfgs failed to converge (status=1):\n",
      "STOP: TOTAL NO. of ITERATIONS REACHED LIMIT.\n",
      "\n",
      "Increase the number of iterations (max_iter) or scale the data as shown in:\n",
      "    https://scikit-learn.org/stable/modules/preprocessing.html\n",
      "Please also refer to the documentation for alternative solver options:\n",
      "    https://scikit-learn.org/stable/modules/linear_model.html#logistic-regression\n",
      "  extra_warning_msg=_LOGISTIC_SOLVER_CONVERGENCE_MSG)\n"
     ]
    },
    {
     "name": "stdout",
     "output_type": "stream",
     "text": [
      "10\n"
     ]
    },
    {
     "name": "stderr",
     "output_type": "stream",
     "text": [
      "C:\\Users\\Mikel\\anaconda3\\lib\\site-packages\\sklearn\\linear_model\\_logistic.py:940: ConvergenceWarning: lbfgs failed to converge (status=1):\n",
      "STOP: TOTAL NO. of ITERATIONS REACHED LIMIT.\n",
      "\n",
      "Increase the number of iterations (max_iter) or scale the data as shown in:\n",
      "    https://scikit-learn.org/stable/modules/preprocessing.html\n",
      "Please also refer to the documentation for alternative solver options:\n",
      "    https://scikit-learn.org/stable/modules/linear_model.html#logistic-regression\n",
      "  extra_warning_msg=_LOGISTIC_SOLVER_CONVERGENCE_MSG)\n"
     ]
    },
    {
     "name": "stdout",
     "output_type": "stream",
     "text": [
      "44\n"
     ]
    },
    {
     "name": "stderr",
     "output_type": "stream",
     "text": [
      "C:\\Users\\Mikel\\anaconda3\\lib\\site-packages\\sklearn\\linear_model\\_logistic.py:940: ConvergenceWarning: lbfgs failed to converge (status=1):\n",
      "STOP: TOTAL NO. of ITERATIONS REACHED LIMIT.\n",
      "\n",
      "Increase the number of iterations (max_iter) or scale the data as shown in:\n",
      "    https://scikit-learn.org/stable/modules/preprocessing.html\n",
      "Please also refer to the documentation for alternative solver options:\n",
      "    https://scikit-learn.org/stable/modules/linear_model.html#logistic-regression\n",
      "  extra_warning_msg=_LOGISTIC_SOLVER_CONVERGENCE_MSG)\n"
     ]
    },
    {
     "name": "stdout",
     "output_type": "stream",
     "text": [
      "3\n"
     ]
    },
    {
     "name": "stderr",
     "output_type": "stream",
     "text": [
      "C:\\Users\\Mikel\\anaconda3\\lib\\site-packages\\sklearn\\linear_model\\_logistic.py:940: ConvergenceWarning: lbfgs failed to converge (status=1):\n",
      "STOP: TOTAL NO. of ITERATIONS REACHED LIMIT.\n",
      "\n",
      "Increase the number of iterations (max_iter) or scale the data as shown in:\n",
      "    https://scikit-learn.org/stable/modules/preprocessing.html\n",
      "Please also refer to the documentation for alternative solver options:\n",
      "    https://scikit-learn.org/stable/modules/linear_model.html#logistic-regression\n",
      "  extra_warning_msg=_LOGISTIC_SOLVER_CONVERGENCE_MSG)\n"
     ]
    },
    {
     "name": "stdout",
     "output_type": "stream",
     "text": [
      "18\n"
     ]
    },
    {
     "name": "stderr",
     "output_type": "stream",
     "text": [
      "C:\\Users\\Mikel\\anaconda3\\lib\\site-packages\\sklearn\\linear_model\\_logistic.py:940: ConvergenceWarning: lbfgs failed to converge (status=1):\n",
      "STOP: TOTAL NO. of ITERATIONS REACHED LIMIT.\n",
      "\n",
      "Increase the number of iterations (max_iter) or scale the data as shown in:\n",
      "    https://scikit-learn.org/stable/modules/preprocessing.html\n",
      "Please also refer to the documentation for alternative solver options:\n",
      "    https://scikit-learn.org/stable/modules/linear_model.html#logistic-regression\n",
      "  extra_warning_msg=_LOGISTIC_SOLVER_CONVERGENCE_MSG)\n"
     ]
    },
    {
     "name": "stdout",
     "output_type": "stream",
     "text": [
      "29\n"
     ]
    },
    {
     "name": "stderr",
     "output_type": "stream",
     "text": [
      "C:\\Users\\Mikel\\anaconda3\\lib\\site-packages\\sklearn\\linear_model\\_logistic.py:940: ConvergenceWarning: lbfgs failed to converge (status=1):\n",
      "STOP: TOTAL NO. of ITERATIONS REACHED LIMIT.\n",
      "\n",
      "Increase the number of iterations (max_iter) or scale the data as shown in:\n",
      "    https://scikit-learn.org/stable/modules/preprocessing.html\n",
      "Please also refer to the documentation for alternative solver options:\n",
      "    https://scikit-learn.org/stable/modules/linear_model.html#logistic-regression\n",
      "  extra_warning_msg=_LOGISTIC_SOLVER_CONVERGENCE_MSG)\n"
     ]
    },
    {
     "name": "stdout",
     "output_type": "stream",
     "text": [
      "20\n"
     ]
    },
    {
     "name": "stderr",
     "output_type": "stream",
     "text": [
      "C:\\Users\\Mikel\\anaconda3\\lib\\site-packages\\sklearn\\linear_model\\_logistic.py:940: ConvergenceWarning: lbfgs failed to converge (status=1):\n",
      "STOP: TOTAL NO. of ITERATIONS REACHED LIMIT.\n",
      "\n",
      "Increase the number of iterations (max_iter) or scale the data as shown in:\n",
      "    https://scikit-learn.org/stable/modules/preprocessing.html\n",
      "Please also refer to the documentation for alternative solver options:\n",
      "    https://scikit-learn.org/stable/modules/linear_model.html#logistic-regression\n",
      "  extra_warning_msg=_LOGISTIC_SOLVER_CONVERGENCE_MSG)\n"
     ]
    },
    {
     "name": "stdout",
     "output_type": "stream",
     "text": [
      "7\n"
     ]
    },
    {
     "name": "stderr",
     "output_type": "stream",
     "text": [
      "C:\\Users\\Mikel\\anaconda3\\lib\\site-packages\\sklearn\\linear_model\\_logistic.py:940: ConvergenceWarning: lbfgs failed to converge (status=1):\n",
      "STOP: TOTAL NO. of ITERATIONS REACHED LIMIT.\n",
      "\n",
      "Increase the number of iterations (max_iter) or scale the data as shown in:\n",
      "    https://scikit-learn.org/stable/modules/preprocessing.html\n",
      "Please also refer to the documentation for alternative solver options:\n",
      "    https://scikit-learn.org/stable/modules/linear_model.html#logistic-regression\n",
      "  extra_warning_msg=_LOGISTIC_SOLVER_CONVERGENCE_MSG)\n"
     ]
    },
    {
     "name": "stdout",
     "output_type": "stream",
     "text": [
      "19\n",
      "11\n"
     ]
    },
    {
     "name": "stderr",
     "output_type": "stream",
     "text": [
      "C:\\Users\\Mikel\\anaconda3\\lib\\site-packages\\sklearn\\linear_model\\_logistic.py:940: ConvergenceWarning: lbfgs failed to converge (status=1):\n",
      "STOP: TOTAL NO. of ITERATIONS REACHED LIMIT.\n",
      "\n",
      "Increase the number of iterations (max_iter) or scale the data as shown in:\n",
      "    https://scikit-learn.org/stable/modules/preprocessing.html\n",
      "Please also refer to the documentation for alternative solver options:\n",
      "    https://scikit-learn.org/stable/modules/linear_model.html#logistic-regression\n",
      "  extra_warning_msg=_LOGISTIC_SOLVER_CONVERGENCE_MSG)\n"
     ]
    },
    {
     "name": "stdout",
     "output_type": "stream",
     "text": [
      "2\n"
     ]
    },
    {
     "name": "stderr",
     "output_type": "stream",
     "text": [
      "C:\\Users\\Mikel\\anaconda3\\lib\\site-packages\\sklearn\\linear_model\\_logistic.py:940: ConvergenceWarning: lbfgs failed to converge (status=1):\n",
      "STOP: TOTAL NO. of ITERATIONS REACHED LIMIT.\n",
      "\n",
      "Increase the number of iterations (max_iter) or scale the data as shown in:\n",
      "    https://scikit-learn.org/stable/modules/preprocessing.html\n",
      "Please also refer to the documentation for alternative solver options:\n",
      "    https://scikit-learn.org/stable/modules/linear_model.html#logistic-regression\n",
      "  extra_warning_msg=_LOGISTIC_SOLVER_CONVERGENCE_MSG)\n"
     ]
    },
    {
     "name": "stdout",
     "output_type": "stream",
     "text": [
      "28\n"
     ]
    },
    {
     "name": "stderr",
     "output_type": "stream",
     "text": [
      "C:\\Users\\Mikel\\anaconda3\\lib\\site-packages\\sklearn\\linear_model\\_logistic.py:940: ConvergenceWarning: lbfgs failed to converge (status=1):\n",
      "STOP: TOTAL NO. of ITERATIONS REACHED LIMIT.\n",
      "\n",
      "Increase the number of iterations (max_iter) or scale the data as shown in:\n",
      "    https://scikit-learn.org/stable/modules/preprocessing.html\n",
      "Please also refer to the documentation for alternative solver options:\n",
      "    https://scikit-learn.org/stable/modules/linear_model.html#logistic-regression\n",
      "  extra_warning_msg=_LOGISTIC_SOLVER_CONVERGENCE_MSG)\n"
     ]
    },
    {
     "name": "stdout",
     "output_type": "stream",
     "text": [
      "5\n"
     ]
    },
    {
     "name": "stderr",
     "output_type": "stream",
     "text": [
      "C:\\Users\\Mikel\\anaconda3\\lib\\site-packages\\sklearn\\linear_model\\_logistic.py:940: ConvergenceWarning: lbfgs failed to converge (status=1):\n",
      "STOP: TOTAL NO. of ITERATIONS REACHED LIMIT.\n",
      "\n",
      "Increase the number of iterations (max_iter) or scale the data as shown in:\n",
      "    https://scikit-learn.org/stable/modules/preprocessing.html\n",
      "Please also refer to the documentation for alternative solver options:\n",
      "    https://scikit-learn.org/stable/modules/linear_model.html#logistic-regression\n",
      "  extra_warning_msg=_LOGISTIC_SOLVER_CONVERGENCE_MSG)\n"
     ]
    },
    {
     "name": "stdout",
     "output_type": "stream",
     "text": [
      "8\n"
     ]
    },
    {
     "name": "stderr",
     "output_type": "stream",
     "text": [
      "C:\\Users\\Mikel\\anaconda3\\lib\\site-packages\\sklearn\\linear_model\\_logistic.py:940: ConvergenceWarning: lbfgs failed to converge (status=1):\n",
      "STOP: TOTAL NO. of ITERATIONS REACHED LIMIT.\n",
      "\n",
      "Increase the number of iterations (max_iter) or scale the data as shown in:\n",
      "    https://scikit-learn.org/stable/modules/preprocessing.html\n",
      "Please also refer to the documentation for alternative solver options:\n",
      "    https://scikit-learn.org/stable/modules/linear_model.html#logistic-regression\n",
      "  extra_warning_msg=_LOGISTIC_SOLVER_CONVERGENCE_MSG)\n"
     ]
    },
    {
     "name": "stdout",
     "output_type": "stream",
     "text": [
      "16\n"
     ]
    },
    {
     "name": "stderr",
     "output_type": "stream",
     "text": [
      "C:\\Users\\Mikel\\anaconda3\\lib\\site-packages\\sklearn\\linear_model\\_logistic.py:940: ConvergenceWarning: lbfgs failed to converge (status=1):\n",
      "STOP: TOTAL NO. of ITERATIONS REACHED LIMIT.\n",
      "\n",
      "Increase the number of iterations (max_iter) or scale the data as shown in:\n",
      "    https://scikit-learn.org/stable/modules/preprocessing.html\n",
      "Please also refer to the documentation for alternative solver options:\n",
      "    https://scikit-learn.org/stable/modules/linear_model.html#logistic-regression\n",
      "  extra_warning_msg=_LOGISTIC_SOLVER_CONVERGENCE_MSG)\n"
     ]
    },
    {
     "name": "stdout",
     "output_type": "stream",
     "text": [
      "6\n",
      "{'accuracy': [0.5085910652920962, 0.3865546218487395, 0.5734265734265734, 0.4744525547445255, 0.5035971223021583, 0.65, 0.5539906103286385, 0.5035714285714286, 0.5947368421052631, 0.5968992248062015, 0.5053763440860215, 0.5130890052356021, 0.5238095238095238, 0.573076923076923, 0.5986622073578596, 0.5148148148148148, 0.5367647058823529, 0.4220532319391635, 0.555956678700361], 'roc_auc': [0.731023440525512, 0.6194845096291495, 0.9184258848466923, 0.7129555439380924, 0.707709148605732, 0.8691740890688259, 0.7340427927927928, 0.7273852370405526, 0.8217025699168555, 0.7920815767217974, 0.7626858710050559, 0.7065794220399484, 0.7537604072944859, 0.7668720804137471, 0.7964914141414141, 0.7336047979797979, 0.7517651794186827, 0.6952041211904336, 0.7897701178643755], 'f1': [0.43314574833326325, 0.322369464715765, 0.5437420555883619, 0.40187928962646147, 0.45135332349710733, 0.6332490538249501, 0.5501690988452299, 0.4425924646735228, 0.5792309396872741, 0.5902077463307961, 0.43619838672970107, 0.4326335089104598, 0.5029779048957131, 0.5538464723682114, 0.5985371587992937, 0.4657783765829742, 0.5066784520283877, 0.3651456527908968, 0.5374810584257007]}\n",
      "logistic4 evaluated\n"
     ]
    },
    {
     "name": "stderr",
     "output_type": "stream",
     "text": [
      "C:\\Users\\Mikel\\anaconda3\\lib\\site-packages\\sklearn\\linear_model\\_logistic.py:940: ConvergenceWarning: lbfgs failed to converge (status=1):\n",
      "STOP: TOTAL NO. of ITERATIONS REACHED LIMIT.\n",
      "\n",
      "Increase the number of iterations (max_iter) or scale the data as shown in:\n",
      "    https://scikit-learn.org/stable/modules/preprocessing.html\n",
      "Please also refer to the documentation for alternative solver options:\n",
      "    https://scikit-learn.org/stable/modules/linear_model.html#logistic-regression\n",
      "  extra_warning_msg=_LOGISTIC_SOLVER_CONVERGENCE_MSG)\n"
     ]
    },
    {
     "name": "stdout",
     "output_type": "stream",
     "text": [
      "15\n"
     ]
    },
    {
     "name": "stderr",
     "output_type": "stream",
     "text": [
      "C:\\Users\\Mikel\\anaconda3\\lib\\site-packages\\sklearn\\linear_model\\_logistic.py:940: ConvergenceWarning: lbfgs failed to converge (status=1):\n",
      "STOP: TOTAL NO. of ITERATIONS REACHED LIMIT.\n",
      "\n",
      "Increase the number of iterations (max_iter) or scale the data as shown in:\n",
      "    https://scikit-learn.org/stable/modules/preprocessing.html\n",
      "Please also refer to the documentation for alternative solver options:\n",
      "    https://scikit-learn.org/stable/modules/linear_model.html#logistic-regression\n",
      "  extra_warning_msg=_LOGISTIC_SOLVER_CONVERGENCE_MSG)\n"
     ]
    },
    {
     "name": "stdout",
     "output_type": "stream",
     "text": [
      "12\n"
     ]
    },
    {
     "name": "stderr",
     "output_type": "stream",
     "text": [
      "C:\\Users\\Mikel\\anaconda3\\lib\\site-packages\\sklearn\\linear_model\\_logistic.py:940: ConvergenceWarning: lbfgs failed to converge (status=1):\n",
      "STOP: TOTAL NO. of ITERATIONS REACHED LIMIT.\n",
      "\n",
      "Increase the number of iterations (max_iter) or scale the data as shown in:\n",
      "    https://scikit-learn.org/stable/modules/preprocessing.html\n",
      "Please also refer to the documentation for alternative solver options:\n",
      "    https://scikit-learn.org/stable/modules/linear_model.html#logistic-regression\n",
      "  extra_warning_msg=_LOGISTIC_SOLVER_CONVERGENCE_MSG)\n"
     ]
    },
    {
     "name": "stdout",
     "output_type": "stream",
     "text": [
      "21\n"
     ]
    },
    {
     "name": "stderr",
     "output_type": "stream",
     "text": [
      "C:\\Users\\Mikel\\anaconda3\\lib\\site-packages\\sklearn\\linear_model\\_logistic.py:940: ConvergenceWarning: lbfgs failed to converge (status=1):\n",
      "STOP: TOTAL NO. of ITERATIONS REACHED LIMIT.\n",
      "\n",
      "Increase the number of iterations (max_iter) or scale the data as shown in:\n",
      "    https://scikit-learn.org/stable/modules/preprocessing.html\n",
      "Please also refer to the documentation for alternative solver options:\n",
      "    https://scikit-learn.org/stable/modules/linear_model.html#logistic-regression\n",
      "  extra_warning_msg=_LOGISTIC_SOLVER_CONVERGENCE_MSG)\n"
     ]
    },
    {
     "name": "stdout",
     "output_type": "stream",
     "text": [
      "4\n"
     ]
    },
    {
     "name": "stderr",
     "output_type": "stream",
     "text": [
      "C:\\Users\\Mikel\\anaconda3\\lib\\site-packages\\sklearn\\linear_model\\_logistic.py:940: ConvergenceWarning: lbfgs failed to converge (status=1):\n",
      "STOP: TOTAL NO. of ITERATIONS REACHED LIMIT.\n",
      "\n",
      "Increase the number of iterations (max_iter) or scale the data as shown in:\n",
      "    https://scikit-learn.org/stable/modules/preprocessing.html\n",
      "Please also refer to the documentation for alternative solver options:\n",
      "    https://scikit-learn.org/stable/modules/linear_model.html#logistic-regression\n",
      "  extra_warning_msg=_LOGISTIC_SOLVER_CONVERGENCE_MSG)\n"
     ]
    },
    {
     "name": "stdout",
     "output_type": "stream",
     "text": [
      "10\n"
     ]
    },
    {
     "name": "stderr",
     "output_type": "stream",
     "text": [
      "C:\\Users\\Mikel\\anaconda3\\lib\\site-packages\\sklearn\\linear_model\\_logistic.py:940: ConvergenceWarning: lbfgs failed to converge (status=1):\n",
      "STOP: TOTAL NO. of ITERATIONS REACHED LIMIT.\n",
      "\n",
      "Increase the number of iterations (max_iter) or scale the data as shown in:\n",
      "    https://scikit-learn.org/stable/modules/preprocessing.html\n",
      "Please also refer to the documentation for alternative solver options:\n",
      "    https://scikit-learn.org/stable/modules/linear_model.html#logistic-regression\n",
      "  extra_warning_msg=_LOGISTIC_SOLVER_CONVERGENCE_MSG)\n"
     ]
    },
    {
     "name": "stdout",
     "output_type": "stream",
     "text": [
      "44\n"
     ]
    },
    {
     "name": "stderr",
     "output_type": "stream",
     "text": [
      "C:\\Users\\Mikel\\anaconda3\\lib\\site-packages\\sklearn\\linear_model\\_logistic.py:940: ConvergenceWarning: lbfgs failed to converge (status=1):\n",
      "STOP: TOTAL NO. of ITERATIONS REACHED LIMIT.\n",
      "\n",
      "Increase the number of iterations (max_iter) or scale the data as shown in:\n",
      "    https://scikit-learn.org/stable/modules/preprocessing.html\n",
      "Please also refer to the documentation for alternative solver options:\n",
      "    https://scikit-learn.org/stable/modules/linear_model.html#logistic-regression\n",
      "  extra_warning_msg=_LOGISTIC_SOLVER_CONVERGENCE_MSG)\n"
     ]
    },
    {
     "name": "stdout",
     "output_type": "stream",
     "text": [
      "3\n"
     ]
    },
    {
     "name": "stderr",
     "output_type": "stream",
     "text": [
      "C:\\Users\\Mikel\\anaconda3\\lib\\site-packages\\sklearn\\linear_model\\_logistic.py:940: ConvergenceWarning: lbfgs failed to converge (status=1):\n",
      "STOP: TOTAL NO. of ITERATIONS REACHED LIMIT.\n",
      "\n",
      "Increase the number of iterations (max_iter) or scale the data as shown in:\n",
      "    https://scikit-learn.org/stable/modules/preprocessing.html\n",
      "Please also refer to the documentation for alternative solver options:\n",
      "    https://scikit-learn.org/stable/modules/linear_model.html#logistic-regression\n",
      "  extra_warning_msg=_LOGISTIC_SOLVER_CONVERGENCE_MSG)\n"
     ]
    },
    {
     "name": "stdout",
     "output_type": "stream",
     "text": [
      "18\n"
     ]
    },
    {
     "name": "stderr",
     "output_type": "stream",
     "text": [
      "C:\\Users\\Mikel\\anaconda3\\lib\\site-packages\\sklearn\\linear_model\\_logistic.py:940: ConvergenceWarning: lbfgs failed to converge (status=1):\n",
      "STOP: TOTAL NO. of ITERATIONS REACHED LIMIT.\n",
      "\n",
      "Increase the number of iterations (max_iter) or scale the data as shown in:\n",
      "    https://scikit-learn.org/stable/modules/preprocessing.html\n",
      "Please also refer to the documentation for alternative solver options:\n",
      "    https://scikit-learn.org/stable/modules/linear_model.html#logistic-regression\n",
      "  extra_warning_msg=_LOGISTIC_SOLVER_CONVERGENCE_MSG)\n"
     ]
    },
    {
     "name": "stdout",
     "output_type": "stream",
     "text": [
      "29\n"
     ]
    },
    {
     "name": "stderr",
     "output_type": "stream",
     "text": [
      "C:\\Users\\Mikel\\anaconda3\\lib\\site-packages\\sklearn\\linear_model\\_logistic.py:940: ConvergenceWarning: lbfgs failed to converge (status=1):\n",
      "STOP: TOTAL NO. of ITERATIONS REACHED LIMIT.\n",
      "\n",
      "Increase the number of iterations (max_iter) or scale the data as shown in:\n",
      "    https://scikit-learn.org/stable/modules/preprocessing.html\n",
      "Please also refer to the documentation for alternative solver options:\n",
      "    https://scikit-learn.org/stable/modules/linear_model.html#logistic-regression\n",
      "  extra_warning_msg=_LOGISTIC_SOLVER_CONVERGENCE_MSG)\n"
     ]
    },
    {
     "name": "stdout",
     "output_type": "stream",
     "text": [
      "20\n"
     ]
    },
    {
     "name": "stderr",
     "output_type": "stream",
     "text": [
      "C:\\Users\\Mikel\\anaconda3\\lib\\site-packages\\sklearn\\linear_model\\_logistic.py:940: ConvergenceWarning: lbfgs failed to converge (status=1):\n",
      "STOP: TOTAL NO. of ITERATIONS REACHED LIMIT.\n",
      "\n",
      "Increase the number of iterations (max_iter) or scale the data as shown in:\n",
      "    https://scikit-learn.org/stable/modules/preprocessing.html\n",
      "Please also refer to the documentation for alternative solver options:\n",
      "    https://scikit-learn.org/stable/modules/linear_model.html#logistic-regression\n",
      "  extra_warning_msg=_LOGISTIC_SOLVER_CONVERGENCE_MSG)\n"
     ]
    },
    {
     "name": "stdout",
     "output_type": "stream",
     "text": [
      "7\n"
     ]
    },
    {
     "name": "stderr",
     "output_type": "stream",
     "text": [
      "C:\\Users\\Mikel\\anaconda3\\lib\\site-packages\\sklearn\\linear_model\\_logistic.py:940: ConvergenceWarning: lbfgs failed to converge (status=1):\n",
      "STOP: TOTAL NO. of ITERATIONS REACHED LIMIT.\n",
      "\n",
      "Increase the number of iterations (max_iter) or scale the data as shown in:\n",
      "    https://scikit-learn.org/stable/modules/preprocessing.html\n",
      "Please also refer to the documentation for alternative solver options:\n",
      "    https://scikit-learn.org/stable/modules/linear_model.html#logistic-regression\n",
      "  extra_warning_msg=_LOGISTIC_SOLVER_CONVERGENCE_MSG)\n"
     ]
    },
    {
     "name": "stdout",
     "output_type": "stream",
     "text": [
      "19\n"
     ]
    },
    {
     "name": "stderr",
     "output_type": "stream",
     "text": [
      "C:\\Users\\Mikel\\anaconda3\\lib\\site-packages\\sklearn\\linear_model\\_logistic.py:940: ConvergenceWarning: lbfgs failed to converge (status=1):\n",
      "STOP: TOTAL NO. of ITERATIONS REACHED LIMIT.\n",
      "\n",
      "Increase the number of iterations (max_iter) or scale the data as shown in:\n",
      "    https://scikit-learn.org/stable/modules/preprocessing.html\n",
      "Please also refer to the documentation for alternative solver options:\n",
      "    https://scikit-learn.org/stable/modules/linear_model.html#logistic-regression\n",
      "  extra_warning_msg=_LOGISTIC_SOLVER_CONVERGENCE_MSG)\n"
     ]
    },
    {
     "name": "stdout",
     "output_type": "stream",
     "text": [
      "11\n"
     ]
    },
    {
     "name": "stderr",
     "output_type": "stream",
     "text": [
      "C:\\Users\\Mikel\\anaconda3\\lib\\site-packages\\sklearn\\linear_model\\_logistic.py:940: ConvergenceWarning: lbfgs failed to converge (status=1):\n",
      "STOP: TOTAL NO. of ITERATIONS REACHED LIMIT.\n",
      "\n",
      "Increase the number of iterations (max_iter) or scale the data as shown in:\n",
      "    https://scikit-learn.org/stable/modules/preprocessing.html\n",
      "Please also refer to the documentation for alternative solver options:\n",
      "    https://scikit-learn.org/stable/modules/linear_model.html#logistic-regression\n",
      "  extra_warning_msg=_LOGISTIC_SOLVER_CONVERGENCE_MSG)\n"
     ]
    },
    {
     "name": "stdout",
     "output_type": "stream",
     "text": [
      "2\n"
     ]
    },
    {
     "name": "stderr",
     "output_type": "stream",
     "text": [
      "C:\\Users\\Mikel\\anaconda3\\lib\\site-packages\\sklearn\\linear_model\\_logistic.py:940: ConvergenceWarning: lbfgs failed to converge (status=1):\n",
      "STOP: TOTAL NO. of ITERATIONS REACHED LIMIT.\n",
      "\n",
      "Increase the number of iterations (max_iter) or scale the data as shown in:\n",
      "    https://scikit-learn.org/stable/modules/preprocessing.html\n",
      "Please also refer to the documentation for alternative solver options:\n",
      "    https://scikit-learn.org/stable/modules/linear_model.html#logistic-regression\n",
      "  extra_warning_msg=_LOGISTIC_SOLVER_CONVERGENCE_MSG)\n"
     ]
    },
    {
     "name": "stdout",
     "output_type": "stream",
     "text": [
      "28\n"
     ]
    },
    {
     "name": "stderr",
     "output_type": "stream",
     "text": [
      "C:\\Users\\Mikel\\anaconda3\\lib\\site-packages\\sklearn\\linear_model\\_logistic.py:940: ConvergenceWarning: lbfgs failed to converge (status=1):\n",
      "STOP: TOTAL NO. of ITERATIONS REACHED LIMIT.\n",
      "\n",
      "Increase the number of iterations (max_iter) or scale the data as shown in:\n",
      "    https://scikit-learn.org/stable/modules/preprocessing.html\n",
      "Please also refer to the documentation for alternative solver options:\n",
      "    https://scikit-learn.org/stable/modules/linear_model.html#logistic-regression\n",
      "  extra_warning_msg=_LOGISTIC_SOLVER_CONVERGENCE_MSG)\n"
     ]
    },
    {
     "name": "stdout",
     "output_type": "stream",
     "text": [
      "5\n"
     ]
    },
    {
     "name": "stderr",
     "output_type": "stream",
     "text": [
      "C:\\Users\\Mikel\\anaconda3\\lib\\site-packages\\sklearn\\linear_model\\_logistic.py:940: ConvergenceWarning: lbfgs failed to converge (status=1):\n",
      "STOP: TOTAL NO. of ITERATIONS REACHED LIMIT.\n",
      "\n",
      "Increase the number of iterations (max_iter) or scale the data as shown in:\n",
      "    https://scikit-learn.org/stable/modules/preprocessing.html\n",
      "Please also refer to the documentation for alternative solver options:\n",
      "    https://scikit-learn.org/stable/modules/linear_model.html#logistic-regression\n",
      "  extra_warning_msg=_LOGISTIC_SOLVER_CONVERGENCE_MSG)\n"
     ]
    },
    {
     "name": "stdout",
     "output_type": "stream",
     "text": [
      "8\n"
     ]
    },
    {
     "name": "stderr",
     "output_type": "stream",
     "text": [
      "C:\\Users\\Mikel\\anaconda3\\lib\\site-packages\\sklearn\\linear_model\\_logistic.py:940: ConvergenceWarning: lbfgs failed to converge (status=1):\n",
      "STOP: TOTAL NO. of ITERATIONS REACHED LIMIT.\n",
      "\n",
      "Increase the number of iterations (max_iter) or scale the data as shown in:\n",
      "    https://scikit-learn.org/stable/modules/preprocessing.html\n",
      "Please also refer to the documentation for alternative solver options:\n",
      "    https://scikit-learn.org/stable/modules/linear_model.html#logistic-regression\n",
      "  extra_warning_msg=_LOGISTIC_SOLVER_CONVERGENCE_MSG)\n"
     ]
    },
    {
     "name": "stdout",
     "output_type": "stream",
     "text": [
      "16\n"
     ]
    },
    {
     "name": "stderr",
     "output_type": "stream",
     "text": [
      "C:\\Users\\Mikel\\anaconda3\\lib\\site-packages\\sklearn\\linear_model\\_logistic.py:940: ConvergenceWarning: lbfgs failed to converge (status=1):\n",
      "STOP: TOTAL NO. of ITERATIONS REACHED LIMIT.\n",
      "\n",
      "Increase the number of iterations (max_iter) or scale the data as shown in:\n",
      "    https://scikit-learn.org/stable/modules/preprocessing.html\n",
      "Please also refer to the documentation for alternative solver options:\n",
      "    https://scikit-learn.org/stable/modules/linear_model.html#logistic-regression\n",
      "  extra_warning_msg=_LOGISTIC_SOLVER_CONVERGENCE_MSG)\n"
     ]
    },
    {
     "name": "stdout",
     "output_type": "stream",
     "text": [
      "6\n",
      "{'accuracy': [0.5154639175257731, 0.3907563025210084, 0.5734265734265734, 0.4781021897810219, 0.4676258992805755, 0.6461538461538462, 0.5211267605633803, 0.5107142857142857, 0.5894736842105263, 0.5968992248062015, 0.48028673835125446, 0.5130890052356021, 0.5079365079365079, 0.5653846153846154, 0.6153846153846154, 0.5222222222222223, 0.5220588235294118, 0.45627376425855515, 0.5595667870036101], 'roc_auc': [0.7266977575133168, 0.6241282446047052, 0.9168318822094056, 0.7061028460741584, 0.6881860782342324, 0.8714116059379217, 0.7191905968468468, 0.7300474938037231, 0.8179169816074578, 0.7909163312412965, 0.7281611804532009, 0.7009486310473152, 0.7484676674182625, 0.7700106356356358, 0.7990760942760943, 0.7321731200897869, 0.7536794434175672, 0.6942568239200014, 0.7869614123389003], 'f1': [0.44410612173708436, 0.33267603716678484, 0.5446422955762932, 0.4062016954368709, 0.40541896273573585, 0.6275228453093156, 0.5197015500152419, 0.4559900087057407, 0.5705263157894737, 0.5888599918940551, 0.41069037518187973, 0.4277730725798173, 0.48366807040276427, 0.5448051723601024, 0.6160875594505545, 0.47213227513227507, 0.4894578606825618, 0.39551822846918216, 0.5423450384205539]}\n",
      "logistic5 evaluated\n"
     ]
    },
    {
     "name": "stderr",
     "output_type": "stream",
     "text": [
      "C:\\Users\\Mikel\\anaconda3\\lib\\site-packages\\sklearn\\linear_model\\_logistic.py:940: ConvergenceWarning: lbfgs failed to converge (status=1):\n",
      "STOP: TOTAL NO. of ITERATIONS REACHED LIMIT.\n",
      "\n",
      "Increase the number of iterations (max_iter) or scale the data as shown in:\n",
      "    https://scikit-learn.org/stable/modules/preprocessing.html\n",
      "Please also refer to the documentation for alternative solver options:\n",
      "    https://scikit-learn.org/stable/modules/linear_model.html#logistic-regression\n",
      "  extra_warning_msg=_LOGISTIC_SOLVER_CONVERGENCE_MSG)\n"
     ]
    },
    {
     "name": "stdout",
     "output_type": "stream",
     "text": [
      "15\n"
     ]
    },
    {
     "name": "stderr",
     "output_type": "stream",
     "text": [
      "C:\\Users\\Mikel\\anaconda3\\lib\\site-packages\\sklearn\\linear_model\\_logistic.py:940: ConvergenceWarning: lbfgs failed to converge (status=1):\n",
      "STOP: TOTAL NO. of ITERATIONS REACHED LIMIT.\n",
      "\n",
      "Increase the number of iterations (max_iter) or scale the data as shown in:\n",
      "    https://scikit-learn.org/stable/modules/preprocessing.html\n",
      "Please also refer to the documentation for alternative solver options:\n",
      "    https://scikit-learn.org/stable/modules/linear_model.html#logistic-regression\n",
      "  extra_warning_msg=_LOGISTIC_SOLVER_CONVERGENCE_MSG)\n"
     ]
    },
    {
     "name": "stdout",
     "output_type": "stream",
     "text": [
      "12\n"
     ]
    },
    {
     "name": "stderr",
     "output_type": "stream",
     "text": [
      "C:\\Users\\Mikel\\anaconda3\\lib\\site-packages\\sklearn\\linear_model\\_logistic.py:940: ConvergenceWarning: lbfgs failed to converge (status=1):\n",
      "STOP: TOTAL NO. of ITERATIONS REACHED LIMIT.\n",
      "\n",
      "Increase the number of iterations (max_iter) or scale the data as shown in:\n",
      "    https://scikit-learn.org/stable/modules/preprocessing.html\n",
      "Please also refer to the documentation for alternative solver options:\n",
      "    https://scikit-learn.org/stable/modules/linear_model.html#logistic-regression\n",
      "  extra_warning_msg=_LOGISTIC_SOLVER_CONVERGENCE_MSG)\n"
     ]
    },
    {
     "name": "stdout",
     "output_type": "stream",
     "text": [
      "21\n"
     ]
    },
    {
     "name": "stderr",
     "output_type": "stream",
     "text": [
      "C:\\Users\\Mikel\\anaconda3\\lib\\site-packages\\sklearn\\linear_model\\_logistic.py:940: ConvergenceWarning: lbfgs failed to converge (status=1):\n",
      "STOP: TOTAL NO. of ITERATIONS REACHED LIMIT.\n",
      "\n",
      "Increase the number of iterations (max_iter) or scale the data as shown in:\n",
      "    https://scikit-learn.org/stable/modules/preprocessing.html\n",
      "Please also refer to the documentation for alternative solver options:\n",
      "    https://scikit-learn.org/stable/modules/linear_model.html#logistic-regression\n",
      "  extra_warning_msg=_LOGISTIC_SOLVER_CONVERGENCE_MSG)\n"
     ]
    },
    {
     "name": "stdout",
     "output_type": "stream",
     "text": [
      "4\n"
     ]
    },
    {
     "name": "stderr",
     "output_type": "stream",
     "text": [
      "C:\\Users\\Mikel\\anaconda3\\lib\\site-packages\\sklearn\\linear_model\\_logistic.py:940: ConvergenceWarning: lbfgs failed to converge (status=1):\n",
      "STOP: TOTAL NO. of ITERATIONS REACHED LIMIT.\n",
      "\n",
      "Increase the number of iterations (max_iter) or scale the data as shown in:\n",
      "    https://scikit-learn.org/stable/modules/preprocessing.html\n",
      "Please also refer to the documentation for alternative solver options:\n",
      "    https://scikit-learn.org/stable/modules/linear_model.html#logistic-regression\n",
      "  extra_warning_msg=_LOGISTIC_SOLVER_CONVERGENCE_MSG)\n"
     ]
    },
    {
     "name": "stdout",
     "output_type": "stream",
     "text": [
      "10\n"
     ]
    },
    {
     "name": "stderr",
     "output_type": "stream",
     "text": [
      "C:\\Users\\Mikel\\anaconda3\\lib\\site-packages\\sklearn\\linear_model\\_logistic.py:940: ConvergenceWarning: lbfgs failed to converge (status=1):\n",
      "STOP: TOTAL NO. of ITERATIONS REACHED LIMIT.\n",
      "\n",
      "Increase the number of iterations (max_iter) or scale the data as shown in:\n",
      "    https://scikit-learn.org/stable/modules/preprocessing.html\n",
      "Please also refer to the documentation for alternative solver options:\n",
      "    https://scikit-learn.org/stable/modules/linear_model.html#logistic-regression\n",
      "  extra_warning_msg=_LOGISTIC_SOLVER_CONVERGENCE_MSG)\n"
     ]
    },
    {
     "name": "stdout",
     "output_type": "stream",
     "text": [
      "44\n"
     ]
    },
    {
     "name": "stderr",
     "output_type": "stream",
     "text": [
      "C:\\Users\\Mikel\\anaconda3\\lib\\site-packages\\sklearn\\linear_model\\_logistic.py:940: ConvergenceWarning: lbfgs failed to converge (status=1):\n",
      "STOP: TOTAL NO. of ITERATIONS REACHED LIMIT.\n",
      "\n",
      "Increase the number of iterations (max_iter) or scale the data as shown in:\n",
      "    https://scikit-learn.org/stable/modules/preprocessing.html\n",
      "Please also refer to the documentation for alternative solver options:\n",
      "    https://scikit-learn.org/stable/modules/linear_model.html#logistic-regression\n",
      "  extra_warning_msg=_LOGISTIC_SOLVER_CONVERGENCE_MSG)\n"
     ]
    },
    {
     "name": "stdout",
     "output_type": "stream",
     "text": [
      "3\n"
     ]
    },
    {
     "name": "stderr",
     "output_type": "stream",
     "text": [
      "C:\\Users\\Mikel\\anaconda3\\lib\\site-packages\\sklearn\\linear_model\\_logistic.py:940: ConvergenceWarning: lbfgs failed to converge (status=1):\n",
      "STOP: TOTAL NO. of ITERATIONS REACHED LIMIT.\n",
      "\n",
      "Increase the number of iterations (max_iter) or scale the data as shown in:\n",
      "    https://scikit-learn.org/stable/modules/preprocessing.html\n",
      "Please also refer to the documentation for alternative solver options:\n",
      "    https://scikit-learn.org/stable/modules/linear_model.html#logistic-regression\n",
      "  extra_warning_msg=_LOGISTIC_SOLVER_CONVERGENCE_MSG)\n"
     ]
    },
    {
     "name": "stdout",
     "output_type": "stream",
     "text": [
      "18\n"
     ]
    },
    {
     "name": "stderr",
     "output_type": "stream",
     "text": [
      "C:\\Users\\Mikel\\anaconda3\\lib\\site-packages\\sklearn\\linear_model\\_logistic.py:940: ConvergenceWarning: lbfgs failed to converge (status=1):\n",
      "STOP: TOTAL NO. of ITERATIONS REACHED LIMIT.\n",
      "\n",
      "Increase the number of iterations (max_iter) or scale the data as shown in:\n",
      "    https://scikit-learn.org/stable/modules/preprocessing.html\n",
      "Please also refer to the documentation for alternative solver options:\n",
      "    https://scikit-learn.org/stable/modules/linear_model.html#logistic-regression\n",
      "  extra_warning_msg=_LOGISTIC_SOLVER_CONVERGENCE_MSG)\n"
     ]
    },
    {
     "name": "stdout",
     "output_type": "stream",
     "text": [
      "29\n"
     ]
    },
    {
     "name": "stderr",
     "output_type": "stream",
     "text": [
      "C:\\Users\\Mikel\\anaconda3\\lib\\site-packages\\sklearn\\linear_model\\_logistic.py:940: ConvergenceWarning: lbfgs failed to converge (status=1):\n",
      "STOP: TOTAL NO. of ITERATIONS REACHED LIMIT.\n",
      "\n",
      "Increase the number of iterations (max_iter) or scale the data as shown in:\n",
      "    https://scikit-learn.org/stable/modules/preprocessing.html\n",
      "Please also refer to the documentation for alternative solver options:\n",
      "    https://scikit-learn.org/stable/modules/linear_model.html#logistic-regression\n",
      "  extra_warning_msg=_LOGISTIC_SOLVER_CONVERGENCE_MSG)\n"
     ]
    },
    {
     "name": "stdout",
     "output_type": "stream",
     "text": [
      "20\n"
     ]
    },
    {
     "name": "stderr",
     "output_type": "stream",
     "text": [
      "C:\\Users\\Mikel\\anaconda3\\lib\\site-packages\\sklearn\\linear_model\\_logistic.py:940: ConvergenceWarning: lbfgs failed to converge (status=1):\n",
      "STOP: TOTAL NO. of ITERATIONS REACHED LIMIT.\n",
      "\n",
      "Increase the number of iterations (max_iter) or scale the data as shown in:\n",
      "    https://scikit-learn.org/stable/modules/preprocessing.html\n",
      "Please also refer to the documentation for alternative solver options:\n",
      "    https://scikit-learn.org/stable/modules/linear_model.html#logistic-regression\n",
      "  extra_warning_msg=_LOGISTIC_SOLVER_CONVERGENCE_MSG)\n"
     ]
    },
    {
     "name": "stdout",
     "output_type": "stream",
     "text": [
      "7\n"
     ]
    },
    {
     "name": "stderr",
     "output_type": "stream",
     "text": [
      "C:\\Users\\Mikel\\anaconda3\\lib\\site-packages\\sklearn\\linear_model\\_logistic.py:940: ConvergenceWarning: lbfgs failed to converge (status=1):\n",
      "STOP: TOTAL NO. of ITERATIONS REACHED LIMIT.\n",
      "\n",
      "Increase the number of iterations (max_iter) or scale the data as shown in:\n",
      "    https://scikit-learn.org/stable/modules/preprocessing.html\n",
      "Please also refer to the documentation for alternative solver options:\n",
      "    https://scikit-learn.org/stable/modules/linear_model.html#logistic-regression\n",
      "  extra_warning_msg=_LOGISTIC_SOLVER_CONVERGENCE_MSG)\n"
     ]
    },
    {
     "name": "stdout",
     "output_type": "stream",
     "text": [
      "19\n"
     ]
    },
    {
     "name": "stderr",
     "output_type": "stream",
     "text": [
      "C:\\Users\\Mikel\\anaconda3\\lib\\site-packages\\sklearn\\linear_model\\_logistic.py:940: ConvergenceWarning: lbfgs failed to converge (status=1):\n",
      "STOP: TOTAL NO. of ITERATIONS REACHED LIMIT.\n",
      "\n",
      "Increase the number of iterations (max_iter) or scale the data as shown in:\n",
      "    https://scikit-learn.org/stable/modules/preprocessing.html\n",
      "Please also refer to the documentation for alternative solver options:\n",
      "    https://scikit-learn.org/stable/modules/linear_model.html#logistic-regression\n",
      "  extra_warning_msg=_LOGISTIC_SOLVER_CONVERGENCE_MSG)\n"
     ]
    },
    {
     "name": "stdout",
     "output_type": "stream",
     "text": [
      "11\n"
     ]
    },
    {
     "name": "stderr",
     "output_type": "stream",
     "text": [
      "C:\\Users\\Mikel\\anaconda3\\lib\\site-packages\\sklearn\\linear_model\\_logistic.py:940: ConvergenceWarning: lbfgs failed to converge (status=1):\n",
      "STOP: TOTAL NO. of ITERATIONS REACHED LIMIT.\n",
      "\n",
      "Increase the number of iterations (max_iter) or scale the data as shown in:\n",
      "    https://scikit-learn.org/stable/modules/preprocessing.html\n",
      "Please also refer to the documentation for alternative solver options:\n",
      "    https://scikit-learn.org/stable/modules/linear_model.html#logistic-regression\n",
      "  extra_warning_msg=_LOGISTIC_SOLVER_CONVERGENCE_MSG)\n"
     ]
    },
    {
     "name": "stdout",
     "output_type": "stream",
     "text": [
      "2\n"
     ]
    },
    {
     "name": "stderr",
     "output_type": "stream",
     "text": [
      "C:\\Users\\Mikel\\anaconda3\\lib\\site-packages\\sklearn\\linear_model\\_logistic.py:940: ConvergenceWarning: lbfgs failed to converge (status=1):\n",
      "STOP: TOTAL NO. of ITERATIONS REACHED LIMIT.\n",
      "\n",
      "Increase the number of iterations (max_iter) or scale the data as shown in:\n",
      "    https://scikit-learn.org/stable/modules/preprocessing.html\n",
      "Please also refer to the documentation for alternative solver options:\n",
      "    https://scikit-learn.org/stable/modules/linear_model.html#logistic-regression\n",
      "  extra_warning_msg=_LOGISTIC_SOLVER_CONVERGENCE_MSG)\n"
     ]
    },
    {
     "name": "stdout",
     "output_type": "stream",
     "text": [
      "28\n"
     ]
    },
    {
     "name": "stderr",
     "output_type": "stream",
     "text": [
      "C:\\Users\\Mikel\\anaconda3\\lib\\site-packages\\sklearn\\linear_model\\_logistic.py:940: ConvergenceWarning: lbfgs failed to converge (status=1):\n",
      "STOP: TOTAL NO. of ITERATIONS REACHED LIMIT.\n",
      "\n",
      "Increase the number of iterations (max_iter) or scale the data as shown in:\n",
      "    https://scikit-learn.org/stable/modules/preprocessing.html\n",
      "Please also refer to the documentation for alternative solver options:\n",
      "    https://scikit-learn.org/stable/modules/linear_model.html#logistic-regression\n",
      "  extra_warning_msg=_LOGISTIC_SOLVER_CONVERGENCE_MSG)\n"
     ]
    },
    {
     "name": "stdout",
     "output_type": "stream",
     "text": [
      "5\n"
     ]
    },
    {
     "name": "stderr",
     "output_type": "stream",
     "text": [
      "C:\\Users\\Mikel\\anaconda3\\lib\\site-packages\\sklearn\\linear_model\\_logistic.py:940: ConvergenceWarning: lbfgs failed to converge (status=1):\n",
      "STOP: TOTAL NO. of ITERATIONS REACHED LIMIT.\n",
      "\n",
      "Increase the number of iterations (max_iter) or scale the data as shown in:\n",
      "    https://scikit-learn.org/stable/modules/preprocessing.html\n",
      "Please also refer to the documentation for alternative solver options:\n",
      "    https://scikit-learn.org/stable/modules/linear_model.html#logistic-regression\n",
      "  extra_warning_msg=_LOGISTIC_SOLVER_CONVERGENCE_MSG)\n"
     ]
    },
    {
     "name": "stdout",
     "output_type": "stream",
     "text": [
      "8\n"
     ]
    },
    {
     "name": "stderr",
     "output_type": "stream",
     "text": [
      "C:\\Users\\Mikel\\anaconda3\\lib\\site-packages\\sklearn\\linear_model\\_logistic.py:940: ConvergenceWarning: lbfgs failed to converge (status=1):\n",
      "STOP: TOTAL NO. of ITERATIONS REACHED LIMIT.\n",
      "\n",
      "Increase the number of iterations (max_iter) or scale the data as shown in:\n",
      "    https://scikit-learn.org/stable/modules/preprocessing.html\n",
      "Please also refer to the documentation for alternative solver options:\n",
      "    https://scikit-learn.org/stable/modules/linear_model.html#logistic-regression\n",
      "  extra_warning_msg=_LOGISTIC_SOLVER_CONVERGENCE_MSG)\n"
     ]
    },
    {
     "name": "stdout",
     "output_type": "stream",
     "text": [
      "16\n"
     ]
    },
    {
     "name": "stderr",
     "output_type": "stream",
     "text": [
      "C:\\Users\\Mikel\\anaconda3\\lib\\site-packages\\sklearn\\linear_model\\_logistic.py:940: ConvergenceWarning: lbfgs failed to converge (status=1):\n",
      "STOP: TOTAL NO. of ITERATIONS REACHED LIMIT.\n",
      "\n",
      "Increase the number of iterations (max_iter) or scale the data as shown in:\n",
      "    https://scikit-learn.org/stable/modules/preprocessing.html\n",
      "Please also refer to the documentation for alternative solver options:\n",
      "    https://scikit-learn.org/stable/modules/linear_model.html#logistic-regression\n",
      "  extra_warning_msg=_LOGISTIC_SOLVER_CONVERGENCE_MSG)\n"
     ]
    },
    {
     "name": "stdout",
     "output_type": "stream",
     "text": [
      "6\n",
      "{'accuracy': [0.5154639175257731, 0.3907563025210084, 0.5734265734265734, 0.48175182481751827, 0.4676258992805755, 0.6461538461538462, 0.5117370892018779, 0.5142857142857142, 0.5947368421052631, 0.5930232558139535, 0.48028673835125446, 0.5130890052356021, 0.503968253968254, 0.5653846153846154, 0.6153846153846154, 0.5259259259259259, 0.5257352941176471, 0.45627376425855515, 0.5631768953068592], 'roc_auc': [0.7262463739523737, 0.6251418037436189, 0.9163535658828749, 0.7054412636530732, 0.6869608072887137, 0.8715465587044534, 0.718120777027027, 0.7304322891947477, 0.8187311035525321, 0.790295025954399, 0.7176703130862724, 0.7001440628085366, 0.7480202311612337, 0.7704605647313981, 0.7999170033670033, 0.7316393097643098, 0.753564762971258, 0.694283910856643, 0.7865328723827923], 'f1': [0.44488840063734103, 0.3329958557383185, 0.5446422955762932, 0.4131090328467153, 0.40541896273573585, 0.6275228453093156, 0.509174538178966, 0.45883738615938746, 0.5784410775682927, 0.5848039223201543, 0.41069037518187973, 0.4277730725798173, 0.47841724641698674, 0.5448051723601024, 0.6160875594505545, 0.4750988177459053, 0.49335878938397426, 0.39551822846918216, 0.5473751354609928]}\n",
      "logistic6 evaluated\n"
     ]
    },
    {
     "name": "stderr",
     "output_type": "stream",
     "text": [
      "C:\\Users\\Mikel\\anaconda3\\lib\\site-packages\\sklearn\\linear_model\\_logistic.py:940: ConvergenceWarning: lbfgs failed to converge (status=1):\n",
      "STOP: TOTAL NO. of ITERATIONS REACHED LIMIT.\n",
      "\n",
      "Increase the number of iterations (max_iter) or scale the data as shown in:\n",
      "    https://scikit-learn.org/stable/modules/preprocessing.html\n",
      "Please also refer to the documentation for alternative solver options:\n",
      "    https://scikit-learn.org/stable/modules/linear_model.html#logistic-regression\n",
      "  extra_warning_msg=_LOGISTIC_SOLVER_CONVERGENCE_MSG)\n"
     ]
    },
    {
     "name": "stdout",
     "output_type": "stream",
     "text": [
      "15\n"
     ]
    },
    {
     "name": "stderr",
     "output_type": "stream",
     "text": [
      "C:\\Users\\Mikel\\anaconda3\\lib\\site-packages\\sklearn\\linear_model\\_logistic.py:940: ConvergenceWarning: lbfgs failed to converge (status=1):\n",
      "STOP: TOTAL NO. of ITERATIONS REACHED LIMIT.\n",
      "\n",
      "Increase the number of iterations (max_iter) or scale the data as shown in:\n",
      "    https://scikit-learn.org/stable/modules/preprocessing.html\n",
      "Please also refer to the documentation for alternative solver options:\n",
      "    https://scikit-learn.org/stable/modules/linear_model.html#logistic-regression\n",
      "  extra_warning_msg=_LOGISTIC_SOLVER_CONVERGENCE_MSG)\n"
     ]
    },
    {
     "name": "stdout",
     "output_type": "stream",
     "text": [
      "12\n"
     ]
    },
    {
     "name": "stderr",
     "output_type": "stream",
     "text": [
      "C:\\Users\\Mikel\\anaconda3\\lib\\site-packages\\sklearn\\linear_model\\_logistic.py:940: ConvergenceWarning: lbfgs failed to converge (status=1):\n",
      "STOP: TOTAL NO. of ITERATIONS REACHED LIMIT.\n",
      "\n",
      "Increase the number of iterations (max_iter) or scale the data as shown in:\n",
      "    https://scikit-learn.org/stable/modules/preprocessing.html\n",
      "Please also refer to the documentation for alternative solver options:\n",
      "    https://scikit-learn.org/stable/modules/linear_model.html#logistic-regression\n",
      "  extra_warning_msg=_LOGISTIC_SOLVER_CONVERGENCE_MSG)\n"
     ]
    },
    {
     "name": "stdout",
     "output_type": "stream",
     "text": [
      "21\n"
     ]
    },
    {
     "name": "stderr",
     "output_type": "stream",
     "text": [
      "C:\\Users\\Mikel\\anaconda3\\lib\\site-packages\\sklearn\\linear_model\\_logistic.py:940: ConvergenceWarning: lbfgs failed to converge (status=1):\n",
      "STOP: TOTAL NO. of ITERATIONS REACHED LIMIT.\n",
      "\n",
      "Increase the number of iterations (max_iter) or scale the data as shown in:\n",
      "    https://scikit-learn.org/stable/modules/preprocessing.html\n",
      "Please also refer to the documentation for alternative solver options:\n",
      "    https://scikit-learn.org/stable/modules/linear_model.html#logistic-regression\n",
      "  extra_warning_msg=_LOGISTIC_SOLVER_CONVERGENCE_MSG)\n"
     ]
    },
    {
     "name": "stdout",
     "output_type": "stream",
     "text": [
      "4\n"
     ]
    },
    {
     "name": "stderr",
     "output_type": "stream",
     "text": [
      "C:\\Users\\Mikel\\anaconda3\\lib\\site-packages\\sklearn\\linear_model\\_logistic.py:940: ConvergenceWarning: lbfgs failed to converge (status=1):\n",
      "STOP: TOTAL NO. of ITERATIONS REACHED LIMIT.\n",
      "\n",
      "Increase the number of iterations (max_iter) or scale the data as shown in:\n",
      "    https://scikit-learn.org/stable/modules/preprocessing.html\n",
      "Please also refer to the documentation for alternative solver options:\n",
      "    https://scikit-learn.org/stable/modules/linear_model.html#logistic-regression\n",
      "  extra_warning_msg=_LOGISTIC_SOLVER_CONVERGENCE_MSG)\n"
     ]
    },
    {
     "name": "stdout",
     "output_type": "stream",
     "text": [
      "10\n"
     ]
    },
    {
     "name": "stderr",
     "output_type": "stream",
     "text": [
      "C:\\Users\\Mikel\\anaconda3\\lib\\site-packages\\sklearn\\linear_model\\_logistic.py:940: ConvergenceWarning: lbfgs failed to converge (status=1):\n",
      "STOP: TOTAL NO. of ITERATIONS REACHED LIMIT.\n",
      "\n",
      "Increase the number of iterations (max_iter) or scale the data as shown in:\n",
      "    https://scikit-learn.org/stable/modules/preprocessing.html\n",
      "Please also refer to the documentation for alternative solver options:\n",
      "    https://scikit-learn.org/stable/modules/linear_model.html#logistic-regression\n",
      "  extra_warning_msg=_LOGISTIC_SOLVER_CONVERGENCE_MSG)\n"
     ]
    },
    {
     "name": "stdout",
     "output_type": "stream",
     "text": [
      "44\n"
     ]
    },
    {
     "name": "stderr",
     "output_type": "stream",
     "text": [
      "C:\\Users\\Mikel\\anaconda3\\lib\\site-packages\\sklearn\\linear_model\\_logistic.py:940: ConvergenceWarning: lbfgs failed to converge (status=1):\n",
      "STOP: TOTAL NO. of ITERATIONS REACHED LIMIT.\n",
      "\n",
      "Increase the number of iterations (max_iter) or scale the data as shown in:\n",
      "    https://scikit-learn.org/stable/modules/preprocessing.html\n",
      "Please also refer to the documentation for alternative solver options:\n",
      "    https://scikit-learn.org/stable/modules/linear_model.html#logistic-regression\n",
      "  extra_warning_msg=_LOGISTIC_SOLVER_CONVERGENCE_MSG)\n"
     ]
    },
    {
     "name": "stdout",
     "output_type": "stream",
     "text": [
      "3\n"
     ]
    },
    {
     "name": "stderr",
     "output_type": "stream",
     "text": [
      "C:\\Users\\Mikel\\anaconda3\\lib\\site-packages\\sklearn\\linear_model\\_logistic.py:940: ConvergenceWarning: lbfgs failed to converge (status=1):\n",
      "STOP: TOTAL NO. of ITERATIONS REACHED LIMIT.\n",
      "\n",
      "Increase the number of iterations (max_iter) or scale the data as shown in:\n",
      "    https://scikit-learn.org/stable/modules/preprocessing.html\n",
      "Please also refer to the documentation for alternative solver options:\n",
      "    https://scikit-learn.org/stable/modules/linear_model.html#logistic-regression\n",
      "  extra_warning_msg=_LOGISTIC_SOLVER_CONVERGENCE_MSG)\n"
     ]
    },
    {
     "name": "stdout",
     "output_type": "stream",
     "text": [
      "18\n"
     ]
    },
    {
     "name": "stderr",
     "output_type": "stream",
     "text": [
      "C:\\Users\\Mikel\\anaconda3\\lib\\site-packages\\sklearn\\linear_model\\_logistic.py:940: ConvergenceWarning: lbfgs failed to converge (status=1):\n",
      "STOP: TOTAL NO. of ITERATIONS REACHED LIMIT.\n",
      "\n",
      "Increase the number of iterations (max_iter) or scale the data as shown in:\n",
      "    https://scikit-learn.org/stable/modules/preprocessing.html\n",
      "Please also refer to the documentation for alternative solver options:\n",
      "    https://scikit-learn.org/stable/modules/linear_model.html#logistic-regression\n",
      "  extra_warning_msg=_LOGISTIC_SOLVER_CONVERGENCE_MSG)\n"
     ]
    },
    {
     "name": "stdout",
     "output_type": "stream",
     "text": [
      "29\n"
     ]
    },
    {
     "name": "stderr",
     "output_type": "stream",
     "text": [
      "C:\\Users\\Mikel\\anaconda3\\lib\\site-packages\\sklearn\\linear_model\\_logistic.py:940: ConvergenceWarning: lbfgs failed to converge (status=1):\n",
      "STOP: TOTAL NO. of ITERATIONS REACHED LIMIT.\n",
      "\n",
      "Increase the number of iterations (max_iter) or scale the data as shown in:\n",
      "    https://scikit-learn.org/stable/modules/preprocessing.html\n",
      "Please also refer to the documentation for alternative solver options:\n",
      "    https://scikit-learn.org/stable/modules/linear_model.html#logistic-regression\n",
      "  extra_warning_msg=_LOGISTIC_SOLVER_CONVERGENCE_MSG)\n"
     ]
    },
    {
     "name": "stdout",
     "output_type": "stream",
     "text": [
      "20\n"
     ]
    },
    {
     "name": "stderr",
     "output_type": "stream",
     "text": [
      "C:\\Users\\Mikel\\anaconda3\\lib\\site-packages\\sklearn\\linear_model\\_logistic.py:940: ConvergenceWarning: lbfgs failed to converge (status=1):\n",
      "STOP: TOTAL NO. of ITERATIONS REACHED LIMIT.\n",
      "\n",
      "Increase the number of iterations (max_iter) or scale the data as shown in:\n",
      "    https://scikit-learn.org/stable/modules/preprocessing.html\n",
      "Please also refer to the documentation for alternative solver options:\n",
      "    https://scikit-learn.org/stable/modules/linear_model.html#logistic-regression\n",
      "  extra_warning_msg=_LOGISTIC_SOLVER_CONVERGENCE_MSG)\n"
     ]
    },
    {
     "name": "stdout",
     "output_type": "stream",
     "text": [
      "7\n"
     ]
    },
    {
     "name": "stderr",
     "output_type": "stream",
     "text": [
      "C:\\Users\\Mikel\\anaconda3\\lib\\site-packages\\sklearn\\linear_model\\_logistic.py:940: ConvergenceWarning: lbfgs failed to converge (status=1):\n",
      "STOP: TOTAL NO. of ITERATIONS REACHED LIMIT.\n",
      "\n",
      "Increase the number of iterations (max_iter) or scale the data as shown in:\n",
      "    https://scikit-learn.org/stable/modules/preprocessing.html\n",
      "Please also refer to the documentation for alternative solver options:\n",
      "    https://scikit-learn.org/stable/modules/linear_model.html#logistic-regression\n",
      "  extra_warning_msg=_LOGISTIC_SOLVER_CONVERGENCE_MSG)\n"
     ]
    },
    {
     "name": "stdout",
     "output_type": "stream",
     "text": [
      "19\n"
     ]
    },
    {
     "name": "stderr",
     "output_type": "stream",
     "text": [
      "C:\\Users\\Mikel\\anaconda3\\lib\\site-packages\\sklearn\\linear_model\\_logistic.py:940: ConvergenceWarning: lbfgs failed to converge (status=1):\n",
      "STOP: TOTAL NO. of ITERATIONS REACHED LIMIT.\n",
      "\n",
      "Increase the number of iterations (max_iter) or scale the data as shown in:\n",
      "    https://scikit-learn.org/stable/modules/preprocessing.html\n",
      "Please also refer to the documentation for alternative solver options:\n",
      "    https://scikit-learn.org/stable/modules/linear_model.html#logistic-regression\n",
      "  extra_warning_msg=_LOGISTIC_SOLVER_CONVERGENCE_MSG)\n"
     ]
    },
    {
     "name": "stdout",
     "output_type": "stream",
     "text": [
      "11\n"
     ]
    },
    {
     "name": "stderr",
     "output_type": "stream",
     "text": [
      "C:\\Users\\Mikel\\anaconda3\\lib\\site-packages\\sklearn\\linear_model\\_logistic.py:940: ConvergenceWarning: lbfgs failed to converge (status=1):\n",
      "STOP: TOTAL NO. of ITERATIONS REACHED LIMIT.\n",
      "\n",
      "Increase the number of iterations (max_iter) or scale the data as shown in:\n",
      "    https://scikit-learn.org/stable/modules/preprocessing.html\n",
      "Please also refer to the documentation for alternative solver options:\n",
      "    https://scikit-learn.org/stable/modules/linear_model.html#logistic-regression\n",
      "  extra_warning_msg=_LOGISTIC_SOLVER_CONVERGENCE_MSG)\n"
     ]
    },
    {
     "name": "stdout",
     "output_type": "stream",
     "text": [
      "2\n"
     ]
    },
    {
     "name": "stderr",
     "output_type": "stream",
     "text": [
      "C:\\Users\\Mikel\\anaconda3\\lib\\site-packages\\sklearn\\linear_model\\_logistic.py:940: ConvergenceWarning: lbfgs failed to converge (status=1):\n",
      "STOP: TOTAL NO. of ITERATIONS REACHED LIMIT.\n",
      "\n",
      "Increase the number of iterations (max_iter) or scale the data as shown in:\n",
      "    https://scikit-learn.org/stable/modules/preprocessing.html\n",
      "Please also refer to the documentation for alternative solver options:\n",
      "    https://scikit-learn.org/stable/modules/linear_model.html#logistic-regression\n",
      "  extra_warning_msg=_LOGISTIC_SOLVER_CONVERGENCE_MSG)\n"
     ]
    },
    {
     "name": "stdout",
     "output_type": "stream",
     "text": [
      "28\n"
     ]
    },
    {
     "name": "stderr",
     "output_type": "stream",
     "text": [
      "C:\\Users\\Mikel\\anaconda3\\lib\\site-packages\\sklearn\\linear_model\\_logistic.py:940: ConvergenceWarning: lbfgs failed to converge (status=1):\n",
      "STOP: TOTAL NO. of ITERATIONS REACHED LIMIT.\n",
      "\n",
      "Increase the number of iterations (max_iter) or scale the data as shown in:\n",
      "    https://scikit-learn.org/stable/modules/preprocessing.html\n",
      "Please also refer to the documentation for alternative solver options:\n",
      "    https://scikit-learn.org/stable/modules/linear_model.html#logistic-regression\n",
      "  extra_warning_msg=_LOGISTIC_SOLVER_CONVERGENCE_MSG)\n"
     ]
    },
    {
     "name": "stdout",
     "output_type": "stream",
     "text": [
      "5\n"
     ]
    },
    {
     "name": "stderr",
     "output_type": "stream",
     "text": [
      "C:\\Users\\Mikel\\anaconda3\\lib\\site-packages\\sklearn\\linear_model\\_logistic.py:940: ConvergenceWarning: lbfgs failed to converge (status=1):\n",
      "STOP: TOTAL NO. of ITERATIONS REACHED LIMIT.\n",
      "\n",
      "Increase the number of iterations (max_iter) or scale the data as shown in:\n",
      "    https://scikit-learn.org/stable/modules/preprocessing.html\n",
      "Please also refer to the documentation for alternative solver options:\n",
      "    https://scikit-learn.org/stable/modules/linear_model.html#logistic-regression\n",
      "  extra_warning_msg=_LOGISTIC_SOLVER_CONVERGENCE_MSG)\n"
     ]
    },
    {
     "name": "stdout",
     "output_type": "stream",
     "text": [
      "8\n"
     ]
    },
    {
     "name": "stderr",
     "output_type": "stream",
     "text": [
      "C:\\Users\\Mikel\\anaconda3\\lib\\site-packages\\sklearn\\linear_model\\_logistic.py:940: ConvergenceWarning: lbfgs failed to converge (status=1):\n",
      "STOP: TOTAL NO. of ITERATIONS REACHED LIMIT.\n",
      "\n",
      "Increase the number of iterations (max_iter) or scale the data as shown in:\n",
      "    https://scikit-learn.org/stable/modules/preprocessing.html\n",
      "Please also refer to the documentation for alternative solver options:\n",
      "    https://scikit-learn.org/stable/modules/linear_model.html#logistic-regression\n",
      "  extra_warning_msg=_LOGISTIC_SOLVER_CONVERGENCE_MSG)\n"
     ]
    },
    {
     "name": "stdout",
     "output_type": "stream",
     "text": [
      "16\n"
     ]
    },
    {
     "name": "stderr",
     "output_type": "stream",
     "text": [
      "C:\\Users\\Mikel\\anaconda3\\lib\\site-packages\\sklearn\\linear_model\\_logistic.py:940: ConvergenceWarning: lbfgs failed to converge (status=1):\n",
      "STOP: TOTAL NO. of ITERATIONS REACHED LIMIT.\n",
      "\n",
      "Increase the number of iterations (max_iter) or scale the data as shown in:\n",
      "    https://scikit-learn.org/stable/modules/preprocessing.html\n",
      "Please also refer to the documentation for alternative solver options:\n",
      "    https://scikit-learn.org/stable/modules/linear_model.html#logistic-regression\n",
      "  extra_warning_msg=_LOGISTIC_SOLVER_CONVERGENCE_MSG)\n"
     ]
    },
    {
     "name": "stdout",
     "output_type": "stream",
     "text": [
      "6\n",
      "{'accuracy': [0.5154639175257731, 0.3907563025210084, 0.5734265734265734, 0.48175182481751827, 0.46402877697841727, 0.6461538461538462, 0.5117370892018779, 0.5107142857142857, 0.5947368421052631, 0.5852713178294574, 0.4767025089605735, 0.5130890052356021, 0.503968253968254, 0.5653846153846154, 0.6153846153846154, 0.5296296296296297, 0.5220588235294118, 0.4600760456273764, 0.5631768953068592], 'roc_auc': [0.7260836128221428, 0.6253511330794371, 0.9166554982500247, 0.7054592152607931, 0.6855043412599019, 0.871715249662618, 0.717341873123123, 0.730186745240732, 0.8188145628621819, 0.7907406700876876, 0.7194257355547679, 0.7001215159109897, 0.7476933052122378, 0.770508008008008, 0.7993957912457912, 0.7317810044893379, 0.7541500829746758, 0.6941994194946423, 0.7865835006821053], 'f1': [0.44488840063734103, 0.3329958557383185, 0.5446422955762932, 0.4131090328467153, 0.40105868435890046, 0.6275228453093156, 0.509174538178966, 0.4559900087057407, 0.5784410775682927, 0.5761592210292621, 0.40384587724601717, 0.4277730725798173, 0.47841724641698674, 0.5448051723601024, 0.6160875594505545, 0.48205454252604635, 0.4894578606825618, 0.4026139880610602, 0.5473751354609928]}\n",
      "logistic7 evaluated\n",
      "\n",
      "Rank=1, Name=logistic3, Accuracy=0.532, roc_auc=0.756, f1=0.493\n",
      "Rank=2, Name=logistic4, Accuracy=0.531, roc_auc=0.757, f1=0.492\n",
      "Rank=3, Name=logistic6, Accuracy=0.528, roc_auc=0.752, f1=0.489\n",
      "Rank=4, Name=logistic5, Accuracy=0.528, roc_auc=0.753, f1=0.488\n",
      "Rank=5, Name=logistic7, Accuracy=0.528, roc_auc=0.752, f1=0.488\n",
      "Rank=6, Name=logistic2, Accuracy=0.515, roc_auc=0.723, f1=0.477\n",
      "Rank=7, Name=logistic1, Accuracy=0.422, roc_auc=0.694, f1=0.321\n",
      "0.4215134772850933 ['logistic3', 'logistic4', 'logistic6', 'logistic5', 'logistic7', 'logistic2', 'logistic1']\n"
     ]
    },
    {
     "data": {
      "image/png": "[encoded data removed]",
      "text/plain": [
       "<Figure size 432x288 with 1 Axes>"
      ]
     },
     "metadata": {
      "needs_background": "light"
     },
     "output_type": "display_data"
    },
    {
     "data": {
      "image/png": "[encoded data removed]",
      "text/plain": [
       "<Figure size 432x288 with 1 Axes>"
      ]
     },
     "metadata": {
      "needs_background": "light"
     },
     "output_type": "display_data"
    },
    {
     "data": {
      "image/png": "[encoded data removed]",
      "text/plain": [
       "<Figure size 432x288 with 1 Axes>"
      ]
     },
     "metadata": {
      "needs_background": "light"
     },
     "output_type": "display_data"
    }
   ],
   "source": [
    "# evaluate models\n",
    "results = evaluate_models(X_scaled_train, Y_train, models, subjects_train)\n",
    "# summarize results\n",
    "summarize_results(results)"
   ]
  },
  {
   "cell_type": "markdown",
   "metadata": {},
   "source": [
    "In this case we obtain that standardizing and normalizing the data the best three models are SVCL, SVMP and Logistic with mean estimated accuracies of 0.638, 0.614 and 0.602 respectively. Better results that only standardizing the data. Let's try to perform some dimensionality reduction (PCA) to see if we can improve the metrics."
   ]
  },
  {
   "cell_type": "code",
   "execution_count": null,
   "metadata": {},
   "outputs": [],
   "source": []
  }
 ],
 "metadata": {
  "kernelspec": {
   "display_name": "Python 3",
   "language": "python",
   "name": "python3"
  },
  "language_info": {
   "codemirror_mode": {
    "name": "ipython",
    "version": 3
   },
   "file_extension": ".py",
   "mimetype": "text/x-python",
   "name": "python",
   "nbconvert_exporter": "python",
   "pygments_lexer": "ipython3",
   "version": "3.7.6"
  }
 },
 "nbformat": 4,
 "nbformat_minor": 4
}
